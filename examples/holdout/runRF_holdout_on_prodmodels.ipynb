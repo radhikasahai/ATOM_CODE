{
 "cells": [
  {
   "cell_type": "code",
   "execution_count": 1,
   "id": "adc19fdc-ccf8-4ba2-964f-96fa9155bf77",
   "metadata": {},
   "outputs": [],
   "source": [
    "import pyforest\n",
    "import sys\n",
    "sys.path.append('/Users/jayceepang/msse/ATOM_CODE/UTILS/')\n",
    "from RF_functions import *\n",
    "from GenUtils import *\n",
    "from dataset import *\n",
    "import os\n",
    "import pickle\n",
    "from imblearn.over_sampling import SMOTEN, ADASYN, SMOTE\n",
    "from sklearn.metrics import accuracy_score, balanced_accuracy_score,precision_score, f1_score, roc_auc_score, roc_curve, precision_recall_curve, auc, recall_score, confusion_matrix,matthews_corrcoef\n",
    "\n",
    "from rdkit import Chem\n",
    "from rdkit.Chem import AllChem"
   ]
  },
  {
   "cell_type": "code",
   "execution_count": 2,
   "id": "8690813a-9872-4c7d-bf0c-f17f9b8cb467",
   "metadata": {},
   "outputs": [],
   "source": [
    "og_neks = ['NEK2_binding','NEK2_inhibition','NEK3_binding','NEK5_binding','NEK9_binding','NEK9_inhibition']\n",
    "samplings =['none_scaled','UNDER','SMOTE','ADASYN'] \n",
    "new_neks=['NEK1', 'NEK11', 'NEK2', 'NEK3', 'NEK4', 'NEK5',\n",
    "       'NEK6', 'NEK9']\n",
    "RF_types = ['RF','RF_BCW','BRFC','BRFC_BCW']\n",
    "og_datapath = '/Users/jayceepang/msse/capstone/atom2024/atom2024/notebooks/paper/datasets/80train_20test/featurized/'\n",
    "results_dir='/Users/jayceepang/msse/ATOM_CODE/examples/holdout/holdout_results/'\n",
    "datapath = '/Users/jayceepang/msse/ATOM_CODE/datasets/holdout_data/featurized/'\n",
    "rf_path = '/Users/jayceepang/msse/capstone/atom2024/atom2024/notebooks/paper/results/RF_results/'\n",
    "gp_path ='/Users/jayceepang/msse/capstone/atom2024/atom2024/notebooks/paper/results/GP_results/'\n",
    "test_results=[]\n",
    "final_cols=['model','NEK','strategy','feat_type','RF_type', 'cm','recall', 'specificity', 'accuracy', 'precision', \n",
    "                'f1', 'ROC_AUC', 'MCC', 'balanced_accuracy']\n",
    "feat_cols_dropped =['NEK','compound_id','base_rdkit_smiles', 'subset', 'active'] "
   ]
  },
  {
   "cell_type": "code",
   "execution_count": 7,
   "id": "39fb40b8-8dfd-46cf-b867-883dda9342d3",
   "metadata": {
    "scrolled": true
   },
   "outputs": [
    {
     "name": "stdout",
     "output_type": "stream",
     "text": [
      "NEK1 NEK2_binding_MFP_none_scaled_RF\n",
      "TRAIN: acc: 1.000, precision: 1.000, recall: 1.000, spec: 1.000\n",
      "TEST: acc: 0.780, precision: 0.047, recall: 0.100, spec: 0.835\n",
      "func:'rf_models'  took: 5.3459 sec\n",
      "\n",
      "NEK1 NEK2_binding_MFP_none_scaled_RF_BCW\n",
      "TRAIN: acc: 1.000, precision: 1.000, recall: 1.000, spec: 1.000\n",
      "TEST: acc: 0.780, precision: 0.032, recall: 0.067, spec: 0.838\n",
      "func:'rf_models'  took: 2.6180 sec\n",
      "\n",
      "NEK1 NEK2_binding_MFP_none_scaled_BRFC\n"
     ]
    },
    {
     "name": "stderr",
     "output_type": "stream",
     "text": [
      "/Users/jayceepang/miniconda3/envs/ATOM_CODE/lib/python3.9/site-packages/imblearn/ensemble/_forest.py:577: FutureWarning: The default of `sampling_strategy` will change from `'auto'` to `'all'` in version 0.13. This change will follow the implementation proposed in the original paper. Set to `'all'` to silence this warning and adopt the future behaviour.\n",
      "  warn(\n",
      "/Users/jayceepang/miniconda3/envs/ATOM_CODE/lib/python3.9/site-packages/imblearn/ensemble/_forest.py:589: FutureWarning: The default of `replacement` will change from `False` to `True` in version 0.13. This change will follow the implementation proposed in the original paper. Set to `True` to silence this warning and adopt the future behaviour.\n",
      "  warn(\n"
     ]
    },
    {
     "name": "stdout",
     "output_type": "stream",
     "text": [
      "TRAIN: acc: 0.837, precision: 0.197, recall: 1.000, spec: 0.831\n",
      "TEST: acc: 0.375, precision: 0.104, recall: 0.967, spec: 0.327\n",
      "func:'rf_models'  took: 0.2710 sec\n",
      "\n",
      "NEK1 NEK2_binding_MFP_none_scaled_BRFC_BCW\n"
     ]
    },
    {
     "name": "stderr",
     "output_type": "stream",
     "text": [
      "/Users/jayceepang/miniconda3/envs/ATOM_CODE/lib/python3.9/site-packages/imblearn/ensemble/_forest.py:577: FutureWarning: The default of `sampling_strategy` will change from `'auto'` to `'all'` in version 0.13. This change will follow the implementation proposed in the original paper. Set to `'all'` to silence this warning and adopt the future behaviour.\n",
      "  warn(\n",
      "/Users/jayceepang/miniconda3/envs/ATOM_CODE/lib/python3.9/site-packages/imblearn/ensemble/_forest.py:589: FutureWarning: The default of `replacement` will change from `False` to `True` in version 0.13. This change will follow the implementation proposed in the original paper. Set to `True` to silence this warning and adopt the future behaviour.\n",
      "  warn(\n"
     ]
    },
    {
     "name": "stdout",
     "output_type": "stream",
     "text": [
      "TRAIN: acc: 0.525, precision: 0.078, recall: 1.000, spec: 0.506\n",
      "TEST: acc: 0.792, precision: 0.079, recall: 0.167, spec: 0.843\n",
      "func:'rf_models'  took: 0.4693 sec\n",
      "\n",
      "NEK1 NEK2_binding_MFP_UNDER_RF\n",
      "TRAIN: acc: 1.000, precision: 1.000, recall: 1.000, spec: 1.000\n",
      "TEST: acc: 0.420, precision: 0.068, recall: 0.533, spec: 0.411\n",
      "func:'rf_models'  took: 0.1919 sec\n",
      "\n",
      "NEK1 NEK2_binding_MFP_UNDER_RF_BCW\n",
      "TRAIN: acc: 1.000, precision: 1.000, recall: 1.000, spec: 1.000\n",
      "TEST: acc: 0.407, precision: 0.067, recall: 0.533, spec: 0.397\n",
      "func:'rf_models'  took: 0.1974 sec\n",
      "\n",
      "NEK1 NEK2_binding_MFP_UNDER_BRFC\n"
     ]
    },
    {
     "name": "stderr",
     "output_type": "stream",
     "text": [
      "/Users/jayceepang/miniconda3/envs/ATOM_CODE/lib/python3.9/site-packages/imblearn/ensemble/_forest.py:577: FutureWarning: The default of `sampling_strategy` will change from `'auto'` to `'all'` in version 0.13. This change will follow the implementation proposed in the original paper. Set to `'all'` to silence this warning and adopt the future behaviour.\n",
      "  warn(\n",
      "/Users/jayceepang/miniconda3/envs/ATOM_CODE/lib/python3.9/site-packages/imblearn/ensemble/_forest.py:589: FutureWarning: The default of `replacement` will change from `False` to `True` in version 0.13. This change will follow the implementation proposed in the original paper. Set to `True` to silence this warning and adopt the future behaviour.\n",
      "  warn(\n"
     ]
    },
    {
     "name": "stdout",
     "output_type": "stream",
     "text": [
      "TRAIN: acc: 1.000, precision: 1.000, recall: 1.000, spec: 1.000\n",
      "TEST: acc: 0.415, precision: 0.068, recall: 0.533, spec: 0.405\n",
      "func:'rf_models'  took: 0.2600 sec\n",
      "\n",
      "NEK1 NEK2_binding_MFP_UNDER_BRFC_BCW\n"
     ]
    },
    {
     "name": "stderr",
     "output_type": "stream",
     "text": [
      "/Users/jayceepang/miniconda3/envs/ATOM_CODE/lib/python3.9/site-packages/imblearn/ensemble/_forest.py:577: FutureWarning: The default of `sampling_strategy` will change from `'auto'` to `'all'` in version 0.13. This change will follow the implementation proposed in the original paper. Set to `'all'` to silence this warning and adopt the future behaviour.\n",
      "  warn(\n",
      "/Users/jayceepang/miniconda3/envs/ATOM_CODE/lib/python3.9/site-packages/imblearn/ensemble/_forest.py:589: FutureWarning: The default of `replacement` will change from `False` to `True` in version 0.13. This change will follow the implementation proposed in the original paper. Set to `True` to silence this warning and adopt the future behaviour.\n",
      "  warn(\n"
     ]
    },
    {
     "name": "stdout",
     "output_type": "stream",
     "text": [
      "TRAIN: acc: 1.000, precision: 1.000, recall: 1.000, spec: 1.000\n",
      "TEST: acc: 0.412, precision: 0.068, recall: 0.533, spec: 0.403\n",
      "func:'rf_models'  took: 0.2651 sec\n",
      "\n",
      "NEK1 NEK2_binding_MFP_SMOTE_RF\n",
      "TRAIN: acc: 1.000, precision: 1.000, recall: 1.000, spec: 1.000\n",
      "TEST: acc: 0.825, precision: 0.000, recall: 0.000, spec: 0.892\n",
      "func:'rf_models'  took: 5.4759 sec\n",
      "\n",
      "NEK1 NEK2_binding_MFP_SMOTE_RF_BCW\n",
      "TRAIN: acc: 1.000, precision: 1.000, recall: 1.000, spec: 1.000\n",
      "TEST: acc: 0.830, precision: 0.000, recall: 0.000, spec: 0.897\n",
      "func:'rf_models'  took: 5.5564 sec\n",
      "\n",
      "NEK1 NEK2_binding_MFP_SMOTE_BRFC\n"
     ]
    },
    {
     "name": "stderr",
     "output_type": "stream",
     "text": [
      "/Users/jayceepang/miniconda3/envs/ATOM_CODE/lib/python3.9/site-packages/imblearn/ensemble/_forest.py:577: FutureWarning: The default of `sampling_strategy` will change from `'auto'` to `'all'` in version 0.13. This change will follow the implementation proposed in the original paper. Set to `'all'` to silence this warning and adopt the future behaviour.\n",
      "  warn(\n",
      "/Users/jayceepang/miniconda3/envs/ATOM_CODE/lib/python3.9/site-packages/imblearn/ensemble/_forest.py:589: FutureWarning: The default of `replacement` will change from `False` to `True` in version 0.13. This change will follow the implementation proposed in the original paper. Set to `True` to silence this warning and adopt the future behaviour.\n",
      "  warn(\n"
     ]
    },
    {
     "name": "stdout",
     "output_type": "stream",
     "text": [
      "TRAIN: acc: 1.000, precision: 1.000, recall: 1.000, spec: 1.000\n",
      "TEST: acc: 0.828, precision: 0.000, recall: 0.000, spec: 0.895\n",
      "func:'rf_models'  took: 10.8305 sec\n",
      "\n",
      "NEK1 NEK2_binding_MFP_SMOTE_BRFC_BCW\n"
     ]
    },
    {
     "name": "stderr",
     "output_type": "stream",
     "text": [
      "/Users/jayceepang/miniconda3/envs/ATOM_CODE/lib/python3.9/site-packages/imblearn/ensemble/_forest.py:577: FutureWarning: The default of `sampling_strategy` will change from `'auto'` to `'all'` in version 0.13. This change will follow the implementation proposed in the original paper. Set to `'all'` to silence this warning and adopt the future behaviour.\n",
      "  warn(\n",
      "/Users/jayceepang/miniconda3/envs/ATOM_CODE/lib/python3.9/site-packages/imblearn/ensemble/_forest.py:589: FutureWarning: The default of `replacement` will change from `False` to `True` in version 0.13. This change will follow the implementation proposed in the original paper. Set to `True` to silence this warning and adopt the future behaviour.\n",
      "  warn(\n"
     ]
    },
    {
     "name": "stdout",
     "output_type": "stream",
     "text": [
      "TRAIN: acc: 1.000, precision: 1.000, recall: 1.000, spec: 1.000\n",
      "TEST: acc: 0.825, precision: 0.000, recall: 0.000, spec: 0.892\n",
      "func:'rf_models'  took: 10.4882 sec\n",
      "\n",
      "NEK1 NEK2_binding_MFP_ADASYN_RF\n",
      "TRAIN: acc: 1.000, precision: 1.000, recall: 1.000, spec: 1.000\n",
      "TEST: acc: 0.802, precision: 0.070, recall: 0.133, spec: 0.857\n",
      "func:'rf_models'  took: 3.5690 sec\n",
      "\n",
      "NEK1 NEK2_binding_MFP_ADASYN_RF_BCW\n",
      "TRAIN: acc: 1.000, precision: 1.000, recall: 1.000, spec: 1.000\n",
      "TEST: acc: 0.812, precision: 0.075, recall: 0.133, spec: 0.868\n",
      "func:'rf_models'  took: 3.7771 sec\n",
      "\n",
      "NEK1 NEK2_binding_MFP_ADASYN_BRFC\n"
     ]
    },
    {
     "name": "stderr",
     "output_type": "stream",
     "text": [
      "/Users/jayceepang/miniconda3/envs/ATOM_CODE/lib/python3.9/site-packages/imblearn/ensemble/_forest.py:577: FutureWarning: The default of `sampling_strategy` will change from `'auto'` to `'all'` in version 0.13. This change will follow the implementation proposed in the original paper. Set to `'all'` to silence this warning and adopt the future behaviour.\n",
      "  warn(\n",
      "/Users/jayceepang/miniconda3/envs/ATOM_CODE/lib/python3.9/site-packages/imblearn/ensemble/_forest.py:589: FutureWarning: The default of `replacement` will change from `False` to `True` in version 0.13. This change will follow the implementation proposed in the original paper. Set to `True` to silence this warning and adopt the future behaviour.\n",
      "  warn(\n"
     ]
    },
    {
     "name": "stdout",
     "output_type": "stream",
     "text": [
      "TRAIN: acc: 1.000, precision: 1.000, recall: 1.000, spec: 1.000\n",
      "TEST: acc: 0.812, precision: 0.075, recall: 0.133, spec: 0.868\n",
      "func:'rf_models'  took: 6.7538 sec\n",
      "\n",
      "NEK1 NEK2_binding_MFP_ADASYN_BRFC_BCW\n"
     ]
    },
    {
     "name": "stderr",
     "output_type": "stream",
     "text": [
      "/Users/jayceepang/miniconda3/envs/ATOM_CODE/lib/python3.9/site-packages/imblearn/ensemble/_forest.py:577: FutureWarning: The default of `sampling_strategy` will change from `'auto'` to `'all'` in version 0.13. This change will follow the implementation proposed in the original paper. Set to `'all'` to silence this warning and adopt the future behaviour.\n",
      "  warn(\n",
      "/Users/jayceepang/miniconda3/envs/ATOM_CODE/lib/python3.9/site-packages/imblearn/ensemble/_forest.py:589: FutureWarning: The default of `replacement` will change from `False` to `True` in version 0.13. This change will follow the implementation proposed in the original paper. Set to `True` to silence this warning and adopt the future behaviour.\n",
      "  warn(\n"
     ]
    },
    {
     "name": "stdout",
     "output_type": "stream",
     "text": [
      "TRAIN: acc: 1.000, precision: 1.000, recall: 1.000, spec: 1.000\n",
      "TEST: acc: 0.818, precision: 0.078, recall: 0.133, spec: 0.873\n",
      "func:'rf_models'  took: 6.8904 sec\n",
      "\n",
      "NEK1 NEK2_inhibition_MFP_none_scaled_RF\n",
      "TRAIN: acc: 0.998, precision: 1.000, recall: 0.973, spec: 1.000\n",
      "TEST: acc: 0.662, precision: 0.128, recall: 0.600, spec: 0.668\n",
      "func:'rf_models'  took: 7.8158 sec\n",
      "\n",
      "NEK1 NEK2_inhibition_MFP_none_scaled_RF_BCW\n",
      "TRAIN: acc: 0.998, precision: 0.974, recall: 1.000, spec: 0.998\n",
      "TEST: acc: 0.738, precision: 0.136, recall: 0.467, spec: 0.759\n",
      "func:'rf_models'  took: 4.2729 sec\n",
      "\n",
      "NEK1 NEK2_inhibition_MFP_none_scaled_BRFC\n"
     ]
    },
    {
     "name": "stderr",
     "output_type": "stream",
     "text": [
      "/Users/jayceepang/miniconda3/envs/ATOM_CODE/lib/python3.9/site-packages/imblearn/ensemble/_forest.py:577: FutureWarning: The default of `sampling_strategy` will change from `'auto'` to `'all'` in version 0.13. This change will follow the implementation proposed in the original paper. Set to `'all'` to silence this warning and adopt the future behaviour.\n",
      "  warn(\n",
      "/Users/jayceepang/miniconda3/envs/ATOM_CODE/lib/python3.9/site-packages/imblearn/ensemble/_forest.py:589: FutureWarning: The default of `replacement` will change from `False` to `True` in version 0.13. This change will follow the implementation proposed in the original paper. Set to `True` to silence this warning and adopt the future behaviour.\n",
      "  warn(\n"
     ]
    },
    {
     "name": "stdout",
     "output_type": "stream",
     "text": [
      "TRAIN: acc: 0.914, precision: 0.444, recall: 1.000, spec: 0.907\n",
      "TEST: acc: 0.355, precision: 0.101, recall: 0.967, spec: 0.305\n",
      "func:'rf_models'  took: 0.6393 sec\n",
      "\n",
      "NEK1 NEK2_inhibition_MFP_none_scaled_BRFC_BCW\n"
     ]
    },
    {
     "name": "stderr",
     "output_type": "stream",
     "text": [
      "/Users/jayceepang/miniconda3/envs/ATOM_CODE/lib/python3.9/site-packages/imblearn/ensemble/_forest.py:577: FutureWarning: The default of `sampling_strategy` will change from `'auto'` to `'all'` in version 0.13. This change will follow the implementation proposed in the original paper. Set to `'all'` to silence this warning and adopt the future behaviour.\n",
      "  warn(\n",
      "/Users/jayceepang/miniconda3/envs/ATOM_CODE/lib/python3.9/site-packages/imblearn/ensemble/_forest.py:589: FutureWarning: The default of `replacement` will change from `False` to `True` in version 0.13. This change will follow the implementation proposed in the original paper. Set to `True` to silence this warning and adopt the future behaviour.\n",
      "  warn(\n"
     ]
    },
    {
     "name": "stdout",
     "output_type": "stream",
     "text": [
      "TRAIN: acc: 0.769, precision: 0.230, recall: 1.000, spec: 0.752\n",
      "TEST: acc: 0.895, precision: 0.071, recall: 0.033, spec: 0.965\n",
      "func:'rf_models'  took: 1.2905 sec\n",
      "\n",
      "NEK1 NEK2_inhibition_MFP_UNDER_RF\n",
      "TRAIN: acc: 0.996, precision: 0.991, recall: 1.000, spec: 0.991\n",
      "TEST: acc: 0.395, precision: 0.095, recall: 0.833, spec: 0.359\n",
      "func:'rf_models'  took: 0.4634 sec\n",
      "\n",
      "NEK1 NEK2_inhibition_MFP_UNDER_RF_BCW\n",
      "TRAIN: acc: 0.996, precision: 0.991, recall: 1.000, spec: 0.991\n",
      "TEST: acc: 0.407, precision: 0.097, recall: 0.833, spec: 0.373\n",
      "func:'rf_models'  took: 0.4642 sec\n",
      "\n",
      "NEK1 NEK2_inhibition_MFP_UNDER_BRFC\n"
     ]
    },
    {
     "name": "stderr",
     "output_type": "stream",
     "text": [
      "/Users/jayceepang/miniconda3/envs/ATOM_CODE/lib/python3.9/site-packages/imblearn/ensemble/_forest.py:577: FutureWarning: The default of `sampling_strategy` will change from `'auto'` to `'all'` in version 0.13. This change will follow the implementation proposed in the original paper. Set to `'all'` to silence this warning and adopt the future behaviour.\n",
      "  warn(\n",
      "/Users/jayceepang/miniconda3/envs/ATOM_CODE/lib/python3.9/site-packages/imblearn/ensemble/_forest.py:589: FutureWarning: The default of `replacement` will change from `False` to `True` in version 0.13. This change will follow the implementation proposed in the original paper. Set to `True` to silence this warning and adopt the future behaviour.\n",
      "  warn(\n"
     ]
    },
    {
     "name": "stdout",
     "output_type": "stream",
     "text": [
      "TRAIN: acc: 0.996, precision: 0.991, recall: 1.000, spec: 0.991\n",
      "TEST: acc: 0.395, precision: 0.095, recall: 0.833, spec: 0.359\n",
      "func:'rf_models'  took: 0.6228 sec\n",
      "\n",
      "NEK1 NEK2_inhibition_MFP_UNDER_BRFC_BCW\n"
     ]
    },
    {
     "name": "stderr",
     "output_type": "stream",
     "text": [
      "/Users/jayceepang/miniconda3/envs/ATOM_CODE/lib/python3.9/site-packages/imblearn/ensemble/_forest.py:577: FutureWarning: The default of `sampling_strategy` will change from `'auto'` to `'all'` in version 0.13. This change will follow the implementation proposed in the original paper. Set to `'all'` to silence this warning and adopt the future behaviour.\n",
      "  warn(\n",
      "/Users/jayceepang/miniconda3/envs/ATOM_CODE/lib/python3.9/site-packages/imblearn/ensemble/_forest.py:589: FutureWarning: The default of `replacement` will change from `False` to `True` in version 0.13. This change will follow the implementation proposed in the original paper. Set to `True` to silence this warning and adopt the future behaviour.\n",
      "  warn(\n"
     ]
    },
    {
     "name": "stdout",
     "output_type": "stream",
     "text": [
      "TRAIN: acc: 0.996, precision: 0.991, recall: 1.000, spec: 0.991\n",
      "TEST: acc: 0.388, precision: 0.091, recall: 0.800, spec: 0.354\n",
      "func:'rf_models'  took: 0.6387 sec\n",
      "\n",
      "NEK1 NEK2_inhibition_MFP_SMOTE_RF\n",
      "TRAIN: acc: 0.999, precision: 0.999, recall: 0.999, spec: 0.999\n",
      "TEST: acc: 0.757, precision: 0.106, recall: 0.300, spec: 0.795\n",
      "func:'rf_models'  took: 6.2741 sec\n",
      "\n",
      "NEK1 NEK2_inhibition_MFP_SMOTE_RF_BCW\n",
      "TRAIN: acc: 0.999, precision: 0.999, recall: 0.999, spec: 0.999\n",
      "TEST: acc: 0.787, precision: 0.133, recall: 0.333, spec: 0.824\n",
      "func:'rf_models'  took: 6.1590 sec\n",
      "\n",
      "NEK1 NEK2_inhibition_MFP_SMOTE_BRFC\n"
     ]
    },
    {
     "name": "stderr",
     "output_type": "stream",
     "text": [
      "/Users/jayceepang/miniconda3/envs/ATOM_CODE/lib/python3.9/site-packages/imblearn/ensemble/_forest.py:577: FutureWarning: The default of `sampling_strategy` will change from `'auto'` to `'all'` in version 0.13. This change will follow the implementation proposed in the original paper. Set to `'all'` to silence this warning and adopt the future behaviour.\n",
      "  warn(\n",
      "/Users/jayceepang/miniconda3/envs/ATOM_CODE/lib/python3.9/site-packages/imblearn/ensemble/_forest.py:589: FutureWarning: The default of `replacement` will change from `False` to `True` in version 0.13. This change will follow the implementation proposed in the original paper. Set to `True` to silence this warning and adopt the future behaviour.\n",
      "  warn(\n"
     ]
    },
    {
     "name": "stdout",
     "output_type": "stream",
     "text": [
      "TRAIN: acc: 0.999, precision: 0.999, recall: 0.999, spec: 0.999\n",
      "TEST: acc: 0.818, precision: 0.241, recall: 0.667, spec: 0.830\n",
      "func:'rf_models'  took: 11.5457 sec\n",
      "\n",
      "NEK1 NEK2_inhibition_MFP_SMOTE_BRFC_BCW\n"
     ]
    },
    {
     "name": "stderr",
     "output_type": "stream",
     "text": [
      "/Users/jayceepang/miniconda3/envs/ATOM_CODE/lib/python3.9/site-packages/imblearn/ensemble/_forest.py:577: FutureWarning: The default of `sampling_strategy` will change from `'auto'` to `'all'` in version 0.13. This change will follow the implementation proposed in the original paper. Set to `'all'` to silence this warning and adopt the future behaviour.\n",
      "  warn(\n",
      "/Users/jayceepang/miniconda3/envs/ATOM_CODE/lib/python3.9/site-packages/imblearn/ensemble/_forest.py:589: FutureWarning: The default of `replacement` will change from `False` to `True` in version 0.13. This change will follow the implementation proposed in the original paper. Set to `True` to silence this warning and adopt the future behaviour.\n",
      "  warn(\n"
     ]
    },
    {
     "name": "stdout",
     "output_type": "stream",
     "text": [
      "TRAIN: acc: 0.999, precision: 0.999, recall: 0.999, spec: 0.999\n",
      "TEST: acc: 0.765, precision: 0.110, recall: 0.300, spec: 0.803\n",
      "func:'rf_models'  took: 11.4628 sec\n",
      "\n",
      "NEK1 NEK2_inhibition_MFP_ADASYN_RF\n",
      "TRAIN: acc: 0.999, precision: 0.999, recall: 0.999, spec: 0.999\n",
      "TEST: acc: 0.730, precision: 0.164, recall: 0.633, spec: 0.738\n",
      "func:'rf_models'  took: 7.9948 sec\n",
      "\n",
      "NEK1 NEK2_inhibition_MFP_ADASYN_RF_BCW\n",
      "TRAIN: acc: 0.999, precision: 0.999, recall: 0.999, spec: 0.999\n",
      "TEST: acc: 0.850, precision: 0.250, recall: 0.500, spec: 0.878\n",
      "func:'rf_models'  took: 7.9096 sec\n",
      "\n",
      "NEK1 NEK2_inhibition_MFP_ADASYN_BRFC\n"
     ]
    },
    {
     "name": "stderr",
     "output_type": "stream",
     "text": [
      "/Users/jayceepang/miniconda3/envs/ATOM_CODE/lib/python3.9/site-packages/imblearn/ensemble/_forest.py:577: FutureWarning: The default of `sampling_strategy` will change from `'auto'` to `'all'` in version 0.13. This change will follow the implementation proposed in the original paper. Set to `'all'` to silence this warning and adopt the future behaviour.\n",
      "  warn(\n",
      "/Users/jayceepang/miniconda3/envs/ATOM_CODE/lib/python3.9/site-packages/imblearn/ensemble/_forest.py:589: FutureWarning: The default of `replacement` will change from `False` to `True` in version 0.13. This change will follow the implementation proposed in the original paper. Set to `True` to silence this warning and adopt the future behaviour.\n",
      "  warn(\n"
     ]
    },
    {
     "name": "stdout",
     "output_type": "stream",
     "text": [
      "TRAIN: acc: 0.999, precision: 0.999, recall: 0.999, spec: 0.999\n",
      "TEST: acc: 0.715, precision: 0.080, recall: 0.267, spec: 0.751\n",
      "func:'rf_models'  took: 15.8273 sec\n",
      "\n",
      "NEK1 NEK2_inhibition_MFP_ADASYN_BRFC_BCW\n"
     ]
    },
    {
     "name": "stderr",
     "output_type": "stream",
     "text": [
      "/Users/jayceepang/miniconda3/envs/ATOM_CODE/lib/python3.9/site-packages/imblearn/ensemble/_forest.py:577: FutureWarning: The default of `sampling_strategy` will change from `'auto'` to `'all'` in version 0.13. This change will follow the implementation proposed in the original paper. Set to `'all'` to silence this warning and adopt the future behaviour.\n",
      "  warn(\n",
      "/Users/jayceepang/miniconda3/envs/ATOM_CODE/lib/python3.9/site-packages/imblearn/ensemble/_forest.py:589: FutureWarning: The default of `replacement` will change from `False` to `True` in version 0.13. This change will follow the implementation proposed in the original paper. Set to `True` to silence this warning and adopt the future behaviour.\n",
      "  warn(\n"
     ]
    },
    {
     "name": "stdout",
     "output_type": "stream",
     "text": [
      "TRAIN: acc: 0.999, precision: 0.999, recall: 0.999, spec: 0.999\n",
      "TEST: acc: 0.792, precision: 0.066, recall: 0.133, spec: 0.846\n",
      "func:'rf_models'  took: 16.2595 sec\n",
      "\n",
      "NEK1 NEK3_binding_MFP_none_scaled_RF\n",
      "TRAIN: acc: 0.998, precision: 1.000, recall: 0.969, spec: 1.000\n",
      "TEST: acc: 0.605, precision: 0.110, recall: 0.600, spec: 0.605\n",
      "func:'rf_models'  took: 5.2363 sec\n",
      "\n",
      "NEK1 NEK3_binding_MFP_none_scaled_RF_BCW\n",
      "TRAIN: acc: 0.998, precision: 0.970, recall: 1.000, spec: 0.998\n",
      "TEST: acc: 0.843, precision: 0.077, recall: 0.100, spec: 0.903\n",
      "func:'rf_models'  took: 2.6250 sec\n",
      "\n",
      "NEK1 NEK3_binding_MFP_none_scaled_BRFC\n"
     ]
    },
    {
     "name": "stderr",
     "output_type": "stream",
     "text": [
      "/Users/jayceepang/miniconda3/envs/ATOM_CODE/lib/python3.9/site-packages/imblearn/ensemble/_forest.py:577: FutureWarning: The default of `sampling_strategy` will change from `'auto'` to `'all'` in version 0.13. This change will follow the implementation proposed in the original paper. Set to `'all'` to silence this warning and adopt the future behaviour.\n",
      "  warn(\n",
      "/Users/jayceepang/miniconda3/envs/ATOM_CODE/lib/python3.9/site-packages/imblearn/ensemble/_forest.py:589: FutureWarning: The default of `replacement` will change from `False` to `True` in version 0.13. This change will follow the implementation proposed in the original paper. Set to `True` to silence this warning and adopt the future behaviour.\n",
      "  warn(\n"
     ]
    },
    {
     "name": "stdout",
     "output_type": "stream",
     "text": [
      "TRAIN: acc: 0.796, precision: 0.218, recall: 1.000, spec: 0.784\n",
      "TEST: acc: 0.487, precision: 0.121, recall: 0.933, spec: 0.451\n",
      "func:'rf_models'  took: 0.3826 sec\n",
      "\n",
      "NEK1 NEK3_binding_MFP_none_scaled_BRFC_BCW\n"
     ]
    },
    {
     "name": "stderr",
     "output_type": "stream",
     "text": [
      "/Users/jayceepang/miniconda3/envs/ATOM_CODE/lib/python3.9/site-packages/imblearn/ensemble/_forest.py:577: FutureWarning: The default of `sampling_strategy` will change from `'auto'` to `'all'` in version 0.13. This change will follow the implementation proposed in the original paper. Set to `'all'` to silence this warning and adopt the future behaviour.\n",
      "  warn(\n",
      "/Users/jayceepang/miniconda3/envs/ATOM_CODE/lib/python3.9/site-packages/imblearn/ensemble/_forest.py:589: FutureWarning: The default of `replacement` will change from `False` to `True` in version 0.13. This change will follow the implementation proposed in the original paper. Set to `True` to silence this warning and adopt the future behaviour.\n",
      "  warn(\n"
     ]
    },
    {
     "name": "stdout",
     "output_type": "stream",
     "text": [
      "TRAIN: acc: 0.585, precision: 0.121, recall: 1.000, spec: 0.560\n",
      "TEST: acc: 0.843, precision: 0.163, recall: 0.267, spec: 0.889\n",
      "func:'rf_models'  took: 0.8788 sec\n",
      "\n",
      "NEK1 NEK3_binding_MFP_UNDER_RF\n",
      "TRAIN: acc: 1.000, precision: 1.000, recall: 1.000, spec: 1.000\n",
      "TEST: acc: 0.422, precision: 0.057, recall: 0.433, spec: 0.422\n",
      "func:'rf_models'  took: 0.3130 sec\n",
      "\n",
      "NEK1 NEK3_binding_MFP_UNDER_RF_BCW\n",
      "TRAIN: acc: 1.000, precision: 1.000, recall: 1.000, spec: 1.000\n",
      "TEST: acc: 0.412, precision: 0.060, recall: 0.467, spec: 0.408\n",
      "func:'rf_models'  took: 0.3196 sec\n",
      "\n",
      "NEK1 NEK3_binding_MFP_UNDER_BRFC\n"
     ]
    },
    {
     "name": "stderr",
     "output_type": "stream",
     "text": [
      "/Users/jayceepang/miniconda3/envs/ATOM_CODE/lib/python3.9/site-packages/imblearn/ensemble/_forest.py:577: FutureWarning: The default of `sampling_strategy` will change from `'auto'` to `'all'` in version 0.13. This change will follow the implementation proposed in the original paper. Set to `'all'` to silence this warning and adopt the future behaviour.\n",
      "  warn(\n",
      "/Users/jayceepang/miniconda3/envs/ATOM_CODE/lib/python3.9/site-packages/imblearn/ensemble/_forest.py:589: FutureWarning: The default of `replacement` will change from `False` to `True` in version 0.13. This change will follow the implementation proposed in the original paper. Set to `True` to silence this warning and adopt the future behaviour.\n",
      "  warn(\n"
     ]
    },
    {
     "name": "stdout",
     "output_type": "stream",
     "text": [
      "TRAIN: acc: 1.000, precision: 1.000, recall: 1.000, spec: 1.000\n",
      "TEST: acc: 0.415, precision: 0.060, recall: 0.467, spec: 0.411\n",
      "func:'rf_models'  took: 0.3884 sec\n",
      "\n",
      "NEK1 NEK3_binding_MFP_UNDER_BRFC_BCW\n"
     ]
    },
    {
     "name": "stderr",
     "output_type": "stream",
     "text": [
      "/Users/jayceepang/miniconda3/envs/ATOM_CODE/lib/python3.9/site-packages/imblearn/ensemble/_forest.py:577: FutureWarning: The default of `sampling_strategy` will change from `'auto'` to `'all'` in version 0.13. This change will follow the implementation proposed in the original paper. Set to `'all'` to silence this warning and adopt the future behaviour.\n",
      "  warn(\n",
      "/Users/jayceepang/miniconda3/envs/ATOM_CODE/lib/python3.9/site-packages/imblearn/ensemble/_forest.py:589: FutureWarning: The default of `replacement` will change from `False` to `True` in version 0.13. This change will follow the implementation proposed in the original paper. Set to `True` to silence this warning and adopt the future behaviour.\n",
      "  warn(\n"
     ]
    },
    {
     "name": "stdout",
     "output_type": "stream",
     "text": [
      "TRAIN: acc: 1.000, precision: 1.000, recall: 1.000, spec: 1.000\n",
      "TEST: acc: 0.427, precision: 0.058, recall: 0.433, spec: 0.427\n",
      "func:'rf_models'  took: 0.3911 sec\n",
      "\n",
      "NEK1 NEK3_binding_MFP_SMOTE_RF\n",
      "TRAIN: acc: 0.999, precision: 1.000, recall: 0.998, spec: 1.000\n",
      "TEST: acc: 0.780, precision: 0.138, recall: 0.367, spec: 0.814\n",
      "func:'rf_models'  took: 4.3104 sec\n",
      "\n",
      "NEK1 NEK3_binding_MFP_SMOTE_RF_BCW\n",
      "TRAIN: acc: 0.999, precision: 1.000, recall: 0.998, spec: 1.000\n",
      "TEST: acc: 0.760, precision: 0.098, recall: 0.267, spec: 0.800\n",
      "func:'rf_models'  took: 4.3227 sec\n",
      "\n",
      "NEK1 NEK3_binding_MFP_SMOTE_BRFC\n"
     ]
    },
    {
     "name": "stderr",
     "output_type": "stream",
     "text": [
      "/Users/jayceepang/miniconda3/envs/ATOM_CODE/lib/python3.9/site-packages/imblearn/ensemble/_forest.py:577: FutureWarning: The default of `sampling_strategy` will change from `'auto'` to `'all'` in version 0.13. This change will follow the implementation proposed in the original paper. Set to `'all'` to silence this warning and adopt the future behaviour.\n",
      "  warn(\n",
      "/Users/jayceepang/miniconda3/envs/ATOM_CODE/lib/python3.9/site-packages/imblearn/ensemble/_forest.py:589: FutureWarning: The default of `replacement` will change from `False` to `True` in version 0.13. This change will follow the implementation proposed in the original paper. Set to `True` to silence this warning and adopt the future behaviour.\n",
      "  warn(\n"
     ]
    },
    {
     "name": "stdout",
     "output_type": "stream",
     "text": [
      "TRAIN: acc: 0.999, precision: 1.000, recall: 0.998, spec: 1.000\n",
      "TEST: acc: 0.765, precision: 0.128, recall: 0.367, spec: 0.797\n",
      "func:'rf_models'  took: 7.5782 sec\n",
      "\n",
      "NEK1 NEK3_binding_MFP_SMOTE_BRFC_BCW\n"
     ]
    },
    {
     "name": "stderr",
     "output_type": "stream",
     "text": [
      "/Users/jayceepang/miniconda3/envs/ATOM_CODE/lib/python3.9/site-packages/imblearn/ensemble/_forest.py:577: FutureWarning: The default of `sampling_strategy` will change from `'auto'` to `'all'` in version 0.13. This change will follow the implementation proposed in the original paper. Set to `'all'` to silence this warning and adopt the future behaviour.\n",
      "  warn(\n",
      "/Users/jayceepang/miniconda3/envs/ATOM_CODE/lib/python3.9/site-packages/imblearn/ensemble/_forest.py:589: FutureWarning: The default of `replacement` will change from `False` to `True` in version 0.13. This change will follow the implementation proposed in the original paper. Set to `True` to silence this warning and adopt the future behaviour.\n",
      "  warn(\n"
     ]
    },
    {
     "name": "stdout",
     "output_type": "stream",
     "text": [
      "TRAIN: acc: 0.999, precision: 1.000, recall: 0.998, spec: 1.000\n",
      "TEST: acc: 0.772, precision: 0.141, recall: 0.400, spec: 0.803\n",
      "func:'rf_models'  took: 7.2348 sec\n",
      "\n",
      "NEK1 NEK3_binding_MFP_ADASYN_RF\n",
      "TRAIN: acc: 0.999, precision: 1.000, recall: 0.998, spec: 1.000\n",
      "TEST: acc: 0.698, precision: 0.147, recall: 0.633, spec: 0.703\n",
      "func:'rf_models'  took: 3.6522 sec\n",
      "\n",
      "NEK1 NEK3_binding_MFP_ADASYN_RF_BCW\n",
      "TRAIN: acc: 0.999, precision: 1.000, recall: 0.998, spec: 1.000\n",
      "TEST: acc: 0.688, precision: 0.148, recall: 0.667, spec: 0.689\n",
      "func:'rf_models'  took: 3.7644 sec\n",
      "\n",
      "NEK1 NEK3_binding_MFP_ADASYN_BRFC\n"
     ]
    },
    {
     "name": "stderr",
     "output_type": "stream",
     "text": [
      "/Users/jayceepang/miniconda3/envs/ATOM_CODE/lib/python3.9/site-packages/imblearn/ensemble/_forest.py:577: FutureWarning: The default of `sampling_strategy` will change from `'auto'` to `'all'` in version 0.13. This change will follow the implementation proposed in the original paper. Set to `'all'` to silence this warning and adopt the future behaviour.\n",
      "  warn(\n",
      "/Users/jayceepang/miniconda3/envs/ATOM_CODE/lib/python3.9/site-packages/imblearn/ensemble/_forest.py:589: FutureWarning: The default of `replacement` will change from `False` to `True` in version 0.13. This change will follow the implementation proposed in the original paper. Set to `True` to silence this warning and adopt the future behaviour.\n",
      "  warn(\n"
     ]
    },
    {
     "name": "stdout",
     "output_type": "stream",
     "text": [
      "TRAIN: acc: 0.999, precision: 1.000, recall: 0.998, spec: 1.000\n",
      "TEST: acc: 0.695, precision: 0.146, recall: 0.633, spec: 0.700\n",
      "func:'rf_models'  took: 6.9199 sec\n",
      "\n",
      "NEK1 NEK3_binding_MFP_ADASYN_BRFC_BCW\n"
     ]
    },
    {
     "name": "stderr",
     "output_type": "stream",
     "text": [
      "/Users/jayceepang/miniconda3/envs/ATOM_CODE/lib/python3.9/site-packages/imblearn/ensemble/_forest.py:577: FutureWarning: The default of `sampling_strategy` will change from `'auto'` to `'all'` in version 0.13. This change will follow the implementation proposed in the original paper. Set to `'all'` to silence this warning and adopt the future behaviour.\n",
      "  warn(\n",
      "/Users/jayceepang/miniconda3/envs/ATOM_CODE/lib/python3.9/site-packages/imblearn/ensemble/_forest.py:589: FutureWarning: The default of `replacement` will change from `False` to `True` in version 0.13. This change will follow the implementation proposed in the original paper. Set to `True` to silence this warning and adopt the future behaviour.\n",
      "  warn(\n"
     ]
    },
    {
     "name": "stdout",
     "output_type": "stream",
     "text": [
      "TRAIN: acc: 0.999, precision: 1.000, recall: 0.998, spec: 1.000\n",
      "TEST: acc: 0.682, precision: 0.146, recall: 0.667, spec: 0.684\n",
      "func:'rf_models'  took: 6.8388 sec\n",
      "\n",
      "NEK1 NEK5_binding_MFP_none_scaled_RF\n",
      "TRAIN: acc: 0.998, precision: 1.000, recall: 0.974, spec: 1.000\n",
      "TEST: acc: 0.593, precision: 0.097, recall: 0.533, spec: 0.597\n",
      "func:'rf_models'  took: 3.4391 sec\n",
      "\n",
      "NEK1 NEK5_binding_MFP_none_scaled_RF_BCW\n",
      "TRAIN: acc: 0.998, precision: 0.975, recall: 1.000, spec: 0.998\n",
      "TEST: acc: 0.820, precision: 0.062, recall: 0.100, spec: 0.878\n",
      "func:'rf_models'  took: 2.7654 sec\n",
      "\n",
      "NEK1 NEK5_binding_MFP_none_scaled_BRFC\n"
     ]
    },
    {
     "name": "stderr",
     "output_type": "stream",
     "text": [
      "/Users/jayceepang/miniconda3/envs/ATOM_CODE/lib/python3.9/site-packages/imblearn/ensemble/_forest.py:577: FutureWarning: The default of `sampling_strategy` will change from `'auto'` to `'all'` in version 0.13. This change will follow the implementation proposed in the original paper. Set to `'all'` to silence this warning and adopt the future behaviour.\n",
      "  warn(\n",
      "/Users/jayceepang/miniconda3/envs/ATOM_CODE/lib/python3.9/site-packages/imblearn/ensemble/_forest.py:589: FutureWarning: The default of `replacement` will change from `False` to `True` in version 0.13. This change will follow the implementation proposed in the original paper. Set to `True` to silence this warning and adopt the future behaviour.\n",
      "  warn(\n"
     ]
    },
    {
     "name": "stdout",
     "output_type": "stream",
     "text": [
      "TRAIN: acc: 0.885, precision: 0.403, recall: 1.000, spec: 0.875\n",
      "TEST: acc: 0.510, precision: 0.105, recall: 0.733, spec: 0.492\n",
      "func:'rf_models'  took: 0.4316 sec\n",
      "\n",
      "NEK1 NEK5_binding_MFP_none_scaled_BRFC_BCW\n"
     ]
    },
    {
     "name": "stderr",
     "output_type": "stream",
     "text": [
      "/Users/jayceepang/miniconda3/envs/ATOM_CODE/lib/python3.9/site-packages/imblearn/ensemble/_forest.py:577: FutureWarning: The default of `sampling_strategy` will change from `'auto'` to `'all'` in version 0.13. This change will follow the implementation proposed in the original paper. Set to `'all'` to silence this warning and adopt the future behaviour.\n",
      "  warn(\n",
      "/Users/jayceepang/miniconda3/envs/ATOM_CODE/lib/python3.9/site-packages/imblearn/ensemble/_forest.py:589: FutureWarning: The default of `replacement` will change from `False` to `True` in version 0.13. This change will follow the implementation proposed in the original paper. Set to `True` to silence this warning and adopt the future behaviour.\n",
      "  warn(\n"
     ]
    },
    {
     "name": "stdout",
     "output_type": "stream",
     "text": [
      "TRAIN: acc: 0.815, precision: 0.296, recall: 1.000, spec: 0.799\n",
      "TEST: acc: 0.552, precision: 0.093, recall: 0.567, spec: 0.551\n",
      "func:'rf_models'  took: 0.5924 sec\n",
      "\n",
      "NEK1 NEK5_binding_MFP_UNDER_RF\n",
      "TRAIN: acc: 1.000, precision: 1.000, recall: 1.000, spec: 1.000\n",
      "TEST: acc: 0.542, precision: 0.134, recall: 0.933, spec: 0.511\n",
      "func:'rf_models'  took: 0.2702 sec\n",
      "\n",
      "NEK1 NEK5_binding_MFP_UNDER_RF_BCW\n",
      "TRAIN: acc: 1.000, precision: 1.000, recall: 1.000, spec: 1.000\n",
      "TEST: acc: 0.540, precision: 0.130, recall: 0.900, spec: 0.511\n",
      "func:'rf_models'  took: 0.2744 sec\n",
      "\n",
      "NEK1 NEK5_binding_MFP_UNDER_BRFC\n"
     ]
    },
    {
     "name": "stderr",
     "output_type": "stream",
     "text": [
      "/Users/jayceepang/miniconda3/envs/ATOM_CODE/lib/python3.9/site-packages/imblearn/ensemble/_forest.py:577: FutureWarning: The default of `sampling_strategy` will change from `'auto'` to `'all'` in version 0.13. This change will follow the implementation proposed in the original paper. Set to `'all'` to silence this warning and adopt the future behaviour.\n",
      "  warn(\n",
      "/Users/jayceepang/miniconda3/envs/ATOM_CODE/lib/python3.9/site-packages/imblearn/ensemble/_forest.py:589: FutureWarning: The default of `replacement` will change from `False` to `True` in version 0.13. This change will follow the implementation proposed in the original paper. Set to `True` to silence this warning and adopt the future behaviour.\n",
      "  warn(\n"
     ]
    },
    {
     "name": "stdout",
     "output_type": "stream",
     "text": [
      "TRAIN: acc: 1.000, precision: 1.000, recall: 1.000, spec: 1.000\n",
      "TEST: acc: 0.542, precision: 0.134, recall: 0.933, spec: 0.511\n",
      "func:'rf_models'  took: 0.3558 sec\n",
      "\n",
      "NEK1 NEK5_binding_MFP_UNDER_BRFC_BCW\n"
     ]
    },
    {
     "name": "stderr",
     "output_type": "stream",
     "text": [
      "/Users/jayceepang/miniconda3/envs/ATOM_CODE/lib/python3.9/site-packages/imblearn/ensemble/_forest.py:577: FutureWarning: The default of `sampling_strategy` will change from `'auto'` to `'all'` in version 0.13. This change will follow the implementation proposed in the original paper. Set to `'all'` to silence this warning and adopt the future behaviour.\n",
      "  warn(\n",
      "/Users/jayceepang/miniconda3/envs/ATOM_CODE/lib/python3.9/site-packages/imblearn/ensemble/_forest.py:589: FutureWarning: The default of `replacement` will change from `False` to `True` in version 0.13. This change will follow the implementation proposed in the original paper. Set to `True` to silence this warning and adopt the future behaviour.\n",
      "  warn(\n"
     ]
    },
    {
     "name": "stdout",
     "output_type": "stream",
     "text": [
      "TRAIN: acc: 1.000, precision: 1.000, recall: 1.000, spec: 1.000\n",
      "TEST: acc: 0.540, precision: 0.130, recall: 0.900, spec: 0.511\n",
      "func:'rf_models'  took: 0.3592 sec\n",
      "\n",
      "NEK1 NEK5_binding_MFP_SMOTE_RF\n",
      "TRAIN: acc: 0.999, precision: 1.000, recall: 0.998, spec: 1.000\n",
      "TEST: acc: 0.740, precision: 0.157, recall: 0.567, spec: 0.754\n",
      "func:'rf_models'  took: 3.7587 sec\n",
      "\n",
      "NEK1 NEK5_binding_MFP_SMOTE_RF_BCW\n",
      "TRAIN: acc: 0.999, precision: 1.000, recall: 0.998, spec: 1.000\n",
      "TEST: acc: 0.738, precision: 0.162, recall: 0.600, spec: 0.749\n",
      "func:'rf_models'  took: 3.8396 sec\n",
      "\n",
      "NEK1 NEK5_binding_MFP_SMOTE_BRFC\n"
     ]
    },
    {
     "name": "stderr",
     "output_type": "stream",
     "text": [
      "/Users/jayceepang/miniconda3/envs/ATOM_CODE/lib/python3.9/site-packages/imblearn/ensemble/_forest.py:577: FutureWarning: The default of `sampling_strategy` will change from `'auto'` to `'all'` in version 0.13. This change will follow the implementation proposed in the original paper. Set to `'all'` to silence this warning and adopt the future behaviour.\n",
      "  warn(\n",
      "/Users/jayceepang/miniconda3/envs/ATOM_CODE/lib/python3.9/site-packages/imblearn/ensemble/_forest.py:589: FutureWarning: The default of `replacement` will change from `False` to `True` in version 0.13. This change will follow the implementation proposed in the original paper. Set to `True` to silence this warning and adopt the future behaviour.\n",
      "  warn(\n"
     ]
    },
    {
     "name": "stdout",
     "output_type": "stream",
     "text": [
      "TRAIN: acc: 0.999, precision: 1.000, recall: 0.998, spec: 1.000\n",
      "TEST: acc: 0.740, precision: 0.157, recall: 0.567, spec: 0.754\n",
      "func:'rf_models'  took: 6.2607 sec\n",
      "\n",
      "NEK1 NEK5_binding_MFP_SMOTE_BRFC_BCW\n"
     ]
    },
    {
     "name": "stderr",
     "output_type": "stream",
     "text": [
      "/Users/jayceepang/miniconda3/envs/ATOM_CODE/lib/python3.9/site-packages/imblearn/ensemble/_forest.py:577: FutureWarning: The default of `sampling_strategy` will change from `'auto'` to `'all'` in version 0.13. This change will follow the implementation proposed in the original paper. Set to `'all'` to silence this warning and adopt the future behaviour.\n",
      "  warn(\n",
      "/Users/jayceepang/miniconda3/envs/ATOM_CODE/lib/python3.9/site-packages/imblearn/ensemble/_forest.py:589: FutureWarning: The default of `replacement` will change from `False` to `True` in version 0.13. This change will follow the implementation proposed in the original paper. Set to `True` to silence this warning and adopt the future behaviour.\n",
      "  warn(\n"
     ]
    },
    {
     "name": "stdout",
     "output_type": "stream",
     "text": [
      "TRAIN: acc: 0.999, precision: 1.000, recall: 0.998, spec: 1.000\n",
      "TEST: acc: 0.740, precision: 0.157, recall: 0.567, spec: 0.754\n",
      "func:'rf_models'  took: 6.3559 sec\n",
      "\n",
      "NEK1 NEK5_binding_MFP_ADASYN_RF\n",
      "TRAIN: acc: 0.999, precision: 1.000, recall: 0.998, spec: 1.000\n",
      "TEST: acc: 0.838, precision: 0.128, recall: 0.200, spec: 0.889\n",
      "func:'rf_models'  took: 3.0746 sec\n",
      "\n",
      "NEK1 NEK5_binding_MFP_ADASYN_RF_BCW\n",
      "TRAIN: acc: 0.999, precision: 0.998, recall: 1.000, spec: 0.998\n",
      "TEST: acc: 0.835, precision: 0.109, recall: 0.167, spec: 0.889\n",
      "func:'rf_models'  took: 3.3155 sec\n",
      "\n",
      "NEK1 NEK5_binding_MFP_ADASYN_BRFC\n"
     ]
    },
    {
     "name": "stderr",
     "output_type": "stream",
     "text": [
      "/Users/jayceepang/miniconda3/envs/ATOM_CODE/lib/python3.9/site-packages/imblearn/ensemble/_forest.py:577: FutureWarning: The default of `sampling_strategy` will change from `'auto'` to `'all'` in version 0.13. This change will follow the implementation proposed in the original paper. Set to `'all'` to silence this warning and adopt the future behaviour.\n",
      "  warn(\n",
      "/Users/jayceepang/miniconda3/envs/ATOM_CODE/lib/python3.9/site-packages/imblearn/ensemble/_forest.py:589: FutureWarning: The default of `replacement` will change from `False` to `True` in version 0.13. This change will follow the implementation proposed in the original paper. Set to `True` to silence this warning and adopt the future behaviour.\n",
      "  warn(\n"
     ]
    },
    {
     "name": "stdout",
     "output_type": "stream",
     "text": [
      "TRAIN: acc: 0.999, precision: 0.998, recall: 1.000, spec: 0.998\n",
      "TEST: acc: 0.845, precision: 0.152, recall: 0.233, spec: 0.895\n",
      "func:'rf_models'  took: 5.3604 sec\n",
      "\n",
      "NEK1 NEK5_binding_MFP_ADASYN_BRFC_BCW\n"
     ]
    },
    {
     "name": "stderr",
     "output_type": "stream",
     "text": [
      "/Users/jayceepang/miniconda3/envs/ATOM_CODE/lib/python3.9/site-packages/imblearn/ensemble/_forest.py:577: FutureWarning: The default of `sampling_strategy` will change from `'auto'` to `'all'` in version 0.13. This change will follow the implementation proposed in the original paper. Set to `'all'` to silence this warning and adopt the future behaviour.\n",
      "  warn(\n",
      "/Users/jayceepang/miniconda3/envs/ATOM_CODE/lib/python3.9/site-packages/imblearn/ensemble/_forest.py:589: FutureWarning: The default of `replacement` will change from `False` to `True` in version 0.13. This change will follow the implementation proposed in the original paper. Set to `True` to silence this warning and adopt the future behaviour.\n",
      "  warn(\n"
     ]
    },
    {
     "name": "stdout",
     "output_type": "stream",
     "text": [
      "TRAIN: acc: 0.999, precision: 0.998, recall: 1.000, spec: 0.998\n",
      "TEST: acc: 0.850, precision: 0.143, recall: 0.200, spec: 0.903\n",
      "func:'rf_models'  took: 5.4926 sec\n",
      "\n",
      "NEK1 NEK9_binding_MFP_none_scaled_RF\n",
      "TRAIN: acc: 0.999, precision: 1.000, recall: 0.979, spec: 1.000\n",
      "TEST: acc: 0.630, precision: 0.101, recall: 0.500, spec: 0.641\n",
      "func:'rf_models'  took: 7.5944 sec\n",
      "\n",
      "NEK1 NEK9_binding_MFP_none_scaled_RF_BCW\n",
      "TRAIN: acc: 0.999, precision: 0.980, recall: 1.000, spec: 0.999\n",
      "TEST: acc: 0.845, precision: 0.136, recall: 0.200, spec: 0.897\n",
      "func:'rf_models'  took: 2.3191 sec\n",
      "\n",
      "NEK1 NEK9_binding_MFP_none_scaled_BRFC\n"
     ]
    },
    {
     "name": "stderr",
     "output_type": "stream",
     "text": [
      "/Users/jayceepang/miniconda3/envs/ATOM_CODE/lib/python3.9/site-packages/imblearn/ensemble/_forest.py:577: FutureWarning: The default of `sampling_strategy` will change from `'auto'` to `'all'` in version 0.13. This change will follow the implementation proposed in the original paper. Set to `'all'` to silence this warning and adopt the future behaviour.\n",
      "  warn(\n",
      "/Users/jayceepang/miniconda3/envs/ATOM_CODE/lib/python3.9/site-packages/imblearn/ensemble/_forest.py:589: FutureWarning: The default of `replacement` will change from `False` to `True` in version 0.13. This change will follow the implementation proposed in the original paper. Set to `True` to silence this warning and adopt the future behaviour.\n",
      "  warn(\n"
     ]
    },
    {
     "name": "stdout",
     "output_type": "stream",
     "text": [
      "TRAIN: acc: 0.839, precision: 0.210, recall: 1.000, spec: 0.832\n",
      "TEST: acc: 0.455, precision: 0.121, recall: 1.000, spec: 0.411\n",
      "func:'rf_models'  took: 0.3009 sec\n",
      "\n",
      "NEK1 NEK9_binding_MFP_none_scaled_BRFC_BCW\n"
     ]
    },
    {
     "name": "stderr",
     "output_type": "stream",
     "text": [
      "/Users/jayceepang/miniconda3/envs/ATOM_CODE/lib/python3.9/site-packages/imblearn/ensemble/_forest.py:577: FutureWarning: The default of `sampling_strategy` will change from `'auto'` to `'all'` in version 0.13. This change will follow the implementation proposed in the original paper. Set to `'all'` to silence this warning and adopt the future behaviour.\n",
      "  warn(\n",
      "/Users/jayceepang/miniconda3/envs/ATOM_CODE/lib/python3.9/site-packages/imblearn/ensemble/_forest.py:589: FutureWarning: The default of `replacement` will change from `False` to `True` in version 0.13. This change will follow the implementation proposed in the original paper. Set to `True` to silence this warning and adopt the future behaviour.\n",
      "  warn(\n"
     ]
    },
    {
     "name": "stdout",
     "output_type": "stream",
     "text": [
      "TRAIN: acc: 0.566, precision: 0.089, recall: 1.000, spec: 0.546\n",
      "TEST: acc: 0.698, precision: 0.040, recall: 0.133, spec: 0.743\n",
      "func:'rf_models'  took: 0.5187 sec\n",
      "\n",
      "NEK1 NEK9_binding_MFP_UNDER_RF\n",
      "TRAIN: acc: 1.000, precision: 1.000, recall: 1.000, spec: 1.000\n",
      "TEST: acc: 0.312, precision: 0.096, recall: 0.967, spec: 0.259\n",
      "func:'rf_models'  took: 0.2362 sec\n",
      "\n",
      "NEK1 NEK9_binding_MFP_UNDER_RF_BCW\n",
      "TRAIN: acc: 1.000, precision: 1.000, recall: 1.000, spec: 1.000\n",
      "TEST: acc: 0.318, precision: 0.096, recall: 0.967, spec: 0.265\n",
      "func:'rf_models'  took: 0.2332 sec\n",
      "\n",
      "NEK1 NEK9_binding_MFP_UNDER_BRFC\n"
     ]
    },
    {
     "name": "stderr",
     "output_type": "stream",
     "text": [
      "/Users/jayceepang/miniconda3/envs/ATOM_CODE/lib/python3.9/site-packages/imblearn/ensemble/_forest.py:577: FutureWarning: The default of `sampling_strategy` will change from `'auto'` to `'all'` in version 0.13. This change will follow the implementation proposed in the original paper. Set to `'all'` to silence this warning and adopt the future behaviour.\n",
      "  warn(\n",
      "/Users/jayceepang/miniconda3/envs/ATOM_CODE/lib/python3.9/site-packages/imblearn/ensemble/_forest.py:589: FutureWarning: The default of `replacement` will change from `False` to `True` in version 0.13. This change will follow the implementation proposed in the original paper. Set to `True` to silence this warning and adopt the future behaviour.\n",
      "  warn(\n"
     ]
    },
    {
     "name": "stdout",
     "output_type": "stream",
     "text": [
      "TRAIN: acc: 1.000, precision: 1.000, recall: 1.000, spec: 1.000\n",
      "TEST: acc: 0.325, precision: 0.097, recall: 0.967, spec: 0.273\n",
      "func:'rf_models'  took: 0.2966 sec\n",
      "\n",
      "NEK1 NEK9_binding_MFP_UNDER_BRFC_BCW\n"
     ]
    },
    {
     "name": "stderr",
     "output_type": "stream",
     "text": [
      "/Users/jayceepang/miniconda3/envs/ATOM_CODE/lib/python3.9/site-packages/imblearn/ensemble/_forest.py:577: FutureWarning: The default of `sampling_strategy` will change from `'auto'` to `'all'` in version 0.13. This change will follow the implementation proposed in the original paper. Set to `'all'` to silence this warning and adopt the future behaviour.\n",
      "  warn(\n",
      "/Users/jayceepang/miniconda3/envs/ATOM_CODE/lib/python3.9/site-packages/imblearn/ensemble/_forest.py:589: FutureWarning: The default of `replacement` will change from `False` to `True` in version 0.13. This change will follow the implementation proposed in the original paper. Set to `True` to silence this warning and adopt the future behaviour.\n",
      "  warn(\n"
     ]
    },
    {
     "name": "stdout",
     "output_type": "stream",
     "text": [
      "TRAIN: acc: 1.000, precision: 1.000, recall: 1.000, spec: 1.000\n",
      "TEST: acc: 0.330, precision: 0.098, recall: 0.967, spec: 0.278\n",
      "func:'rf_models'  took: 0.2996 sec\n",
      "\n",
      "NEK1 NEK9_binding_MFP_SMOTE_RF\n",
      "TRAIN: acc: 1.000, precision: 1.000, recall: 0.999, spec: 1.000\n",
      "TEST: acc: 0.752, precision: 0.165, recall: 0.567, spec: 0.768\n",
      "func:'rf_models'  took: 5.1820 sec\n",
      "\n",
      "NEK1 NEK9_binding_MFP_SMOTE_RF_BCW\n",
      "TRAIN: acc: 1.000, precision: 1.000, recall: 0.999, spec: 1.000\n",
      "TEST: acc: 0.748, precision: 0.155, recall: 0.533, spec: 0.765\n",
      "func:'rf_models'  took: 5.2128 sec\n",
      "\n",
      "NEK1 NEK9_binding_MFP_SMOTE_BRFC\n"
     ]
    },
    {
     "name": "stderr",
     "output_type": "stream",
     "text": [
      "/Users/jayceepang/miniconda3/envs/ATOM_CODE/lib/python3.9/site-packages/imblearn/ensemble/_forest.py:577: FutureWarning: The default of `sampling_strategy` will change from `'auto'` to `'all'` in version 0.13. This change will follow the implementation proposed in the original paper. Set to `'all'` to silence this warning and adopt the future behaviour.\n",
      "  warn(\n",
      "/Users/jayceepang/miniconda3/envs/ATOM_CODE/lib/python3.9/site-packages/imblearn/ensemble/_forest.py:589: FutureWarning: The default of `replacement` will change from `False` to `True` in version 0.13. This change will follow the implementation proposed in the original paper. Set to `True` to silence this warning and adopt the future behaviour.\n",
      "  warn(\n"
     ]
    },
    {
     "name": "stdout",
     "output_type": "stream",
     "text": [
      "TRAIN: acc: 1.000, precision: 1.000, recall: 0.999, spec: 1.000\n",
      "TEST: acc: 0.755, precision: 0.153, recall: 0.500, spec: 0.776\n",
      "func:'rf_models'  took: 9.4810 sec\n",
      "\n",
      "NEK1 NEK9_binding_MFP_SMOTE_BRFC_BCW\n"
     ]
    },
    {
     "name": "stderr",
     "output_type": "stream",
     "text": [
      "/Users/jayceepang/miniconda3/envs/ATOM_CODE/lib/python3.9/site-packages/imblearn/ensemble/_forest.py:577: FutureWarning: The default of `sampling_strategy` will change from `'auto'` to `'all'` in version 0.13. This change will follow the implementation proposed in the original paper. Set to `'all'` to silence this warning and adopt the future behaviour.\n",
      "  warn(\n",
      "/Users/jayceepang/miniconda3/envs/ATOM_CODE/lib/python3.9/site-packages/imblearn/ensemble/_forest.py:589: FutureWarning: The default of `replacement` will change from `False` to `True` in version 0.13. This change will follow the implementation proposed in the original paper. Set to `True` to silence this warning and adopt the future behaviour.\n",
      "  warn(\n"
     ]
    },
    {
     "name": "stdout",
     "output_type": "stream",
     "text": [
      "TRAIN: acc: 1.000, precision: 1.000, recall: 0.999, spec: 1.000\n",
      "TEST: acc: 0.752, precision: 0.165, recall: 0.567, spec: 0.768\n",
      "func:'rf_models'  took: 9.8741 sec\n",
      "\n",
      "NEK1 NEK9_binding_MFP_ADASYN_RF\n",
      "TRAIN: acc: 1.000, precision: 1.000, recall: 0.999, spec: 1.000\n",
      "TEST: acc: 0.745, precision: 0.050, recall: 0.133, spec: 0.795\n",
      "func:'rf_models'  took: 4.2703 sec\n",
      "\n",
      "NEK1 NEK9_binding_MFP_ADASYN_RF_BCW\n",
      "TRAIN: acc: 1.000, precision: 1.000, recall: 0.999, spec: 1.000\n",
      "TEST: acc: 0.752, precision: 0.052, recall: 0.133, spec: 0.803\n",
      "func:'rf_models'  took: 4.3690 sec\n",
      "\n",
      "NEK1 NEK9_binding_MFP_ADASYN_BRFC\n"
     ]
    },
    {
     "name": "stderr",
     "output_type": "stream",
     "text": [
      "/Users/jayceepang/miniconda3/envs/ATOM_CODE/lib/python3.9/site-packages/imblearn/ensemble/_forest.py:577: FutureWarning: The default of `sampling_strategy` will change from `'auto'` to `'all'` in version 0.13. This change will follow the implementation proposed in the original paper. Set to `'all'` to silence this warning and adopt the future behaviour.\n",
      "  warn(\n",
      "/Users/jayceepang/miniconda3/envs/ATOM_CODE/lib/python3.9/site-packages/imblearn/ensemble/_forest.py:589: FutureWarning: The default of `replacement` will change from `False` to `True` in version 0.13. This change will follow the implementation proposed in the original paper. Set to `True` to silence this warning and adopt the future behaviour.\n",
      "  warn(\n"
     ]
    },
    {
     "name": "stdout",
     "output_type": "stream",
     "text": [
      "TRAIN: acc: 1.000, precision: 1.000, recall: 0.999, spec: 1.000\n",
      "TEST: acc: 0.750, precision: 0.039, recall: 0.100, spec: 0.803\n",
      "func:'rf_models'  took: 7.7163 sec\n",
      "\n",
      "NEK1 NEK9_binding_MFP_ADASYN_BRFC_BCW\n"
     ]
    },
    {
     "name": "stderr",
     "output_type": "stream",
     "text": [
      "/Users/jayceepang/miniconda3/envs/ATOM_CODE/lib/python3.9/site-packages/imblearn/ensemble/_forest.py:577: FutureWarning: The default of `sampling_strategy` will change from `'auto'` to `'all'` in version 0.13. This change will follow the implementation proposed in the original paper. Set to `'all'` to silence this warning and adopt the future behaviour.\n",
      "  warn(\n",
      "/Users/jayceepang/miniconda3/envs/ATOM_CODE/lib/python3.9/site-packages/imblearn/ensemble/_forest.py:589: FutureWarning: The default of `replacement` will change from `False` to `True` in version 0.13. This change will follow the implementation proposed in the original paper. Set to `True` to silence this warning and adopt the future behaviour.\n",
      "  warn(\n"
     ]
    },
    {
     "name": "stdout",
     "output_type": "stream",
     "text": [
      "TRAIN: acc: 1.000, precision: 1.000, recall: 0.999, spec: 1.000\n",
      "TEST: acc: 0.755, precision: 0.064, recall: 0.167, spec: 0.803\n",
      "func:'rf_models'  took: 8.2418 sec\n",
      "\n",
      "NEK1 NEK9_inhibition_MFP_none_scaled_RF\n",
      "TRAIN: acc: 0.997, precision: 1.000, recall: 0.970, spec: 1.000\n",
      "TEST: acc: 0.775, precision: 0.212, recall: 0.733, spec: 0.778\n",
      "func:'rf_models'  took: 0.5466 sec\n",
      "\n",
      "NEK1 NEK9_inhibition_MFP_none_scaled_RF_BCW\n",
      "TRAIN: acc: 0.997, precision: 0.971, recall: 1.000, spec: 0.996\n",
      "TEST: acc: 0.820, precision: 0.244, recall: 0.667, spec: 0.832\n",
      "func:'rf_models'  took: 0.3824 sec\n",
      "\n",
      "NEK1 NEK9_inhibition_MFP_none_scaled_BRFC\n",
      "TRAIN: acc: 0.942, precision: 0.647, recall: 1.000, spec: 0.936\n",
      "TEST: acc: 0.733, precision: 0.176, recall: 0.700, spec: 0.735\n",
      "func:'rf_models'  took: 0.1519 sec\n",
      "\n",
      "NEK1 NEK9_inhibition_MFP_none_scaled_BRFC_BCW\n"
     ]
    },
    {
     "name": "stderr",
     "output_type": "stream",
     "text": [
      "/Users/jayceepang/miniconda3/envs/ATOM_CODE/lib/python3.9/site-packages/imblearn/ensemble/_forest.py:577: FutureWarning: The default of `sampling_strategy` will change from `'auto'` to `'all'` in version 0.13. This change will follow the implementation proposed in the original paper. Set to `'all'` to silence this warning and adopt the future behaviour.\n",
      "  warn(\n",
      "/Users/jayceepang/miniconda3/envs/ATOM_CODE/lib/python3.9/site-packages/imblearn/ensemble/_forest.py:589: FutureWarning: The default of `replacement` will change from `False` to `True` in version 0.13. This change will follow the implementation proposed in the original paper. Set to `True` to silence this warning and adopt the future behaviour.\n",
      "  warn(\n",
      "/Users/jayceepang/miniconda3/envs/ATOM_CODE/lib/python3.9/site-packages/imblearn/ensemble/_forest.py:577: FutureWarning: The default of `sampling_strategy` will change from `'auto'` to `'all'` in version 0.13. This change will follow the implementation proposed in the original paper. Set to `'all'` to silence this warning and adopt the future behaviour.\n",
      "  warn(\n",
      "/Users/jayceepang/miniconda3/envs/ATOM_CODE/lib/python3.9/site-packages/imblearn/ensemble/_forest.py:589: FutureWarning: The default of `replacement` will change from `False` to `True` in version 0.13. This change will follow the implementation proposed in the original paper. Set to `True` to silence this warning and adopt the future behaviour.\n",
      "  warn(\n"
     ]
    },
    {
     "name": "stdout",
     "output_type": "stream",
     "text": [
      "TRAIN: acc: 0.898, precision: 0.508, recall: 1.000, spec: 0.886\n",
      "TEST: acc: 0.660, precision: 0.058, recall: 0.233, spec: 0.695\n",
      "func:'rf_models'  took: 0.1686 sec\n",
      "\n",
      "NEK1 NEK9_inhibition_MFP_UNDER_RF\n",
      "TRAIN: acc: 1.000, precision: 1.000, recall: 1.000, spec: 1.000\n",
      "TEST: acc: 0.512, precision: 0.098, recall: 0.667, spec: 0.500\n",
      "func:'rf_models'  took: 0.1013 sec\n",
      "\n",
      "NEK1 NEK9_inhibition_MFP_UNDER_RF_BCW\n",
      "TRAIN: acc: 1.000, precision: 1.000, recall: 1.000, spec: 1.000\n",
      "TEST: acc: 0.515, precision: 0.098, recall: 0.667, spec: 0.503\n",
      "func:'rf_models'  took: 0.1049 sec\n",
      "\n",
      "NEK1 NEK9_inhibition_MFP_UNDER_BRFC\n"
     ]
    },
    {
     "name": "stderr",
     "output_type": "stream",
     "text": [
      "/Users/jayceepang/miniconda3/envs/ATOM_CODE/lib/python3.9/site-packages/imblearn/ensemble/_forest.py:577: FutureWarning: The default of `sampling_strategy` will change from `'auto'` to `'all'` in version 0.13. This change will follow the implementation proposed in the original paper. Set to `'all'` to silence this warning and adopt the future behaviour.\n",
      "  warn(\n",
      "/Users/jayceepang/miniconda3/envs/ATOM_CODE/lib/python3.9/site-packages/imblearn/ensemble/_forest.py:589: FutureWarning: The default of `replacement` will change from `False` to `True` in version 0.13. This change will follow the implementation proposed in the original paper. Set to `True` to silence this warning and adopt the future behaviour.\n",
      "  warn(\n"
     ]
    },
    {
     "name": "stdout",
     "output_type": "stream",
     "text": [
      "TRAIN: acc: 1.000, precision: 1.000, recall: 1.000, spec: 1.000\n",
      "TEST: acc: 0.485, precision: 0.096, recall: 0.700, spec: 0.468\n",
      "func:'rf_models'  took: 0.2458 sec\n",
      "\n",
      "NEK1 NEK9_inhibition_MFP_UNDER_BRFC_BCW\n",
      "TRAIN: acc: 1.000, precision: 1.000, recall: 1.000, spec: 1.000\n",
      "TEST: acc: 0.510, precision: 0.097, recall: 0.667, spec: 0.497\n",
      "func:'rf_models'  took: 0.1502 sec\n",
      "\n"
     ]
    },
    {
     "name": "stderr",
     "output_type": "stream",
     "text": [
      "/Users/jayceepang/miniconda3/envs/ATOM_CODE/lib/python3.9/site-packages/imblearn/ensemble/_forest.py:577: FutureWarning: The default of `sampling_strategy` will change from `'auto'` to `'all'` in version 0.13. This change will follow the implementation proposed in the original paper. Set to `'all'` to silence this warning and adopt the future behaviour.\n",
      "  warn(\n",
      "/Users/jayceepang/miniconda3/envs/ATOM_CODE/lib/python3.9/site-packages/imblearn/ensemble/_forest.py:589: FutureWarning: The default of `replacement` will change from `False` to `True` in version 0.13. This change will follow the implementation proposed in the original paper. Set to `True` to silence this warning and adopt the future behaviour.\n",
      "  warn(\n"
     ]
    },
    {
     "name": "stdout",
     "output_type": "stream",
     "text": [
      "NEK1 NEK9_inhibition_MFP_SMOTE_RF\n",
      "TRAIN: acc: 0.998, precision: 1.000, recall: 0.996, spec: 1.000\n",
      "TEST: acc: 0.807, precision: 0.224, recall: 0.633, spec: 0.822\n",
      "func:'rf_models'  took: 0.5745 sec\n",
      "\n",
      "NEK1 NEK9_inhibition_MFP_SMOTE_RF_BCW\n",
      "TRAIN: acc: 0.998, precision: 1.000, recall: 0.996, spec: 1.000\n",
      "TEST: acc: 0.807, precision: 0.230, recall: 0.667, spec: 0.819\n",
      "func:'rf_models'  took: 0.5773 sec\n",
      "\n",
      "NEK1 NEK9_inhibition_MFP_SMOTE_BRFC\n"
     ]
    },
    {
     "name": "stderr",
     "output_type": "stream",
     "text": [
      "/Users/jayceepang/miniconda3/envs/ATOM_CODE/lib/python3.9/site-packages/imblearn/ensemble/_forest.py:577: FutureWarning: The default of `sampling_strategy` will change from `'auto'` to `'all'` in version 0.13. This change will follow the implementation proposed in the original paper. Set to `'all'` to silence this warning and adopt the future behaviour.\n",
      "  warn(\n",
      "/Users/jayceepang/miniconda3/envs/ATOM_CODE/lib/python3.9/site-packages/imblearn/ensemble/_forest.py:589: FutureWarning: The default of `replacement` will change from `False` to `True` in version 0.13. This change will follow the implementation proposed in the original paper. Set to `True` to silence this warning and adopt the future behaviour.\n",
      "  warn(\n"
     ]
    },
    {
     "name": "stdout",
     "output_type": "stream",
     "text": [
      "TRAIN: acc: 0.998, precision: 1.000, recall: 0.996, spec: 1.000\n",
      "TEST: acc: 0.810, precision: 0.233, recall: 0.667, spec: 0.822\n",
      "func:'rf_models'  took: 0.9272 sec\n",
      "\n",
      "NEK1 NEK9_inhibition_MFP_SMOTE_BRFC_BCW\n"
     ]
    },
    {
     "name": "stderr",
     "output_type": "stream",
     "text": [
      "/Users/jayceepang/miniconda3/envs/ATOM_CODE/lib/python3.9/site-packages/imblearn/ensemble/_forest.py:577: FutureWarning: The default of `sampling_strategy` will change from `'auto'` to `'all'` in version 0.13. This change will follow the implementation proposed in the original paper. Set to `'all'` to silence this warning and adopt the future behaviour.\n",
      "  warn(\n",
      "/Users/jayceepang/miniconda3/envs/ATOM_CODE/lib/python3.9/site-packages/imblearn/ensemble/_forest.py:589: FutureWarning: The default of `replacement` will change from `False` to `True` in version 0.13. This change will follow the implementation proposed in the original paper. Set to `True` to silence this warning and adopt the future behaviour.\n",
      "  warn(\n"
     ]
    },
    {
     "name": "stdout",
     "output_type": "stream",
     "text": [
      "TRAIN: acc: 0.998, precision: 1.000, recall: 0.996, spec: 1.000\n",
      "TEST: acc: 0.815, precision: 0.238, recall: 0.667, spec: 0.827\n",
      "func:'rf_models'  took: 0.9146 sec\n",
      "\n",
      "NEK1 NEK9_inhibition_MFP_ADASYN_RF\n",
      "TRAIN: acc: 0.998, precision: 1.000, recall: 0.996, spec: 1.000\n",
      "TEST: acc: 0.833, precision: 0.000, recall: 0.000, spec: 0.900\n",
      "func:'rf_models'  took: 0.6005 sec\n",
      "\n",
      "NEK1 NEK9_inhibition_MFP_ADASYN_RF_BCW\n",
      "TRAIN: acc: 0.998, precision: 0.996, recall: 1.000, spec: 0.996\n",
      "TEST: acc: 0.840, precision: 0.000, recall: 0.000, spec: 0.908\n",
      "func:'rf_models'  took: 0.6321 sec\n",
      "\n",
      "NEK1 NEK9_inhibition_MFP_ADASYN_BRFC\n"
     ]
    },
    {
     "name": "stderr",
     "output_type": "stream",
     "text": [
      "/Users/jayceepang/miniconda3/envs/ATOM_CODE/lib/python3.9/site-packages/imblearn/ensemble/_forest.py:577: FutureWarning: The default of `sampling_strategy` will change from `'auto'` to `'all'` in version 0.13. This change will follow the implementation proposed in the original paper. Set to `'all'` to silence this warning and adopt the future behaviour.\n",
      "  warn(\n",
      "/Users/jayceepang/miniconda3/envs/ATOM_CODE/lib/python3.9/site-packages/imblearn/ensemble/_forest.py:589: FutureWarning: The default of `replacement` will change from `False` to `True` in version 0.13. This change will follow the implementation proposed in the original paper. Set to `True` to silence this warning and adopt the future behaviour.\n",
      "  warn(\n"
     ]
    },
    {
     "name": "stdout",
     "output_type": "stream",
     "text": [
      "TRAIN: acc: 0.998, precision: 0.996, recall: 1.000, spec: 0.996\n",
      "TEST: acc: 0.828, precision: 0.000, recall: 0.000, spec: 0.895\n",
      "func:'rf_models'  took: 0.9089 sec\n",
      "\n",
      "NEK1 NEK9_inhibition_MFP_ADASYN_BRFC_BCW\n"
     ]
    },
    {
     "name": "stderr",
     "output_type": "stream",
     "text": [
      "/Users/jayceepang/miniconda3/envs/ATOM_CODE/lib/python3.9/site-packages/imblearn/ensemble/_forest.py:577: FutureWarning: The default of `sampling_strategy` will change from `'auto'` to `'all'` in version 0.13. This change will follow the implementation proposed in the original paper. Set to `'all'` to silence this warning and adopt the future behaviour.\n",
      "  warn(\n",
      "/Users/jayceepang/miniconda3/envs/ATOM_CODE/lib/python3.9/site-packages/imblearn/ensemble/_forest.py:589: FutureWarning: The default of `replacement` will change from `False` to `True` in version 0.13. This change will follow the implementation proposed in the original paper. Set to `True` to silence this warning and adopt the future behaviour.\n",
      "  warn(\n"
     ]
    },
    {
     "name": "stdout",
     "output_type": "stream",
     "text": [
      "TRAIN: acc: 0.998, precision: 0.996, recall: 1.000, spec: 0.996\n",
      "TEST: acc: 0.845, precision: 0.000, recall: 0.000, spec: 0.914\n",
      "func:'rf_models'  took: 0.9599 sec\n",
      "\n",
      "NEK11 NEK2_binding_MFP_none_scaled_RF\n",
      "TRAIN: acc: 1.000, precision: 1.000, recall: 1.000, spec: 1.000\n",
      "TEST: acc: 0.835, precision: 0.000, recall: 0.000, spec: 0.839\n",
      "func:'rf_models'  took: 5.7398 sec\n",
      "\n",
      "NEK11 NEK2_binding_MFP_none_scaled_RF_BCW\n",
      "TRAIN: acc: 1.000, precision: 1.000, recall: 1.000, spec: 1.000\n",
      "TEST: acc: 0.838, precision: 0.015, recall: 0.500, spec: 0.839\n",
      "func:'rf_models'  took: 2.6927 sec\n",
      "\n",
      "NEK11 NEK2_binding_MFP_none_scaled_BRFC\n"
     ]
    },
    {
     "name": "stderr",
     "output_type": "stream",
     "text": [
      "/Users/jayceepang/miniconda3/envs/ATOM_CODE/lib/python3.9/site-packages/imblearn/ensemble/_forest.py:577: FutureWarning: The default of `sampling_strategy` will change from `'auto'` to `'all'` in version 0.13. This change will follow the implementation proposed in the original paper. Set to `'all'` to silence this warning and adopt the future behaviour.\n",
      "  warn(\n",
      "/Users/jayceepang/miniconda3/envs/ATOM_CODE/lib/python3.9/site-packages/imblearn/ensemble/_forest.py:589: FutureWarning: The default of `replacement` will change from `False` to `True` in version 0.13. This change will follow the implementation proposed in the original paper. Set to `True` to silence this warning and adopt the future behaviour.\n",
      "  warn(\n"
     ]
    },
    {
     "name": "stdout",
     "output_type": "stream",
     "text": [
      "TRAIN: acc: 0.842, precision: 0.202, recall: 1.000, spec: 0.835\n",
      "TEST: acc: 0.323, precision: 0.004, recall: 0.500, spec: 0.322\n",
      "func:'rf_models'  took: 0.2845 sec\n",
      "\n",
      "NEK11 NEK2_binding_MFP_none_scaled_BRFC_BCW\n"
     ]
    },
    {
     "name": "stderr",
     "output_type": "stream",
     "text": [
      "/Users/jayceepang/miniconda3/envs/ATOM_CODE/lib/python3.9/site-packages/imblearn/ensemble/_forest.py:577: FutureWarning: The default of `sampling_strategy` will change from `'auto'` to `'all'` in version 0.13. This change will follow the implementation proposed in the original paper. Set to `'all'` to silence this warning and adopt the future behaviour.\n",
      "  warn(\n",
      "/Users/jayceepang/miniconda3/envs/ATOM_CODE/lib/python3.9/site-packages/imblearn/ensemble/_forest.py:589: FutureWarning: The default of `replacement` will change from `False` to `True` in version 0.13. This change will follow the implementation proposed in the original paper. Set to `True` to silence this warning and adopt the future behaviour.\n",
      "  warn(\n"
     ]
    },
    {
     "name": "stdout",
     "output_type": "stream",
     "text": [
      "TRAIN: acc: 0.531, precision: 0.079, recall: 1.000, spec: 0.511\n",
      "TEST: acc: 0.810, precision: 0.000, recall: 0.000, spec: 0.814\n",
      "func:'rf_models'  took: 0.4917 sec\n",
      "\n",
      "NEK11 NEK2_binding_MFP_UNDER_RF\n",
      "TRAIN: acc: 1.000, precision: 1.000, recall: 1.000, spec: 1.000\n",
      "TEST: acc: 0.405, precision: 0.004, recall: 0.500, spec: 0.405\n",
      "func:'rf_models'  took: 0.2033 sec\n",
      "\n",
      "NEK11 NEK2_binding_MFP_UNDER_RF_BCW\n",
      "TRAIN: acc: 1.000, precision: 1.000, recall: 1.000, spec: 1.000\n",
      "TEST: acc: 0.407, precision: 0.004, recall: 0.500, spec: 0.407\n",
      "func:'rf_models'  took: 0.2092 sec\n",
      "\n",
      "NEK11 NEK2_binding_MFP_UNDER_BRFC\n"
     ]
    },
    {
     "name": "stderr",
     "output_type": "stream",
     "text": [
      "/Users/jayceepang/miniconda3/envs/ATOM_CODE/lib/python3.9/site-packages/imblearn/ensemble/_forest.py:577: FutureWarning: The default of `sampling_strategy` will change from `'auto'` to `'all'` in version 0.13. This change will follow the implementation proposed in the original paper. Set to `'all'` to silence this warning and adopt the future behaviour.\n",
      "  warn(\n",
      "/Users/jayceepang/miniconda3/envs/ATOM_CODE/lib/python3.9/site-packages/imblearn/ensemble/_forest.py:589: FutureWarning: The default of `replacement` will change from `False` to `True` in version 0.13. This change will follow the implementation proposed in the original paper. Set to `True` to silence this warning and adopt the future behaviour.\n",
      "  warn(\n"
     ]
    },
    {
     "name": "stdout",
     "output_type": "stream",
     "text": [
      "TRAIN: acc: 1.000, precision: 1.000, recall: 1.000, spec: 1.000\n",
      "TEST: acc: 0.412, precision: 0.004, recall: 0.500, spec: 0.412\n",
      "func:'rf_models'  took: 0.2639 sec\n",
      "\n",
      "NEK11 NEK2_binding_MFP_UNDER_BRFC_BCW\n"
     ]
    },
    {
     "name": "stderr",
     "output_type": "stream",
     "text": [
      "/Users/jayceepang/miniconda3/envs/ATOM_CODE/lib/python3.9/site-packages/imblearn/ensemble/_forest.py:577: FutureWarning: The default of `sampling_strategy` will change from `'auto'` to `'all'` in version 0.13. This change will follow the implementation proposed in the original paper. Set to `'all'` to silence this warning and adopt the future behaviour.\n",
      "  warn(\n",
      "/Users/jayceepang/miniconda3/envs/ATOM_CODE/lib/python3.9/site-packages/imblearn/ensemble/_forest.py:589: FutureWarning: The default of `replacement` will change from `False` to `True` in version 0.13. This change will follow the implementation proposed in the original paper. Set to `True` to silence this warning and adopt the future behaviour.\n",
      "  warn(\n"
     ]
    },
    {
     "name": "stdout",
     "output_type": "stream",
     "text": [
      "TRAIN: acc: 1.000, precision: 1.000, recall: 1.000, spec: 1.000\n",
      "TEST: acc: 0.407, precision: 0.004, recall: 0.500, spec: 0.407\n",
      "func:'rf_models'  took: 0.2672 sec\n",
      "\n",
      "NEK11 NEK2_binding_MFP_SMOTE_RF\n",
      "TRAIN: acc: 1.000, precision: 1.000, recall: 1.000, spec: 1.000\n",
      "TEST: acc: 0.905, precision: 0.000, recall: 0.000, spec: 0.910\n",
      "func:'rf_models'  took: 5.5779 sec\n",
      "\n",
      "NEK11 NEK2_binding_MFP_SMOTE_RF_BCW\n",
      "TRAIN: acc: 1.000, precision: 1.000, recall: 1.000, spec: 1.000\n",
      "TEST: acc: 0.897, precision: 0.000, recall: 0.000, spec: 0.902\n",
      "func:'rf_models'  took: 5.4957 sec\n",
      "\n",
      "NEK11 NEK2_binding_MFP_SMOTE_BRFC\n"
     ]
    },
    {
     "name": "stderr",
     "output_type": "stream",
     "text": [
      "/Users/jayceepang/miniconda3/envs/ATOM_CODE/lib/python3.9/site-packages/imblearn/ensemble/_forest.py:577: FutureWarning: The default of `sampling_strategy` will change from `'auto'` to `'all'` in version 0.13. This change will follow the implementation proposed in the original paper. Set to `'all'` to silence this warning and adopt the future behaviour.\n",
      "  warn(\n",
      "/Users/jayceepang/miniconda3/envs/ATOM_CODE/lib/python3.9/site-packages/imblearn/ensemble/_forest.py:589: FutureWarning: The default of `replacement` will change from `False` to `True` in version 0.13. This change will follow the implementation proposed in the original paper. Set to `True` to silence this warning and adopt the future behaviour.\n",
      "  warn(\n"
     ]
    },
    {
     "name": "stdout",
     "output_type": "stream",
     "text": [
      "TRAIN: acc: 1.000, precision: 1.000, recall: 1.000, spec: 1.000\n",
      "TEST: acc: 0.897, precision: 0.000, recall: 0.000, spec: 0.902\n",
      "func:'rf_models'  took: 10.4120 sec\n",
      "\n",
      "NEK11 NEK2_binding_MFP_SMOTE_BRFC_BCW\n"
     ]
    },
    {
     "name": "stderr",
     "output_type": "stream",
     "text": [
      "/Users/jayceepang/miniconda3/envs/ATOM_CODE/lib/python3.9/site-packages/imblearn/ensemble/_forest.py:577: FutureWarning: The default of `sampling_strategy` will change from `'auto'` to `'all'` in version 0.13. This change will follow the implementation proposed in the original paper. Set to `'all'` to silence this warning and adopt the future behaviour.\n",
      "  warn(\n",
      "/Users/jayceepang/miniconda3/envs/ATOM_CODE/lib/python3.9/site-packages/imblearn/ensemble/_forest.py:589: FutureWarning: The default of `replacement` will change from `False` to `True` in version 0.13. This change will follow the implementation proposed in the original paper. Set to `True` to silence this warning and adopt the future behaviour.\n",
      "  warn(\n"
     ]
    },
    {
     "name": "stdout",
     "output_type": "stream",
     "text": [
      "TRAIN: acc: 1.000, precision: 1.000, recall: 1.000, spec: 1.000\n",
      "TEST: acc: 0.887, precision: 0.000, recall: 0.000, spec: 0.892\n",
      "func:'rf_models'  took: 10.4788 sec\n",
      "\n",
      "NEK11 NEK2_binding_MFP_ADASYN_RF\n",
      "TRAIN: acc: 1.000, precision: 1.000, recall: 1.000, spec: 1.000\n",
      "TEST: acc: 0.873, precision: 0.000, recall: 0.000, spec: 0.877\n",
      "func:'rf_models'  took: 3.8650 sec\n",
      "\n",
      "NEK11 NEK2_binding_MFP_ADASYN_RF_BCW\n",
      "TRAIN: acc: 1.000, precision: 1.000, recall: 1.000, spec: 1.000\n",
      "TEST: acc: 0.845, precision: 0.000, recall: 0.000, spec: 0.849\n",
      "func:'rf_models'  took: 3.7838 sec\n",
      "\n",
      "NEK11 NEK2_binding_MFP_ADASYN_BRFC\n"
     ]
    },
    {
     "name": "stderr",
     "output_type": "stream",
     "text": [
      "/Users/jayceepang/miniconda3/envs/ATOM_CODE/lib/python3.9/site-packages/imblearn/ensemble/_forest.py:577: FutureWarning: The default of `sampling_strategy` will change from `'auto'` to `'all'` in version 0.13. This change will follow the implementation proposed in the original paper. Set to `'all'` to silence this warning and adopt the future behaviour.\n",
      "  warn(\n",
      "/Users/jayceepang/miniconda3/envs/ATOM_CODE/lib/python3.9/site-packages/imblearn/ensemble/_forest.py:589: FutureWarning: The default of `replacement` will change from `False` to `True` in version 0.13. This change will follow the implementation proposed in the original paper. Set to `True` to silence this warning and adopt the future behaviour.\n",
      "  warn(\n"
     ]
    },
    {
     "name": "stdout",
     "output_type": "stream",
     "text": [
      "TRAIN: acc: 1.000, precision: 1.000, recall: 1.000, spec: 1.000\n",
      "TEST: acc: 0.855, precision: 0.000, recall: 0.000, spec: 0.859\n",
      "func:'rf_models'  took: 6.7455 sec\n",
      "\n",
      "NEK11 NEK2_binding_MFP_ADASYN_BRFC_BCW\n"
     ]
    },
    {
     "name": "stderr",
     "output_type": "stream",
     "text": [
      "/Users/jayceepang/miniconda3/envs/ATOM_CODE/lib/python3.9/site-packages/imblearn/ensemble/_forest.py:577: FutureWarning: The default of `sampling_strategy` will change from `'auto'` to `'all'` in version 0.13. This change will follow the implementation proposed in the original paper. Set to `'all'` to silence this warning and adopt the future behaviour.\n",
      "  warn(\n",
      "/Users/jayceepang/miniconda3/envs/ATOM_CODE/lib/python3.9/site-packages/imblearn/ensemble/_forest.py:589: FutureWarning: The default of `replacement` will change from `False` to `True` in version 0.13. This change will follow the implementation proposed in the original paper. Set to `True` to silence this warning and adopt the future behaviour.\n",
      "  warn(\n"
     ]
    },
    {
     "name": "stdout",
     "output_type": "stream",
     "text": [
      "TRAIN: acc: 1.000, precision: 1.000, recall: 1.000, spec: 1.000\n",
      "TEST: acc: 0.875, precision: 0.000, recall: 0.000, spec: 0.879\n",
      "func:'rf_models'  took: 6.7649 sec\n",
      "\n",
      "NEK11 NEK2_inhibition_MFP_none_scaled_RF\n",
      "TRAIN: acc: 0.998, precision: 1.000, recall: 0.973, spec: 1.000\n",
      "TEST: acc: 0.603, precision: 0.006, recall: 0.500, spec: 0.603\n",
      "func:'rf_models'  took: 8.0271 sec\n",
      "\n",
      "NEK11 NEK2_inhibition_MFP_none_scaled_RF_BCW\n",
      "TRAIN: acc: 0.998, precision: 0.974, recall: 1.000, spec: 0.998\n",
      "TEST: acc: 0.713, precision: 0.009, recall: 0.500, spec: 0.714\n",
      "func:'rf_models'  took: 4.2139 sec\n",
      "\n",
      "NEK11 NEK2_inhibition_MFP_none_scaled_BRFC\n"
     ]
    },
    {
     "name": "stderr",
     "output_type": "stream",
     "text": [
      "/Users/jayceepang/miniconda3/envs/ATOM_CODE/lib/python3.9/site-packages/imblearn/ensemble/_forest.py:577: FutureWarning: The default of `sampling_strategy` will change from `'auto'` to `'all'` in version 0.13. This change will follow the implementation proposed in the original paper. Set to `'all'` to silence this warning and adopt the future behaviour.\n",
      "  warn(\n",
      "/Users/jayceepang/miniconda3/envs/ATOM_CODE/lib/python3.9/site-packages/imblearn/ensemble/_forest.py:589: FutureWarning: The default of `replacement` will change from `False` to `True` in version 0.13. This change will follow the implementation proposed in the original paper. Set to `True` to silence this warning and adopt the future behaviour.\n",
      "  warn(\n"
     ]
    },
    {
     "name": "stdout",
     "output_type": "stream",
     "text": [
      "TRAIN: acc: 0.920, precision: 0.463, recall: 1.000, spec: 0.914\n",
      "TEST: acc: 0.350, precision: 0.004, recall: 0.500, spec: 0.349\n",
      "func:'rf_models'  took: 0.6321 sec\n",
      "\n",
      "NEK11 NEK2_inhibition_MFP_none_scaled_BRFC_BCW\n"
     ]
    },
    {
     "name": "stderr",
     "output_type": "stream",
     "text": [
      "/Users/jayceepang/miniconda3/envs/ATOM_CODE/lib/python3.9/site-packages/imblearn/ensemble/_forest.py:577: FutureWarning: The default of `sampling_strategy` will change from `'auto'` to `'all'` in version 0.13. This change will follow the implementation proposed in the original paper. Set to `'all'` to silence this warning and adopt the future behaviour.\n",
      "  warn(\n",
      "/Users/jayceepang/miniconda3/envs/ATOM_CODE/lib/python3.9/site-packages/imblearn/ensemble/_forest.py:589: FutureWarning: The default of `replacement` will change from `False` to `True` in version 0.13. This change will follow the implementation proposed in the original paper. Set to `True` to silence this warning and adopt the future behaviour.\n",
      "  warn(\n"
     ]
    },
    {
     "name": "stdout",
     "output_type": "stream",
     "text": [
      "TRAIN: acc: 0.772, precision: 0.232, recall: 1.000, spec: 0.755\n",
      "TEST: acc: 0.938, precision: 0.000, recall: 0.000, spec: 0.942\n",
      "func:'rf_models'  took: 1.2913 sec\n",
      "\n",
      "NEK11 NEK2_inhibition_MFP_UNDER_RF\n",
      "TRAIN: acc: 0.996, precision: 0.991, recall: 1.000, spec: 0.991\n",
      "TEST: acc: 0.360, precision: 0.004, recall: 0.500, spec: 0.359\n",
      "func:'rf_models'  took: 0.4667 sec\n",
      "\n",
      "NEK11 NEK2_inhibition_MFP_UNDER_RF_BCW\n",
      "TRAIN: acc: 0.996, precision: 0.991, recall: 1.000, spec: 0.991\n",
      "TEST: acc: 0.357, precision: 0.004, recall: 0.500, spec: 0.357\n",
      "func:'rf_models'  took: 0.4719 sec\n",
      "\n",
      "NEK11 NEK2_inhibition_MFP_UNDER_BRFC\n"
     ]
    },
    {
     "name": "stderr",
     "output_type": "stream",
     "text": [
      "/Users/jayceepang/miniconda3/envs/ATOM_CODE/lib/python3.9/site-packages/imblearn/ensemble/_forest.py:577: FutureWarning: The default of `sampling_strategy` will change from `'auto'` to `'all'` in version 0.13. This change will follow the implementation proposed in the original paper. Set to `'all'` to silence this warning and adopt the future behaviour.\n",
      "  warn(\n",
      "/Users/jayceepang/miniconda3/envs/ATOM_CODE/lib/python3.9/site-packages/imblearn/ensemble/_forest.py:589: FutureWarning: The default of `replacement` will change from `False` to `True` in version 0.13. This change will follow the implementation proposed in the original paper. Set to `True` to silence this warning and adopt the future behaviour.\n",
      "  warn(\n"
     ]
    },
    {
     "name": "stdout",
     "output_type": "stream",
     "text": [
      "TRAIN: acc: 0.996, precision: 0.991, recall: 1.000, spec: 0.991\n",
      "TEST: acc: 0.340, precision: 0.004, recall: 0.500, spec: 0.339\n",
      "func:'rf_models'  took: 0.6192 sec\n",
      "\n",
      "NEK11 NEK2_inhibition_MFP_UNDER_BRFC_BCW\n"
     ]
    },
    {
     "name": "stderr",
     "output_type": "stream",
     "text": [
      "/Users/jayceepang/miniconda3/envs/ATOM_CODE/lib/python3.9/site-packages/imblearn/ensemble/_forest.py:577: FutureWarning: The default of `sampling_strategy` will change from `'auto'` to `'all'` in version 0.13. This change will follow the implementation proposed in the original paper. Set to `'all'` to silence this warning and adopt the future behaviour.\n",
      "  warn(\n",
      "/Users/jayceepang/miniconda3/envs/ATOM_CODE/lib/python3.9/site-packages/imblearn/ensemble/_forest.py:589: FutureWarning: The default of `replacement` will change from `False` to `True` in version 0.13. This change will follow the implementation proposed in the original paper. Set to `True` to silence this warning and adopt the future behaviour.\n",
      "  warn(\n"
     ]
    },
    {
     "name": "stdout",
     "output_type": "stream",
     "text": [
      "TRAIN: acc: 0.996, precision: 0.991, recall: 1.000, spec: 0.991\n",
      "TEST: acc: 0.350, precision: 0.004, recall: 0.500, spec: 0.349\n",
      "func:'rf_models'  took: 0.6247 sec\n",
      "\n",
      "NEK11 NEK2_inhibition_MFP_SMOTE_RF\n",
      "TRAIN: acc: 0.999, precision: 0.999, recall: 0.999, spec: 0.999\n",
      "TEST: acc: 0.787, precision: 0.000, recall: 0.000, spec: 0.791\n",
      "func:'rf_models'  took: 5.9677 sec\n",
      "\n",
      "NEK11 NEK2_inhibition_MFP_SMOTE_RF_BCW\n",
      "TRAIN: acc: 0.999, precision: 0.999, recall: 0.999, spec: 0.999\n",
      "TEST: acc: 0.800, precision: 0.000, recall: 0.000, spec: 0.804\n",
      "func:'rf_models'  took: 6.0595 sec\n",
      "\n",
      "NEK11 NEK2_inhibition_MFP_SMOTE_BRFC\n"
     ]
    },
    {
     "name": "stderr",
     "output_type": "stream",
     "text": [
      "/Users/jayceepang/miniconda3/envs/ATOM_CODE/lib/python3.9/site-packages/imblearn/ensemble/_forest.py:577: FutureWarning: The default of `sampling_strategy` will change from `'auto'` to `'all'` in version 0.13. This change will follow the implementation proposed in the original paper. Set to `'all'` to silence this warning and adopt the future behaviour.\n",
      "  warn(\n",
      "/Users/jayceepang/miniconda3/envs/ATOM_CODE/lib/python3.9/site-packages/imblearn/ensemble/_forest.py:589: FutureWarning: The default of `replacement` will change from `False` to `True` in version 0.13. This change will follow the implementation proposed in the original paper. Set to `True` to silence this warning and adopt the future behaviour.\n",
      "  warn(\n"
     ]
    },
    {
     "name": "stdout",
     "output_type": "stream",
     "text": [
      "TRAIN: acc: 0.999, precision: 0.999, recall: 0.999, spec: 0.999\n",
      "TEST: acc: 0.780, precision: 0.000, recall: 0.000, spec: 0.784\n",
      "func:'rf_models'  took: 11.3374 sec\n",
      "\n",
      "NEK11 NEK2_inhibition_MFP_SMOTE_BRFC_BCW\n"
     ]
    },
    {
     "name": "stderr",
     "output_type": "stream",
     "text": [
      "/Users/jayceepang/miniconda3/envs/ATOM_CODE/lib/python3.9/site-packages/imblearn/ensemble/_forest.py:577: FutureWarning: The default of `sampling_strategy` will change from `'auto'` to `'all'` in version 0.13. This change will follow the implementation proposed in the original paper. Set to `'all'` to silence this warning and adopt the future behaviour.\n",
      "  warn(\n",
      "/Users/jayceepang/miniconda3/envs/ATOM_CODE/lib/python3.9/site-packages/imblearn/ensemble/_forest.py:589: FutureWarning: The default of `replacement` will change from `False` to `True` in version 0.13. This change will follow the implementation proposed in the original paper. Set to `True` to silence this warning and adopt the future behaviour.\n",
      "  warn(\n"
     ]
    },
    {
     "name": "stdout",
     "output_type": "stream",
     "text": [
      "TRAIN: acc: 0.999, precision: 0.999, recall: 0.999, spec: 0.999\n",
      "TEST: acc: 0.812, precision: 0.000, recall: 0.000, spec: 0.817\n",
      "func:'rf_models'  took: 11.8858 sec\n",
      "\n",
      "NEK11 NEK2_inhibition_MFP_ADASYN_RF\n",
      "TRAIN: acc: 0.999, precision: 0.999, recall: 0.999, spec: 0.999\n",
      "TEST: acc: 0.733, precision: 0.000, recall: 0.000, spec: 0.736\n",
      "func:'rf_models'  took: 7.9489 sec\n",
      "\n",
      "NEK11 NEK2_inhibition_MFP_ADASYN_RF_BCW\n",
      "TRAIN: acc: 0.999, precision: 0.999, recall: 0.999, spec: 0.999\n",
      "TEST: acc: 0.845, precision: 0.000, recall: 0.000, spec: 0.849\n",
      "func:'rf_models'  took: 8.2231 sec\n",
      "\n",
      "NEK11 NEK2_inhibition_MFP_ADASYN_BRFC\n"
     ]
    },
    {
     "name": "stderr",
     "output_type": "stream",
     "text": [
      "/Users/jayceepang/miniconda3/envs/ATOM_CODE/lib/python3.9/site-packages/imblearn/ensemble/_forest.py:577: FutureWarning: The default of `sampling_strategy` will change from `'auto'` to `'all'` in version 0.13. This change will follow the implementation proposed in the original paper. Set to `'all'` to silence this warning and adopt the future behaviour.\n",
      "  warn(\n",
      "/Users/jayceepang/miniconda3/envs/ATOM_CODE/lib/python3.9/site-packages/imblearn/ensemble/_forest.py:589: FutureWarning: The default of `replacement` will change from `False` to `True` in version 0.13. This change will follow the implementation proposed in the original paper. Set to `True` to silence this warning and adopt the future behaviour.\n",
      "  warn(\n"
     ]
    },
    {
     "name": "stdout",
     "output_type": "stream",
     "text": [
      "TRAIN: acc: 0.999, precision: 0.999, recall: 0.999, spec: 0.999\n",
      "TEST: acc: 0.735, precision: 0.000, recall: 0.000, spec: 0.739\n",
      "func:'rf_models'  took: 15.5976 sec\n",
      "\n",
      "NEK11 NEK2_inhibition_MFP_ADASYN_BRFC_BCW\n"
     ]
    },
    {
     "name": "stderr",
     "output_type": "stream",
     "text": [
      "/Users/jayceepang/miniconda3/envs/ATOM_CODE/lib/python3.9/site-packages/imblearn/ensemble/_forest.py:577: FutureWarning: The default of `sampling_strategy` will change from `'auto'` to `'all'` in version 0.13. This change will follow the implementation proposed in the original paper. Set to `'all'` to silence this warning and adopt the future behaviour.\n",
      "  warn(\n",
      "/Users/jayceepang/miniconda3/envs/ATOM_CODE/lib/python3.9/site-packages/imblearn/ensemble/_forest.py:589: FutureWarning: The default of `replacement` will change from `False` to `True` in version 0.13. This change will follow the implementation proposed in the original paper. Set to `True` to silence this warning and adopt the future behaviour.\n",
      "  warn(\n"
     ]
    },
    {
     "name": "stdout",
     "output_type": "stream",
     "text": [
      "TRAIN: acc: 0.999, precision: 0.999, recall: 0.999, spec: 0.999\n",
      "TEST: acc: 0.853, precision: 0.000, recall: 0.000, spec: 0.857\n",
      "func:'rf_models'  took: 15.8785 sec\n",
      "\n",
      "NEK11 NEK3_binding_MFP_none_scaled_RF\n",
      "TRAIN: acc: 0.998, precision: 1.000, recall: 0.969, spec: 1.000\n",
      "TEST: acc: 0.610, precision: 0.000, recall: 0.000, spec: 0.613\n",
      "func:'rf_models'  took: 5.7185 sec\n",
      "\n",
      "NEK11 NEK3_binding_MFP_none_scaled_RF_BCW\n",
      "TRAIN: acc: 0.998, precision: 0.970, recall: 1.000, spec: 0.998\n",
      "TEST: acc: 0.902, precision: 0.000, recall: 0.000, spec: 0.907\n",
      "func:'rf_models'  took: 2.5704 sec\n",
      "\n",
      "NEK11 NEK3_binding_MFP_none_scaled_BRFC\n"
     ]
    },
    {
     "name": "stderr",
     "output_type": "stream",
     "text": [
      "/Users/jayceepang/miniconda3/envs/ATOM_CODE/lib/python3.9/site-packages/imblearn/ensemble/_forest.py:577: FutureWarning: The default of `sampling_strategy` will change from `'auto'` to `'all'` in version 0.13. This change will follow the implementation proposed in the original paper. Set to `'all'` to silence this warning and adopt the future behaviour.\n",
      "  warn(\n",
      "/Users/jayceepang/miniconda3/envs/ATOM_CODE/lib/python3.9/site-packages/imblearn/ensemble/_forest.py:589: FutureWarning: The default of `replacement` will change from `False` to `True` in version 0.13. This change will follow the implementation proposed in the original paper. Set to `True` to silence this warning and adopt the future behaviour.\n",
      "  warn(\n"
     ]
    },
    {
     "name": "stdout",
     "output_type": "stream",
     "text": [
      "TRAIN: acc: 0.786, precision: 0.211, recall: 1.000, spec: 0.773\n",
      "TEST: acc: 0.492, precision: 0.000, recall: 0.000, spec: 0.495\n",
      "func:'rf_models'  took: 0.4035 sec\n",
      "\n",
      "NEK11 NEK3_binding_MFP_none_scaled_BRFC_BCW\n"
     ]
    },
    {
     "name": "stderr",
     "output_type": "stream",
     "text": [
      "/Users/jayceepang/miniconda3/envs/ATOM_CODE/lib/python3.9/site-packages/imblearn/ensemble/_forest.py:577: FutureWarning: The default of `sampling_strategy` will change from `'auto'` to `'all'` in version 0.13. This change will follow the implementation proposed in the original paper. Set to `'all'` to silence this warning and adopt the future behaviour.\n",
      "  warn(\n",
      "/Users/jayceepang/miniconda3/envs/ATOM_CODE/lib/python3.9/site-packages/imblearn/ensemble/_forest.py:589: FutureWarning: The default of `replacement` will change from `False` to `True` in version 0.13. This change will follow the implementation proposed in the original paper. Set to `True` to silence this warning and adopt the future behaviour.\n",
      "  warn(\n"
     ]
    },
    {
     "name": "stdout",
     "output_type": "stream",
     "text": [
      "TRAIN: acc: 0.586, precision: 0.121, recall: 1.000, spec: 0.561\n",
      "TEST: acc: 0.885, precision: 0.000, recall: 0.000, spec: 0.889\n",
      "func:'rf_models'  took: 0.8950 sec\n",
      "\n",
      "NEK11 NEK3_binding_MFP_UNDER_RF\n",
      "TRAIN: acc: 1.000, precision: 1.000, recall: 1.000, spec: 1.000\n",
      "TEST: acc: 0.427, precision: 0.009, recall: 1.000, spec: 0.425\n",
      "func:'rf_models'  took: 0.3165 sec\n",
      "\n",
      "NEK11 NEK3_binding_MFP_UNDER_RF_BCW\n",
      "TRAIN: acc: 1.000, precision: 1.000, recall: 1.000, spec: 1.000\n",
      "TEST: acc: 0.422, precision: 0.009, recall: 1.000, spec: 0.420\n",
      "func:'rf_models'  took: 0.3223 sec\n",
      "\n",
      "NEK11 NEK3_binding_MFP_UNDER_BRFC\n"
     ]
    },
    {
     "name": "stderr",
     "output_type": "stream",
     "text": [
      "/Users/jayceepang/miniconda3/envs/ATOM_CODE/lib/python3.9/site-packages/imblearn/ensemble/_forest.py:577: FutureWarning: The default of `sampling_strategy` will change from `'auto'` to `'all'` in version 0.13. This change will follow the implementation proposed in the original paper. Set to `'all'` to silence this warning and adopt the future behaviour.\n",
      "  warn(\n",
      "/Users/jayceepang/miniconda3/envs/ATOM_CODE/lib/python3.9/site-packages/imblearn/ensemble/_forest.py:589: FutureWarning: The default of `replacement` will change from `False` to `True` in version 0.13. This change will follow the implementation proposed in the original paper. Set to `True` to silence this warning and adopt the future behaviour.\n",
      "  warn(\n"
     ]
    },
    {
     "name": "stdout",
     "output_type": "stream",
     "text": [
      "TRAIN: acc: 1.000, precision: 1.000, recall: 1.000, spec: 1.000\n",
      "TEST: acc: 0.422, precision: 0.009, recall: 1.000, spec: 0.420\n",
      "func:'rf_models'  took: 0.3970 sec\n",
      "\n",
      "NEK11 NEK3_binding_MFP_UNDER_BRFC_BCW\n"
     ]
    },
    {
     "name": "stderr",
     "output_type": "stream",
     "text": [
      "/Users/jayceepang/miniconda3/envs/ATOM_CODE/lib/python3.9/site-packages/imblearn/ensemble/_forest.py:577: FutureWarning: The default of `sampling_strategy` will change from `'auto'` to `'all'` in version 0.13. This change will follow the implementation proposed in the original paper. Set to `'all'` to silence this warning and adopt the future behaviour.\n",
      "  warn(\n",
      "/Users/jayceepang/miniconda3/envs/ATOM_CODE/lib/python3.9/site-packages/imblearn/ensemble/_forest.py:589: FutureWarning: The default of `replacement` will change from `False` to `True` in version 0.13. This change will follow the implementation proposed in the original paper. Set to `True` to silence this warning and adopt the future behaviour.\n",
      "  warn(\n"
     ]
    },
    {
     "name": "stdout",
     "output_type": "stream",
     "text": [
      "TRAIN: acc: 1.000, precision: 1.000, recall: 1.000, spec: 1.000\n",
      "TEST: acc: 0.422, precision: 0.009, recall: 1.000, spec: 0.420\n",
      "func:'rf_models'  took: 0.4010 sec\n",
      "\n",
      "NEK11 NEK3_binding_MFP_SMOTE_RF\n",
      "TRAIN: acc: 0.999, precision: 1.000, recall: 0.998, spec: 1.000\n",
      "TEST: acc: 0.790, precision: 0.000, recall: 0.000, spec: 0.794\n",
      "func:'rf_models'  took: 4.3561 sec\n",
      "\n",
      "NEK11 NEK3_binding_MFP_SMOTE_RF_BCW\n",
      "TRAIN: acc: 0.999, precision: 1.000, recall: 0.998, spec: 1.000\n",
      "TEST: acc: 0.780, precision: 0.000, recall: 0.000, spec: 0.784\n",
      "func:'rf_models'  took: 4.3541 sec\n",
      "\n",
      "NEK11 NEK3_binding_MFP_SMOTE_BRFC\n"
     ]
    },
    {
     "name": "stderr",
     "output_type": "stream",
     "text": [
      "/Users/jayceepang/miniconda3/envs/ATOM_CODE/lib/python3.9/site-packages/imblearn/ensemble/_forest.py:577: FutureWarning: The default of `sampling_strategy` will change from `'auto'` to `'all'` in version 0.13. This change will follow the implementation proposed in the original paper. Set to `'all'` to silence this warning and adopt the future behaviour.\n",
      "  warn(\n",
      "/Users/jayceepang/miniconda3/envs/ATOM_CODE/lib/python3.9/site-packages/imblearn/ensemble/_forest.py:589: FutureWarning: The default of `replacement` will change from `False` to `True` in version 0.13. This change will follow the implementation proposed in the original paper. Set to `True` to silence this warning and adopt the future behaviour.\n",
      "  warn(\n"
     ]
    },
    {
     "name": "stdout",
     "output_type": "stream",
     "text": [
      "TRAIN: acc: 0.999, precision: 1.000, recall: 0.998, spec: 1.000\n",
      "TEST: acc: 0.777, precision: 0.000, recall: 0.000, spec: 0.781\n",
      "func:'rf_models'  took: 7.3984 sec\n",
      "\n",
      "NEK11 NEK3_binding_MFP_SMOTE_BRFC_BCW\n"
     ]
    },
    {
     "name": "stderr",
     "output_type": "stream",
     "text": [
      "/Users/jayceepang/miniconda3/envs/ATOM_CODE/lib/python3.9/site-packages/imblearn/ensemble/_forest.py:577: FutureWarning: The default of `sampling_strategy` will change from `'auto'` to `'all'` in version 0.13. This change will follow the implementation proposed in the original paper. Set to `'all'` to silence this warning and adopt the future behaviour.\n",
      "  warn(\n",
      "/Users/jayceepang/miniconda3/envs/ATOM_CODE/lib/python3.9/site-packages/imblearn/ensemble/_forest.py:589: FutureWarning: The default of `replacement` will change from `False` to `True` in version 0.13. This change will follow the implementation proposed in the original paper. Set to `True` to silence this warning and adopt the future behaviour.\n",
      "  warn(\n"
     ]
    },
    {
     "name": "stdout",
     "output_type": "stream",
     "text": [
      "TRAIN: acc: 0.999, precision: 1.000, recall: 0.998, spec: 1.000\n",
      "TEST: acc: 0.790, precision: 0.000, recall: 0.000, spec: 0.794\n",
      "func:'rf_models'  took: 7.4968 sec\n",
      "\n",
      "NEK11 NEK3_binding_MFP_ADASYN_RF\n",
      "TRAIN: acc: 0.999, precision: 1.000, recall: 0.998, spec: 1.000\n",
      "TEST: acc: 0.675, precision: 0.000, recall: 0.000, spec: 0.678\n",
      "func:'rf_models'  took: 3.7026 sec\n",
      "\n",
      "NEK11 NEK3_binding_MFP_ADASYN_RF_BCW\n",
      "TRAIN: acc: 0.999, precision: 1.000, recall: 0.998, spec: 1.000\n",
      "TEST: acc: 0.650, precision: 0.000, recall: 0.000, spec: 0.653\n",
      "func:'rf_models'  took: 3.8809 sec\n",
      "\n",
      "NEK11 NEK3_binding_MFP_ADASYN_BRFC\n"
     ]
    },
    {
     "name": "stderr",
     "output_type": "stream",
     "text": [
      "/Users/jayceepang/miniconda3/envs/ATOM_CODE/lib/python3.9/site-packages/imblearn/ensemble/_forest.py:577: FutureWarning: The default of `sampling_strategy` will change from `'auto'` to `'all'` in version 0.13. This change will follow the implementation proposed in the original paper. Set to `'all'` to silence this warning and adopt the future behaviour.\n",
      "  warn(\n",
      "/Users/jayceepang/miniconda3/envs/ATOM_CODE/lib/python3.9/site-packages/imblearn/ensemble/_forest.py:589: FutureWarning: The default of `replacement` will change from `False` to `True` in version 0.13. This change will follow the implementation proposed in the original paper. Set to `True` to silence this warning and adopt the future behaviour.\n",
      "  warn(\n"
     ]
    },
    {
     "name": "stdout",
     "output_type": "stream",
     "text": [
      "TRAIN: acc: 0.999, precision: 1.000, recall: 0.998, spec: 1.000\n",
      "TEST: acc: 0.675, precision: 0.000, recall: 0.000, spec: 0.678\n",
      "func:'rf_models'  took: 6.6447 sec\n",
      "\n",
      "NEK11 NEK3_binding_MFP_ADASYN_BRFC_BCW\n"
     ]
    },
    {
     "name": "stderr",
     "output_type": "stream",
     "text": [
      "/Users/jayceepang/miniconda3/envs/ATOM_CODE/lib/python3.9/site-packages/imblearn/ensemble/_forest.py:577: FutureWarning: The default of `sampling_strategy` will change from `'auto'` to `'all'` in version 0.13. This change will follow the implementation proposed in the original paper. Set to `'all'` to silence this warning and adopt the future behaviour.\n",
      "  warn(\n",
      "/Users/jayceepang/miniconda3/envs/ATOM_CODE/lib/python3.9/site-packages/imblearn/ensemble/_forest.py:589: FutureWarning: The default of `replacement` will change from `False` to `True` in version 0.13. This change will follow the implementation proposed in the original paper. Set to `True` to silence this warning and adopt the future behaviour.\n",
      "  warn(\n"
     ]
    },
    {
     "name": "stdout",
     "output_type": "stream",
     "text": [
      "TRAIN: acc: 0.999, precision: 1.000, recall: 0.998, spec: 1.000\n",
      "TEST: acc: 0.667, precision: 0.000, recall: 0.000, spec: 0.671\n",
      "func:'rf_models'  took: 6.8860 sec\n",
      "\n",
      "NEK11 NEK5_binding_MFP_none_scaled_RF\n",
      "TRAIN: acc: 0.998, precision: 1.000, recall: 0.974, spec: 1.000\n",
      "TEST: acc: 0.547, precision: 0.000, recall: 0.000, spec: 0.550\n",
      "func:'rf_models'  took: 3.2833 sec\n",
      "\n",
      "NEK11 NEK5_binding_MFP_none_scaled_RF_BCW\n",
      "TRAIN: acc: 0.998, precision: 0.975, recall: 1.000, spec: 0.998\n",
      "TEST: acc: 0.880, precision: 0.000, recall: 0.000, spec: 0.884\n",
      "func:'rf_models'  took: 3.0461 sec\n",
      "\n",
      "NEK11 NEK5_binding_MFP_none_scaled_BRFC\n"
     ]
    },
    {
     "name": "stderr",
     "output_type": "stream",
     "text": [
      "/Users/jayceepang/miniconda3/envs/ATOM_CODE/lib/python3.9/site-packages/imblearn/ensemble/_forest.py:577: FutureWarning: The default of `sampling_strategy` will change from `'auto'` to `'all'` in version 0.13. This change will follow the implementation proposed in the original paper. Set to `'all'` to silence this warning and adopt the future behaviour.\n",
      "  warn(\n",
      "/Users/jayceepang/miniconda3/envs/ATOM_CODE/lib/python3.9/site-packages/imblearn/ensemble/_forest.py:589: FutureWarning: The default of `replacement` will change from `False` to `True` in version 0.13. This change will follow the implementation proposed in the original paper. Set to `True` to silence this warning and adopt the future behaviour.\n",
      "  warn(\n"
     ]
    },
    {
     "name": "stdout",
     "output_type": "stream",
     "text": [
      "TRAIN: acc: 0.887, precision: 0.407, recall: 1.000, spec: 0.877\n",
      "TEST: acc: 0.480, precision: 0.005, recall: 0.500, spec: 0.480\n",
      "func:'rf_models'  took: 0.4344 sec\n",
      "\n",
      "NEK11 NEK5_binding_MFP_none_scaled_BRFC_BCW\n"
     ]
    },
    {
     "name": "stderr",
     "output_type": "stream",
     "text": [
      "/Users/jayceepang/miniconda3/envs/ATOM_CODE/lib/python3.9/site-packages/imblearn/ensemble/_forest.py:577: FutureWarning: The default of `sampling_strategy` will change from `'auto'` to `'all'` in version 0.13. This change will follow the implementation proposed in the original paper. Set to `'all'` to silence this warning and adopt the future behaviour.\n",
      "  warn(\n",
      "/Users/jayceepang/miniconda3/envs/ATOM_CODE/lib/python3.9/site-packages/imblearn/ensemble/_forest.py:589: FutureWarning: The default of `replacement` will change from `False` to `True` in version 0.13. This change will follow the implementation proposed in the original paper. Set to `True` to silence this warning and adopt the future behaviour.\n",
      "  warn(\n"
     ]
    },
    {
     "name": "stdout",
     "output_type": "stream",
     "text": [
      "TRAIN: acc: 0.793, precision: 0.273, recall: 1.000, spec: 0.775\n",
      "TEST: acc: 0.568, precision: 0.006, recall: 0.500, spec: 0.568\n",
      "func:'rf_models'  took: 0.5990 sec\n",
      "\n",
      "NEK11 NEK5_binding_MFP_UNDER_RF\n",
      "TRAIN: acc: 1.000, precision: 1.000, recall: 1.000, spec: 1.000\n",
      "TEST: acc: 0.477, precision: 0.005, recall: 0.500, spec: 0.477\n",
      "func:'rf_models'  took: 0.2695 sec\n",
      "\n",
      "NEK11 NEK5_binding_MFP_UNDER_RF_BCW\n",
      "TRAIN: acc: 1.000, precision: 1.000, recall: 1.000, spec: 1.000\n",
      "TEST: acc: 0.480, precision: 0.005, recall: 0.500, spec: 0.480\n",
      "func:'rf_models'  took: 0.2897 sec\n",
      "\n",
      "NEK11 NEK5_binding_MFP_UNDER_BRFC\n"
     ]
    },
    {
     "name": "stderr",
     "output_type": "stream",
     "text": [
      "/Users/jayceepang/miniconda3/envs/ATOM_CODE/lib/python3.9/site-packages/imblearn/ensemble/_forest.py:577: FutureWarning: The default of `sampling_strategy` will change from `'auto'` to `'all'` in version 0.13. This change will follow the implementation proposed in the original paper. Set to `'all'` to silence this warning and adopt the future behaviour.\n",
      "  warn(\n",
      "/Users/jayceepang/miniconda3/envs/ATOM_CODE/lib/python3.9/site-packages/imblearn/ensemble/_forest.py:589: FutureWarning: The default of `replacement` will change from `False` to `True` in version 0.13. This change will follow the implementation proposed in the original paper. Set to `True` to silence this warning and adopt the future behaviour.\n",
      "  warn(\n"
     ]
    },
    {
     "name": "stdout",
     "output_type": "stream",
     "text": [
      "TRAIN: acc: 1.000, precision: 1.000, recall: 1.000, spec: 1.000\n",
      "TEST: acc: 0.480, precision: 0.005, recall: 0.500, spec: 0.480\n",
      "func:'rf_models'  took: 0.3590 sec\n",
      "\n",
      "NEK11 NEK5_binding_MFP_UNDER_BRFC_BCW\n"
     ]
    },
    {
     "name": "stderr",
     "output_type": "stream",
     "text": [
      "/Users/jayceepang/miniconda3/envs/ATOM_CODE/lib/python3.9/site-packages/imblearn/ensemble/_forest.py:577: FutureWarning: The default of `sampling_strategy` will change from `'auto'` to `'all'` in version 0.13. This change will follow the implementation proposed in the original paper. Set to `'all'` to silence this warning and adopt the future behaviour.\n",
      "  warn(\n",
      "/Users/jayceepang/miniconda3/envs/ATOM_CODE/lib/python3.9/site-packages/imblearn/ensemble/_forest.py:589: FutureWarning: The default of `replacement` will change from `False` to `True` in version 0.13. This change will follow the implementation proposed in the original paper. Set to `True` to silence this warning and adopt the future behaviour.\n",
      "  warn(\n"
     ]
    },
    {
     "name": "stdout",
     "output_type": "stream",
     "text": [
      "TRAIN: acc: 1.000, precision: 1.000, recall: 1.000, spec: 1.000\n",
      "TEST: acc: 0.480, precision: 0.005, recall: 0.500, spec: 0.480\n",
      "func:'rf_models'  took: 0.3629 sec\n",
      "\n",
      "NEK11 NEK5_binding_MFP_SMOTE_RF\n",
      "TRAIN: acc: 0.999, precision: 1.000, recall: 0.998, spec: 1.000\n",
      "TEST: acc: 0.723, precision: 0.000, recall: 0.000, spec: 0.726\n",
      "func:'rf_models'  took: 3.9341 sec\n",
      "\n",
      "NEK11 NEK5_binding_MFP_SMOTE_RF_BCW\n",
      "TRAIN: acc: 0.999, precision: 1.000, recall: 0.998, spec: 1.000\n",
      "TEST: acc: 0.715, precision: 0.000, recall: 0.000, spec: 0.719\n",
      "func:'rf_models'  took: 3.9910 sec\n",
      "\n",
      "NEK11 NEK5_binding_MFP_SMOTE_BRFC\n"
     ]
    },
    {
     "name": "stderr",
     "output_type": "stream",
     "text": [
      "/Users/jayceepang/miniconda3/envs/ATOM_CODE/lib/python3.9/site-packages/imblearn/ensemble/_forest.py:577: FutureWarning: The default of `sampling_strategy` will change from `'auto'` to `'all'` in version 0.13. This change will follow the implementation proposed in the original paper. Set to `'all'` to silence this warning and adopt the future behaviour.\n",
      "  warn(\n",
      "/Users/jayceepang/miniconda3/envs/ATOM_CODE/lib/python3.9/site-packages/imblearn/ensemble/_forest.py:589: FutureWarning: The default of `replacement` will change from `False` to `True` in version 0.13. This change will follow the implementation proposed in the original paper. Set to `True` to silence this warning and adopt the future behaviour.\n",
      "  warn(\n"
     ]
    },
    {
     "name": "stdout",
     "output_type": "stream",
     "text": [
      "TRAIN: acc: 0.999, precision: 1.000, recall: 0.998, spec: 1.000\n",
      "TEST: acc: 0.728, precision: 0.000, recall: 0.000, spec: 0.731\n",
      "func:'rf_models'  took: 6.4055 sec\n",
      "\n",
      "NEK11 NEK5_binding_MFP_SMOTE_BRFC_BCW\n"
     ]
    },
    {
     "name": "stderr",
     "output_type": "stream",
     "text": [
      "/Users/jayceepang/miniconda3/envs/ATOM_CODE/lib/python3.9/site-packages/imblearn/ensemble/_forest.py:577: FutureWarning: The default of `sampling_strategy` will change from `'auto'` to `'all'` in version 0.13. This change will follow the implementation proposed in the original paper. Set to `'all'` to silence this warning and adopt the future behaviour.\n",
      "  warn(\n",
      "/Users/jayceepang/miniconda3/envs/ATOM_CODE/lib/python3.9/site-packages/imblearn/ensemble/_forest.py:589: FutureWarning: The default of `replacement` will change from `False` to `True` in version 0.13. This change will follow the implementation proposed in the original paper. Set to `True` to silence this warning and adopt the future behaviour.\n",
      "  warn(\n"
     ]
    },
    {
     "name": "stdout",
     "output_type": "stream",
     "text": [
      "TRAIN: acc: 0.999, precision: 1.000, recall: 0.998, spec: 1.000\n",
      "TEST: acc: 0.718, precision: 0.000, recall: 0.000, spec: 0.721\n",
      "func:'rf_models'  took: 6.4658 sec\n",
      "\n",
      "NEK11 NEK5_binding_MFP_ADASYN_RF\n",
      "TRAIN: acc: 0.999, precision: 1.000, recall: 0.998, spec: 1.000\n",
      "TEST: acc: 0.885, precision: 0.000, recall: 0.000, spec: 0.889\n",
      "func:'rf_models'  took: 3.1595 sec\n",
      "\n",
      "NEK11 NEK5_binding_MFP_ADASYN_RF_BCW\n",
      "TRAIN: acc: 0.999, precision: 0.998, recall: 1.000, spec: 0.998\n",
      "TEST: acc: 0.873, precision: 0.000, recall: 0.000, spec: 0.877\n",
      "func:'rf_models'  took: 3.2698 sec\n",
      "\n",
      "NEK11 NEK5_binding_MFP_ADASYN_BRFC\n"
     ]
    },
    {
     "name": "stderr",
     "output_type": "stream",
     "text": [
      "/Users/jayceepang/miniconda3/envs/ATOM_CODE/lib/python3.9/site-packages/imblearn/ensemble/_forest.py:577: FutureWarning: The default of `sampling_strategy` will change from `'auto'` to `'all'` in version 0.13. This change will follow the implementation proposed in the original paper. Set to `'all'` to silence this warning and adopt the future behaviour.\n",
      "  warn(\n",
      "/Users/jayceepang/miniconda3/envs/ATOM_CODE/lib/python3.9/site-packages/imblearn/ensemble/_forest.py:589: FutureWarning: The default of `replacement` will change from `False` to `True` in version 0.13. This change will follow the implementation proposed in the original paper. Set to `True` to silence this warning and adopt the future behaviour.\n",
      "  warn(\n"
     ]
    },
    {
     "name": "stdout",
     "output_type": "stream",
     "text": [
      "TRAIN: acc: 0.999, precision: 0.999, recall: 0.999, spec: 0.999\n",
      "TEST: acc: 0.885, precision: 0.000, recall: 0.000, spec: 0.889\n",
      "func:'rf_models'  took: 5.4376 sec\n",
      "\n",
      "NEK11 NEK5_binding_MFP_ADASYN_BRFC_BCW\n"
     ]
    },
    {
     "name": "stderr",
     "output_type": "stream",
     "text": [
      "/Users/jayceepang/miniconda3/envs/ATOM_CODE/lib/python3.9/site-packages/imblearn/ensemble/_forest.py:577: FutureWarning: The default of `sampling_strategy` will change from `'auto'` to `'all'` in version 0.13. This change will follow the implementation proposed in the original paper. Set to `'all'` to silence this warning and adopt the future behaviour.\n",
      "  warn(\n",
      "/Users/jayceepang/miniconda3/envs/ATOM_CODE/lib/python3.9/site-packages/imblearn/ensemble/_forest.py:589: FutureWarning: The default of `replacement` will change from `False` to `True` in version 0.13. This change will follow the implementation proposed in the original paper. Set to `True` to silence this warning and adopt the future behaviour.\n",
      "  warn(\n"
     ]
    },
    {
     "name": "stdout",
     "output_type": "stream",
     "text": [
      "TRAIN: acc: 0.999, precision: 0.998, recall: 1.000, spec: 0.998\n",
      "TEST: acc: 0.870, precision: 0.019, recall: 0.500, spec: 0.872\n",
      "func:'rf_models'  took: 5.5928 sec\n",
      "\n",
      "NEK11 NEK9_binding_MFP_none_scaled_RF\n",
      "TRAIN: acc: 0.999, precision: 1.000, recall: 0.979, spec: 1.000\n",
      "TEST: acc: 0.615, precision: 0.000, recall: 0.000, spec: 0.618\n",
      "func:'rf_models'  took: 7.4384 sec\n",
      "\n",
      "NEK11 NEK9_binding_MFP_none_scaled_RF_BCW\n",
      "TRAIN: acc: 0.999, precision: 0.980, recall: 1.000, spec: 0.999\n",
      "TEST: acc: 0.860, precision: 0.000, recall: 0.000, spec: 0.864\n",
      "func:'rf_models'  took: 2.3009 sec\n",
      "\n",
      "NEK11 NEK9_binding_MFP_none_scaled_BRFC\n"
     ]
    },
    {
     "name": "stderr",
     "output_type": "stream",
     "text": [
      "/Users/jayceepang/miniconda3/envs/ATOM_CODE/lib/python3.9/site-packages/imblearn/ensemble/_forest.py:577: FutureWarning: The default of `sampling_strategy` will change from `'auto'` to `'all'` in version 0.13. This change will follow the implementation proposed in the original paper. Set to `'all'` to silence this warning and adopt the future behaviour.\n",
      "  warn(\n",
      "/Users/jayceepang/miniconda3/envs/ATOM_CODE/lib/python3.9/site-packages/imblearn/ensemble/_forest.py:589: FutureWarning: The default of `replacement` will change from `False` to `True` in version 0.13. This change will follow the implementation proposed in the original paper. Set to `True` to silence this warning and adopt the future behaviour.\n",
      "  warn(\n"
     ]
    },
    {
     "name": "stdout",
     "output_type": "stream",
     "text": [
      "TRAIN: acc: 0.819, precision: 0.190, recall: 1.000, spec: 0.811\n",
      "TEST: acc: 0.388, precision: 0.004, recall: 0.500, spec: 0.387\n",
      "func:'rf_models'  took: 0.2830 sec\n",
      "\n",
      "NEK11 NEK9_binding_MFP_none_scaled_BRFC_BCW\n"
     ]
    },
    {
     "name": "stderr",
     "output_type": "stream",
     "text": [
      "/Users/jayceepang/miniconda3/envs/ATOM_CODE/lib/python3.9/site-packages/imblearn/ensemble/_forest.py:577: FutureWarning: The default of `sampling_strategy` will change from `'auto'` to `'all'` in version 0.13. This change will follow the implementation proposed in the original paper. Set to `'all'` to silence this warning and adopt the future behaviour.\n",
      "  warn(\n",
      "/Users/jayceepang/miniconda3/envs/ATOM_CODE/lib/python3.9/site-packages/imblearn/ensemble/_forest.py:589: FutureWarning: The default of `replacement` will change from `False` to `True` in version 0.13. This change will follow the implementation proposed in the original paper. Set to `True` to silence this warning and adopt the future behaviour.\n",
      "  warn(\n"
     ]
    },
    {
     "name": "stdout",
     "output_type": "stream",
     "text": [
      "TRAIN: acc: 0.538, precision: 0.085, recall: 1.000, spec: 0.518\n",
      "TEST: acc: 0.770, precision: 0.000, recall: 0.000, spec: 0.774\n",
      "func:'rf_models'  took: 0.5130 sec\n",
      "\n",
      "NEK11 NEK9_binding_MFP_UNDER_RF\n",
      "TRAIN: acc: 1.000, precision: 1.000, recall: 1.000, spec: 1.000\n",
      "TEST: acc: 0.255, precision: 0.003, recall: 0.500, spec: 0.254\n",
      "func:'rf_models'  took: 0.2318 sec\n",
      "\n",
      "NEK11 NEK9_binding_MFP_UNDER_RF_BCW\n",
      "TRAIN: acc: 1.000, precision: 1.000, recall: 1.000, spec: 1.000\n",
      "TEST: acc: 0.253, precision: 0.003, recall: 0.500, spec: 0.251\n",
      "func:'rf_models'  took: 0.2375 sec\n",
      "\n",
      "NEK11 NEK9_binding_MFP_UNDER_BRFC\n"
     ]
    },
    {
     "name": "stderr",
     "output_type": "stream",
     "text": [
      "/Users/jayceepang/miniconda3/envs/ATOM_CODE/lib/python3.9/site-packages/imblearn/ensemble/_forest.py:577: FutureWarning: The default of `sampling_strategy` will change from `'auto'` to `'all'` in version 0.13. This change will follow the implementation proposed in the original paper. Set to `'all'` to silence this warning and adopt the future behaviour.\n",
      "  warn(\n",
      "/Users/jayceepang/miniconda3/envs/ATOM_CODE/lib/python3.9/site-packages/imblearn/ensemble/_forest.py:589: FutureWarning: The default of `replacement` will change from `False` to `True` in version 0.13. This change will follow the implementation proposed in the original paper. Set to `True` to silence this warning and adopt the future behaviour.\n",
      "  warn(\n"
     ]
    },
    {
     "name": "stdout",
     "output_type": "stream",
     "text": [
      "TRAIN: acc: 1.000, precision: 1.000, recall: 1.000, spec: 1.000\n",
      "TEST: acc: 0.253, precision: 0.003, recall: 0.500, spec: 0.251\n",
      "func:'rf_models'  took: 0.2986 sec\n",
      "\n",
      "NEK11 NEK9_binding_MFP_UNDER_BRFC_BCW\n"
     ]
    },
    {
     "name": "stderr",
     "output_type": "stream",
     "text": [
      "/Users/jayceepang/miniconda3/envs/ATOM_CODE/lib/python3.9/site-packages/imblearn/ensemble/_forest.py:577: FutureWarning: The default of `sampling_strategy` will change from `'auto'` to `'all'` in version 0.13. This change will follow the implementation proposed in the original paper. Set to `'all'` to silence this warning and adopt the future behaviour.\n",
      "  warn(\n",
      "/Users/jayceepang/miniconda3/envs/ATOM_CODE/lib/python3.9/site-packages/imblearn/ensemble/_forest.py:589: FutureWarning: The default of `replacement` will change from `False` to `True` in version 0.13. This change will follow the implementation proposed in the original paper. Set to `True` to silence this warning and adopt the future behaviour.\n",
      "  warn(\n"
     ]
    },
    {
     "name": "stdout",
     "output_type": "stream",
     "text": [
      "TRAIN: acc: 1.000, precision: 1.000, recall: 1.000, spec: 1.000\n",
      "TEST: acc: 0.247, precision: 0.003, recall: 0.500, spec: 0.246\n",
      "func:'rf_models'  took: 0.3022 sec\n",
      "\n",
      "NEK11 NEK9_binding_MFP_SMOTE_RF\n",
      "TRAIN: acc: 1.000, precision: 1.000, recall: 0.999, spec: 1.000\n",
      "TEST: acc: 0.723, precision: 0.000, recall: 0.000, spec: 0.726\n",
      "func:'rf_models'  took: 5.2792 sec\n",
      "\n",
      "NEK11 NEK9_binding_MFP_SMOTE_RF_BCW\n",
      "TRAIN: acc: 1.000, precision: 1.000, recall: 0.999, spec: 1.000\n",
      "TEST: acc: 0.757, precision: 0.000, recall: 0.000, spec: 0.761\n",
      "func:'rf_models'  took: 5.6241 sec\n",
      "\n",
      "NEK11 NEK9_binding_MFP_SMOTE_BRFC\n"
     ]
    },
    {
     "name": "stderr",
     "output_type": "stream",
     "text": [
      "/Users/jayceepang/miniconda3/envs/ATOM_CODE/lib/python3.9/site-packages/imblearn/ensemble/_forest.py:577: FutureWarning: The default of `sampling_strategy` will change from `'auto'` to `'all'` in version 0.13. This change will follow the implementation proposed in the original paper. Set to `'all'` to silence this warning and adopt the future behaviour.\n",
      "  warn(\n",
      "/Users/jayceepang/miniconda3/envs/ATOM_CODE/lib/python3.9/site-packages/imblearn/ensemble/_forest.py:589: FutureWarning: The default of `replacement` will change from `False` to `True` in version 0.13. This change will follow the implementation proposed in the original paper. Set to `True` to silence this warning and adopt the future behaviour.\n",
      "  warn(\n"
     ]
    },
    {
     "name": "stdout",
     "output_type": "stream",
     "text": [
      "TRAIN: acc: 1.000, precision: 1.000, recall: 0.999, spec: 1.000\n",
      "TEST: acc: 0.750, precision: 0.000, recall: 0.000, spec: 0.754\n",
      "func:'rf_models'  took: 10.0348 sec\n",
      "\n",
      "NEK11 NEK9_binding_MFP_SMOTE_BRFC_BCW\n"
     ]
    },
    {
     "name": "stderr",
     "output_type": "stream",
     "text": [
      "/Users/jayceepang/miniconda3/envs/ATOM_CODE/lib/python3.9/site-packages/imblearn/ensemble/_forest.py:577: FutureWarning: The default of `sampling_strategy` will change from `'auto'` to `'all'` in version 0.13. This change will follow the implementation proposed in the original paper. Set to `'all'` to silence this warning and adopt the future behaviour.\n",
      "  warn(\n",
      "/Users/jayceepang/miniconda3/envs/ATOM_CODE/lib/python3.9/site-packages/imblearn/ensemble/_forest.py:589: FutureWarning: The default of `replacement` will change from `False` to `True` in version 0.13. This change will follow the implementation proposed in the original paper. Set to `True` to silence this warning and adopt the future behaviour.\n",
      "  warn(\n"
     ]
    },
    {
     "name": "stdout",
     "output_type": "stream",
     "text": [
      "TRAIN: acc: 1.000, precision: 1.000, recall: 0.999, spec: 1.000\n",
      "TEST: acc: 0.755, precision: 0.000, recall: 0.000, spec: 0.759\n",
      "func:'rf_models'  took: 9.7491 sec\n",
      "\n",
      "NEK11 NEK9_binding_MFP_ADASYN_RF\n",
      "TRAIN: acc: 1.000, precision: 1.000, recall: 0.999, spec: 1.000\n",
      "TEST: acc: 0.800, precision: 0.000, recall: 0.000, spec: 0.804\n",
      "func:'rf_models'  took: 4.1433 sec\n",
      "\n",
      "NEK11 NEK9_binding_MFP_ADASYN_RF_BCW\n",
      "TRAIN: acc: 1.000, precision: 1.000, recall: 0.999, spec: 1.000\n",
      "TEST: acc: 0.805, precision: 0.000, recall: 0.000, spec: 0.809\n",
      "func:'rf_models'  took: 4.3118 sec\n",
      "\n",
      "NEK11 NEK9_binding_MFP_ADASYN_BRFC\n"
     ]
    },
    {
     "name": "stderr",
     "output_type": "stream",
     "text": [
      "/Users/jayceepang/miniconda3/envs/ATOM_CODE/lib/python3.9/site-packages/imblearn/ensemble/_forest.py:577: FutureWarning: The default of `sampling_strategy` will change from `'auto'` to `'all'` in version 0.13. This change will follow the implementation proposed in the original paper. Set to `'all'` to silence this warning and adopt the future behaviour.\n",
      "  warn(\n",
      "/Users/jayceepang/miniconda3/envs/ATOM_CODE/lib/python3.9/site-packages/imblearn/ensemble/_forest.py:589: FutureWarning: The default of `replacement` will change from `False` to `True` in version 0.13. This change will follow the implementation proposed in the original paper. Set to `True` to silence this warning and adopt the future behaviour.\n",
      "  warn(\n"
     ]
    },
    {
     "name": "stdout",
     "output_type": "stream",
     "text": [
      "TRAIN: acc: 1.000, precision: 1.000, recall: 0.999, spec: 1.000\n",
      "TEST: acc: 0.800, precision: 0.000, recall: 0.000, spec: 0.804\n",
      "func:'rf_models'  took: 7.7952 sec\n",
      "\n",
      "NEK11 NEK9_binding_MFP_ADASYN_BRFC_BCW\n"
     ]
    },
    {
     "name": "stderr",
     "output_type": "stream",
     "text": [
      "/Users/jayceepang/miniconda3/envs/ATOM_CODE/lib/python3.9/site-packages/imblearn/ensemble/_forest.py:577: FutureWarning: The default of `sampling_strategy` will change from `'auto'` to `'all'` in version 0.13. This change will follow the implementation proposed in the original paper. Set to `'all'` to silence this warning and adopt the future behaviour.\n",
      "  warn(\n",
      "/Users/jayceepang/miniconda3/envs/ATOM_CODE/lib/python3.9/site-packages/imblearn/ensemble/_forest.py:589: FutureWarning: The default of `replacement` will change from `False` to `True` in version 0.13. This change will follow the implementation proposed in the original paper. Set to `True` to silence this warning and adopt the future behaviour.\n",
      "  warn(\n"
     ]
    },
    {
     "name": "stdout",
     "output_type": "stream",
     "text": [
      "TRAIN: acc: 1.000, precision: 1.000, recall: 0.999, spec: 1.000\n",
      "TEST: acc: 0.807, precision: 0.000, recall: 0.000, spec: 0.812\n",
      "func:'rf_models'  took: 7.9218 sec\n",
      "\n",
      "NEK11 NEK9_inhibition_MFP_none_scaled_RF\n",
      "TRAIN: acc: 0.997, precision: 1.000, recall: 0.970, spec: 1.000\n",
      "TEST: acc: 0.738, precision: 0.010, recall: 0.500, spec: 0.739\n",
      "func:'rf_models'  took: 0.5563 sec\n",
      "\n",
      "NEK11 NEK9_inhibition_MFP_none_scaled_RF_BCW\n",
      "TRAIN: acc: 0.997, precision: 0.971, recall: 1.000, spec: 0.996\n",
      "TEST: acc: 0.805, precision: 0.013, recall: 0.500, spec: 0.807\n",
      "func:'rf_models'  took: 0.3830 sec\n",
      "\n",
      "NEK11 NEK9_inhibition_MFP_none_scaled_BRFC\n",
      "TRAIN: acc: 0.927, precision: 0.589, recall: 1.000, spec: 0.918\n",
      "TEST: acc: 0.690, precision: 0.008, recall: 0.500, spec: 0.691\n",
      "func:'rf_models'  took: 0.1529 sec\n",
      "\n",
      "NEK11 NEK9_inhibition_MFP_none_scaled_BRFC_BCW\n"
     ]
    },
    {
     "name": "stderr",
     "output_type": "stream",
     "text": [
      "/Users/jayceepang/miniconda3/envs/ATOM_CODE/lib/python3.9/site-packages/imblearn/ensemble/_forest.py:577: FutureWarning: The default of `sampling_strategy` will change from `'auto'` to `'all'` in version 0.13. This change will follow the implementation proposed in the original paper. Set to `'all'` to silence this warning and adopt the future behaviour.\n",
      "  warn(\n",
      "/Users/jayceepang/miniconda3/envs/ATOM_CODE/lib/python3.9/site-packages/imblearn/ensemble/_forest.py:589: FutureWarning: The default of `replacement` will change from `False` to `True` in version 0.13. This change will follow the implementation proposed in the original paper. Set to `True` to silence this warning and adopt the future behaviour.\n",
      "  warn(\n",
      "/Users/jayceepang/miniconda3/envs/ATOM_CODE/lib/python3.9/site-packages/imblearn/ensemble/_forest.py:577: FutureWarning: The default of `sampling_strategy` will change from `'auto'` to `'all'` in version 0.13. This change will follow the implementation proposed in the original paper. Set to `'all'` to silence this warning and adopt the future behaviour.\n",
      "  warn(\n",
      "/Users/jayceepang/miniconda3/envs/ATOM_CODE/lib/python3.9/site-packages/imblearn/ensemble/_forest.py:589: FutureWarning: The default of `replacement` will change from `False` to `True` in version 0.13. This change will follow the implementation proposed in the original paper. Set to `True` to silence this warning and adopt the future behaviour.\n",
      "  warn(\n"
     ]
    },
    {
     "name": "stdout",
     "output_type": "stream",
     "text": [
      "TRAIN: acc: 0.891, precision: 0.493, recall: 1.000, spec: 0.879\n",
      "TEST: acc: 0.690, precision: 0.008, recall: 0.500, spec: 0.691\n",
      "func:'rf_models'  took: 0.1664 sec\n",
      "\n",
      "NEK11 NEK9_inhibition_MFP_UNDER_RF\n",
      "TRAIN: acc: 1.000, precision: 1.000, recall: 1.000, spec: 1.000\n",
      "TEST: acc: 0.465, precision: 0.009, recall: 1.000, spec: 0.462\n",
      "func:'rf_models'  took: 0.1025 sec\n",
      "\n",
      "NEK11 NEK9_inhibition_MFP_UNDER_RF_BCW\n",
      "TRAIN: acc: 1.000, precision: 1.000, recall: 1.000, spec: 1.000\n",
      "TEST: acc: 0.487, precision: 0.010, recall: 1.000, spec: 0.485\n",
      "func:'rf_models'  took: 0.1036 sec\n",
      "\n",
      "NEK11 NEK9_inhibition_MFP_UNDER_BRFC\n",
      "TRAIN: acc: 1.000, precision: 1.000, recall: 1.000, spec: 1.000\n",
      "TEST: acc: 0.507, precision: 0.010, recall: 1.000, spec: 0.505\n",
      "func:'rf_models'  took: 0.1473 sec\n",
      "\n",
      "NEK11 NEK9_inhibition_MFP_UNDER_BRFC_BCW\n"
     ]
    },
    {
     "name": "stderr",
     "output_type": "stream",
     "text": [
      "/Users/jayceepang/miniconda3/envs/ATOM_CODE/lib/python3.9/site-packages/imblearn/ensemble/_forest.py:577: FutureWarning: The default of `sampling_strategy` will change from `'auto'` to `'all'` in version 0.13. This change will follow the implementation proposed in the original paper. Set to `'all'` to silence this warning and adopt the future behaviour.\n",
      "  warn(\n",
      "/Users/jayceepang/miniconda3/envs/ATOM_CODE/lib/python3.9/site-packages/imblearn/ensemble/_forest.py:589: FutureWarning: The default of `replacement` will change from `False` to `True` in version 0.13. This change will follow the implementation proposed in the original paper. Set to `True` to silence this warning and adopt the future behaviour.\n",
      "  warn(\n",
      "/Users/jayceepang/miniconda3/envs/ATOM_CODE/lib/python3.9/site-packages/imblearn/ensemble/_forest.py:577: FutureWarning: The default of `sampling_strategy` will change from `'auto'` to `'all'` in version 0.13. This change will follow the implementation proposed in the original paper. Set to `'all'` to silence this warning and adopt the future behaviour.\n",
      "  warn(\n",
      "/Users/jayceepang/miniconda3/envs/ATOM_CODE/lib/python3.9/site-packages/imblearn/ensemble/_forest.py:589: FutureWarning: The default of `replacement` will change from `False` to `True` in version 0.13. This change will follow the implementation proposed in the original paper. Set to `True` to silence this warning and adopt the future behaviour.\n",
      "  warn(\n"
     ]
    },
    {
     "name": "stdout",
     "output_type": "stream",
     "text": [
      "TRAIN: acc: 1.000, precision: 1.000, recall: 1.000, spec: 1.000\n",
      "TEST: acc: 0.482, precision: 0.010, recall: 1.000, spec: 0.480\n",
      "func:'rf_models'  took: 0.1496 sec\n",
      "\n",
      "NEK11 NEK9_inhibition_MFP_SMOTE_RF\n",
      "TRAIN: acc: 0.998, precision: 1.000, recall: 0.996, spec: 1.000\n",
      "TEST: acc: 0.775, precision: 0.011, recall: 0.500, spec: 0.776\n",
      "func:'rf_models'  took: 0.5847 sec\n",
      "\n",
      "NEK11 NEK9_inhibition_MFP_SMOTE_RF_BCW\n",
      "TRAIN: acc: 0.998, precision: 1.000, recall: 0.996, spec: 1.000\n",
      "TEST: acc: 0.782, precision: 0.011, recall: 0.500, spec: 0.784\n",
      "func:'rf_models'  took: 0.5822 sec\n",
      "\n",
      "NEK11 NEK9_inhibition_MFP_SMOTE_BRFC\n"
     ]
    },
    {
     "name": "stderr",
     "output_type": "stream",
     "text": [
      "/Users/jayceepang/miniconda3/envs/ATOM_CODE/lib/python3.9/site-packages/imblearn/ensemble/_forest.py:577: FutureWarning: The default of `sampling_strategy` will change from `'auto'` to `'all'` in version 0.13. This change will follow the implementation proposed in the original paper. Set to `'all'` to silence this warning and adopt the future behaviour.\n",
      "  warn(\n",
      "/Users/jayceepang/miniconda3/envs/ATOM_CODE/lib/python3.9/site-packages/imblearn/ensemble/_forest.py:589: FutureWarning: The default of `replacement` will change from `False` to `True` in version 0.13. This change will follow the implementation proposed in the original paper. Set to `True` to silence this warning and adopt the future behaviour.\n",
      "  warn(\n"
     ]
    },
    {
     "name": "stdout",
     "output_type": "stream",
     "text": [
      "TRAIN: acc: 0.998, precision: 1.000, recall: 0.996, spec: 1.000\n",
      "TEST: acc: 0.782, precision: 0.011, recall: 0.500, spec: 0.784\n",
      "func:'rf_models'  took: 0.9139 sec\n",
      "\n",
      "NEK11 NEK9_inhibition_MFP_SMOTE_BRFC_BCW\n"
     ]
    },
    {
     "name": "stderr",
     "output_type": "stream",
     "text": [
      "/Users/jayceepang/miniconda3/envs/ATOM_CODE/lib/python3.9/site-packages/imblearn/ensemble/_forest.py:577: FutureWarning: The default of `sampling_strategy` will change from `'auto'` to `'all'` in version 0.13. This change will follow the implementation proposed in the original paper. Set to `'all'` to silence this warning and adopt the future behaviour.\n",
      "  warn(\n",
      "/Users/jayceepang/miniconda3/envs/ATOM_CODE/lib/python3.9/site-packages/imblearn/ensemble/_forest.py:589: FutureWarning: The default of `replacement` will change from `False` to `True` in version 0.13. This change will follow the implementation proposed in the original paper. Set to `True` to silence this warning and adopt the future behaviour.\n",
      "  warn(\n"
     ]
    },
    {
     "name": "stdout",
     "output_type": "stream",
     "text": [
      "TRAIN: acc: 0.998, precision: 1.000, recall: 0.996, spec: 1.000\n",
      "TEST: acc: 0.772, precision: 0.011, recall: 0.500, spec: 0.774\n",
      "func:'rf_models'  took: 0.9255 sec\n",
      "\n",
      "NEK11 NEK9_inhibition_MFP_ADASYN_RF\n",
      "TRAIN: acc: 0.998, precision: 1.000, recall: 0.996, spec: 1.000\n",
      "TEST: acc: 0.905, precision: 0.026, recall: 0.500, spec: 0.907\n",
      "func:'rf_models'  took: 0.6042 sec\n",
      "\n",
      "NEK11 NEK9_inhibition_MFP_ADASYN_RF_BCW\n",
      "TRAIN: acc: 0.998, precision: 0.996, recall: 1.000, spec: 0.996\n",
      "TEST: acc: 0.910, precision: 0.000, recall: 0.000, spec: 0.915\n",
      "func:'rf_models'  took: 0.6434 sec\n",
      "\n",
      "NEK11 NEK9_inhibition_MFP_ADASYN_BRFC\n"
     ]
    },
    {
     "name": "stderr",
     "output_type": "stream",
     "text": [
      "/Users/jayceepang/miniconda3/envs/ATOM_CODE/lib/python3.9/site-packages/imblearn/ensemble/_forest.py:577: FutureWarning: The default of `sampling_strategy` will change from `'auto'` to `'all'` in version 0.13. This change will follow the implementation proposed in the original paper. Set to `'all'` to silence this warning and adopt the future behaviour.\n",
      "  warn(\n",
      "/Users/jayceepang/miniconda3/envs/ATOM_CODE/lib/python3.9/site-packages/imblearn/ensemble/_forest.py:589: FutureWarning: The default of `replacement` will change from `False` to `True` in version 0.13. This change will follow the implementation proposed in the original paper. Set to `True` to silence this warning and adopt the future behaviour.\n",
      "  warn(\n"
     ]
    },
    {
     "name": "stdout",
     "output_type": "stream",
     "text": [
      "TRAIN: acc: 0.998, precision: 0.996, recall: 1.000, spec: 0.996\n",
      "TEST: acc: 0.905, precision: 0.026, recall: 0.500, spec: 0.907\n",
      "func:'rf_models'  took: 0.9500 sec\n",
      "\n",
      "NEK11 NEK9_inhibition_MFP_ADASYN_BRFC_BCW\n"
     ]
    },
    {
     "name": "stderr",
     "output_type": "stream",
     "text": [
      "/Users/jayceepang/miniconda3/envs/ATOM_CODE/lib/python3.9/site-packages/imblearn/ensemble/_forest.py:577: FutureWarning: The default of `sampling_strategy` will change from `'auto'` to `'all'` in version 0.13. This change will follow the implementation proposed in the original paper. Set to `'all'` to silence this warning and adopt the future behaviour.\n",
      "  warn(\n",
      "/Users/jayceepang/miniconda3/envs/ATOM_CODE/lib/python3.9/site-packages/imblearn/ensemble/_forest.py:589: FutureWarning: The default of `replacement` will change from `False` to `True` in version 0.13. This change will follow the implementation proposed in the original paper. Set to `True` to silence this warning and adopt the future behaviour.\n",
      "  warn(\n"
     ]
    },
    {
     "name": "stdout",
     "output_type": "stream",
     "text": [
      "TRAIN: acc: 0.998, precision: 0.996, recall: 1.000, spec: 0.996\n",
      "TEST: acc: 0.915, precision: 0.000, recall: 0.000, spec: 0.920\n",
      "func:'rf_models'  took: 1.0034 sec\n",
      "\n",
      "NEK2 NEK2_binding_MFP_none_scaled_RF\n",
      "TRAIN: acc: 1.000, precision: 1.000, recall: 1.000, spec: 1.000\n",
      "TEST: acc: 0.785, precision: 0.077, recall: 0.161, spec: 0.837\n",
      "func:'rf_models'  took: 5.7313 sec\n",
      "\n",
      "NEK2 NEK2_binding_MFP_none_scaled_RF_BCW\n",
      "TRAIN: acc: 1.000, precision: 1.000, recall: 1.000, spec: 1.000\n",
      "TEST: acc: 0.795, precision: 0.082, recall: 0.161, spec: 0.848\n",
      "func:'rf_models'  took: 2.7443 sec\n",
      "\n",
      "NEK2 NEK2_binding_MFP_none_scaled_BRFC\n"
     ]
    },
    {
     "name": "stderr",
     "output_type": "stream",
     "text": [
      "/Users/jayceepang/miniconda3/envs/ATOM_CODE/lib/python3.9/site-packages/imblearn/ensemble/_forest.py:577: FutureWarning: The default of `sampling_strategy` will change from `'auto'` to `'all'` in version 0.13. This change will follow the implementation proposed in the original paper. Set to `'all'` to silence this warning and adopt the future behaviour.\n",
      "  warn(\n",
      "/Users/jayceepang/miniconda3/envs/ATOM_CODE/lib/python3.9/site-packages/imblearn/ensemble/_forest.py:589: FutureWarning: The default of `replacement` will change from `False` to `True` in version 0.13. This change will follow the implementation proposed in the original paper. Set to `True` to silence this warning and adopt the future behaviour.\n",
      "  warn(\n"
     ]
    },
    {
     "name": "stdout",
     "output_type": "stream",
     "text": [
      "TRAIN: acc: 0.849, precision: 0.209, recall: 1.000, spec: 0.843\n",
      "TEST: acc: 0.395, precision: 0.114, recall: 1.000, spec: 0.344\n",
      "func:'rf_models'  took: 0.2835 sec\n",
      "\n",
      "NEK2 NEK2_binding_MFP_none_scaled_BRFC_BCW\n"
     ]
    },
    {
     "name": "stderr",
     "output_type": "stream",
     "text": [
      "/Users/jayceepang/miniconda3/envs/ATOM_CODE/lib/python3.9/site-packages/imblearn/ensemble/_forest.py:577: FutureWarning: The default of `sampling_strategy` will change from `'auto'` to `'all'` in version 0.13. This change will follow the implementation proposed in the original paper. Set to `'all'` to silence this warning and adopt the future behaviour.\n",
      "  warn(\n",
      "/Users/jayceepang/miniconda3/envs/ATOM_CODE/lib/python3.9/site-packages/imblearn/ensemble/_forest.py:589: FutureWarning: The default of `replacement` will change from `False` to `True` in version 0.13. This change will follow the implementation proposed in the original paper. Set to `True` to silence this warning and adopt the future behaviour.\n",
      "  warn(\n"
     ]
    },
    {
     "name": "stdout",
     "output_type": "stream",
     "text": [
      "TRAIN: acc: 0.532, precision: 0.079, recall: 1.000, spec: 0.513\n",
      "TEST: acc: 0.807, precision: 0.117, recall: 0.226, spec: 0.856\n",
      "func:'rf_models'  took: 0.4883 sec\n",
      "\n",
      "NEK2 NEK2_binding_MFP_UNDER_RF\n",
      "TRAIN: acc: 1.000, precision: 1.000, recall: 1.000, spec: 1.000\n",
      "TEST: acc: 0.403, precision: 0.070, recall: 0.548, spec: 0.390\n",
      "func:'rf_models'  took: 0.2021 sec\n",
      "\n",
      "NEK2 NEK2_binding_MFP_UNDER_RF_BCW\n",
      "TRAIN: acc: 1.000, precision: 1.000, recall: 1.000, spec: 1.000\n",
      "TEST: acc: 0.405, precision: 0.067, recall: 0.516, spec: 0.396\n",
      "func:'rf_models'  took: 0.2064 sec\n",
      "\n",
      "NEK2 NEK2_binding_MFP_UNDER_BRFC\n"
     ]
    },
    {
     "name": "stderr",
     "output_type": "stream",
     "text": [
      "/Users/jayceepang/miniconda3/envs/ATOM_CODE/lib/python3.9/site-packages/imblearn/ensemble/_forest.py:577: FutureWarning: The default of `sampling_strategy` will change from `'auto'` to `'all'` in version 0.13. This change will follow the implementation proposed in the original paper. Set to `'all'` to silence this warning and adopt the future behaviour.\n",
      "  warn(\n",
      "/Users/jayceepang/miniconda3/envs/ATOM_CODE/lib/python3.9/site-packages/imblearn/ensemble/_forest.py:589: FutureWarning: The default of `replacement` will change from `False` to `True` in version 0.13. This change will follow the implementation proposed in the original paper. Set to `True` to silence this warning and adopt the future behaviour.\n",
      "  warn(\n"
     ]
    },
    {
     "name": "stdout",
     "output_type": "stream",
     "text": [
      "TRAIN: acc: 1.000, precision: 1.000, recall: 1.000, spec: 1.000\n",
      "TEST: acc: 0.405, precision: 0.067, recall: 0.516, spec: 0.396\n",
      "func:'rf_models'  took: 0.2658 sec\n",
      "\n",
      "NEK2 NEK2_binding_MFP_UNDER_BRFC_BCW\n"
     ]
    },
    {
     "name": "stderr",
     "output_type": "stream",
     "text": [
      "/Users/jayceepang/miniconda3/envs/ATOM_CODE/lib/python3.9/site-packages/imblearn/ensemble/_forest.py:577: FutureWarning: The default of `sampling_strategy` will change from `'auto'` to `'all'` in version 0.13. This change will follow the implementation proposed in the original paper. Set to `'all'` to silence this warning and adopt the future behaviour.\n",
      "  warn(\n",
      "/Users/jayceepang/miniconda3/envs/ATOM_CODE/lib/python3.9/site-packages/imblearn/ensemble/_forest.py:589: FutureWarning: The default of `replacement` will change from `False` to `True` in version 0.13. This change will follow the implementation proposed in the original paper. Set to `True` to silence this warning and adopt the future behaviour.\n",
      "  warn(\n"
     ]
    },
    {
     "name": "stdout",
     "output_type": "stream",
     "text": [
      "TRAIN: acc: 1.000, precision: 1.000, recall: 1.000, spec: 1.000\n",
      "TEST: acc: 0.407, precision: 0.071, recall: 0.548, spec: 0.396\n",
      "func:'rf_models'  took: 0.2668 sec\n",
      "\n",
      "NEK2 NEK2_binding_MFP_SMOTE_RF\n",
      "TRAIN: acc: 1.000, precision: 1.000, recall: 1.000, spec: 1.000\n",
      "TEST: acc: 0.828, precision: 0.025, recall: 0.032, spec: 0.894\n",
      "func:'rf_models'  took: 5.6327 sec\n",
      "\n",
      "NEK2 NEK2_binding_MFP_SMOTE_RF_BCW\n",
      "TRAIN: acc: 1.000, precision: 1.000, recall: 1.000, spec: 1.000\n",
      "TEST: acc: 0.833, precision: 0.026, recall: 0.032, spec: 0.900\n",
      "func:'rf_models'  took: 5.5798 sec\n",
      "\n",
      "NEK2 NEK2_binding_MFP_SMOTE_BRFC\n"
     ]
    },
    {
     "name": "stderr",
     "output_type": "stream",
     "text": [
      "/Users/jayceepang/miniconda3/envs/ATOM_CODE/lib/python3.9/site-packages/imblearn/ensemble/_forest.py:577: FutureWarning: The default of `sampling_strategy` will change from `'auto'` to `'all'` in version 0.13. This change will follow the implementation proposed in the original paper. Set to `'all'` to silence this warning and adopt the future behaviour.\n",
      "  warn(\n",
      "/Users/jayceepang/miniconda3/envs/ATOM_CODE/lib/python3.9/site-packages/imblearn/ensemble/_forest.py:589: FutureWarning: The default of `replacement` will change from `False` to `True` in version 0.13. This change will follow the implementation proposed in the original paper. Set to `True` to silence this warning and adopt the future behaviour.\n",
      "  warn(\n"
     ]
    },
    {
     "name": "stdout",
     "output_type": "stream",
     "text": [
      "TRAIN: acc: 1.000, precision: 1.000, recall: 1.000, spec: 1.000\n",
      "TEST: acc: 0.830, precision: 0.026, recall: 0.032, spec: 0.897\n",
      "func:'rf_models'  took: 10.5123 sec\n",
      "\n",
      "NEK2 NEK2_binding_MFP_SMOTE_BRFC_BCW\n"
     ]
    },
    {
     "name": "stderr",
     "output_type": "stream",
     "text": [
      "/Users/jayceepang/miniconda3/envs/ATOM_CODE/lib/python3.9/site-packages/imblearn/ensemble/_forest.py:577: FutureWarning: The default of `sampling_strategy` will change from `'auto'` to `'all'` in version 0.13. This change will follow the implementation proposed in the original paper. Set to `'all'` to silence this warning and adopt the future behaviour.\n",
      "  warn(\n",
      "/Users/jayceepang/miniconda3/envs/ATOM_CODE/lib/python3.9/site-packages/imblearn/ensemble/_forest.py:589: FutureWarning: The default of `replacement` will change from `False` to `True` in version 0.13. This change will follow the implementation proposed in the original paper. Set to `True` to silence this warning and adopt the future behaviour.\n",
      "  warn(\n"
     ]
    },
    {
     "name": "stdout",
     "output_type": "stream",
     "text": [
      "TRAIN: acc: 1.000, precision: 1.000, recall: 1.000, spec: 1.000\n",
      "TEST: acc: 0.830, precision: 0.026, recall: 0.032, spec: 0.897\n",
      "func:'rf_models'  took: 10.5071 sec\n",
      "\n",
      "NEK2 NEK2_binding_MFP_ADASYN_RF\n",
      "TRAIN: acc: 1.000, precision: 1.000, recall: 1.000, spec: 1.000\n",
      "TEST: acc: 0.830, precision: 0.151, recall: 0.258, spec: 0.878\n",
      "func:'rf_models'  took: 3.7111 sec\n",
      "\n",
      "NEK2 NEK2_binding_MFP_ADASYN_RF_BCW\n",
      "TRAIN: acc: 1.000, precision: 1.000, recall: 1.000, spec: 1.000\n",
      "TEST: acc: 0.823, precision: 0.143, recall: 0.258, spec: 0.870\n",
      "func:'rf_models'  took: 3.8059 sec\n",
      "\n",
      "NEK2 NEK2_binding_MFP_ADASYN_BRFC\n"
     ]
    },
    {
     "name": "stderr",
     "output_type": "stream",
     "text": [
      "/Users/jayceepang/miniconda3/envs/ATOM_CODE/lib/python3.9/site-packages/imblearn/ensemble/_forest.py:577: FutureWarning: The default of `sampling_strategy` will change from `'auto'` to `'all'` in version 0.13. This change will follow the implementation proposed in the original paper. Set to `'all'` to silence this warning and adopt the future behaviour.\n",
      "  warn(\n",
      "/Users/jayceepang/miniconda3/envs/ATOM_CODE/lib/python3.9/site-packages/imblearn/ensemble/_forest.py:589: FutureWarning: The default of `replacement` will change from `False` to `True` in version 0.13. This change will follow the implementation proposed in the original paper. Set to `True` to silence this warning and adopt the future behaviour.\n",
      "  warn(\n"
     ]
    },
    {
     "name": "stdout",
     "output_type": "stream",
     "text": [
      "TRAIN: acc: 1.000, precision: 1.000, recall: 1.000, spec: 1.000\n",
      "TEST: acc: 0.815, precision: 0.136, recall: 0.258, spec: 0.862\n",
      "func:'rf_models'  took: 6.9677 sec\n",
      "\n",
      "NEK2 NEK2_binding_MFP_ADASYN_BRFC_BCW\n"
     ]
    },
    {
     "name": "stderr",
     "output_type": "stream",
     "text": [
      "/Users/jayceepang/miniconda3/envs/ATOM_CODE/lib/python3.9/site-packages/imblearn/ensemble/_forest.py:577: FutureWarning: The default of `sampling_strategy` will change from `'auto'` to `'all'` in version 0.13. This change will follow the implementation proposed in the original paper. Set to `'all'` to silence this warning and adopt the future behaviour.\n",
      "  warn(\n",
      "/Users/jayceepang/miniconda3/envs/ATOM_CODE/lib/python3.9/site-packages/imblearn/ensemble/_forest.py:589: FutureWarning: The default of `replacement` will change from `False` to `True` in version 0.13. This change will follow the implementation proposed in the original paper. Set to `True` to silence this warning and adopt the future behaviour.\n",
      "  warn(\n"
     ]
    },
    {
     "name": "stdout",
     "output_type": "stream",
     "text": [
      "TRAIN: acc: 1.000, precision: 1.000, recall: 1.000, spec: 1.000\n",
      "TEST: acc: 0.815, precision: 0.136, recall: 0.258, spec: 0.862\n",
      "func:'rf_models'  took: 7.3086 sec\n",
      "\n",
      "NEK2 NEK2_inhibition_MFP_none_scaled_RF\n",
      "TRAIN: acc: 0.998, precision: 1.000, recall: 0.973, spec: 1.000\n",
      "TEST: acc: 0.665, precision: 0.135, recall: 0.613, spec: 0.669\n",
      "func:'rf_models'  took: 8.1895 sec\n",
      "\n",
      "NEK2 NEK2_inhibition_MFP_none_scaled_RF_BCW\n",
      "TRAIN: acc: 0.998, precision: 0.974, recall: 1.000, spec: 0.998\n",
      "TEST: acc: 0.735, precision: 0.174, recall: 0.645, spec: 0.743\n",
      "func:'rf_models'  took: 4.3343 sec\n",
      "\n",
      "NEK2 NEK2_inhibition_MFP_none_scaled_BRFC\n"
     ]
    },
    {
     "name": "stderr",
     "output_type": "stream",
     "text": [
      "/Users/jayceepang/miniconda3/envs/ATOM_CODE/lib/python3.9/site-packages/imblearn/ensemble/_forest.py:577: FutureWarning: The default of `sampling_strategy` will change from `'auto'` to `'all'` in version 0.13. This change will follow the implementation proposed in the original paper. Set to `'all'` to silence this warning and adopt the future behaviour.\n",
      "  warn(\n",
      "/Users/jayceepang/miniconda3/envs/ATOM_CODE/lib/python3.9/site-packages/imblearn/ensemble/_forest.py:589: FutureWarning: The default of `replacement` will change from `False` to `True` in version 0.13. This change will follow the implementation proposed in the original paper. Set to `True` to silence this warning and adopt the future behaviour.\n",
      "  warn(\n"
     ]
    },
    {
     "name": "stdout",
     "output_type": "stream",
     "text": [
      "TRAIN: acc: 0.917, precision: 0.453, recall: 1.000, spec: 0.911\n",
      "TEST: acc: 0.395, precision: 0.111, recall: 0.968, spec: 0.347\n",
      "func:'rf_models'  took: 0.5978 sec\n",
      "\n",
      "NEK2 NEK2_inhibition_MFP_none_scaled_BRFC_BCW\n"
     ]
    },
    {
     "name": "stderr",
     "output_type": "stream",
     "text": [
      "/Users/jayceepang/miniconda3/envs/ATOM_CODE/lib/python3.9/site-packages/imblearn/ensemble/_forest.py:577: FutureWarning: The default of `sampling_strategy` will change from `'auto'` to `'all'` in version 0.13. This change will follow the implementation proposed in the original paper. Set to `'all'` to silence this warning and adopt the future behaviour.\n",
      "  warn(\n",
      "/Users/jayceepang/miniconda3/envs/ATOM_CODE/lib/python3.9/site-packages/imblearn/ensemble/_forest.py:589: FutureWarning: The default of `replacement` will change from `False` to `True` in version 0.13. This change will follow the implementation proposed in the original paper. Set to `True` to silence this warning and adopt the future behaviour.\n",
      "  warn(\n"
     ]
    },
    {
     "name": "stdout",
     "output_type": "stream",
     "text": [
      "TRAIN: acc: 0.772, precision: 0.232, recall: 1.000, spec: 0.755\n",
      "TEST: acc: 0.890, precision: 0.118, recall: 0.065, spec: 0.959\n",
      "func:'rf_models'  took: 1.2737 sec\n",
      "\n",
      "NEK2 NEK2_inhibition_MFP_UNDER_RF\n",
      "TRAIN: acc: 0.996, precision: 0.991, recall: 1.000, spec: 0.991\n",
      "TEST: acc: 0.400, precision: 0.106, recall: 0.903, spec: 0.358\n",
      "func:'rf_models'  took: 0.4690 sec\n",
      "\n",
      "NEK2 NEK2_inhibition_MFP_UNDER_RF_BCW\n",
      "TRAIN: acc: 0.996, precision: 0.991, recall: 1.000, spec: 0.991\n",
      "TEST: acc: 0.375, precision: 0.105, recall: 0.935, spec: 0.328\n",
      "func:'rf_models'  took: 0.4779 sec\n",
      "\n",
      "NEK2 NEK2_inhibition_MFP_UNDER_BRFC\n"
     ]
    },
    {
     "name": "stderr",
     "output_type": "stream",
     "text": [
      "/Users/jayceepang/miniconda3/envs/ATOM_CODE/lib/python3.9/site-packages/imblearn/ensemble/_forest.py:577: FutureWarning: The default of `sampling_strategy` will change from `'auto'` to `'all'` in version 0.13. This change will follow the implementation proposed in the original paper. Set to `'all'` to silence this warning and adopt the future behaviour.\n",
      "  warn(\n",
      "/Users/jayceepang/miniconda3/envs/ATOM_CODE/lib/python3.9/site-packages/imblearn/ensemble/_forest.py:589: FutureWarning: The default of `replacement` will change from `False` to `True` in version 0.13. This change will follow the implementation proposed in the original paper. Set to `True` to silence this warning and adopt the future behaviour.\n",
      "  warn(\n"
     ]
    },
    {
     "name": "stdout",
     "output_type": "stream",
     "text": [
      "TRAIN: acc: 0.996, precision: 0.991, recall: 1.000, spec: 0.991\n",
      "TEST: acc: 0.403, precision: 0.106, recall: 0.903, spec: 0.360\n",
      "func:'rf_models'  took: 0.6353 sec\n",
      "\n",
      "NEK2 NEK2_inhibition_MFP_UNDER_BRFC_BCW\n"
     ]
    },
    {
     "name": "stderr",
     "output_type": "stream",
     "text": [
      "/Users/jayceepang/miniconda3/envs/ATOM_CODE/lib/python3.9/site-packages/imblearn/ensemble/_forest.py:577: FutureWarning: The default of `sampling_strategy` will change from `'auto'` to `'all'` in version 0.13. This change will follow the implementation proposed in the original paper. Set to `'all'` to silence this warning and adopt the future behaviour.\n",
      "  warn(\n",
      "/Users/jayceepang/miniconda3/envs/ATOM_CODE/lib/python3.9/site-packages/imblearn/ensemble/_forest.py:589: FutureWarning: The default of `replacement` will change from `False` to `True` in version 0.13. This change will follow the implementation proposed in the original paper. Set to `True` to silence this warning and adopt the future behaviour.\n",
      "  warn(\n"
     ]
    },
    {
     "name": "stdout",
     "output_type": "stream",
     "text": [
      "TRAIN: acc: 0.996, precision: 0.991, recall: 1.000, spec: 0.991\n",
      "TEST: acc: 0.400, precision: 0.106, recall: 0.903, spec: 0.358\n",
      "func:'rf_models'  took: 0.6302 sec\n",
      "\n",
      "NEK2 NEK2_inhibition_MFP_SMOTE_RF\n",
      "TRAIN: acc: 0.999, precision: 0.999, recall: 0.999, spec: 0.999\n",
      "TEST: acc: 0.782, precision: 0.141, recall: 0.355, spec: 0.818\n",
      "func:'rf_models'  took: 6.1179 sec\n",
      "\n",
      "NEK2 NEK2_inhibition_MFP_SMOTE_RF_BCW\n",
      "TRAIN: acc: 0.999, precision: 0.999, recall: 0.999, spec: 0.999\n",
      "TEST: acc: 0.823, precision: 0.267, recall: 0.742, spec: 0.829\n",
      "func:'rf_models'  took: 6.0761 sec\n",
      "\n",
      "NEK2 NEK2_inhibition_MFP_SMOTE_BRFC\n"
     ]
    },
    {
     "name": "stderr",
     "output_type": "stream",
     "text": [
      "/Users/jayceepang/miniconda3/envs/ATOM_CODE/lib/python3.9/site-packages/imblearn/ensemble/_forest.py:577: FutureWarning: The default of `sampling_strategy` will change from `'auto'` to `'all'` in version 0.13. This change will follow the implementation proposed in the original paper. Set to `'all'` to silence this warning and adopt the future behaviour.\n",
      "  warn(\n",
      "/Users/jayceepang/miniconda3/envs/ATOM_CODE/lib/python3.9/site-packages/imblearn/ensemble/_forest.py:589: FutureWarning: The default of `replacement` will change from `False` to `True` in version 0.13. This change will follow the implementation proposed in the original paper. Set to `True` to silence this warning and adopt the future behaviour.\n",
      "  warn(\n"
     ]
    },
    {
     "name": "stdout",
     "output_type": "stream",
     "text": [
      "TRAIN: acc: 0.999, precision: 0.999, recall: 0.999, spec: 0.999\n",
      "TEST: acc: 0.802, precision: 0.239, recall: 0.710, spec: 0.810\n",
      "func:'rf_models'  took: 11.4170 sec\n",
      "\n",
      "NEK2 NEK2_inhibition_MFP_SMOTE_BRFC_BCW\n"
     ]
    },
    {
     "name": "stderr",
     "output_type": "stream",
     "text": [
      "/Users/jayceepang/miniconda3/envs/ATOM_CODE/lib/python3.9/site-packages/imblearn/ensemble/_forest.py:577: FutureWarning: The default of `sampling_strategy` will change from `'auto'` to `'all'` in version 0.13. This change will follow the implementation proposed in the original paper. Set to `'all'` to silence this warning and adopt the future behaviour.\n",
      "  warn(\n",
      "/Users/jayceepang/miniconda3/envs/ATOM_CODE/lib/python3.9/site-packages/imblearn/ensemble/_forest.py:589: FutureWarning: The default of `replacement` will change from `False` to `True` in version 0.13. This change will follow the implementation proposed in the original paper. Set to `True` to silence this warning and adopt the future behaviour.\n",
      "  warn(\n"
     ]
    },
    {
     "name": "stdout",
     "output_type": "stream",
     "text": [
      "TRAIN: acc: 0.999, precision: 0.999, recall: 0.999, spec: 0.999\n",
      "TEST: acc: 0.812, precision: 0.256, recall: 0.742, spec: 0.818\n",
      "func:'rf_models'  took: 11.6662 sec\n",
      "\n",
      "NEK2 NEK2_inhibition_MFP_ADASYN_RF\n",
      "TRAIN: acc: 0.999, precision: 0.999, recall: 0.999, spec: 0.999\n",
      "TEST: acc: 0.657, precision: 0.035, recall: 0.129, spec: 0.702\n",
      "func:'rf_models'  took: 8.1485 sec\n",
      "\n",
      "NEK2 NEK2_inhibition_MFP_ADASYN_RF_BCW\n",
      "TRAIN: acc: 0.999, precision: 0.999, recall: 0.999, spec: 0.999\n",
      "TEST: acc: 0.823, precision: 0.214, recall: 0.484, spec: 0.851\n",
      "func:'rf_models'  took: 8.0824 sec\n",
      "\n",
      "NEK2 NEK2_inhibition_MFP_ADASYN_BRFC\n"
     ]
    },
    {
     "name": "stderr",
     "output_type": "stream",
     "text": [
      "/Users/jayceepang/miniconda3/envs/ATOM_CODE/lib/python3.9/site-packages/imblearn/ensemble/_forest.py:577: FutureWarning: The default of `sampling_strategy` will change from `'auto'` to `'all'` in version 0.13. This change will follow the implementation proposed in the original paper. Set to `'all'` to silence this warning and adopt the future behaviour.\n",
      "  warn(\n",
      "/Users/jayceepang/miniconda3/envs/ATOM_CODE/lib/python3.9/site-packages/imblearn/ensemble/_forest.py:589: FutureWarning: The default of `replacement` will change from `False` to `True` in version 0.13. This change will follow the implementation proposed in the original paper. Set to `True` to silence this warning and adopt the future behaviour.\n",
      "  warn(\n"
     ]
    },
    {
     "name": "stdout",
     "output_type": "stream",
     "text": [
      "TRAIN: acc: 0.999, precision: 0.999, recall: 0.999, spec: 0.999\n",
      "TEST: acc: 0.733, precision: 0.148, recall: 0.516, spec: 0.751\n",
      "func:'rf_models'  took: 15.6328 sec\n",
      "\n",
      "NEK2 NEK2_inhibition_MFP_ADASYN_BRFC_BCW\n"
     ]
    },
    {
     "name": "stderr",
     "output_type": "stream",
     "text": [
      "/Users/jayceepang/miniconda3/envs/ATOM_CODE/lib/python3.9/site-packages/imblearn/ensemble/_forest.py:577: FutureWarning: The default of `sampling_strategy` will change from `'auto'` to `'all'` in version 0.13. This change will follow the implementation proposed in the original paper. Set to `'all'` to silence this warning and adopt the future behaviour.\n",
      "  warn(\n",
      "/Users/jayceepang/miniconda3/envs/ATOM_CODE/lib/python3.9/site-packages/imblearn/ensemble/_forest.py:589: FutureWarning: The default of `replacement` will change from `False` to `True` in version 0.13. This change will follow the implementation proposed in the original paper. Set to `True` to silence this warning and adopt the future behaviour.\n",
      "  warn(\n"
     ]
    },
    {
     "name": "stdout",
     "output_type": "stream",
     "text": [
      "TRAIN: acc: 0.999, precision: 0.999, recall: 0.999, spec: 0.999\n",
      "TEST: acc: 0.835, precision: 0.231, recall: 0.484, spec: 0.864\n",
      "func:'rf_models'  took: 15.8751 sec\n",
      "\n",
      "NEK2 NEK3_binding_MFP_none_scaled_RF\n",
      "TRAIN: acc: 0.998, precision: 1.000, recall: 0.969, spec: 1.000\n",
      "TEST: acc: 0.598, precision: 0.083, recall: 0.419, spec: 0.612\n",
      "func:'rf_models'  took: 5.3945 sec\n",
      "\n",
      "NEK2 NEK3_binding_MFP_none_scaled_RF_BCW\n",
      "TRAIN: acc: 0.998, precision: 0.970, recall: 1.000, spec: 0.998\n",
      "TEST: acc: 0.858, precision: 0.139, recall: 0.161, spec: 0.916\n",
      "func:'rf_models'  took: 2.6028 sec\n",
      "\n",
      "NEK2 NEK3_binding_MFP_none_scaled_BRFC\n"
     ]
    },
    {
     "name": "stderr",
     "output_type": "stream",
     "text": [
      "/Users/jayceepang/miniconda3/envs/ATOM_CODE/lib/python3.9/site-packages/imblearn/ensemble/_forest.py:577: FutureWarning: The default of `sampling_strategy` will change from `'auto'` to `'all'` in version 0.13. This change will follow the implementation proposed in the original paper. Set to `'all'` to silence this warning and adopt the future behaviour.\n",
      "  warn(\n",
      "/Users/jayceepang/miniconda3/envs/ATOM_CODE/lib/python3.9/site-packages/imblearn/ensemble/_forest.py:589: FutureWarning: The default of `replacement` will change from `False` to `True` in version 0.13. This change will follow the implementation proposed in the original paper. Set to `True` to silence this warning and adopt the future behaviour.\n",
      "  warn(\n"
     ]
    },
    {
     "name": "stdout",
     "output_type": "stream",
     "text": [
      "TRAIN: acc: 0.797, precision: 0.219, recall: 1.000, spec: 0.784\n",
      "TEST: acc: 0.515, precision: 0.128, recall: 0.903, spec: 0.482\n",
      "func:'rf_models'  took: 0.4002 sec\n",
      "\n",
      "NEK2 NEK3_binding_MFP_none_scaled_BRFC_BCW\n"
     ]
    },
    {
     "name": "stderr",
     "output_type": "stream",
     "text": [
      "/Users/jayceepang/miniconda3/envs/ATOM_CODE/lib/python3.9/site-packages/imblearn/ensemble/_forest.py:577: FutureWarning: The default of `sampling_strategy` will change from `'auto'` to `'all'` in version 0.13. This change will follow the implementation proposed in the original paper. Set to `'all'` to silence this warning and adopt the future behaviour.\n",
      "  warn(\n",
      "/Users/jayceepang/miniconda3/envs/ATOM_CODE/lib/python3.9/site-packages/imblearn/ensemble/_forest.py:589: FutureWarning: The default of `replacement` will change from `False` to `True` in version 0.13. This change will follow the implementation proposed in the original paper. Set to `True` to silence this warning and adopt the future behaviour.\n",
      "  warn(\n"
     ]
    },
    {
     "name": "stdout",
     "output_type": "stream",
     "text": [
      "TRAIN: acc: 0.602, precision: 0.125, recall: 1.000, spec: 0.578\n",
      "TEST: acc: 0.868, precision: 0.176, recall: 0.194, spec: 0.924\n",
      "func:'rf_models'  took: 0.8883 sec\n",
      "\n",
      "NEK2 NEK3_binding_MFP_UNDER_RF\n",
      "TRAIN: acc: 1.000, precision: 1.000, recall: 1.000, spec: 1.000\n",
      "TEST: acc: 0.410, precision: 0.056, recall: 0.419, spec: 0.409\n",
      "func:'rf_models'  took: 0.3096 sec\n",
      "\n",
      "NEK2 NEK3_binding_MFP_UNDER_RF_BCW\n",
      "TRAIN: acc: 1.000, precision: 1.000, recall: 1.000, spec: 1.000\n",
      "TEST: acc: 0.458, precision: 0.085, recall: 0.613, spec: 0.444\n",
      "func:'rf_models'  took: 0.3220 sec\n",
      "\n",
      "NEK2 NEK3_binding_MFP_UNDER_BRFC\n"
     ]
    },
    {
     "name": "stderr",
     "output_type": "stream",
     "text": [
      "/Users/jayceepang/miniconda3/envs/ATOM_CODE/lib/python3.9/site-packages/imblearn/ensemble/_forest.py:577: FutureWarning: The default of `sampling_strategy` will change from `'auto'` to `'all'` in version 0.13. This change will follow the implementation proposed in the original paper. Set to `'all'` to silence this warning and adopt the future behaviour.\n",
      "  warn(\n",
      "/Users/jayceepang/miniconda3/envs/ATOM_CODE/lib/python3.9/site-packages/imblearn/ensemble/_forest.py:589: FutureWarning: The default of `replacement` will change from `False` to `True` in version 0.13. This change will follow the implementation proposed in the original paper. Set to `True` to silence this warning and adopt the future behaviour.\n",
      "  warn(\n"
     ]
    },
    {
     "name": "stdout",
     "output_type": "stream",
     "text": [
      "TRAIN: acc: 1.000, precision: 1.000, recall: 1.000, spec: 1.000\n",
      "TEST: acc: 0.455, precision: 0.084, recall: 0.613, spec: 0.442\n",
      "func:'rf_models'  took: 0.3908 sec\n",
      "\n",
      "NEK2 NEK3_binding_MFP_UNDER_BRFC_BCW\n"
     ]
    },
    {
     "name": "stderr",
     "output_type": "stream",
     "text": [
      "/Users/jayceepang/miniconda3/envs/ATOM_CODE/lib/python3.9/site-packages/imblearn/ensemble/_forest.py:577: FutureWarning: The default of `sampling_strategy` will change from `'auto'` to `'all'` in version 0.13. This change will follow the implementation proposed in the original paper. Set to `'all'` to silence this warning and adopt the future behaviour.\n",
      "  warn(\n",
      "/Users/jayceepang/miniconda3/envs/ATOM_CODE/lib/python3.9/site-packages/imblearn/ensemble/_forest.py:589: FutureWarning: The default of `replacement` will change from `False` to `True` in version 0.13. This change will follow the implementation proposed in the original paper. Set to `True` to silence this warning and adopt the future behaviour.\n",
      "  warn(\n"
     ]
    },
    {
     "name": "stdout",
     "output_type": "stream",
     "text": [
      "TRAIN: acc: 1.000, precision: 1.000, recall: 1.000, spec: 1.000\n",
      "TEST: acc: 0.410, precision: 0.056, recall: 0.419, spec: 0.409\n",
      "func:'rf_models'  took: 0.4204 sec\n",
      "\n",
      "NEK2 NEK3_binding_MFP_SMOTE_RF\n",
      "TRAIN: acc: 0.999, precision: 1.000, recall: 0.998, spec: 1.000\n",
      "TEST: acc: 0.750, precision: 0.094, recall: 0.258, spec: 0.791\n",
      "func:'rf_models'  took: 4.3619 sec\n",
      "\n",
      "NEK2 NEK3_binding_MFP_SMOTE_RF_BCW\n",
      "TRAIN: acc: 0.999, precision: 1.000, recall: 0.998, spec: 1.000\n",
      "TEST: acc: 0.748, precision: 0.102, recall: 0.290, spec: 0.786\n",
      "func:'rf_models'  took: 4.5148 sec\n",
      "\n",
      "NEK2 NEK3_binding_MFP_SMOTE_BRFC\n"
     ]
    },
    {
     "name": "stderr",
     "output_type": "stream",
     "text": [
      "/Users/jayceepang/miniconda3/envs/ATOM_CODE/lib/python3.9/site-packages/imblearn/ensemble/_forest.py:577: FutureWarning: The default of `sampling_strategy` will change from `'auto'` to `'all'` in version 0.13. This change will follow the implementation proposed in the original paper. Set to `'all'` to silence this warning and adopt the future behaviour.\n",
      "  warn(\n",
      "/Users/jayceepang/miniconda3/envs/ATOM_CODE/lib/python3.9/site-packages/imblearn/ensemble/_forest.py:589: FutureWarning: The default of `replacement` will change from `False` to `True` in version 0.13. This change will follow the implementation proposed in the original paper. Set to `True` to silence this warning and adopt the future behaviour.\n",
      "  warn(\n"
     ]
    },
    {
     "name": "stdout",
     "output_type": "stream",
     "text": [
      "TRAIN: acc: 0.999, precision: 1.000, recall: 0.998, spec: 1.000\n",
      "TEST: acc: 0.752, precision: 0.105, recall: 0.290, spec: 0.791\n",
      "func:'rf_models'  took: 7.4987 sec\n",
      "\n",
      "NEK2 NEK3_binding_MFP_SMOTE_BRFC_BCW\n"
     ]
    },
    {
     "name": "stderr",
     "output_type": "stream",
     "text": [
      "/Users/jayceepang/miniconda3/envs/ATOM_CODE/lib/python3.9/site-packages/imblearn/ensemble/_forest.py:577: FutureWarning: The default of `sampling_strategy` will change from `'auto'` to `'all'` in version 0.13. This change will follow the implementation proposed in the original paper. Set to `'all'` to silence this warning and adopt the future behaviour.\n",
      "  warn(\n",
      "/Users/jayceepang/miniconda3/envs/ATOM_CODE/lib/python3.9/site-packages/imblearn/ensemble/_forest.py:589: FutureWarning: The default of `replacement` will change from `False` to `True` in version 0.13. This change will follow the implementation proposed in the original paper. Set to `True` to silence this warning and adopt the future behaviour.\n",
      "  warn(\n"
     ]
    },
    {
     "name": "stdout",
     "output_type": "stream",
     "text": [
      "TRAIN: acc: 0.999, precision: 1.000, recall: 0.998, spec: 1.000\n",
      "TEST: acc: 0.748, precision: 0.093, recall: 0.258, spec: 0.789\n",
      "func:'rf_models'  took: 7.5959 sec\n",
      "\n",
      "NEK2 NEK3_binding_MFP_ADASYN_RF\n",
      "TRAIN: acc: 0.999, precision: 1.000, recall: 0.998, spec: 1.000\n",
      "TEST: acc: 0.677, precision: 0.123, recall: 0.516, spec: 0.691\n",
      "func:'rf_models'  took: 3.7130 sec\n",
      "\n",
      "NEK2 NEK3_binding_MFP_ADASYN_RF_BCW\n",
      "TRAIN: acc: 0.999, precision: 1.000, recall: 0.998, spec: 1.000\n",
      "TEST: acc: 0.667, precision: 0.119, recall: 0.516, spec: 0.680\n",
      "func:'rf_models'  took: 3.9267 sec\n",
      "\n",
      "NEK2 NEK3_binding_MFP_ADASYN_BRFC\n"
     ]
    },
    {
     "name": "stderr",
     "output_type": "stream",
     "text": [
      "/Users/jayceepang/miniconda3/envs/ATOM_CODE/lib/python3.9/site-packages/imblearn/ensemble/_forest.py:577: FutureWarning: The default of `sampling_strategy` will change from `'auto'` to `'all'` in version 0.13. This change will follow the implementation proposed in the original paper. Set to `'all'` to silence this warning and adopt the future behaviour.\n",
      "  warn(\n",
      "/Users/jayceepang/miniconda3/envs/ATOM_CODE/lib/python3.9/site-packages/imblearn/ensemble/_forest.py:589: FutureWarning: The default of `replacement` will change from `False` to `True` in version 0.13. This change will follow the implementation proposed in the original paper. Set to `True` to silence this warning and adopt the future behaviour.\n",
      "  warn(\n"
     ]
    },
    {
     "name": "stdout",
     "output_type": "stream",
     "text": [
      "TRAIN: acc: 0.999, precision: 1.000, recall: 0.998, spec: 1.000\n",
      "TEST: acc: 0.677, precision: 0.123, recall: 0.516, spec: 0.691\n",
      "func:'rf_models'  took: 6.5656 sec\n",
      "\n",
      "NEK2 NEK3_binding_MFP_ADASYN_BRFC_BCW\n"
     ]
    },
    {
     "name": "stderr",
     "output_type": "stream",
     "text": [
      "/Users/jayceepang/miniconda3/envs/ATOM_CODE/lib/python3.9/site-packages/imblearn/ensemble/_forest.py:577: FutureWarning: The default of `sampling_strategy` will change from `'auto'` to `'all'` in version 0.13. This change will follow the implementation proposed in the original paper. Set to `'all'` to silence this warning and adopt the future behaviour.\n",
      "  warn(\n",
      "/Users/jayceepang/miniconda3/envs/ATOM_CODE/lib/python3.9/site-packages/imblearn/ensemble/_forest.py:589: FutureWarning: The default of `replacement` will change from `False` to `True` in version 0.13. This change will follow the implementation proposed in the original paper. Set to `True` to silence this warning and adopt the future behaviour.\n",
      "  warn(\n"
     ]
    },
    {
     "name": "stdout",
     "output_type": "stream",
     "text": [
      "TRAIN: acc: 0.999, precision: 1.000, recall: 0.998, spec: 1.000\n",
      "TEST: acc: 0.660, precision: 0.117, recall: 0.516, spec: 0.672\n",
      "func:'rf_models'  took: 6.8287 sec\n",
      "\n",
      "NEK2 NEK5_binding_MFP_none_scaled_RF\n",
      "TRAIN: acc: 0.998, precision: 1.000, recall: 0.974, spec: 1.000\n",
      "TEST: acc: 0.550, precision: 0.069, recall: 0.387, spec: 0.564\n",
      "func:'rf_models'  took: 3.3507 sec\n",
      "\n",
      "NEK2 NEK5_binding_MFP_none_scaled_RF_BCW\n",
      "TRAIN: acc: 0.998, precision: 0.975, recall: 1.000, spec: 0.998\n",
      "TEST: acc: 0.815, precision: 0.022, recall: 0.032, spec: 0.881\n",
      "func:'rf_models'  took: 2.7650 sec\n",
      "\n",
      "NEK2 NEK5_binding_MFP_none_scaled_BRFC\n"
     ]
    },
    {
     "name": "stderr",
     "output_type": "stream",
     "text": [
      "/Users/jayceepang/miniconda3/envs/ATOM_CODE/lib/python3.9/site-packages/imblearn/ensemble/_forest.py:577: FutureWarning: The default of `sampling_strategy` will change from `'auto'` to `'all'` in version 0.13. This change will follow the implementation proposed in the original paper. Set to `'all'` to silence this warning and adopt the future behaviour.\n",
      "  warn(\n",
      "/Users/jayceepang/miniconda3/envs/ATOM_CODE/lib/python3.9/site-packages/imblearn/ensemble/_forest.py:589: FutureWarning: The default of `replacement` will change from `False` to `True` in version 0.13. This change will follow the implementation proposed in the original paper. Set to `True` to silence this warning and adopt the future behaviour.\n",
      "  warn(\n"
     ]
    },
    {
     "name": "stdout",
     "output_type": "stream",
     "text": [
      "TRAIN: acc: 0.876, precision: 0.385, recall: 1.000, spec: 0.865\n",
      "TEST: acc: 0.500, precision: 0.111, recall: 0.774, spec: 0.477\n",
      "func:'rf_models'  took: 0.4290 sec\n",
      "\n",
      "NEK2 NEK5_binding_MFP_none_scaled_BRFC_BCW\n"
     ]
    },
    {
     "name": "stderr",
     "output_type": "stream",
     "text": [
      "/Users/jayceepang/miniconda3/envs/ATOM_CODE/lib/python3.9/site-packages/imblearn/ensemble/_forest.py:577: FutureWarning: The default of `sampling_strategy` will change from `'auto'` to `'all'` in version 0.13. This change will follow the implementation proposed in the original paper. Set to `'all'` to silence this warning and adopt the future behaviour.\n",
      "  warn(\n",
      "/Users/jayceepang/miniconda3/envs/ATOM_CODE/lib/python3.9/site-packages/imblearn/ensemble/_forest.py:589: FutureWarning: The default of `replacement` will change from `False` to `True` in version 0.13. This change will follow the implementation proposed in the original paper. Set to `True` to silence this warning and adopt the future behaviour.\n",
      "  warn(\n"
     ]
    },
    {
     "name": "stdout",
     "output_type": "stream",
     "text": [
      "TRAIN: acc: 0.788, precision: 0.268, recall: 1.000, spec: 0.770\n",
      "TEST: acc: 0.510, precision: 0.090, recall: 0.581, spec: 0.504\n",
      "func:'rf_models'  took: 0.5888 sec\n",
      "\n",
      "NEK2 NEK5_binding_MFP_UNDER_RF\n",
      "TRAIN: acc: 1.000, precision: 1.000, recall: 1.000, spec: 1.000\n",
      "TEST: acc: 0.532, precision: 0.118, recall: 0.774, spec: 0.512\n",
      "func:'rf_models'  took: 0.2719 sec\n",
      "\n",
      "NEK2 NEK5_binding_MFP_UNDER_RF_BCW\n",
      "TRAIN: acc: 1.000, precision: 1.000, recall: 1.000, spec: 1.000\n",
      "TEST: acc: 0.527, precision: 0.120, recall: 0.806, spec: 0.504\n",
      "func:'rf_models'  took: 0.2764 sec\n",
      "\n",
      "NEK2 NEK5_binding_MFP_UNDER_BRFC\n"
     ]
    },
    {
     "name": "stderr",
     "output_type": "stream",
     "text": [
      "/Users/jayceepang/miniconda3/envs/ATOM_CODE/lib/python3.9/site-packages/imblearn/ensemble/_forest.py:577: FutureWarning: The default of `sampling_strategy` will change from `'auto'` to `'all'` in version 0.13. This change will follow the implementation proposed in the original paper. Set to `'all'` to silence this warning and adopt the future behaviour.\n",
      "  warn(\n",
      "/Users/jayceepang/miniconda3/envs/ATOM_CODE/lib/python3.9/site-packages/imblearn/ensemble/_forest.py:589: FutureWarning: The default of `replacement` will change from `False` to `True` in version 0.13. This change will follow the implementation proposed in the original paper. Set to `True` to silence this warning and adopt the future behaviour.\n",
      "  warn(\n"
     ]
    },
    {
     "name": "stdout",
     "output_type": "stream",
     "text": [
      "TRAIN: acc: 1.000, precision: 1.000, recall: 1.000, spec: 1.000\n",
      "TEST: acc: 0.527, precision: 0.120, recall: 0.806, spec: 0.504\n",
      "func:'rf_models'  took: 0.3635 sec\n",
      "\n",
      "NEK2 NEK5_binding_MFP_UNDER_BRFC_BCW\n"
     ]
    },
    {
     "name": "stderr",
     "output_type": "stream",
     "text": [
      "/Users/jayceepang/miniconda3/envs/ATOM_CODE/lib/python3.9/site-packages/imblearn/ensemble/_forest.py:577: FutureWarning: The default of `sampling_strategy` will change from `'auto'` to `'all'` in version 0.13. This change will follow the implementation proposed in the original paper. Set to `'all'` to silence this warning and adopt the future behaviour.\n",
      "  warn(\n",
      "/Users/jayceepang/miniconda3/envs/ATOM_CODE/lib/python3.9/site-packages/imblearn/ensemble/_forest.py:589: FutureWarning: The default of `replacement` will change from `False` to `True` in version 0.13. This change will follow the implementation proposed in the original paper. Set to `True` to silence this warning and adopt the future behaviour.\n",
      "  warn(\n"
     ]
    },
    {
     "name": "stdout",
     "output_type": "stream",
     "text": [
      "TRAIN: acc: 1.000, precision: 1.000, recall: 1.000, spec: 1.000\n",
      "TEST: acc: 0.525, precision: 0.120, recall: 0.806, spec: 0.501\n",
      "func:'rf_models'  took: 0.3670 sec\n",
      "\n",
      "NEK2 NEK5_binding_MFP_SMOTE_RF\n",
      "TRAIN: acc: 0.999, precision: 1.000, recall: 0.998, spec: 1.000\n",
      "TEST: acc: 0.743, precision: 0.154, recall: 0.516, spec: 0.762\n",
      "func:'rf_models'  took: 3.9390 sec\n",
      "\n",
      "NEK2 NEK5_binding_MFP_SMOTE_RF_BCW\n",
      "TRAIN: acc: 0.999, precision: 1.000, recall: 0.998, spec: 1.000\n",
      "TEST: acc: 0.733, precision: 0.155, recall: 0.548, spec: 0.748\n",
      "func:'rf_models'  took: 3.9634 sec\n",
      "\n",
      "NEK2 NEK5_binding_MFP_SMOTE_BRFC\n"
     ]
    },
    {
     "name": "stderr",
     "output_type": "stream",
     "text": [
      "/Users/jayceepang/miniconda3/envs/ATOM_CODE/lib/python3.9/site-packages/imblearn/ensemble/_forest.py:577: FutureWarning: The default of `sampling_strategy` will change from `'auto'` to `'all'` in version 0.13. This change will follow the implementation proposed in the original paper. Set to `'all'` to silence this warning and adopt the future behaviour.\n",
      "  warn(\n",
      "/Users/jayceepang/miniconda3/envs/ATOM_CODE/lib/python3.9/site-packages/imblearn/ensemble/_forest.py:589: FutureWarning: The default of `replacement` will change from `False` to `True` in version 0.13. This change will follow the implementation proposed in the original paper. Set to `True` to silence this warning and adopt the future behaviour.\n",
      "  warn(\n"
     ]
    },
    {
     "name": "stdout",
     "output_type": "stream",
     "text": [
      "TRAIN: acc: 0.999, precision: 1.000, recall: 0.998, spec: 1.000\n",
      "TEST: acc: 0.730, precision: 0.153, recall: 0.548, spec: 0.745\n",
      "func:'rf_models'  took: 6.9216 sec\n",
      "\n",
      "NEK2 NEK5_binding_MFP_SMOTE_BRFC_BCW\n"
     ]
    },
    {
     "name": "stderr",
     "output_type": "stream",
     "text": [
      "/Users/jayceepang/miniconda3/envs/ATOM_CODE/lib/python3.9/site-packages/imblearn/ensemble/_forest.py:577: FutureWarning: The default of `sampling_strategy` will change from `'auto'` to `'all'` in version 0.13. This change will follow the implementation proposed in the original paper. Set to `'all'` to silence this warning and adopt the future behaviour.\n",
      "  warn(\n",
      "/Users/jayceepang/miniconda3/envs/ATOM_CODE/lib/python3.9/site-packages/imblearn/ensemble/_forest.py:589: FutureWarning: The default of `replacement` will change from `False` to `True` in version 0.13. This change will follow the implementation proposed in the original paper. Set to `True` to silence this warning and adopt the future behaviour.\n",
      "  warn(\n"
     ]
    },
    {
     "name": "stdout",
     "output_type": "stream",
     "text": [
      "TRAIN: acc: 0.999, precision: 1.000, recall: 0.998, spec: 1.000\n",
      "TEST: acc: 0.735, precision: 0.150, recall: 0.516, spec: 0.753\n",
      "func:'rf_models'  took: 6.7269 sec\n",
      "\n",
      "NEK2 NEK5_binding_MFP_ADASYN_RF\n",
      "TRAIN: acc: 0.999, precision: 1.000, recall: 0.998, spec: 1.000\n",
      "TEST: acc: 0.858, precision: 0.240, recall: 0.387, spec: 0.897\n",
      "func:'rf_models'  took: 3.1578 sec\n",
      "\n",
      "NEK2 NEK5_binding_MFP_ADASYN_RF_BCW\n",
      "TRAIN: acc: 0.999, precision: 0.998, recall: 1.000, spec: 0.998\n",
      "TEST: acc: 0.840, precision: 0.133, recall: 0.194, spec: 0.894\n",
      "func:'rf_models'  took: 3.3058 sec\n",
      "\n",
      "NEK2 NEK5_binding_MFP_ADASYN_BRFC\n"
     ]
    },
    {
     "name": "stderr",
     "output_type": "stream",
     "text": [
      "/Users/jayceepang/miniconda3/envs/ATOM_CODE/lib/python3.9/site-packages/imblearn/ensemble/_forest.py:577: FutureWarning: The default of `sampling_strategy` will change from `'auto'` to `'all'` in version 0.13. This change will follow the implementation proposed in the original paper. Set to `'all'` to silence this warning and adopt the future behaviour.\n",
      "  warn(\n",
      "/Users/jayceepang/miniconda3/envs/ATOM_CODE/lib/python3.9/site-packages/imblearn/ensemble/_forest.py:589: FutureWarning: The default of `replacement` will change from `False` to `True` in version 0.13. This change will follow the implementation proposed in the original paper. Set to `True` to silence this warning and adopt the future behaviour.\n",
      "  warn(\n"
     ]
    },
    {
     "name": "stdout",
     "output_type": "stream",
     "text": [
      "TRAIN: acc: 0.999, precision: 0.998, recall: 1.000, spec: 0.998\n",
      "TEST: acc: 0.870, precision: 0.302, recall: 0.516, spec: 0.900\n",
      "func:'rf_models'  took: 5.3141 sec\n",
      "\n",
      "NEK2 NEK5_binding_MFP_ADASYN_BRFC_BCW\n"
     ]
    },
    {
     "name": "stderr",
     "output_type": "stream",
     "text": [
      "/Users/jayceepang/miniconda3/envs/ATOM_CODE/lib/python3.9/site-packages/imblearn/ensemble/_forest.py:577: FutureWarning: The default of `sampling_strategy` will change from `'auto'` to `'all'` in version 0.13. This change will follow the implementation proposed in the original paper. Set to `'all'` to silence this warning and adopt the future behaviour.\n",
      "  warn(\n",
      "/Users/jayceepang/miniconda3/envs/ATOM_CODE/lib/python3.9/site-packages/imblearn/ensemble/_forest.py:589: FutureWarning: The default of `replacement` will change from `False` to `True` in version 0.13. This change will follow the implementation proposed in the original paper. Set to `True` to silence this warning and adopt the future behaviour.\n",
      "  warn(\n"
     ]
    },
    {
     "name": "stdout",
     "output_type": "stream",
     "text": [
      "TRAIN: acc: 0.999, precision: 0.998, recall: 1.000, spec: 0.998\n",
      "TEST: acc: 0.858, precision: 0.250, recall: 0.419, spec: 0.894\n",
      "func:'rf_models'  took: 5.4893 sec\n",
      "\n",
      "NEK2 NEK9_binding_MFP_none_scaled_RF\n",
      "TRAIN: acc: 0.999, precision: 1.000, recall: 0.979, spec: 1.000\n",
      "TEST: acc: 0.595, precision: 0.060, recall: 0.290, spec: 0.621\n",
      "func:'rf_models'  took: 7.5148 sec\n",
      "\n",
      "NEK2 NEK9_binding_MFP_none_scaled_RF_BCW\n",
      "TRAIN: acc: 0.999, precision: 0.980, recall: 1.000, spec: 0.999\n",
      "TEST: acc: 0.800, precision: 0.020, recall: 0.032, spec: 0.864\n",
      "func:'rf_models'  took: 2.3181 sec\n",
      "\n",
      "NEK2 NEK9_binding_MFP_none_scaled_BRFC\n"
     ]
    },
    {
     "name": "stderr",
     "output_type": "stream",
     "text": [
      "/Users/jayceepang/miniconda3/envs/ATOM_CODE/lib/python3.9/site-packages/imblearn/ensemble/_forest.py:577: FutureWarning: The default of `sampling_strategy` will change from `'auto'` to `'all'` in version 0.13. This change will follow the implementation proposed in the original paper. Set to `'all'` to silence this warning and adopt the future behaviour.\n",
      "  warn(\n",
      "/Users/jayceepang/miniconda3/envs/ATOM_CODE/lib/python3.9/site-packages/imblearn/ensemble/_forest.py:589: FutureWarning: The default of `replacement` will change from `False` to `True` in version 0.13. This change will follow the implementation proposed in the original paper. Set to `True` to silence this warning and adopt the future behaviour.\n",
      "  warn(\n"
     ]
    },
    {
     "name": "stdout",
     "output_type": "stream",
     "text": [
      "TRAIN: acc: 0.816, precision: 0.188, recall: 1.000, spec: 0.808\n",
      "TEST: acc: 0.443, precision: 0.116, recall: 0.935, spec: 0.401\n",
      "func:'rf_models'  took: 0.2846 sec\n",
      "\n",
      "NEK2 NEK9_binding_MFP_none_scaled_BRFC_BCW\n"
     ]
    },
    {
     "name": "stderr",
     "output_type": "stream",
     "text": [
      "/Users/jayceepang/miniconda3/envs/ATOM_CODE/lib/python3.9/site-packages/imblearn/ensemble/_forest.py:577: FutureWarning: The default of `sampling_strategy` will change from `'auto'` to `'all'` in version 0.13. This change will follow the implementation proposed in the original paper. Set to `'all'` to silence this warning and adopt the future behaviour.\n",
      "  warn(\n",
      "/Users/jayceepang/miniconda3/envs/ATOM_CODE/lib/python3.9/site-packages/imblearn/ensemble/_forest.py:589: FutureWarning: The default of `replacement` will change from `False` to `True` in version 0.13. This change will follow the implementation proposed in the original paper. Set to `True` to silence this warning and adopt the future behaviour.\n",
      "  warn(\n"
     ]
    },
    {
     "name": "stdout",
     "output_type": "stream",
     "text": [
      "TRAIN: acc: 0.555, precision: 0.087, recall: 1.000, spec: 0.535\n",
      "TEST: acc: 0.642, precision: 0.009, recall: 0.032, spec: 0.694\n",
      "func:'rf_models'  took: 0.5150 sec\n",
      "\n",
      "NEK2 NEK9_binding_MFP_UNDER_RF\n",
      "TRAIN: acc: 1.000, precision: 1.000, recall: 1.000, spec: 1.000\n",
      "TEST: acc: 0.330, precision: 0.101, recall: 0.968, spec: 0.276\n",
      "func:'rf_models'  took: 0.2296 sec\n",
      "\n",
      "NEK2 NEK9_binding_MFP_UNDER_RF_BCW\n",
      "TRAIN: acc: 1.000, precision: 1.000, recall: 1.000, spec: 1.000\n",
      "TEST: acc: 0.328, precision: 0.101, recall: 0.968, spec: 0.274\n",
      "func:'rf_models'  took: 0.2336 sec\n",
      "\n",
      "NEK2 NEK9_binding_MFP_UNDER_BRFC\n"
     ]
    },
    {
     "name": "stderr",
     "output_type": "stream",
     "text": [
      "/Users/jayceepang/miniconda3/envs/ATOM_CODE/lib/python3.9/site-packages/imblearn/ensemble/_forest.py:577: FutureWarning: The default of `sampling_strategy` will change from `'auto'` to `'all'` in version 0.13. This change will follow the implementation proposed in the original paper. Set to `'all'` to silence this warning and adopt the future behaviour.\n",
      "  warn(\n",
      "/Users/jayceepang/miniconda3/envs/ATOM_CODE/lib/python3.9/site-packages/imblearn/ensemble/_forest.py:589: FutureWarning: The default of `replacement` will change from `False` to `True` in version 0.13. This change will follow the implementation proposed in the original paper. Set to `True` to silence this warning and adopt the future behaviour.\n",
      "  warn(\n"
     ]
    },
    {
     "name": "stdout",
     "output_type": "stream",
     "text": [
      "TRAIN: acc: 1.000, precision: 1.000, recall: 1.000, spec: 1.000\n",
      "TEST: acc: 0.328, precision: 0.098, recall: 0.935, spec: 0.276\n",
      "func:'rf_models'  took: 0.3001 sec\n",
      "\n",
      "NEK2 NEK9_binding_MFP_UNDER_BRFC_BCW\n"
     ]
    },
    {
     "name": "stderr",
     "output_type": "stream",
     "text": [
      "/Users/jayceepang/miniconda3/envs/ATOM_CODE/lib/python3.9/site-packages/imblearn/ensemble/_forest.py:577: FutureWarning: The default of `sampling_strategy` will change from `'auto'` to `'all'` in version 0.13. This change will follow the implementation proposed in the original paper. Set to `'all'` to silence this warning and adopt the future behaviour.\n",
      "  warn(\n",
      "/Users/jayceepang/miniconda3/envs/ATOM_CODE/lib/python3.9/site-packages/imblearn/ensemble/_forest.py:589: FutureWarning: The default of `replacement` will change from `False` to `True` in version 0.13. This change will follow the implementation proposed in the original paper. Set to `True` to silence this warning and adopt the future behaviour.\n",
      "  warn(\n"
     ]
    },
    {
     "name": "stdout",
     "output_type": "stream",
     "text": [
      "TRAIN: acc: 1.000, precision: 1.000, recall: 1.000, spec: 1.000\n",
      "TEST: acc: 0.320, precision: 0.100, recall: 0.968, spec: 0.266\n",
      "func:'rf_models'  took: 0.3020 sec\n",
      "\n",
      "NEK2 NEK9_binding_MFP_SMOTE_RF\n",
      "TRAIN: acc: 1.000, precision: 1.000, recall: 0.999, spec: 1.000\n",
      "TEST: acc: 0.757, precision: 0.156, recall: 0.484, spec: 0.780\n",
      "func:'rf_models'  took: 5.2742 sec\n",
      "\n",
      "NEK2 NEK9_binding_MFP_SMOTE_RF_BCW\n",
      "TRAIN: acc: 1.000, precision: 1.000, recall: 0.999, spec: 1.000\n",
      "TEST: acc: 0.723, precision: 0.143, recall: 0.516, spec: 0.740\n",
      "func:'rf_models'  took: 5.2576 sec\n",
      "\n",
      "NEK2 NEK9_binding_MFP_SMOTE_BRFC\n"
     ]
    },
    {
     "name": "stderr",
     "output_type": "stream",
     "text": [
      "/Users/jayceepang/miniconda3/envs/ATOM_CODE/lib/python3.9/site-packages/imblearn/ensemble/_forest.py:577: FutureWarning: The default of `sampling_strategy` will change from `'auto'` to `'all'` in version 0.13. This change will follow the implementation proposed in the original paper. Set to `'all'` to silence this warning and adopt the future behaviour.\n",
      "  warn(\n",
      "/Users/jayceepang/miniconda3/envs/ATOM_CODE/lib/python3.9/site-packages/imblearn/ensemble/_forest.py:589: FutureWarning: The default of `replacement` will change from `False` to `True` in version 0.13. This change will follow the implementation proposed in the original paper. Set to `True` to silence this warning and adopt the future behaviour.\n",
      "  warn(\n"
     ]
    },
    {
     "name": "stdout",
     "output_type": "stream",
     "text": [
      "TRAIN: acc: 1.000, precision: 1.000, recall: 0.999, spec: 1.000\n",
      "TEST: acc: 0.723, precision: 0.143, recall: 0.516, spec: 0.740\n",
      "func:'rf_models'  took: 9.8511 sec\n",
      "\n",
      "NEK2 NEK9_binding_MFP_SMOTE_BRFC_BCW\n"
     ]
    },
    {
     "name": "stderr",
     "output_type": "stream",
     "text": [
      "/Users/jayceepang/miniconda3/envs/ATOM_CODE/lib/python3.9/site-packages/imblearn/ensemble/_forest.py:577: FutureWarning: The default of `sampling_strategy` will change from `'auto'` to `'all'` in version 0.13. This change will follow the implementation proposed in the original paper. Set to `'all'` to silence this warning and adopt the future behaviour.\n",
      "  warn(\n",
      "/Users/jayceepang/miniconda3/envs/ATOM_CODE/lib/python3.9/site-packages/imblearn/ensemble/_forest.py:589: FutureWarning: The default of `replacement` will change from `False` to `True` in version 0.13. This change will follow the implementation proposed in the original paper. Set to `True` to silence this warning and adopt the future behaviour.\n",
      "  warn(\n"
     ]
    },
    {
     "name": "stdout",
     "output_type": "stream",
     "text": [
      "TRAIN: acc: 1.000, precision: 1.000, recall: 0.999, spec: 1.000\n",
      "TEST: acc: 0.745, precision: 0.155, recall: 0.516, spec: 0.764\n",
      "func:'rf_models'  took: 9.8447 sec\n",
      "\n",
      "NEK2 NEK9_binding_MFP_ADASYN_RF\n",
      "TRAIN: acc: 1.000, precision: 1.000, recall: 0.999, spec: 1.000\n",
      "TEST: acc: 0.735, precision: 0.000, recall: 0.000, spec: 0.797\n",
      "func:'rf_models'  took: 4.1021 sec\n",
      "\n",
      "NEK2 NEK9_binding_MFP_ADASYN_RF_BCW\n",
      "TRAIN: acc: 1.000, precision: 1.000, recall: 0.999, spec: 1.000\n",
      "TEST: acc: 0.745, precision: 0.014, recall: 0.032, spec: 0.805\n",
      "func:'rf_models'  took: 4.3343 sec\n",
      "\n",
      "NEK2 NEK9_binding_MFP_ADASYN_BRFC\n"
     ]
    },
    {
     "name": "stderr",
     "output_type": "stream",
     "text": [
      "/Users/jayceepang/miniconda3/envs/ATOM_CODE/lib/python3.9/site-packages/imblearn/ensemble/_forest.py:577: FutureWarning: The default of `sampling_strategy` will change from `'auto'` to `'all'` in version 0.13. This change will follow the implementation proposed in the original paper. Set to `'all'` to silence this warning and adopt the future behaviour.\n",
      "  warn(\n",
      "/Users/jayceepang/miniconda3/envs/ATOM_CODE/lib/python3.9/site-packages/imblearn/ensemble/_forest.py:589: FutureWarning: The default of `replacement` will change from `False` to `True` in version 0.13. This change will follow the implementation proposed in the original paper. Set to `True` to silence this warning and adopt the future behaviour.\n",
      "  warn(\n"
     ]
    },
    {
     "name": "stdout",
     "output_type": "stream",
     "text": [
      "TRAIN: acc: 1.000, precision: 1.000, recall: 0.999, spec: 1.000\n",
      "TEST: acc: 0.728, precision: 0.000, recall: 0.000, spec: 0.789\n",
      "func:'rf_models'  took: 7.7945 sec\n",
      "\n",
      "NEK2 NEK9_binding_MFP_ADASYN_BRFC_BCW\n"
     ]
    },
    {
     "name": "stderr",
     "output_type": "stream",
     "text": [
      "/Users/jayceepang/miniconda3/envs/ATOM_CODE/lib/python3.9/site-packages/imblearn/ensemble/_forest.py:577: FutureWarning: The default of `sampling_strategy` will change from `'auto'` to `'all'` in version 0.13. This change will follow the implementation proposed in the original paper. Set to `'all'` to silence this warning and adopt the future behaviour.\n",
      "  warn(\n",
      "/Users/jayceepang/miniconda3/envs/ATOM_CODE/lib/python3.9/site-packages/imblearn/ensemble/_forest.py:589: FutureWarning: The default of `replacement` will change from `False` to `True` in version 0.13. This change will follow the implementation proposed in the original paper. Set to `True` to silence this warning and adopt the future behaviour.\n",
      "  warn(\n"
     ]
    },
    {
     "name": "stdout",
     "output_type": "stream",
     "text": [
      "TRAIN: acc: 1.000, precision: 1.000, recall: 0.999, spec: 1.000\n",
      "TEST: acc: 0.735, precision: 0.000, recall: 0.000, spec: 0.797\n",
      "func:'rf_models'  took: 7.9702 sec\n",
      "\n",
      "NEK2 NEK9_inhibition_MFP_none_scaled_RF\n",
      "TRAIN: acc: 0.997, precision: 1.000, recall: 0.970, spec: 1.000\n",
      "TEST: acc: 0.797, precision: 0.260, recall: 0.871, spec: 0.791\n",
      "func:'rf_models'  took: 0.5655 sec\n",
      "\n",
      "NEK2 NEK9_inhibition_MFP_none_scaled_RF_BCW\n",
      "TRAIN: acc: 0.997, precision: 0.971, recall: 1.000, spec: 0.996\n",
      "TEST: acc: 0.843, precision: 0.314, recall: 0.871, spec: 0.840\n",
      "func:'rf_models'  took: 0.3866 sec\n",
      "\n",
      "NEK2 NEK9_inhibition_MFP_none_scaled_BRFC\n",
      "TRAIN: acc: 0.936, precision: 0.623, recall: 1.000, spec: 0.929\n",
      "TEST: acc: 0.760, precision: 0.236, recall: 0.935, spec: 0.745\n",
      "func:'rf_models'  took: 0.1498 sec\n",
      "\n",
      "NEK2 NEK9_inhibition_MFP_none_scaled_BRFC_BCW\n"
     ]
    },
    {
     "name": "stderr",
     "output_type": "stream",
     "text": [
      "/Users/jayceepang/miniconda3/envs/ATOM_CODE/lib/python3.9/site-packages/imblearn/ensemble/_forest.py:577: FutureWarning: The default of `sampling_strategy` will change from `'auto'` to `'all'` in version 0.13. This change will follow the implementation proposed in the original paper. Set to `'all'` to silence this warning and adopt the future behaviour.\n",
      "  warn(\n",
      "/Users/jayceepang/miniconda3/envs/ATOM_CODE/lib/python3.9/site-packages/imblearn/ensemble/_forest.py:589: FutureWarning: The default of `replacement` will change from `False` to `True` in version 0.13. This change will follow the implementation proposed in the original paper. Set to `True` to silence this warning and adopt the future behaviour.\n",
      "  warn(\n",
      "/Users/jayceepang/miniconda3/envs/ATOM_CODE/lib/python3.9/site-packages/imblearn/ensemble/_forest.py:577: FutureWarning: The default of `sampling_strategy` will change from `'auto'` to `'all'` in version 0.13. This change will follow the implementation proposed in the original paper. Set to `'all'` to silence this warning and adopt the future behaviour.\n",
      "  warn(\n",
      "/Users/jayceepang/miniconda3/envs/ATOM_CODE/lib/python3.9/site-packages/imblearn/ensemble/_forest.py:589: FutureWarning: The default of `replacement` will change from `False` to `True` in version 0.13. This change will follow the implementation proposed in the original paper. Set to `True` to silence this warning and adopt the future behaviour.\n",
      "  warn(\n"
     ]
    },
    {
     "name": "stdout",
     "output_type": "stream",
     "text": [
      "TRAIN: acc: 0.898, precision: 0.508, recall: 1.000, spec: 0.886\n",
      "TEST: acc: 0.647, precision: 0.056, recall: 0.226, spec: 0.683\n",
      "func:'rf_models'  took: 0.1651 sec\n",
      "\n",
      "NEK2 NEK9_inhibition_MFP_UNDER_RF\n",
      "TRAIN: acc: 1.000, precision: 1.000, recall: 1.000, spec: 1.000\n",
      "TEST: acc: 0.535, precision: 0.133, recall: 0.903, spec: 0.504\n",
      "func:'rf_models'  took: 0.1027 sec\n",
      "\n",
      "NEK2 NEK9_inhibition_MFP_UNDER_RF_BCW\n",
      "TRAIN: acc: 1.000, precision: 1.000, recall: 1.000, spec: 1.000\n",
      "TEST: acc: 0.537, precision: 0.133, recall: 0.903, spec: 0.507\n",
      "func:'rf_models'  took: 0.1052 sec\n",
      "\n",
      "NEK2 NEK9_inhibition_MFP_UNDER_BRFC\n"
     ]
    },
    {
     "name": "stderr",
     "output_type": "stream",
     "text": [
      "/Users/jayceepang/miniconda3/envs/ATOM_CODE/lib/python3.9/site-packages/imblearn/ensemble/_forest.py:577: FutureWarning: The default of `sampling_strategy` will change from `'auto'` to `'all'` in version 0.13. This change will follow the implementation proposed in the original paper. Set to `'all'` to silence this warning and adopt the future behaviour.\n",
      "  warn(\n",
      "/Users/jayceepang/miniconda3/envs/ATOM_CODE/lib/python3.9/site-packages/imblearn/ensemble/_forest.py:589: FutureWarning: The default of `replacement` will change from `False` to `True` in version 0.13. This change will follow the implementation proposed in the original paper. Set to `True` to silence this warning and adopt the future behaviour.\n",
      "  warn(\n"
     ]
    },
    {
     "name": "stdout",
     "output_type": "stream",
     "text": [
      "TRAIN: acc: 1.000, precision: 1.000, recall: 1.000, spec: 1.000\n",
      "TEST: acc: 0.537, precision: 0.133, recall: 0.903, spec: 0.507\n",
      "func:'rf_models'  took: 0.3112 sec\n",
      "\n",
      "NEK2 NEK9_inhibition_MFP_UNDER_BRFC_BCW\n",
      "TRAIN: acc: 1.000, precision: 1.000, recall: 1.000, spec: 1.000\n",
      "TEST: acc: 0.540, precision: 0.134, recall: 0.903, spec: 0.509\n",
      "func:'rf_models'  took: 0.1580 sec\n",
      "\n"
     ]
    },
    {
     "name": "stderr",
     "output_type": "stream",
     "text": [
      "/Users/jayceepang/miniconda3/envs/ATOM_CODE/lib/python3.9/site-packages/imblearn/ensemble/_forest.py:577: FutureWarning: The default of `sampling_strategy` will change from `'auto'` to `'all'` in version 0.13. This change will follow the implementation proposed in the original paper. Set to `'all'` to silence this warning and adopt the future behaviour.\n",
      "  warn(\n",
      "/Users/jayceepang/miniconda3/envs/ATOM_CODE/lib/python3.9/site-packages/imblearn/ensemble/_forest.py:589: FutureWarning: The default of `replacement` will change from `False` to `True` in version 0.13. This change will follow the implementation proposed in the original paper. Set to `True` to silence this warning and adopt the future behaviour.\n",
      "  warn(\n"
     ]
    },
    {
     "name": "stdout",
     "output_type": "stream",
     "text": [
      "NEK2 NEK9_inhibition_MFP_SMOTE_RF\n",
      "TRAIN: acc: 0.998, precision: 1.000, recall: 0.996, spec: 1.000\n",
      "TEST: acc: 0.838, precision: 0.307, recall: 0.871, spec: 0.835\n",
      "func:'rf_models'  took: 0.5903 sec\n",
      "\n",
      "NEK2 NEK9_inhibition_MFP_SMOTE_RF_BCW\n",
      "TRAIN: acc: 0.998, precision: 1.000, recall: 0.996, spec: 1.000\n",
      "TEST: acc: 0.830, precision: 0.297, recall: 0.871, spec: 0.827\n",
      "func:'rf_models'  took: 0.6002 sec\n",
      "\n",
      "NEK2 NEK9_inhibition_MFP_SMOTE_BRFC\n"
     ]
    },
    {
     "name": "stderr",
     "output_type": "stream",
     "text": [
      "/Users/jayceepang/miniconda3/envs/ATOM_CODE/lib/python3.9/site-packages/imblearn/ensemble/_forest.py:577: FutureWarning: The default of `sampling_strategy` will change from `'auto'` to `'all'` in version 0.13. This change will follow the implementation proposed in the original paper. Set to `'all'` to silence this warning and adopt the future behaviour.\n",
      "  warn(\n",
      "/Users/jayceepang/miniconda3/envs/ATOM_CODE/lib/python3.9/site-packages/imblearn/ensemble/_forest.py:589: FutureWarning: The default of `replacement` will change from `False` to `True` in version 0.13. This change will follow the implementation proposed in the original paper. Set to `True` to silence this warning and adopt the future behaviour.\n",
      "  warn(\n"
     ]
    },
    {
     "name": "stdout",
     "output_type": "stream",
     "text": [
      "TRAIN: acc: 0.998, precision: 1.000, recall: 0.996, spec: 1.000\n",
      "TEST: acc: 0.843, precision: 0.314, recall: 0.871, spec: 0.840\n",
      "func:'rf_models'  took: 0.9445 sec\n",
      "\n",
      "NEK2 NEK9_inhibition_MFP_SMOTE_BRFC_BCW\n"
     ]
    },
    {
     "name": "stderr",
     "output_type": "stream",
     "text": [
      "/Users/jayceepang/miniconda3/envs/ATOM_CODE/lib/python3.9/site-packages/imblearn/ensemble/_forest.py:577: FutureWarning: The default of `sampling_strategy` will change from `'auto'` to `'all'` in version 0.13. This change will follow the implementation proposed in the original paper. Set to `'all'` to silence this warning and adopt the future behaviour.\n",
      "  warn(\n",
      "/Users/jayceepang/miniconda3/envs/ATOM_CODE/lib/python3.9/site-packages/imblearn/ensemble/_forest.py:589: FutureWarning: The default of `replacement` will change from `False` to `True` in version 0.13. This change will follow the implementation proposed in the original paper. Set to `True` to silence this warning and adopt the future behaviour.\n",
      "  warn(\n"
     ]
    },
    {
     "name": "stdout",
     "output_type": "stream",
     "text": [
      "TRAIN: acc: 0.998, precision: 1.000, recall: 0.996, spec: 1.000\n",
      "TEST: acc: 0.840, precision: 0.310, recall: 0.871, spec: 0.837\n",
      "func:'rf_models'  took: 0.9575 sec\n",
      "\n",
      "NEK2 NEK9_inhibition_MFP_ADASYN_RF\n",
      "TRAIN: acc: 0.998, precision: 1.000, recall: 0.996, spec: 1.000\n",
      "TEST: acc: 0.868, precision: 0.107, recall: 0.097, spec: 0.932\n",
      "func:'rf_models'  took: 0.6050 sec\n",
      "\n",
      "NEK2 NEK9_inhibition_MFP_ADASYN_RF_BCW\n",
      "TRAIN: acc: 0.998, precision: 0.996, recall: 1.000, spec: 0.996\n",
      "TEST: acc: 0.850, precision: 0.061, recall: 0.065, spec: 0.916\n",
      "func:'rf_models'  took: 0.6375 sec\n",
      "\n",
      "NEK2 NEK9_inhibition_MFP_ADASYN_BRFC\n"
     ]
    },
    {
     "name": "stderr",
     "output_type": "stream",
     "text": [
      "/Users/jayceepang/miniconda3/envs/ATOM_CODE/lib/python3.9/site-packages/imblearn/ensemble/_forest.py:577: FutureWarning: The default of `sampling_strategy` will change from `'auto'` to `'all'` in version 0.13. This change will follow the implementation proposed in the original paper. Set to `'all'` to silence this warning and adopt the future behaviour.\n",
      "  warn(\n",
      "/Users/jayceepang/miniconda3/envs/ATOM_CODE/lib/python3.9/site-packages/imblearn/ensemble/_forest.py:589: FutureWarning: The default of `replacement` will change from `False` to `True` in version 0.13. This change will follow the implementation proposed in the original paper. Set to `True` to silence this warning and adopt the future behaviour.\n",
      "  warn(\n"
     ]
    },
    {
     "name": "stdout",
     "output_type": "stream",
     "text": [
      "TRAIN: acc: 0.998, precision: 0.996, recall: 1.000, spec: 0.996\n",
      "TEST: acc: 0.840, precision: 0.077, recall: 0.097, spec: 0.902\n",
      "func:'rf_models'  took: 0.9204 sec\n",
      "\n",
      "NEK2 NEK9_inhibition_MFP_ADASYN_BRFC_BCW\n"
     ]
    },
    {
     "name": "stderr",
     "output_type": "stream",
     "text": [
      "/Users/jayceepang/miniconda3/envs/ATOM_CODE/lib/python3.9/site-packages/imblearn/ensemble/_forest.py:577: FutureWarning: The default of `sampling_strategy` will change from `'auto'` to `'all'` in version 0.13. This change will follow the implementation proposed in the original paper. Set to `'all'` to silence this warning and adopt the future behaviour.\n",
      "  warn(\n",
      "/Users/jayceepang/miniconda3/envs/ATOM_CODE/lib/python3.9/site-packages/imblearn/ensemble/_forest.py:589: FutureWarning: The default of `replacement` will change from `False` to `True` in version 0.13. This change will follow the implementation proposed in the original paper. Set to `True` to silence this warning and adopt the future behaviour.\n",
      "  warn(\n"
     ]
    },
    {
     "name": "stdout",
     "output_type": "stream",
     "text": [
      "TRAIN: acc: 0.998, precision: 0.996, recall: 1.000, spec: 0.996\n",
      "TEST: acc: 0.853, precision: 0.088, recall: 0.097, spec: 0.916\n",
      "func:'rf_models'  took: 0.9993 sec\n",
      "\n",
      "NEK3 NEK2_binding_MFP_none_scaled_RF\n",
      "TRAIN: acc: 1.000, precision: 1.000, recall: 1.000, spec: 1.000\n",
      "TEST: acc: 0.770, precision: 0.079, recall: 0.214, spec: 0.812\n",
      "func:'rf_models'  took: 5.5570 sec\n",
      "\n",
      "NEK3 NEK2_binding_MFP_none_scaled_RF_BCW\n",
      "TRAIN: acc: 1.000, precision: 1.000, recall: 1.000, spec: 1.000\n",
      "TEST: acc: 0.787, precision: 0.048, recall: 0.107, spec: 0.839\n",
      "func:'rf_models'  took: 2.7368 sec\n",
      "\n",
      "NEK3 NEK2_binding_MFP_none_scaled_BRFC\n"
     ]
    },
    {
     "name": "stderr",
     "output_type": "stream",
     "text": [
      "/Users/jayceepang/miniconda3/envs/ATOM_CODE/lib/python3.9/site-packages/imblearn/ensemble/_forest.py:577: FutureWarning: The default of `sampling_strategy` will change from `'auto'` to `'all'` in version 0.13. This change will follow the implementation proposed in the original paper. Set to `'all'` to silence this warning and adopt the future behaviour.\n",
      "  warn(\n",
      "/Users/jayceepang/miniconda3/envs/ATOM_CODE/lib/python3.9/site-packages/imblearn/ensemble/_forest.py:589: FutureWarning: The default of `replacement` will change from `False` to `True` in version 0.13. This change will follow the implementation proposed in the original paper. Set to `True` to silence this warning and adopt the future behaviour.\n",
      "  warn(\n"
     ]
    },
    {
     "name": "stdout",
     "output_type": "stream",
     "text": [
      "TRAIN: acc: 0.853, precision: 0.214, recall: 1.000, spec: 0.847\n",
      "TEST: acc: 0.393, precision: 0.100, recall: 0.964, spec: 0.349\n",
      "func:'rf_models'  took: 0.2795 sec\n",
      "\n",
      "NEK3 NEK2_binding_MFP_none_scaled_BRFC_BCW\n"
     ]
    },
    {
     "name": "stderr",
     "output_type": "stream",
     "text": [
      "/Users/jayceepang/miniconda3/envs/ATOM_CODE/lib/python3.9/site-packages/imblearn/ensemble/_forest.py:577: FutureWarning: The default of `sampling_strategy` will change from `'auto'` to `'all'` in version 0.13. This change will follow the implementation proposed in the original paper. Set to `'all'` to silence this warning and adopt the future behaviour.\n",
      "  warn(\n",
      "/Users/jayceepang/miniconda3/envs/ATOM_CODE/lib/python3.9/site-packages/imblearn/ensemble/_forest.py:589: FutureWarning: The default of `replacement` will change from `False` to `True` in version 0.13. This change will follow the implementation proposed in the original paper. Set to `True` to silence this warning and adopt the future behaviour.\n",
      "  warn(\n"
     ]
    },
    {
     "name": "stdout",
     "output_type": "stream",
     "text": [
      "TRAIN: acc: 0.520, precision: 0.077, recall: 1.000, spec: 0.500\n",
      "TEST: acc: 0.787, precision: 0.075, recall: 0.179, spec: 0.833\n",
      "func:'rf_models'  took: 0.4903 sec\n",
      "\n",
      "NEK3 NEK2_binding_MFP_UNDER_RF\n",
      "TRAIN: acc: 1.000, precision: 1.000, recall: 1.000, spec: 1.000\n",
      "TEST: acc: 0.422, precision: 0.072, recall: 0.607, spec: 0.409\n",
      "func:'rf_models'  took: 0.2035 sec\n",
      "\n",
      "NEK3 NEK2_binding_MFP_UNDER_RF_BCW\n",
      "TRAIN: acc: 1.000, precision: 1.000, recall: 1.000, spec: 1.000\n",
      "TEST: acc: 0.422, precision: 0.072, recall: 0.607, spec: 0.409\n",
      "func:'rf_models'  took: 0.2080 sec\n",
      "\n",
      "NEK3 NEK2_binding_MFP_UNDER_BRFC\n"
     ]
    },
    {
     "name": "stderr",
     "output_type": "stream",
     "text": [
      "/Users/jayceepang/miniconda3/envs/ATOM_CODE/lib/python3.9/site-packages/imblearn/ensemble/_forest.py:577: FutureWarning: The default of `sampling_strategy` will change from `'auto'` to `'all'` in version 0.13. This change will follow the implementation proposed in the original paper. Set to `'all'` to silence this warning and adopt the future behaviour.\n",
      "  warn(\n",
      "/Users/jayceepang/miniconda3/envs/ATOM_CODE/lib/python3.9/site-packages/imblearn/ensemble/_forest.py:589: FutureWarning: The default of `replacement` will change from `False` to `True` in version 0.13. This change will follow the implementation proposed in the original paper. Set to `True` to silence this warning and adopt the future behaviour.\n",
      "  warn(\n"
     ]
    },
    {
     "name": "stdout",
     "output_type": "stream",
     "text": [
      "TRAIN: acc: 1.000, precision: 1.000, recall: 1.000, spec: 1.000\n",
      "TEST: acc: 0.415, precision: 0.071, recall: 0.607, spec: 0.401\n",
      "func:'rf_models'  took: 0.2647 sec\n",
      "\n",
      "NEK3 NEK2_binding_MFP_UNDER_BRFC_BCW\n"
     ]
    },
    {
     "name": "stderr",
     "output_type": "stream",
     "text": [
      "/Users/jayceepang/miniconda3/envs/ATOM_CODE/lib/python3.9/site-packages/imblearn/ensemble/_forest.py:577: FutureWarning: The default of `sampling_strategy` will change from `'auto'` to `'all'` in version 0.13. This change will follow the implementation proposed in the original paper. Set to `'all'` to silence this warning and adopt the future behaviour.\n",
      "  warn(\n",
      "/Users/jayceepang/miniconda3/envs/ATOM_CODE/lib/python3.9/site-packages/imblearn/ensemble/_forest.py:589: FutureWarning: The default of `replacement` will change from `False` to `True` in version 0.13. This change will follow the implementation proposed in the original paper. Set to `True` to silence this warning and adopt the future behaviour.\n",
      "  warn(\n"
     ]
    },
    {
     "name": "stdout",
     "output_type": "stream",
     "text": [
      "TRAIN: acc: 1.000, precision: 1.000, recall: 1.000, spec: 1.000\n",
      "TEST: acc: 0.415, precision: 0.071, recall: 0.607, spec: 0.401\n",
      "func:'rf_models'  took: 0.2692 sec\n",
      "\n",
      "NEK3 NEK2_binding_MFP_SMOTE_RF\n",
      "TRAIN: acc: 1.000, precision: 1.000, recall: 1.000, spec: 1.000\n",
      "TEST: acc: 0.838, precision: 0.026, recall: 0.036, spec: 0.898\n",
      "func:'rf_models'  took: 5.7165 sec\n",
      "\n",
      "NEK3 NEK2_binding_MFP_SMOTE_RF_BCW\n",
      "TRAIN: acc: 1.000, precision: 1.000, recall: 1.000, spec: 1.000\n",
      "TEST: acc: 0.838, precision: 0.026, recall: 0.036, spec: 0.898\n",
      "func:'rf_models'  took: 5.6645 sec\n",
      "\n",
      "NEK3 NEK2_binding_MFP_SMOTE_BRFC\n"
     ]
    },
    {
     "name": "stderr",
     "output_type": "stream",
     "text": [
      "/Users/jayceepang/miniconda3/envs/ATOM_CODE/lib/python3.9/site-packages/imblearn/ensemble/_forest.py:577: FutureWarning: The default of `sampling_strategy` will change from `'auto'` to `'all'` in version 0.13. This change will follow the implementation proposed in the original paper. Set to `'all'` to silence this warning and adopt the future behaviour.\n",
      "  warn(\n",
      "/Users/jayceepang/miniconda3/envs/ATOM_CODE/lib/python3.9/site-packages/imblearn/ensemble/_forest.py:589: FutureWarning: The default of `replacement` will change from `False` to `True` in version 0.13. This change will follow the implementation proposed in the original paper. Set to `True` to silence this warning and adopt the future behaviour.\n",
      "  warn(\n"
     ]
    },
    {
     "name": "stdout",
     "output_type": "stream",
     "text": [
      "TRAIN: acc: 1.000, precision: 1.000, recall: 1.000, spec: 1.000\n",
      "TEST: acc: 0.843, precision: 0.027, recall: 0.036, spec: 0.903\n",
      "func:'rf_models'  took: 10.5275 sec\n",
      "\n",
      "NEK3 NEK2_binding_MFP_SMOTE_BRFC_BCW\n"
     ]
    },
    {
     "name": "stderr",
     "output_type": "stream",
     "text": [
      "/Users/jayceepang/miniconda3/envs/ATOM_CODE/lib/python3.9/site-packages/imblearn/ensemble/_forest.py:577: FutureWarning: The default of `sampling_strategy` will change from `'auto'` to `'all'` in version 0.13. This change will follow the implementation proposed in the original paper. Set to `'all'` to silence this warning and adopt the future behaviour.\n",
      "  warn(\n",
      "/Users/jayceepang/miniconda3/envs/ATOM_CODE/lib/python3.9/site-packages/imblearn/ensemble/_forest.py:589: FutureWarning: The default of `replacement` will change from `False` to `True` in version 0.13. This change will follow the implementation proposed in the original paper. Set to `True` to silence this warning and adopt the future behaviour.\n",
      "  warn(\n"
     ]
    },
    {
     "name": "stdout",
     "output_type": "stream",
     "text": [
      "TRAIN: acc: 1.000, precision: 1.000, recall: 1.000, spec: 1.000\n",
      "TEST: acc: 0.838, precision: 0.026, recall: 0.036, spec: 0.898\n",
      "func:'rf_models'  took: 10.4873 sec\n",
      "\n",
      "NEK3 NEK2_binding_MFP_ADASYN_RF\n",
      "TRAIN: acc: 1.000, precision: 1.000, recall: 1.000, spec: 1.000\n",
      "TEST: acc: 0.805, precision: 0.069, recall: 0.143, spec: 0.855\n",
      "func:'rf_models'  took: 3.7531 sec\n",
      "\n",
      "NEK3 NEK2_binding_MFP_ADASYN_RF_BCW\n",
      "TRAIN: acc: 1.000, precision: 1.000, recall: 1.000, spec: 1.000\n",
      "TEST: acc: 0.802, precision: 0.068, recall: 0.143, spec: 0.852\n",
      "func:'rf_models'  took: 3.7809 sec\n",
      "\n",
      "NEK3 NEK2_binding_MFP_ADASYN_BRFC\n"
     ]
    },
    {
     "name": "stderr",
     "output_type": "stream",
     "text": [
      "/Users/jayceepang/miniconda3/envs/ATOM_CODE/lib/python3.9/site-packages/imblearn/ensemble/_forest.py:577: FutureWarning: The default of `sampling_strategy` will change from `'auto'` to `'all'` in version 0.13. This change will follow the implementation proposed in the original paper. Set to `'all'` to silence this warning and adopt the future behaviour.\n",
      "  warn(\n",
      "/Users/jayceepang/miniconda3/envs/ATOM_CODE/lib/python3.9/site-packages/imblearn/ensemble/_forest.py:589: FutureWarning: The default of `replacement` will change from `False` to `True` in version 0.13. This change will follow the implementation proposed in the original paper. Set to `True` to silence this warning and adopt the future behaviour.\n",
      "  warn(\n"
     ]
    },
    {
     "name": "stdout",
     "output_type": "stream",
     "text": [
      "TRAIN: acc: 1.000, precision: 1.000, recall: 1.000, spec: 1.000\n",
      "TEST: acc: 0.802, precision: 0.068, recall: 0.143, spec: 0.852\n",
      "func:'rf_models'  took: 6.7485 sec\n",
      "\n",
      "NEK3 NEK2_binding_MFP_ADASYN_BRFC_BCW\n"
     ]
    },
    {
     "name": "stderr",
     "output_type": "stream",
     "text": [
      "/Users/jayceepang/miniconda3/envs/ATOM_CODE/lib/python3.9/site-packages/imblearn/ensemble/_forest.py:577: FutureWarning: The default of `sampling_strategy` will change from `'auto'` to `'all'` in version 0.13. This change will follow the implementation proposed in the original paper. Set to `'all'` to silence this warning and adopt the future behaviour.\n",
      "  warn(\n",
      "/Users/jayceepang/miniconda3/envs/ATOM_CODE/lib/python3.9/site-packages/imblearn/ensemble/_forest.py:589: FutureWarning: The default of `replacement` will change from `False` to `True` in version 0.13. This change will follow the implementation proposed in the original paper. Set to `True` to silence this warning and adopt the future behaviour.\n",
      "  warn(\n"
     ]
    },
    {
     "name": "stdout",
     "output_type": "stream",
     "text": [
      "TRAIN: acc: 1.000, precision: 1.000, recall: 1.000, spec: 1.000\n",
      "TEST: acc: 0.820, precision: 0.077, recall: 0.143, spec: 0.871\n",
      "func:'rf_models'  took: 6.8450 sec\n",
      "\n",
      "NEK3 NEK2_inhibition_MFP_none_scaled_RF\n",
      "TRAIN: acc: 0.998, precision: 1.000, recall: 0.973, spec: 1.000\n",
      "TEST: acc: 0.640, precision: 0.133, recall: 0.750, spec: 0.632\n",
      "func:'rf_models'  took: 8.0523 sec\n",
      "\n",
      "NEK3 NEK2_inhibition_MFP_none_scaled_RF_BCW\n",
      "TRAIN: acc: 0.998, precision: 0.974, recall: 1.000, spec: 0.998\n",
      "TEST: acc: 0.740, precision: 0.120, recall: 0.429, spec: 0.763\n",
      "func:'rf_models'  took: 4.5890 sec\n",
      "\n",
      "NEK3 NEK2_inhibition_MFP_none_scaled_BRFC\n"
     ]
    },
    {
     "name": "stderr",
     "output_type": "stream",
     "text": [
      "/Users/jayceepang/miniconda3/envs/ATOM_CODE/lib/python3.9/site-packages/imblearn/ensemble/_forest.py:577: FutureWarning: The default of `sampling_strategy` will change from `'auto'` to `'all'` in version 0.13. This change will follow the implementation proposed in the original paper. Set to `'all'` to silence this warning and adopt the future behaviour.\n",
      "  warn(\n",
      "/Users/jayceepang/miniconda3/envs/ATOM_CODE/lib/python3.9/site-packages/imblearn/ensemble/_forest.py:589: FutureWarning: The default of `replacement` will change from `False` to `True` in version 0.13. This change will follow the implementation proposed in the original paper. Set to `True` to silence this warning and adopt the future behaviour.\n",
      "  warn(\n"
     ]
    },
    {
     "name": "stdout",
     "output_type": "stream",
     "text": [
      "TRAIN: acc: 0.921, precision: 0.465, recall: 1.000, spec: 0.915\n",
      "TEST: acc: 0.388, precision: 0.100, recall: 0.964, spec: 0.344\n",
      "func:'rf_models'  took: 0.6204 sec\n",
      "\n",
      "NEK3 NEK2_inhibition_MFP_none_scaled_BRFC_BCW\n"
     ]
    },
    {
     "name": "stderr",
     "output_type": "stream",
     "text": [
      "/Users/jayceepang/miniconda3/envs/ATOM_CODE/lib/python3.9/site-packages/imblearn/ensemble/_forest.py:577: FutureWarning: The default of `sampling_strategy` will change from `'auto'` to `'all'` in version 0.13. This change will follow the implementation proposed in the original paper. Set to `'all'` to silence this warning and adopt the future behaviour.\n",
      "  warn(\n",
      "/Users/jayceepang/miniconda3/envs/ATOM_CODE/lib/python3.9/site-packages/imblearn/ensemble/_forest.py:589: FutureWarning: The default of `replacement` will change from `False` to `True` in version 0.13. This change will follow the implementation proposed in the original paper. Set to `True` to silence this warning and adopt the future behaviour.\n",
      "  warn(\n"
     ]
    },
    {
     "name": "stdout",
     "output_type": "stream",
     "text": [
      "TRAIN: acc: 0.777, precision: 0.236, recall: 1.000, spec: 0.760\n",
      "TEST: acc: 0.887, precision: 0.000, recall: 0.000, spec: 0.954\n",
      "func:'rf_models'  took: 1.2994 sec\n",
      "\n",
      "NEK3 NEK2_inhibition_MFP_UNDER_RF\n",
      "TRAIN: acc: 0.996, precision: 0.991, recall: 1.000, spec: 0.991\n",
      "TEST: acc: 0.393, precision: 0.088, recall: 0.821, spec: 0.360\n",
      "func:'rf_models'  took: 0.4805 sec\n",
      "\n",
      "NEK3 NEK2_inhibition_MFP_UNDER_RF_BCW\n",
      "TRAIN: acc: 0.996, precision: 0.991, recall: 1.000, spec: 0.991\n",
      "TEST: acc: 0.395, precision: 0.088, recall: 0.821, spec: 0.363\n",
      "func:'rf_models'  took: 0.4734 sec\n",
      "\n",
      "NEK3 NEK2_inhibition_MFP_UNDER_BRFC\n"
     ]
    },
    {
     "name": "stderr",
     "output_type": "stream",
     "text": [
      "/Users/jayceepang/miniconda3/envs/ATOM_CODE/lib/python3.9/site-packages/imblearn/ensemble/_forest.py:577: FutureWarning: The default of `sampling_strategy` will change from `'auto'` to `'all'` in version 0.13. This change will follow the implementation proposed in the original paper. Set to `'all'` to silence this warning and adopt the future behaviour.\n",
      "  warn(\n",
      "/Users/jayceepang/miniconda3/envs/ATOM_CODE/lib/python3.9/site-packages/imblearn/ensemble/_forest.py:589: FutureWarning: The default of `replacement` will change from `False` to `True` in version 0.13. This change will follow the implementation proposed in the original paper. Set to `True` to silence this warning and adopt the future behaviour.\n",
      "  warn(\n"
     ]
    },
    {
     "name": "stdout",
     "output_type": "stream",
     "text": [
      "TRAIN: acc: 0.996, precision: 0.991, recall: 1.000, spec: 0.991\n",
      "TEST: acc: 0.378, precision: 0.086, recall: 0.821, spec: 0.344\n",
      "func:'rf_models'  took: 0.6330 sec\n",
      "\n",
      "NEK3 NEK2_inhibition_MFP_UNDER_BRFC_BCW\n"
     ]
    },
    {
     "name": "stderr",
     "output_type": "stream",
     "text": [
      "/Users/jayceepang/miniconda3/envs/ATOM_CODE/lib/python3.9/site-packages/imblearn/ensemble/_forest.py:577: FutureWarning: The default of `sampling_strategy` will change from `'auto'` to `'all'` in version 0.13. This change will follow the implementation proposed in the original paper. Set to `'all'` to silence this warning and adopt the future behaviour.\n",
      "  warn(\n",
      "/Users/jayceepang/miniconda3/envs/ATOM_CODE/lib/python3.9/site-packages/imblearn/ensemble/_forest.py:589: FutureWarning: The default of `replacement` will change from `False` to `True` in version 0.13. This change will follow the implementation proposed in the original paper. Set to `True` to silence this warning and adopt the future behaviour.\n",
      "  warn(\n"
     ]
    },
    {
     "name": "stdout",
     "output_type": "stream",
     "text": [
      "TRAIN: acc: 0.996, precision: 0.991, recall: 1.000, spec: 0.991\n",
      "TEST: acc: 0.370, precision: 0.097, recall: 0.964, spec: 0.325\n",
      "func:'rf_models'  took: 0.6391 sec\n",
      "\n",
      "NEK3 NEK2_inhibition_MFP_SMOTE_RF\n",
      "TRAIN: acc: 0.999, precision: 0.999, recall: 0.999, spec: 0.999\n",
      "TEST: acc: 0.755, precision: 0.093, recall: 0.286, spec: 0.790\n",
      "func:'rf_models'  took: 6.1941 sec\n",
      "\n",
      "NEK3 NEK2_inhibition_MFP_SMOTE_RF_BCW\n",
      "TRAIN: acc: 0.999, precision: 0.999, recall: 0.999, spec: 0.999\n",
      "TEST: acc: 0.780, precision: 0.174, recall: 0.571, spec: 0.796\n",
      "func:'rf_models'  took: 6.0297 sec\n",
      "\n",
      "NEK3 NEK2_inhibition_MFP_SMOTE_BRFC\n"
     ]
    },
    {
     "name": "stderr",
     "output_type": "stream",
     "text": [
      "/Users/jayceepang/miniconda3/envs/ATOM_CODE/lib/python3.9/site-packages/imblearn/ensemble/_forest.py:577: FutureWarning: The default of `sampling_strategy` will change from `'auto'` to `'all'` in version 0.13. This change will follow the implementation proposed in the original paper. Set to `'all'` to silence this warning and adopt the future behaviour.\n",
      "  warn(\n",
      "/Users/jayceepang/miniconda3/envs/ATOM_CODE/lib/python3.9/site-packages/imblearn/ensemble/_forest.py:589: FutureWarning: The default of `replacement` will change from `False` to `True` in version 0.13. This change will follow the implementation proposed in the original paper. Set to `True` to silence this warning and adopt the future behaviour.\n",
      "  warn(\n"
     ]
    },
    {
     "name": "stdout",
     "output_type": "stream",
     "text": [
      "TRAIN: acc: 0.999, precision: 0.999, recall: 0.999, spec: 0.999\n",
      "TEST: acc: 0.760, precision: 0.085, recall: 0.250, spec: 0.798\n",
      "func:'rf_models'  took: 11.5859 sec\n",
      "\n",
      "NEK3 NEK2_inhibition_MFP_SMOTE_BRFC_BCW\n"
     ]
    },
    {
     "name": "stderr",
     "output_type": "stream",
     "text": [
      "/Users/jayceepang/miniconda3/envs/ATOM_CODE/lib/python3.9/site-packages/imblearn/ensemble/_forest.py:577: FutureWarning: The default of `sampling_strategy` will change from `'auto'` to `'all'` in version 0.13. This change will follow the implementation proposed in the original paper. Set to `'all'` to silence this warning and adopt the future behaviour.\n",
      "  warn(\n",
      "/Users/jayceepang/miniconda3/envs/ATOM_CODE/lib/python3.9/site-packages/imblearn/ensemble/_forest.py:589: FutureWarning: The default of `replacement` will change from `False` to `True` in version 0.13. This change will follow the implementation proposed in the original paper. Set to `True` to silence this warning and adopt the future behaviour.\n",
      "  warn(\n"
     ]
    },
    {
     "name": "stdout",
     "output_type": "stream",
     "text": [
      "TRAIN: acc: 0.999, precision: 0.999, recall: 0.999, spec: 0.999\n",
      "TEST: acc: 0.780, precision: 0.174, recall: 0.571, spec: 0.796\n",
      "func:'rf_models'  took: 11.6785 sec\n",
      "\n",
      "NEK3 NEK2_inhibition_MFP_ADASYN_RF\n",
      "TRAIN: acc: 0.999, precision: 0.999, recall: 0.999, spec: 0.999\n",
      "TEST: acc: 0.720, precision: 0.156, recall: 0.679, spec: 0.723\n",
      "func:'rf_models'  took: 7.9922 sec\n",
      "\n",
      "NEK3 NEK2_inhibition_MFP_ADASYN_RF_BCW\n",
      "TRAIN: acc: 0.999, precision: 0.999, recall: 0.999, spec: 0.999\n",
      "TEST: acc: 0.825, precision: 0.111, recall: 0.214, spec: 0.871\n",
      "func:'rf_models'  took: 8.1938 sec\n",
      "\n",
      "NEK3 NEK2_inhibition_MFP_ADASYN_BRFC\n"
     ]
    },
    {
     "name": "stderr",
     "output_type": "stream",
     "text": [
      "/Users/jayceepang/miniconda3/envs/ATOM_CODE/lib/python3.9/site-packages/imblearn/ensemble/_forest.py:577: FutureWarning: The default of `sampling_strategy` will change from `'auto'` to `'all'` in version 0.13. This change will follow the implementation proposed in the original paper. Set to `'all'` to silence this warning and adopt the future behaviour.\n",
      "  warn(\n",
      "/Users/jayceepang/miniconda3/envs/ATOM_CODE/lib/python3.9/site-packages/imblearn/ensemble/_forest.py:589: FutureWarning: The default of `replacement` will change from `False` to `True` in version 0.13. This change will follow the implementation proposed in the original paper. Set to `True` to silence this warning and adopt the future behaviour.\n",
      "  warn(\n"
     ]
    },
    {
     "name": "stdout",
     "output_type": "stream",
     "text": [
      "TRAIN: acc: 0.999, precision: 0.999, recall: 0.999, spec: 0.999\n",
      "TEST: acc: 0.708, precision: 0.092, recall: 0.357, spec: 0.734\n",
      "func:'rf_models'  took: 16.1818 sec\n",
      "\n",
      "NEK3 NEK2_inhibition_MFP_ADASYN_BRFC_BCW\n"
     ]
    },
    {
     "name": "stderr",
     "output_type": "stream",
     "text": [
      "/Users/jayceepang/miniconda3/envs/ATOM_CODE/lib/python3.9/site-packages/imblearn/ensemble/_forest.py:577: FutureWarning: The default of `sampling_strategy` will change from `'auto'` to `'all'` in version 0.13. This change will follow the implementation proposed in the original paper. Set to `'all'` to silence this warning and adopt the future behaviour.\n",
      "  warn(\n",
      "/Users/jayceepang/miniconda3/envs/ATOM_CODE/lib/python3.9/site-packages/imblearn/ensemble/_forest.py:589: FutureWarning: The default of `replacement` will change from `False` to `True` in version 0.13. This change will follow the implementation proposed in the original paper. Set to `True` to silence this warning and adopt the future behaviour.\n",
      "  warn(\n"
     ]
    },
    {
     "name": "stdout",
     "output_type": "stream",
     "text": [
      "TRAIN: acc: 0.999, precision: 0.999, recall: 0.999, spec: 0.999\n",
      "TEST: acc: 0.812, precision: 0.187, recall: 0.500, spec: 0.836\n",
      "func:'rf_models'  took: 15.9691 sec\n",
      "\n",
      "NEK3 NEK3_binding_MFP_none_scaled_RF\n",
      "TRAIN: acc: 0.998, precision: 1.000, recall: 0.969, spec: 1.000\n",
      "TEST: acc: 0.627, precision: 0.094, recall: 0.500, spec: 0.637\n",
      "func:'rf_models'  took: 5.3448 sec\n",
      "\n",
      "NEK3 NEK3_binding_MFP_none_scaled_RF_BCW\n",
      "TRAIN: acc: 0.998, precision: 0.970, recall: 1.000, spec: 0.998\n",
      "TEST: acc: 0.848, precision: 0.098, recall: 0.143, spec: 0.901\n",
      "func:'rf_models'  took: 2.5591 sec\n",
      "\n",
      "NEK3 NEK3_binding_MFP_none_scaled_BRFC\n"
     ]
    },
    {
     "name": "stderr",
     "output_type": "stream",
     "text": [
      "/Users/jayceepang/miniconda3/envs/ATOM_CODE/lib/python3.9/site-packages/imblearn/ensemble/_forest.py:577: FutureWarning: The default of `sampling_strategy` will change from `'auto'` to `'all'` in version 0.13. This change will follow the implementation proposed in the original paper. Set to `'all'` to silence this warning and adopt the future behaviour.\n",
      "  warn(\n",
      "/Users/jayceepang/miniconda3/envs/ATOM_CODE/lib/python3.9/site-packages/imblearn/ensemble/_forest.py:589: FutureWarning: The default of `replacement` will change from `False` to `True` in version 0.13. This change will follow the implementation proposed in the original paper. Set to `True` to silence this warning and adopt the future behaviour.\n",
      "  warn(\n"
     ]
    },
    {
     "name": "stdout",
     "output_type": "stream",
     "text": [
      "TRAIN: acc: 0.799, precision: 0.221, recall: 1.000, spec: 0.787\n",
      "TEST: acc: 0.507, precision: 0.124, recall: 1.000, spec: 0.470\n",
      "func:'rf_models'  took: 0.3915 sec\n",
      "\n",
      "NEK3 NEK3_binding_MFP_none_scaled_BRFC_BCW\n"
     ]
    },
    {
     "name": "stderr",
     "output_type": "stream",
     "text": [
      "/Users/jayceepang/miniconda3/envs/ATOM_CODE/lib/python3.9/site-packages/imblearn/ensemble/_forest.py:577: FutureWarning: The default of `sampling_strategy` will change from `'auto'` to `'all'` in version 0.13. This change will follow the implementation proposed in the original paper. Set to `'all'` to silence this warning and adopt the future behaviour.\n",
      "  warn(\n",
      "/Users/jayceepang/miniconda3/envs/ATOM_CODE/lib/python3.9/site-packages/imblearn/ensemble/_forest.py:589: FutureWarning: The default of `replacement` will change from `False` to `True` in version 0.13. This change will follow the implementation proposed in the original paper. Set to `True` to silence this warning and adopt the future behaviour.\n",
      "  warn(\n"
     ]
    },
    {
     "name": "stdout",
     "output_type": "stream",
     "text": [
      "TRAIN: acc: 0.585, precision: 0.121, recall: 1.000, spec: 0.560\n",
      "TEST: acc: 0.840, precision: 0.071, recall: 0.107, spec: 0.895\n",
      "func:'rf_models'  took: 0.9098 sec\n",
      "\n",
      "NEK3 NEK3_binding_MFP_UNDER_RF\n",
      "TRAIN: acc: 1.000, precision: 1.000, recall: 1.000, spec: 1.000\n",
      "TEST: acc: 0.453, precision: 0.083, recall: 0.679, spec: 0.435\n",
      "func:'rf_models'  took: 0.3097 sec\n",
      "\n",
      "NEK3 NEK3_binding_MFP_UNDER_RF_BCW\n",
      "TRAIN: acc: 1.000, precision: 1.000, recall: 1.000, spec: 1.000\n",
      "TEST: acc: 0.443, precision: 0.059, recall: 0.464, spec: 0.441\n",
      "func:'rf_models'  took: 0.3187 sec\n",
      "\n",
      "NEK3 NEK3_binding_MFP_UNDER_BRFC\n"
     ]
    },
    {
     "name": "stderr",
     "output_type": "stream",
     "text": [
      "/Users/jayceepang/miniconda3/envs/ATOM_CODE/lib/python3.9/site-packages/imblearn/ensemble/_forest.py:577: FutureWarning: The default of `sampling_strategy` will change from `'auto'` to `'all'` in version 0.13. This change will follow the implementation proposed in the original paper. Set to `'all'` to silence this warning and adopt the future behaviour.\n",
      "  warn(\n",
      "/Users/jayceepang/miniconda3/envs/ATOM_CODE/lib/python3.9/site-packages/imblearn/ensemble/_forest.py:589: FutureWarning: The default of `replacement` will change from `False` to `True` in version 0.13. This change will follow the implementation proposed in the original paper. Set to `True` to silence this warning and adopt the future behaviour.\n",
      "  warn(\n"
     ]
    },
    {
     "name": "stdout",
     "output_type": "stream",
     "text": [
      "TRAIN: acc: 1.000, precision: 1.000, recall: 1.000, spec: 1.000\n",
      "TEST: acc: 0.448, precision: 0.075, recall: 0.607, spec: 0.435\n",
      "func:'rf_models'  took: 0.4104 sec\n",
      "\n",
      "NEK3 NEK3_binding_MFP_UNDER_BRFC_BCW\n"
     ]
    },
    {
     "name": "stderr",
     "output_type": "stream",
     "text": [
      "/Users/jayceepang/miniconda3/envs/ATOM_CODE/lib/python3.9/site-packages/imblearn/ensemble/_forest.py:577: FutureWarning: The default of `sampling_strategy` will change from `'auto'` to `'all'` in version 0.13. This change will follow the implementation proposed in the original paper. Set to `'all'` to silence this warning and adopt the future behaviour.\n",
      "  warn(\n",
      "/Users/jayceepang/miniconda3/envs/ATOM_CODE/lib/python3.9/site-packages/imblearn/ensemble/_forest.py:589: FutureWarning: The default of `replacement` will change from `False` to `True` in version 0.13. This change will follow the implementation proposed in the original paper. Set to `True` to silence this warning and adopt the future behaviour.\n",
      "  warn(\n"
     ]
    },
    {
     "name": "stdout",
     "output_type": "stream",
     "text": [
      "TRAIN: acc: 1.000, precision: 1.000, recall: 1.000, spec: 1.000\n",
      "TEST: acc: 0.440, precision: 0.070, recall: 0.571, spec: 0.430\n",
      "func:'rf_models'  took: 0.3991 sec\n",
      "\n",
      "NEK3 NEK3_binding_MFP_SMOTE_RF\n",
      "TRAIN: acc: 0.999, precision: 1.000, recall: 0.998, spec: 1.000\n",
      "TEST: acc: 0.772, precision: 0.120, recall: 0.357, spec: 0.804\n",
      "func:'rf_models'  took: 4.3402 sec\n",
      "\n",
      "NEK3 NEK3_binding_MFP_SMOTE_RF_BCW\n",
      "TRAIN: acc: 0.999, precision: 1.000, recall: 0.998, spec: 1.000\n",
      "TEST: acc: 0.767, precision: 0.108, recall: 0.321, spec: 0.801\n",
      "func:'rf_models'  took: 4.3661 sec\n",
      "\n",
      "NEK3 NEK3_binding_MFP_SMOTE_BRFC\n"
     ]
    },
    {
     "name": "stderr",
     "output_type": "stream",
     "text": [
      "/Users/jayceepang/miniconda3/envs/ATOM_CODE/lib/python3.9/site-packages/imblearn/ensemble/_forest.py:577: FutureWarning: The default of `sampling_strategy` will change from `'auto'` to `'all'` in version 0.13. This change will follow the implementation proposed in the original paper. Set to `'all'` to silence this warning and adopt the future behaviour.\n",
      "  warn(\n",
      "/Users/jayceepang/miniconda3/envs/ATOM_CODE/lib/python3.9/site-packages/imblearn/ensemble/_forest.py:589: FutureWarning: The default of `replacement` will change from `False` to `True` in version 0.13. This change will follow the implementation proposed in the original paper. Set to `True` to silence this warning and adopt the future behaviour.\n",
      "  warn(\n"
     ]
    },
    {
     "name": "stdout",
     "output_type": "stream",
     "text": [
      "TRAIN: acc: 0.999, precision: 1.000, recall: 0.998, spec: 1.000\n",
      "TEST: acc: 0.772, precision: 0.111, recall: 0.321, spec: 0.806\n",
      "func:'rf_models'  took: 7.4332 sec\n",
      "\n",
      "NEK3 NEK3_binding_MFP_SMOTE_BRFC_BCW\n"
     ]
    },
    {
     "name": "stderr",
     "output_type": "stream",
     "text": [
      "/Users/jayceepang/miniconda3/envs/ATOM_CODE/lib/python3.9/site-packages/imblearn/ensemble/_forest.py:577: FutureWarning: The default of `sampling_strategy` will change from `'auto'` to `'all'` in version 0.13. This change will follow the implementation proposed in the original paper. Set to `'all'` to silence this warning and adopt the future behaviour.\n",
      "  warn(\n",
      "/Users/jayceepang/miniconda3/envs/ATOM_CODE/lib/python3.9/site-packages/imblearn/ensemble/_forest.py:589: FutureWarning: The default of `replacement` will change from `False` to `True` in version 0.13. This change will follow the implementation proposed in the original paper. Set to `True` to silence this warning and adopt the future behaviour.\n",
      "  warn(\n"
     ]
    },
    {
     "name": "stdout",
     "output_type": "stream",
     "text": [
      "TRAIN: acc: 0.999, precision: 1.000, recall: 0.998, spec: 1.000\n",
      "TEST: acc: 0.767, precision: 0.118, recall: 0.357, spec: 0.798\n",
      "func:'rf_models'  took: 7.7012 sec\n",
      "\n",
      "NEK3 NEK3_binding_MFP_ADASYN_RF\n",
      "TRAIN: acc: 0.999, precision: 1.000, recall: 0.998, spec: 1.000\n",
      "TEST: acc: 0.700, precision: 0.146, recall: 0.679, spec: 0.702\n",
      "func:'rf_models'  took: 3.7149 sec\n",
      "\n",
      "NEK3 NEK3_binding_MFP_ADASYN_RF_BCW\n",
      "TRAIN: acc: 0.999, precision: 1.000, recall: 0.998, spec: 1.000\n",
      "TEST: acc: 0.700, precision: 0.146, recall: 0.679, spec: 0.702\n",
      "func:'rf_models'  took: 3.9645 sec\n",
      "\n",
      "NEK3 NEK3_binding_MFP_ADASYN_BRFC\n"
     ]
    },
    {
     "name": "stderr",
     "output_type": "stream",
     "text": [
      "/Users/jayceepang/miniconda3/envs/ATOM_CODE/lib/python3.9/site-packages/imblearn/ensemble/_forest.py:577: FutureWarning: The default of `sampling_strategy` will change from `'auto'` to `'all'` in version 0.13. This change will follow the implementation proposed in the original paper. Set to `'all'` to silence this warning and adopt the future behaviour.\n",
      "  warn(\n",
      "/Users/jayceepang/miniconda3/envs/ATOM_CODE/lib/python3.9/site-packages/imblearn/ensemble/_forest.py:589: FutureWarning: The default of `replacement` will change from `False` to `True` in version 0.13. This change will follow the implementation proposed in the original paper. Set to `True` to silence this warning and adopt the future behaviour.\n",
      "  warn(\n"
     ]
    },
    {
     "name": "stdout",
     "output_type": "stream",
     "text": [
      "TRAIN: acc: 0.999, precision: 1.000, recall: 0.998, spec: 1.000\n",
      "TEST: acc: 0.698, precision: 0.140, recall: 0.643, spec: 0.702\n",
      "func:'rf_models'  took: 6.6300 sec\n",
      "\n",
      "NEK3 NEK3_binding_MFP_ADASYN_BRFC_BCW\n"
     ]
    },
    {
     "name": "stderr",
     "output_type": "stream",
     "text": [
      "/Users/jayceepang/miniconda3/envs/ATOM_CODE/lib/python3.9/site-packages/imblearn/ensemble/_forest.py:577: FutureWarning: The default of `sampling_strategy` will change from `'auto'` to `'all'` in version 0.13. This change will follow the implementation proposed in the original paper. Set to `'all'` to silence this warning and adopt the future behaviour.\n",
      "  warn(\n",
      "/Users/jayceepang/miniconda3/envs/ATOM_CODE/lib/python3.9/site-packages/imblearn/ensemble/_forest.py:589: FutureWarning: The default of `replacement` will change from `False` to `True` in version 0.13. This change will follow the implementation proposed in the original paper. Set to `True` to silence this warning and adopt the future behaviour.\n",
      "  warn(\n"
     ]
    },
    {
     "name": "stdout",
     "output_type": "stream",
     "text": [
      "TRAIN: acc: 0.999, precision: 1.000, recall: 0.998, spec: 1.000\n",
      "TEST: acc: 0.682, precision: 0.139, recall: 0.679, spec: 0.683\n",
      "func:'rf_models'  took: 6.8542 sec\n",
      "\n",
      "NEK3 NEK5_binding_MFP_none_scaled_RF\n",
      "TRAIN: acc: 0.998, precision: 1.000, recall: 0.974, spec: 1.000\n",
      "TEST: acc: 0.580, precision: 0.102, recall: 0.643, spec: 0.575\n",
      "func:'rf_models'  took: 3.4292 sec\n",
      "\n",
      "NEK3 NEK5_binding_MFP_none_scaled_RF_BCW\n",
      "TRAIN: acc: 0.998, precision: 0.975, recall: 1.000, spec: 0.998\n",
      "TEST: acc: 0.828, precision: 0.064, recall: 0.107, spec: 0.882\n",
      "func:'rf_models'  took: 2.9693 sec\n",
      "\n",
      "NEK3 NEK5_binding_MFP_none_scaled_BRFC\n"
     ]
    },
    {
     "name": "stderr",
     "output_type": "stream",
     "text": [
      "/Users/jayceepang/miniconda3/envs/ATOM_CODE/lib/python3.9/site-packages/imblearn/ensemble/_forest.py:577: FutureWarning: The default of `sampling_strategy` will change from `'auto'` to `'all'` in version 0.13. This change will follow the implementation proposed in the original paper. Set to `'all'` to silence this warning and adopt the future behaviour.\n",
      "  warn(\n",
      "/Users/jayceepang/miniconda3/envs/ATOM_CODE/lib/python3.9/site-packages/imblearn/ensemble/_forest.py:589: FutureWarning: The default of `replacement` will change from `False` to `True` in version 0.13. This change will follow the implementation proposed in the original paper. Set to `True` to silence this warning and adopt the future behaviour.\n",
      "  warn(\n"
     ]
    },
    {
     "name": "stdout",
     "output_type": "stream",
     "text": [
      "TRAIN: acc: 0.889, precision: 0.412, recall: 1.000, spec: 0.879\n",
      "TEST: acc: 0.520, precision: 0.102, recall: 0.750, spec: 0.503\n",
      "func:'rf_models'  took: 0.4267 sec\n",
      "\n",
      "NEK3 NEK5_binding_MFP_none_scaled_BRFC_BCW\n"
     ]
    },
    {
     "name": "stderr",
     "output_type": "stream",
     "text": [
      "/Users/jayceepang/miniconda3/envs/ATOM_CODE/lib/python3.9/site-packages/imblearn/ensemble/_forest.py:577: FutureWarning: The default of `sampling_strategy` will change from `'auto'` to `'all'` in version 0.13. This change will follow the implementation proposed in the original paper. Set to `'all'` to silence this warning and adopt the future behaviour.\n",
      "  warn(\n",
      "/Users/jayceepang/miniconda3/envs/ATOM_CODE/lib/python3.9/site-packages/imblearn/ensemble/_forest.py:589: FutureWarning: The default of `replacement` will change from `False` to `True` in version 0.13. This change will follow the implementation proposed in the original paper. Set to `True` to silence this warning and adopt the future behaviour.\n",
      "  warn(\n"
     ]
    },
    {
     "name": "stdout",
     "output_type": "stream",
     "text": [
      "TRAIN: acc: 0.798, precision: 0.278, recall: 1.000, spec: 0.781\n",
      "TEST: acc: 0.580, precision: 0.093, recall: 0.571, spec: 0.581\n",
      "func:'rf_models'  took: 0.6068 sec\n",
      "\n",
      "NEK3 NEK5_binding_MFP_UNDER_RF\n",
      "TRAIN: acc: 1.000, precision: 1.000, recall: 1.000, spec: 1.000\n",
      "TEST: acc: 0.537, precision: 0.124, recall: 0.929, spec: 0.508\n",
      "func:'rf_models'  took: 0.2717 sec\n",
      "\n",
      "NEK3 NEK5_binding_MFP_UNDER_RF_BCW\n",
      "TRAIN: acc: 1.000, precision: 1.000, recall: 1.000, spec: 1.000\n",
      "TEST: acc: 0.547, precision: 0.127, recall: 0.929, spec: 0.519\n",
      "func:'rf_models'  took: 0.2767 sec\n",
      "\n",
      "NEK3 NEK5_binding_MFP_UNDER_BRFC\n"
     ]
    },
    {
     "name": "stderr",
     "output_type": "stream",
     "text": [
      "/Users/jayceepang/miniconda3/envs/ATOM_CODE/lib/python3.9/site-packages/imblearn/ensemble/_forest.py:577: FutureWarning: The default of `sampling_strategy` will change from `'auto'` to `'all'` in version 0.13. This change will follow the implementation proposed in the original paper. Set to `'all'` to silence this warning and adopt the future behaviour.\n",
      "  warn(\n",
      "/Users/jayceepang/miniconda3/envs/ATOM_CODE/lib/python3.9/site-packages/imblearn/ensemble/_forest.py:589: FutureWarning: The default of `replacement` will change from `False` to `True` in version 0.13. This change will follow the implementation proposed in the original paper. Set to `True` to silence this warning and adopt the future behaviour.\n",
      "  warn(\n"
     ]
    },
    {
     "name": "stdout",
     "output_type": "stream",
     "text": [
      "TRAIN: acc: 1.000, precision: 1.000, recall: 1.000, spec: 1.000\n",
      "TEST: acc: 0.537, precision: 0.124, recall: 0.929, spec: 0.508\n",
      "func:'rf_models'  took: 0.3637 sec\n",
      "\n",
      "NEK3 NEK5_binding_MFP_UNDER_BRFC_BCW\n"
     ]
    },
    {
     "name": "stderr",
     "output_type": "stream",
     "text": [
      "/Users/jayceepang/miniconda3/envs/ATOM_CODE/lib/python3.9/site-packages/imblearn/ensemble/_forest.py:577: FutureWarning: The default of `sampling_strategy` will change from `'auto'` to `'all'` in version 0.13. This change will follow the implementation proposed in the original paper. Set to `'all'` to silence this warning and adopt the future behaviour.\n",
      "  warn(\n",
      "/Users/jayceepang/miniconda3/envs/ATOM_CODE/lib/python3.9/site-packages/imblearn/ensemble/_forest.py:589: FutureWarning: The default of `replacement` will change from `False` to `True` in version 0.13. This change will follow the implementation proposed in the original paper. Set to `True` to silence this warning and adopt the future behaviour.\n",
      "  warn(\n"
     ]
    },
    {
     "name": "stdout",
     "output_type": "stream",
     "text": [
      "TRAIN: acc: 1.000, precision: 1.000, recall: 1.000, spec: 1.000\n",
      "TEST: acc: 0.540, precision: 0.125, recall: 0.929, spec: 0.511\n",
      "func:'rf_models'  took: 0.3655 sec\n",
      "\n",
      "NEK3 NEK5_binding_MFP_SMOTE_RF\n",
      "TRAIN: acc: 0.999, precision: 1.000, recall: 0.998, spec: 1.000\n",
      "TEST: acc: 0.730, precision: 0.143, recall: 0.571, spec: 0.742\n",
      "func:'rf_models'  took: 3.9367 sec\n",
      "\n",
      "NEK3 NEK5_binding_MFP_SMOTE_RF_BCW\n",
      "TRAIN: acc: 0.999, precision: 1.000, recall: 0.998, spec: 1.000\n",
      "TEST: acc: 0.733, precision: 0.138, recall: 0.536, spec: 0.747\n",
      "func:'rf_models'  took: 3.9774 sec\n",
      "\n",
      "NEK3 NEK5_binding_MFP_SMOTE_BRFC\n"
     ]
    },
    {
     "name": "stderr",
     "output_type": "stream",
     "text": [
      "/Users/jayceepang/miniconda3/envs/ATOM_CODE/lib/python3.9/site-packages/imblearn/ensemble/_forest.py:577: FutureWarning: The default of `sampling_strategy` will change from `'auto'` to `'all'` in version 0.13. This change will follow the implementation proposed in the original paper. Set to `'all'` to silence this warning and adopt the future behaviour.\n",
      "  warn(\n",
      "/Users/jayceepang/miniconda3/envs/ATOM_CODE/lib/python3.9/site-packages/imblearn/ensemble/_forest.py:589: FutureWarning: The default of `replacement` will change from `False` to `True` in version 0.13. This change will follow the implementation proposed in the original paper. Set to `True` to silence this warning and adopt the future behaviour.\n",
      "  warn(\n"
     ]
    },
    {
     "name": "stdout",
     "output_type": "stream",
     "text": [
      "TRAIN: acc: 0.999, precision: 1.000, recall: 0.998, spec: 1.000\n",
      "TEST: acc: 0.733, precision: 0.144, recall: 0.571, spec: 0.745\n",
      "func:'rf_models'  took: 6.3482 sec\n",
      "\n",
      "NEK3 NEK5_binding_MFP_SMOTE_BRFC_BCW\n"
     ]
    },
    {
     "name": "stderr",
     "output_type": "stream",
     "text": [
      "/Users/jayceepang/miniconda3/envs/ATOM_CODE/lib/python3.9/site-packages/imblearn/ensemble/_forest.py:577: FutureWarning: The default of `sampling_strategy` will change from `'auto'` to `'all'` in version 0.13. This change will follow the implementation proposed in the original paper. Set to `'all'` to silence this warning and adopt the future behaviour.\n",
      "  warn(\n",
      "/Users/jayceepang/miniconda3/envs/ATOM_CODE/lib/python3.9/site-packages/imblearn/ensemble/_forest.py:589: FutureWarning: The default of `replacement` will change from `False` to `True` in version 0.13. This change will follow the implementation proposed in the original paper. Set to `True` to silence this warning and adopt the future behaviour.\n",
      "  warn(\n"
     ]
    },
    {
     "name": "stdout",
     "output_type": "stream",
     "text": [
      "TRAIN: acc: 0.999, precision: 1.000, recall: 0.998, spec: 1.000\n",
      "TEST: acc: 0.735, precision: 0.139, recall: 0.536, spec: 0.750\n",
      "func:'rf_models'  took: 6.6157 sec\n",
      "\n",
      "NEK3 NEK5_binding_MFP_ADASYN_RF\n",
      "TRAIN: acc: 0.999, precision: 1.000, recall: 0.998, spec: 1.000\n",
      "TEST: acc: 0.858, precision: 0.204, recall: 0.357, spec: 0.895\n",
      "func:'rf_models'  took: 3.1191 sec\n",
      "\n",
      "NEK3 NEK5_binding_MFP_ADASYN_RF_BCW\n",
      "TRAIN: acc: 0.999, precision: 0.998, recall: 1.000, spec: 0.998\n",
      "TEST: acc: 0.845, precision: 0.185, recall: 0.357, spec: 0.882\n",
      "func:'rf_models'  took: 3.7350 sec\n",
      "\n",
      "NEK3 NEK5_binding_MFP_ADASYN_BRFC\n"
     ]
    },
    {
     "name": "stderr",
     "output_type": "stream",
     "text": [
      "/Users/jayceepang/miniconda3/envs/ATOM_CODE/lib/python3.9/site-packages/imblearn/ensemble/_forest.py:577: FutureWarning: The default of `sampling_strategy` will change from `'auto'` to `'all'` in version 0.13. This change will follow the implementation proposed in the original paper. Set to `'all'` to silence this warning and adopt the future behaviour.\n",
      "  warn(\n",
      "/Users/jayceepang/miniconda3/envs/ATOM_CODE/lib/python3.9/site-packages/imblearn/ensemble/_forest.py:589: FutureWarning: The default of `replacement` will change from `False` to `True` in version 0.13. This change will follow the implementation proposed in the original paper. Set to `True` to silence this warning and adopt the future behaviour.\n",
      "  warn(\n"
     ]
    },
    {
     "name": "stdout",
     "output_type": "stream",
     "text": [
      "TRAIN: acc: 0.999, precision: 0.998, recall: 1.000, spec: 0.998\n",
      "TEST: acc: 0.858, precision: 0.178, recall: 0.286, spec: 0.901\n",
      "func:'rf_models'  took: 5.3479 sec\n",
      "\n",
      "NEK3 NEK5_binding_MFP_ADASYN_BRFC_BCW\n"
     ]
    },
    {
     "name": "stderr",
     "output_type": "stream",
     "text": [
      "/Users/jayceepang/miniconda3/envs/ATOM_CODE/lib/python3.9/site-packages/imblearn/ensemble/_forest.py:577: FutureWarning: The default of `sampling_strategy` will change from `'auto'` to `'all'` in version 0.13. This change will follow the implementation proposed in the original paper. Set to `'all'` to silence this warning and adopt the future behaviour.\n",
      "  warn(\n",
      "/Users/jayceepang/miniconda3/envs/ATOM_CODE/lib/python3.9/site-packages/imblearn/ensemble/_forest.py:589: FutureWarning: The default of `replacement` will change from `False` to `True` in version 0.13. This change will follow the implementation proposed in the original paper. Set to `True` to silence this warning and adopt the future behaviour.\n",
      "  warn(\n"
     ]
    },
    {
     "name": "stdout",
     "output_type": "stream",
     "text": [
      "TRAIN: acc: 0.999, precision: 0.998, recall: 1.000, spec: 0.998\n",
      "TEST: acc: 0.858, precision: 0.216, recall: 0.393, spec: 0.892\n",
      "func:'rf_models'  took: 5.5868 sec\n",
      "\n",
      "NEK3 NEK9_binding_MFP_none_scaled_RF\n",
      "TRAIN: acc: 0.999, precision: 1.000, recall: 0.979, spec: 1.000\n",
      "TEST: acc: 0.640, precision: 0.097, recall: 0.500, spec: 0.651\n",
      "func:'rf_models'  took: 7.6379 sec\n",
      "\n",
      "NEK3 NEK9_binding_MFP_none_scaled_RF_BCW\n",
      "TRAIN: acc: 0.999, precision: 0.980, recall: 1.000, spec: 0.999\n",
      "TEST: acc: 0.833, precision: 0.132, recall: 0.250, spec: 0.876\n",
      "func:'rf_models'  took: 2.3379 sec\n",
      "\n",
      "NEK3 NEK9_binding_MFP_none_scaled_BRFC\n"
     ]
    },
    {
     "name": "stderr",
     "output_type": "stream",
     "text": [
      "/Users/jayceepang/miniconda3/envs/ATOM_CODE/lib/python3.9/site-packages/imblearn/ensemble/_forest.py:577: FutureWarning: The default of `sampling_strategy` will change from `'auto'` to `'all'` in version 0.13. This change will follow the implementation proposed in the original paper. Set to `'all'` to silence this warning and adopt the future behaviour.\n",
      "  warn(\n",
      "/Users/jayceepang/miniconda3/envs/ATOM_CODE/lib/python3.9/site-packages/imblearn/ensemble/_forest.py:589: FutureWarning: The default of `replacement` will change from `False` to `True` in version 0.13. This change will follow the implementation proposed in the original paper. Set to `True` to silence this warning and adopt the future behaviour.\n",
      "  warn(\n"
     ]
    },
    {
     "name": "stdout",
     "output_type": "stream",
     "text": [
      "TRAIN: acc: 0.838, precision: 0.209, recall: 1.000, spec: 0.831\n",
      "TEST: acc: 0.450, precision: 0.113, recall: 1.000, spec: 0.409\n",
      "func:'rf_models'  took: 0.2896 sec\n",
      "\n",
      "NEK3 NEK9_binding_MFP_none_scaled_BRFC_BCW\n"
     ]
    },
    {
     "name": "stderr",
     "output_type": "stream",
     "text": [
      "/Users/jayceepang/miniconda3/envs/ATOM_CODE/lib/python3.9/site-packages/imblearn/ensemble/_forest.py:577: FutureWarning: The default of `sampling_strategy` will change from `'auto'` to `'all'` in version 0.13. This change will follow the implementation proposed in the original paper. Set to `'all'` to silence this warning and adopt the future behaviour.\n",
      "  warn(\n",
      "/Users/jayceepang/miniconda3/envs/ATOM_CODE/lib/python3.9/site-packages/imblearn/ensemble/_forest.py:589: FutureWarning: The default of `replacement` will change from `False` to `True` in version 0.13. This change will follow the implementation proposed in the original paper. Set to `True` to silence this warning and adopt the future behaviour.\n",
      "  warn(\n"
     ]
    },
    {
     "name": "stdout",
     "output_type": "stream",
     "text": [
      "TRAIN: acc: 0.564, precision: 0.089, recall: 1.000, spec: 0.545\n",
      "TEST: acc: 0.685, precision: 0.062, recall: 0.250, spec: 0.718\n",
      "func:'rf_models'  took: 0.5178 sec\n",
      "\n",
      "NEK3 NEK9_binding_MFP_UNDER_RF\n",
      "TRAIN: acc: 1.000, precision: 1.000, recall: 1.000, spec: 1.000\n",
      "TEST: acc: 0.320, precision: 0.093, recall: 1.000, spec: 0.269\n",
      "func:'rf_models'  took: 0.2345 sec\n",
      "\n",
      "NEK3 NEK9_binding_MFP_UNDER_RF_BCW\n",
      "TRAIN: acc: 1.000, precision: 1.000, recall: 1.000, spec: 1.000\n",
      "TEST: acc: 0.312, precision: 0.092, recall: 1.000, spec: 0.261\n",
      "func:'rf_models'  took: 0.2322 sec\n",
      "\n",
      "NEK3 NEK9_binding_MFP_UNDER_BRFC\n"
     ]
    },
    {
     "name": "stderr",
     "output_type": "stream",
     "text": [
      "/Users/jayceepang/miniconda3/envs/ATOM_CODE/lib/python3.9/site-packages/imblearn/ensemble/_forest.py:577: FutureWarning: The default of `sampling_strategy` will change from `'auto'` to `'all'` in version 0.13. This change will follow the implementation proposed in the original paper. Set to `'all'` to silence this warning and adopt the future behaviour.\n",
      "  warn(\n",
      "/Users/jayceepang/miniconda3/envs/ATOM_CODE/lib/python3.9/site-packages/imblearn/ensemble/_forest.py:589: FutureWarning: The default of `replacement` will change from `False` to `True` in version 0.13. This change will follow the implementation proposed in the original paper. Set to `True` to silence this warning and adopt the future behaviour.\n",
      "  warn(\n"
     ]
    },
    {
     "name": "stdout",
     "output_type": "stream",
     "text": [
      "TRAIN: acc: 1.000, precision: 1.000, recall: 1.000, spec: 1.000\n",
      "TEST: acc: 0.328, precision: 0.094, recall: 1.000, spec: 0.277\n",
      "func:'rf_models'  took: 0.2970 sec\n",
      "\n",
      "NEK3 NEK9_binding_MFP_UNDER_BRFC_BCW\n"
     ]
    },
    {
     "name": "stderr",
     "output_type": "stream",
     "text": [
      "/Users/jayceepang/miniconda3/envs/ATOM_CODE/lib/python3.9/site-packages/imblearn/ensemble/_forest.py:577: FutureWarning: The default of `sampling_strategy` will change from `'auto'` to `'all'` in version 0.13. This change will follow the implementation proposed in the original paper. Set to `'all'` to silence this warning and adopt the future behaviour.\n",
      "  warn(\n",
      "/Users/jayceepang/miniconda3/envs/ATOM_CODE/lib/python3.9/site-packages/imblearn/ensemble/_forest.py:589: FutureWarning: The default of `replacement` will change from `False` to `True` in version 0.13. This change will follow the implementation proposed in the original paper. Set to `True` to silence this warning and adopt the future behaviour.\n",
      "  warn(\n"
     ]
    },
    {
     "name": "stdout",
     "output_type": "stream",
     "text": [
      "TRAIN: acc: 1.000, precision: 1.000, recall: 1.000, spec: 1.000\n",
      "TEST: acc: 0.325, precision: 0.094, recall: 1.000, spec: 0.274\n",
      "func:'rf_models'  took: 0.3031 sec\n",
      "\n",
      "NEK3 NEK9_binding_MFP_SMOTE_RF\n",
      "TRAIN: acc: 1.000, precision: 1.000, recall: 0.999, spec: 1.000\n",
      "TEST: acc: 0.767, precision: 0.165, recall: 0.571, spec: 0.782\n",
      "func:'rf_models'  took: 5.3416 sec\n",
      "\n",
      "NEK3 NEK9_binding_MFP_SMOTE_RF_BCW\n",
      "TRAIN: acc: 1.000, precision: 1.000, recall: 0.999, spec: 1.000\n",
      "TEST: acc: 0.762, precision: 0.162, recall: 0.571, spec: 0.777\n",
      "func:'rf_models'  took: 5.3942 sec\n",
      "\n",
      "NEK3 NEK9_binding_MFP_SMOTE_BRFC\n"
     ]
    },
    {
     "name": "stderr",
     "output_type": "stream",
     "text": [
      "/Users/jayceepang/miniconda3/envs/ATOM_CODE/lib/python3.9/site-packages/imblearn/ensemble/_forest.py:577: FutureWarning: The default of `sampling_strategy` will change from `'auto'` to `'all'` in version 0.13. This change will follow the implementation proposed in the original paper. Set to `'all'` to silence this warning and adopt the future behaviour.\n",
      "  warn(\n",
      "/Users/jayceepang/miniconda3/envs/ATOM_CODE/lib/python3.9/site-packages/imblearn/ensemble/_forest.py:589: FutureWarning: The default of `replacement` will change from `False` to `True` in version 0.13. This change will follow the implementation proposed in the original paper. Set to `True` to silence this warning and adopt the future behaviour.\n",
      "  warn(\n"
     ]
    },
    {
     "name": "stdout",
     "output_type": "stream",
     "text": [
      "TRAIN: acc: 1.000, precision: 1.000, recall: 0.999, spec: 1.000\n",
      "TEST: acc: 0.735, precision: 0.139, recall: 0.536, spec: 0.750\n",
      "func:'rf_models'  took: 9.8006 sec\n",
      "\n",
      "NEK3 NEK9_binding_MFP_SMOTE_BRFC_BCW\n"
     ]
    },
    {
     "name": "stderr",
     "output_type": "stream",
     "text": [
      "/Users/jayceepang/miniconda3/envs/ATOM_CODE/lib/python3.9/site-packages/imblearn/ensemble/_forest.py:577: FutureWarning: The default of `sampling_strategy` will change from `'auto'` to `'all'` in version 0.13. This change will follow the implementation proposed in the original paper. Set to `'all'` to silence this warning and adopt the future behaviour.\n",
      "  warn(\n",
      "/Users/jayceepang/miniconda3/envs/ATOM_CODE/lib/python3.9/site-packages/imblearn/ensemble/_forest.py:589: FutureWarning: The default of `replacement` will change from `False` to `True` in version 0.13. This change will follow the implementation proposed in the original paper. Set to `True` to silence this warning and adopt the future behaviour.\n",
      "  warn(\n"
     ]
    },
    {
     "name": "stdout",
     "output_type": "stream",
     "text": [
      "TRAIN: acc: 1.000, precision: 1.000, recall: 0.999, spec: 1.000\n",
      "TEST: acc: 0.752, precision: 0.155, recall: 0.571, spec: 0.766\n",
      "func:'rf_models'  took: 9.7954 sec\n",
      "\n",
      "NEK3 NEK9_binding_MFP_ADASYN_RF\n",
      "TRAIN: acc: 1.000, precision: 1.000, recall: 0.999, spec: 1.000\n",
      "TEST: acc: 0.752, precision: 0.072, recall: 0.214, spec: 0.793\n",
      "func:'rf_models'  took: 4.4326 sec\n",
      "\n",
      "NEK3 NEK9_binding_MFP_ADASYN_RF_BCW\n",
      "TRAIN: acc: 1.000, precision: 1.000, recall: 0.999, spec: 1.000\n",
      "TEST: acc: 0.777, precision: 0.058, recall: 0.143, spec: 0.825\n",
      "func:'rf_models'  took: 4.3484 sec\n",
      "\n",
      "NEK3 NEK9_binding_MFP_ADASYN_BRFC\n"
     ]
    },
    {
     "name": "stderr",
     "output_type": "stream",
     "text": [
      "/Users/jayceepang/miniconda3/envs/ATOM_CODE/lib/python3.9/site-packages/imblearn/ensemble/_forest.py:577: FutureWarning: The default of `sampling_strategy` will change from `'auto'` to `'all'` in version 0.13. This change will follow the implementation proposed in the original paper. Set to `'all'` to silence this warning and adopt the future behaviour.\n",
      "  warn(\n",
      "/Users/jayceepang/miniconda3/envs/ATOM_CODE/lib/python3.9/site-packages/imblearn/ensemble/_forest.py:589: FutureWarning: The default of `replacement` will change from `False` to `True` in version 0.13. This change will follow the implementation proposed in the original paper. Set to `True` to silence this warning and adopt the future behaviour.\n",
      "  warn(\n"
     ]
    },
    {
     "name": "stdout",
     "output_type": "stream",
     "text": [
      "TRAIN: acc: 1.000, precision: 1.000, recall: 0.999, spec: 1.000\n",
      "TEST: acc: 0.757, precision: 0.052, recall: 0.143, spec: 0.804\n",
      "func:'rf_models'  took: 7.9537 sec\n",
      "\n",
      "NEK3 NEK9_binding_MFP_ADASYN_BRFC_BCW\n"
     ]
    },
    {
     "name": "stderr",
     "output_type": "stream",
     "text": [
      "/Users/jayceepang/miniconda3/envs/ATOM_CODE/lib/python3.9/site-packages/imblearn/ensemble/_forest.py:577: FutureWarning: The default of `sampling_strategy` will change from `'auto'` to `'all'` in version 0.13. This change will follow the implementation proposed in the original paper. Set to `'all'` to silence this warning and adopt the future behaviour.\n",
      "  warn(\n",
      "/Users/jayceepang/miniconda3/envs/ATOM_CODE/lib/python3.9/site-packages/imblearn/ensemble/_forest.py:589: FutureWarning: The default of `replacement` will change from `False` to `True` in version 0.13. This change will follow the implementation proposed in the original paper. Set to `True` to silence this warning and adopt the future behaviour.\n",
      "  warn(\n"
     ]
    },
    {
     "name": "stdout",
     "output_type": "stream",
     "text": [
      "TRAIN: acc: 1.000, precision: 1.000, recall: 0.999, spec: 1.000\n",
      "TEST: acc: 0.770, precision: 0.056, recall: 0.143, spec: 0.817\n",
      "func:'rf_models'  took: 7.9610 sec\n",
      "\n",
      "NEK3 NEK9_inhibition_MFP_none_scaled_RF\n",
      "TRAIN: acc: 0.997, precision: 1.000, recall: 0.970, spec: 1.000\n",
      "TEST: acc: 0.762, precision: 0.175, recall: 0.643, spec: 0.772\n",
      "func:'rf_models'  took: 0.5551 sec\n",
      "\n",
      "NEK3 NEK9_inhibition_MFP_none_scaled_RF_BCW\n",
      "TRAIN: acc: 0.997, precision: 0.971, recall: 1.000, spec: 0.996\n",
      "TEST: acc: 0.802, precision: 0.185, recall: 0.536, spec: 0.823\n",
      "func:'rf_models'  took: 0.3840 sec\n",
      "\n",
      "NEK3 NEK9_inhibition_MFP_none_scaled_BRFC\n",
      "TRAIN: acc: 0.936, precision: 0.623, recall: 1.000, spec: 0.929\n",
      "TEST: acc: 0.713, precision: 0.128, recall: 0.536, spec: 0.726\n",
      "func:'rf_models'  took: 0.1544 sec\n",
      "\n",
      "NEK3 NEK9_inhibition_MFP_none_scaled_BRFC_BCW\n"
     ]
    },
    {
     "name": "stderr",
     "output_type": "stream",
     "text": [
      "/Users/jayceepang/miniconda3/envs/ATOM_CODE/lib/python3.9/site-packages/imblearn/ensemble/_forest.py:577: FutureWarning: The default of `sampling_strategy` will change from `'auto'` to `'all'` in version 0.13. This change will follow the implementation proposed in the original paper. Set to `'all'` to silence this warning and adopt the future behaviour.\n",
      "  warn(\n",
      "/Users/jayceepang/miniconda3/envs/ATOM_CODE/lib/python3.9/site-packages/imblearn/ensemble/_forest.py:589: FutureWarning: The default of `replacement` will change from `False` to `True` in version 0.13. This change will follow the implementation proposed in the original paper. Set to `True` to silence this warning and adopt the future behaviour.\n",
      "  warn(\n",
      "/Users/jayceepang/miniconda3/envs/ATOM_CODE/lib/python3.9/site-packages/imblearn/ensemble/_forest.py:577: FutureWarning: The default of `sampling_strategy` will change from `'auto'` to `'all'` in version 0.13. This change will follow the implementation proposed in the original paper. Set to `'all'` to silence this warning and adopt the future behaviour.\n",
      "  warn(\n",
      "/Users/jayceepang/miniconda3/envs/ATOM_CODE/lib/python3.9/site-packages/imblearn/ensemble/_forest.py:589: FutureWarning: The default of `replacement` will change from `False` to `True` in version 0.13. This change will follow the implementation proposed in the original paper. Set to `True` to silence this warning and adopt the future behaviour.\n",
      "  warn(\n"
     ]
    },
    {
     "name": "stdout",
     "output_type": "stream",
     "text": [
      "TRAIN: acc: 0.898, precision: 0.508, recall: 1.000, spec: 0.886\n",
      "TEST: acc: 0.670, precision: 0.074, recall: 0.321, spec: 0.696\n",
      "func:'rf_models'  took: 0.1682 sec\n",
      "\n",
      "NEK3 NEK9_inhibition_MFP_UNDER_RF\n",
      "TRAIN: acc: 1.000, precision: 1.000, recall: 1.000, spec: 1.000\n",
      "TEST: acc: 0.495, precision: 0.074, recall: 0.536, spec: 0.492\n",
      "func:'rf_models'  took: 0.1071 sec\n",
      "\n",
      "NEK3 NEK9_inhibition_MFP_UNDER_RF_BCW\n",
      "TRAIN: acc: 1.000, precision: 1.000, recall: 1.000, spec: 1.000\n",
      "TEST: acc: 0.490, precision: 0.073, recall: 0.536, spec: 0.487\n",
      "func:'rf_models'  took: 0.1128 sec\n",
      "\n",
      "NEK3 NEK9_inhibition_MFP_UNDER_BRFC\n"
     ]
    },
    {
     "name": "stderr",
     "output_type": "stream",
     "text": [
      "/Users/jayceepang/miniconda3/envs/ATOM_CODE/lib/python3.9/site-packages/imblearn/ensemble/_forest.py:577: FutureWarning: The default of `sampling_strategy` will change from `'auto'` to `'all'` in version 0.13. This change will follow the implementation proposed in the original paper. Set to `'all'` to silence this warning and adopt the future behaviour.\n",
      "  warn(\n",
      "/Users/jayceepang/miniconda3/envs/ATOM_CODE/lib/python3.9/site-packages/imblearn/ensemble/_forest.py:589: FutureWarning: The default of `replacement` will change from `False` to `True` in version 0.13. This change will follow the implementation proposed in the original paper. Set to `True` to silence this warning and adopt the future behaviour.\n",
      "  warn(\n",
      "/Users/jayceepang/miniconda3/envs/ATOM_CODE/lib/python3.9/site-packages/imblearn/ensemble/_forest.py:577: FutureWarning: The default of `sampling_strategy` will change from `'auto'` to `'all'` in version 0.13. This change will follow the implementation proposed in the original paper. Set to `'all'` to silence this warning and adopt the future behaviour.\n",
      "  warn(\n",
      "/Users/jayceepang/miniconda3/envs/ATOM_CODE/lib/python3.9/site-packages/imblearn/ensemble/_forest.py:589: FutureWarning: The default of `replacement` will change from `False` to `True` in version 0.13. This change will follow the implementation proposed in the original paper. Set to `True` to silence this warning and adopt the future behaviour.\n",
      "  warn(\n"
     ]
    },
    {
     "name": "stdout",
     "output_type": "stream",
     "text": [
      "TRAIN: acc: 1.000, precision: 1.000, recall: 1.000, spec: 1.000\n",
      "TEST: acc: 0.495, precision: 0.074, recall: 0.536, spec: 0.492\n",
      "func:'rf_models'  took: 0.1490 sec\n",
      "\n",
      "NEK3 NEK9_inhibition_MFP_UNDER_BRFC_BCW\n",
      "TRAIN: acc: 1.000, precision: 1.000, recall: 1.000, spec: 1.000\n",
      "TEST: acc: 0.495, precision: 0.074, recall: 0.536, spec: 0.492\n",
      "func:'rf_models'  took: 0.1505 sec\n",
      "\n",
      "NEK3 NEK9_inhibition_MFP_SMOTE_RF\n",
      "TRAIN: acc: 0.998, precision: 1.000, recall: 0.996, spec: 1.000\n",
      "TEST: acc: 0.792, precision: 0.176, recall: 0.536, spec: 0.812\n",
      "func:'rf_models'  took: 0.5866 sec\n",
      "\n",
      "NEK3 NEK9_inhibition_MFP_SMOTE_RF_BCW\n",
      "TRAIN: acc: 0.998, precision: 1.000, recall: 0.996, spec: 1.000\n",
      "TEST: acc: 0.790, precision: 0.174, recall: 0.536, spec: 0.809\n",
      "func:'rf_models'  took: 0.5989 sec\n",
      "\n",
      "NEK3 NEK9_inhibition_MFP_SMOTE_BRFC\n"
     ]
    },
    {
     "name": "stderr",
     "output_type": "stream",
     "text": [
      "/Users/jayceepang/miniconda3/envs/ATOM_CODE/lib/python3.9/site-packages/imblearn/ensemble/_forest.py:577: FutureWarning: The default of `sampling_strategy` will change from `'auto'` to `'all'` in version 0.13. This change will follow the implementation proposed in the original paper. Set to `'all'` to silence this warning and adopt the future behaviour.\n",
      "  warn(\n",
      "/Users/jayceepang/miniconda3/envs/ATOM_CODE/lib/python3.9/site-packages/imblearn/ensemble/_forest.py:589: FutureWarning: The default of `replacement` will change from `False` to `True` in version 0.13. This change will follow the implementation proposed in the original paper. Set to `True` to silence this warning and adopt the future behaviour.\n",
      "  warn(\n"
     ]
    },
    {
     "name": "stdout",
     "output_type": "stream",
     "text": [
      "TRAIN: acc: 0.998, precision: 1.000, recall: 0.996, spec: 1.000\n",
      "TEST: acc: 0.782, precision: 0.169, recall: 0.536, spec: 0.801\n",
      "func:'rf_models'  took: 0.9259 sec\n",
      "\n",
      "NEK3 NEK9_inhibition_MFP_SMOTE_BRFC_BCW\n"
     ]
    },
    {
     "name": "stderr",
     "output_type": "stream",
     "text": [
      "/Users/jayceepang/miniconda3/envs/ATOM_CODE/lib/python3.9/site-packages/imblearn/ensemble/_forest.py:577: FutureWarning: The default of `sampling_strategy` will change from `'auto'` to `'all'` in version 0.13. This change will follow the implementation proposed in the original paper. Set to `'all'` to silence this warning and adopt the future behaviour.\n",
      "  warn(\n",
      "/Users/jayceepang/miniconda3/envs/ATOM_CODE/lib/python3.9/site-packages/imblearn/ensemble/_forest.py:589: FutureWarning: The default of `replacement` will change from `False` to `True` in version 0.13. This change will follow the implementation proposed in the original paper. Set to `True` to silence this warning and adopt the future behaviour.\n",
      "  warn(\n"
     ]
    },
    {
     "name": "stdout",
     "output_type": "stream",
     "text": [
      "TRAIN: acc: 0.998, precision: 1.000, recall: 0.996, spec: 1.000\n",
      "TEST: acc: 0.790, precision: 0.174, recall: 0.536, spec: 0.809\n",
      "func:'rf_models'  took: 0.9435 sec\n",
      "\n",
      "NEK3 NEK9_inhibition_MFP_ADASYN_RF\n",
      "TRAIN: acc: 0.998, precision: 1.000, recall: 0.996, spec: 1.000\n",
      "TEST: acc: 0.833, precision: 0.000, recall: 0.000, spec: 0.895\n",
      "func:'rf_models'  took: 0.6027 sec\n",
      "\n",
      "NEK3 NEK9_inhibition_MFP_ADASYN_RF_BCW\n",
      "TRAIN: acc: 0.998, precision: 0.996, recall: 1.000, spec: 0.996\n",
      "TEST: acc: 0.845, precision: 0.000, recall: 0.000, spec: 0.909\n",
      "func:'rf_models'  took: 0.6383 sec\n",
      "\n",
      "NEK3 NEK9_inhibition_MFP_ADASYN_BRFC\n"
     ]
    },
    {
     "name": "stderr",
     "output_type": "stream",
     "text": [
      "/Users/jayceepang/miniconda3/envs/ATOM_CODE/lib/python3.9/site-packages/imblearn/ensemble/_forest.py:577: FutureWarning: The default of `sampling_strategy` will change from `'auto'` to `'all'` in version 0.13. This change will follow the implementation proposed in the original paper. Set to `'all'` to silence this warning and adopt the future behaviour.\n",
      "  warn(\n",
      "/Users/jayceepang/miniconda3/envs/ATOM_CODE/lib/python3.9/site-packages/imblearn/ensemble/_forest.py:589: FutureWarning: The default of `replacement` will change from `False` to `True` in version 0.13. This change will follow the implementation proposed in the original paper. Set to `True` to silence this warning and adopt the future behaviour.\n",
      "  warn(\n"
     ]
    },
    {
     "name": "stdout",
     "output_type": "stream",
     "text": [
      "TRAIN: acc: 0.998, precision: 0.996, recall: 1.000, spec: 0.996\n",
      "TEST: acc: 0.833, precision: 0.000, recall: 0.000, spec: 0.895\n",
      "func:'rf_models'  took: 0.9222 sec\n",
      "\n",
      "NEK3 NEK9_inhibition_MFP_ADASYN_BRFC_BCW\n"
     ]
    },
    {
     "name": "stderr",
     "output_type": "stream",
     "text": [
      "/Users/jayceepang/miniconda3/envs/ATOM_CODE/lib/python3.9/site-packages/imblearn/ensemble/_forest.py:577: FutureWarning: The default of `sampling_strategy` will change from `'auto'` to `'all'` in version 0.13. This change will follow the implementation proposed in the original paper. Set to `'all'` to silence this warning and adopt the future behaviour.\n",
      "  warn(\n",
      "/Users/jayceepang/miniconda3/envs/ATOM_CODE/lib/python3.9/site-packages/imblearn/ensemble/_forest.py:589: FutureWarning: The default of `replacement` will change from `False` to `True` in version 0.13. This change will follow the implementation proposed in the original paper. Set to `True` to silence this warning and adopt the future behaviour.\n",
      "  warn(\n"
     ]
    },
    {
     "name": "stdout",
     "output_type": "stream",
     "text": [
      "TRAIN: acc: 0.998, precision: 0.996, recall: 1.000, spec: 0.996\n",
      "TEST: acc: 0.843, precision: 0.000, recall: 0.000, spec: 0.906\n",
      "func:'rf_models'  took: 0.9629 sec\n",
      "\n",
      "NEK4 NEK2_binding_MFP_none_scaled_RF\n"
     ]
    },
    {
     "name": "stderr",
     "output_type": "stream",
     "text": [
      "/Users/jayceepang/miniconda3/envs/ATOM_CODE/lib/python3.9/site-packages/sklearn/metrics/_classification.py:1531: UndefinedMetricWarning: Recall is ill-defined and being set to 0.0 due to no true samples. Use `zero_division` parameter to control this behavior.\n",
      "  _warn_prf(average, modifier, f\"{metric.capitalize()} is\", len(result))\n"
     ]
    },
    {
     "ename": "ValueError",
     "evalue": "Only one class present in y_true. ROC AUC score is not defined in that case.",
     "output_type": "error",
     "traceback": [
      "\u001b[0;31m---------------------------------------------------------------------------\u001b[0m",
      "\u001b[0;31mValueError\u001b[0m                                Traceback (most recent call last)",
      "Cell \u001b[0;32mIn[7], line 15\u001b[0m\n\u001b[1;32m     12\u001b[0m model_name \u001b[38;5;241m=\u001b[39m \u001b[38;5;124mf\u001b[39m\u001b[38;5;124m'\u001b[39m\u001b[38;5;132;01m{\u001b[39;00mi\u001b[38;5;132;01m}\u001b[39;00m\u001b[38;5;124m_MFP_\u001b[39m\u001b[38;5;132;01m{\u001b[39;00msamp\u001b[38;5;132;01m}\u001b[39;00m\u001b[38;5;124m_\u001b[39m\u001b[38;5;132;01m{\u001b[39;00mrf\u001b[38;5;132;01m}\u001b[39;00m\u001b[38;5;124m'\u001b[39m\n\u001b[1;32m     14\u001b[0m \u001b[38;5;28mprint\u001b[39m(nek, model_name) \n\u001b[0;32m---> 15\u001b[0m model \u001b[38;5;241m=\u001b[39m \u001b[43mRF_functions\u001b[49m\u001b[38;5;241;43m.\u001b[39;49m\u001b[43mrf_models\u001b[49m\u001b[43m(\u001b[49m\u001b[43mtrainX\u001b[49m\u001b[43m,\u001b[49m\u001b[43m \u001b[49m\u001b[43mtrain_y\u001b[49m\u001b[43m,\u001b[49m\u001b[43m \u001b[49m\u001b[43mtestX\u001b[49m\u001b[43m,\u001b[49m\u001b[43m \u001b[49m\u001b[43mtest_y\u001b[49m\u001b[43m,\u001b[49m\u001b[43m \u001b[49m\u001b[43mrf\u001b[49m\u001b[43m,\u001b[49m\u001b[43m \u001b[49m\u001b[43m{\u001b[49m\u001b[43m}\u001b[49m\u001b[43m,\u001b[49m\u001b[43m \u001b[49m\u001b[38;5;28;43;01mTrue\u001b[39;49;00m\u001b[43m)\u001b[49m\n\u001b[1;32m     16\u001b[0m \u001b[38;5;66;03m# train_df = gather_rf_results(model, trainX, train_y)\u001b[39;00m\n\u001b[1;32m     17\u001b[0m test_df \u001b[38;5;241m=\u001b[39m gather_rf_results(model, testX, test_y)\n",
      "File \u001b[0;32m~/msse/ATOM_CODE/UTILS/RF_functions.py:37\u001b[0m, in \u001b[0;36mtiming.<locals>.wrap\u001b[0;34m(*args, **kw)\u001b[0m\n\u001b[1;32m     34\u001b[0m \u001b[38;5;129m@wraps\u001b[39m(f)\n\u001b[1;32m     35\u001b[0m \u001b[38;5;28;01mdef\u001b[39;00m \u001b[38;5;21mwrap\u001b[39m(\u001b[38;5;241m*\u001b[39margs, \u001b[38;5;241m*\u001b[39m\u001b[38;5;241m*\u001b[39mkw):\n\u001b[1;32m     36\u001b[0m     ts \u001b[38;5;241m=\u001b[39m time()\n\u001b[0;32m---> 37\u001b[0m     result \u001b[38;5;241m=\u001b[39m \u001b[43mf\u001b[49m\u001b[43m(\u001b[49m\u001b[38;5;241;43m*\u001b[39;49m\u001b[43margs\u001b[49m\u001b[43m,\u001b[49m\u001b[43m \u001b[49m\u001b[38;5;241;43m*\u001b[39;49m\u001b[38;5;241;43m*\u001b[39;49m\u001b[43mkw\u001b[49m\u001b[43m)\u001b[49m\n\u001b[1;32m     38\u001b[0m     te \u001b[38;5;241m=\u001b[39m time()\n\u001b[1;32m     39\u001b[0m     \u001b[38;5;28mprint\u001b[39m(\u001b[38;5;124m'\u001b[39m\u001b[38;5;124mfunc:\u001b[39m\u001b[38;5;132;01m%r\u001b[39;00m\u001b[38;5;124m  took: \u001b[39m\u001b[38;5;132;01m%2.4f\u001b[39;00m\u001b[38;5;124m sec\u001b[39m\u001b[38;5;124m'\u001b[39m \u001b[38;5;241m%\u001b[39m (f\u001b[38;5;241m.\u001b[39m\u001b[38;5;18m__name__\u001b[39m,  te\u001b[38;5;241m-\u001b[39mts))\n",
      "File \u001b[0;32m~/msse/ATOM_CODE/UTILS/RF_functions.py:113\u001b[0m, in \u001b[0;36mrf_models\u001b[0;34m(train_x, train_y, test_x, test_y, rf_type, parameters, printout)\u001b[0m\n\u001b[1;32m    110\u001b[0m model\u001b[38;5;241m.\u001b[39mfit(train_x, train_y)\n\u001b[1;32m    112\u001b[0m train_results \u001b[38;5;241m=\u001b[39m rf_results(model, train_x, train_y)\n\u001b[0;32m--> 113\u001b[0m test_results \u001b[38;5;241m=\u001b[39m \u001b[43mrf_results\u001b[49m\u001b[43m(\u001b[49m\u001b[43mmodel\u001b[49m\u001b[43m,\u001b[49m\u001b[43m \u001b[49m\u001b[43mtest_x\u001b[49m\u001b[43m,\u001b[49m\u001b[43m \u001b[49m\u001b[43mtest_y\u001b[49m\u001b[43m)\u001b[49m\n\u001b[1;32m    114\u001b[0m \u001b[38;5;28;01mif\u001b[39;00m printout: \n\u001b[1;32m    115\u001b[0m     \u001b[38;5;28mprint\u001b[39m(\u001b[38;5;124mf\u001b[39m\u001b[38;5;124m\"\u001b[39m\u001b[38;5;124mTRAIN: acc: \u001b[39m\u001b[38;5;132;01m{\u001b[39;00mtrain_results[\u001b[38;5;124m'\u001b[39m\u001b[38;5;124maccuracy\u001b[39m\u001b[38;5;124m'\u001b[39m]\u001b[38;5;132;01m:\u001b[39;00m\u001b[38;5;124m.3f\u001b[39m\u001b[38;5;132;01m}\u001b[39;00m\u001b[38;5;124m, precision: \u001b[39m\u001b[38;5;132;01m{\u001b[39;00mtrain_results[\u001b[38;5;124m'\u001b[39m\u001b[38;5;124mprecision\u001b[39m\u001b[38;5;124m'\u001b[39m]\u001b[38;5;132;01m:\u001b[39;00m\u001b[38;5;124m.3f\u001b[39m\u001b[38;5;132;01m}\u001b[39;00m\u001b[38;5;124m, recall: \u001b[39m\u001b[38;5;132;01m{\u001b[39;00mtrain_results[\u001b[38;5;124m'\u001b[39m\u001b[38;5;124mrecall\u001b[39m\u001b[38;5;124m'\u001b[39m]\u001b[38;5;132;01m:\u001b[39;00m\u001b[38;5;124m.3f\u001b[39m\u001b[38;5;132;01m}\u001b[39;00m\u001b[38;5;124m, spec: \u001b[39m\u001b[38;5;132;01m{\u001b[39;00mtrain_results[\u001b[38;5;124m'\u001b[39m\u001b[38;5;124mspecificity\u001b[39m\u001b[38;5;124m'\u001b[39m]\u001b[38;5;132;01m:\u001b[39;00m\u001b[38;5;124m.3f\u001b[39m\u001b[38;5;132;01m}\u001b[39;00m\u001b[38;5;124m\"\u001b[39m)\n",
      "File \u001b[0;32m~/msse/ATOM_CODE/UTILS/RF_functions.py:61\u001b[0m, in \u001b[0;36mrf_results\u001b[0;34m(model, x_input, y_labels, printout)\u001b[0m\n\u001b[1;32m     59\u001b[0m recall \u001b[38;5;241m=\u001b[39m recall_score(y_labels, pred)\n\u001b[1;32m     60\u001b[0m f1 \u001b[38;5;241m=\u001b[39m f1_score(y_labels, pred)\n\u001b[0;32m---> 61\u001b[0m roc_auc \u001b[38;5;241m=\u001b[39m \u001b[43mroc_auc_score\u001b[49m\u001b[43m(\u001b[49m\u001b[43my_labels\u001b[49m\u001b[43m,\u001b[49m\u001b[43m \u001b[49m\u001b[43mpred\u001b[49m\u001b[43m)\u001b[49m\n\u001b[1;32m     62\u001b[0m specificity \u001b[38;5;241m=\u001b[39m specificity_score(tn, fp)\n\u001b[1;32m     63\u001b[0m prob \u001b[38;5;241m=\u001b[39m model\u001b[38;5;241m.\u001b[39mpredict_proba(x_input)\n",
      "File \u001b[0;32m~/miniconda3/envs/ATOM_CODE/lib/python3.9/site-packages/sklearn/utils/_param_validation.py:213\u001b[0m, in \u001b[0;36mvalidate_params.<locals>.decorator.<locals>.wrapper\u001b[0;34m(*args, **kwargs)\u001b[0m\n\u001b[1;32m    207\u001b[0m \u001b[38;5;28;01mtry\u001b[39;00m:\n\u001b[1;32m    208\u001b[0m     \u001b[38;5;28;01mwith\u001b[39;00m config_context(\n\u001b[1;32m    209\u001b[0m         skip_parameter_validation\u001b[38;5;241m=\u001b[39m(\n\u001b[1;32m    210\u001b[0m             prefer_skip_nested_validation \u001b[38;5;129;01mor\u001b[39;00m global_skip_validation\n\u001b[1;32m    211\u001b[0m         )\n\u001b[1;32m    212\u001b[0m     ):\n\u001b[0;32m--> 213\u001b[0m         \u001b[38;5;28;01mreturn\u001b[39;00m \u001b[43mfunc\u001b[49m\u001b[43m(\u001b[49m\u001b[38;5;241;43m*\u001b[39;49m\u001b[43margs\u001b[49m\u001b[43m,\u001b[49m\u001b[43m \u001b[49m\u001b[38;5;241;43m*\u001b[39;49m\u001b[38;5;241;43m*\u001b[39;49m\u001b[43mkwargs\u001b[49m\u001b[43m)\u001b[49m\n\u001b[1;32m    214\u001b[0m \u001b[38;5;28;01mexcept\u001b[39;00m InvalidParameterError \u001b[38;5;28;01mas\u001b[39;00m e:\n\u001b[1;32m    215\u001b[0m     \u001b[38;5;66;03m# When the function is just a wrapper around an estimator, we allow\u001b[39;00m\n\u001b[1;32m    216\u001b[0m     \u001b[38;5;66;03m# the function to delegate validation to the estimator, but we replace\u001b[39;00m\n\u001b[1;32m    217\u001b[0m     \u001b[38;5;66;03m# the name of the estimator by the name of the function in the error\u001b[39;00m\n\u001b[1;32m    218\u001b[0m     \u001b[38;5;66;03m# message to avoid confusion.\u001b[39;00m\n\u001b[1;32m    219\u001b[0m     msg \u001b[38;5;241m=\u001b[39m re\u001b[38;5;241m.\u001b[39msub(\n\u001b[1;32m    220\u001b[0m         \u001b[38;5;124mr\u001b[39m\u001b[38;5;124m\"\u001b[39m\u001b[38;5;124mparameter of \u001b[39m\u001b[38;5;124m\\\u001b[39m\u001b[38;5;124mw+ must be\u001b[39m\u001b[38;5;124m\"\u001b[39m,\n\u001b[1;32m    221\u001b[0m         \u001b[38;5;124mf\u001b[39m\u001b[38;5;124m\"\u001b[39m\u001b[38;5;124mparameter of \u001b[39m\u001b[38;5;132;01m{\u001b[39;00mfunc\u001b[38;5;241m.\u001b[39m\u001b[38;5;18m__qualname__\u001b[39m\u001b[38;5;132;01m}\u001b[39;00m\u001b[38;5;124m must be\u001b[39m\u001b[38;5;124m\"\u001b[39m,\n\u001b[1;32m    222\u001b[0m         \u001b[38;5;28mstr\u001b[39m(e),\n\u001b[1;32m    223\u001b[0m     )\n",
      "File \u001b[0;32m~/miniconda3/envs/ATOM_CODE/lib/python3.9/site-packages/sklearn/metrics/_ranking.py:640\u001b[0m, in \u001b[0;36mroc_auc_score\u001b[0;34m(y_true, y_score, average, sample_weight, max_fpr, multi_class, labels)\u001b[0m\n\u001b[1;32m    638\u001b[0m     labels \u001b[38;5;241m=\u001b[39m np\u001b[38;5;241m.\u001b[39munique(y_true)\n\u001b[1;32m    639\u001b[0m     y_true \u001b[38;5;241m=\u001b[39m label_binarize(y_true, classes\u001b[38;5;241m=\u001b[39mlabels)[:, \u001b[38;5;241m0\u001b[39m]\n\u001b[0;32m--> 640\u001b[0m     \u001b[38;5;28;01mreturn\u001b[39;00m \u001b[43m_average_binary_score\u001b[49m\u001b[43m(\u001b[49m\n\u001b[1;32m    641\u001b[0m \u001b[43m        \u001b[49m\u001b[43mpartial\u001b[49m\u001b[43m(\u001b[49m\u001b[43m_binary_roc_auc_score\u001b[49m\u001b[43m,\u001b[49m\u001b[43m \u001b[49m\u001b[43mmax_fpr\u001b[49m\u001b[38;5;241;43m=\u001b[39;49m\u001b[43mmax_fpr\u001b[49m\u001b[43m)\u001b[49m\u001b[43m,\u001b[49m\n\u001b[1;32m    642\u001b[0m \u001b[43m        \u001b[49m\u001b[43my_true\u001b[49m\u001b[43m,\u001b[49m\n\u001b[1;32m    643\u001b[0m \u001b[43m        \u001b[49m\u001b[43my_score\u001b[49m\u001b[43m,\u001b[49m\n\u001b[1;32m    644\u001b[0m \u001b[43m        \u001b[49m\u001b[43maverage\u001b[49m\u001b[43m,\u001b[49m\n\u001b[1;32m    645\u001b[0m \u001b[43m        \u001b[49m\u001b[43msample_weight\u001b[49m\u001b[38;5;241;43m=\u001b[39;49m\u001b[43msample_weight\u001b[49m\u001b[43m,\u001b[49m\n\u001b[1;32m    646\u001b[0m \u001b[43m    \u001b[49m\u001b[43m)\u001b[49m\n\u001b[1;32m    647\u001b[0m \u001b[38;5;28;01melse\u001b[39;00m:  \u001b[38;5;66;03m# multilabel-indicator\u001b[39;00m\n\u001b[1;32m    648\u001b[0m     \u001b[38;5;28;01mreturn\u001b[39;00m _average_binary_score(\n\u001b[1;32m    649\u001b[0m         partial(_binary_roc_auc_score, max_fpr\u001b[38;5;241m=\u001b[39mmax_fpr),\n\u001b[1;32m    650\u001b[0m         y_true,\n\u001b[0;32m   (...)\u001b[0m\n\u001b[1;32m    653\u001b[0m         sample_weight\u001b[38;5;241m=\u001b[39msample_weight,\n\u001b[1;32m    654\u001b[0m     )\n",
      "File \u001b[0;32m~/miniconda3/envs/ATOM_CODE/lib/python3.9/site-packages/sklearn/metrics/_base.py:76\u001b[0m, in \u001b[0;36m_average_binary_score\u001b[0;34m(binary_metric, y_true, y_score, average, sample_weight)\u001b[0m\n\u001b[1;32m     73\u001b[0m     \u001b[38;5;28;01mraise\u001b[39;00m \u001b[38;5;167;01mValueError\u001b[39;00m(\u001b[38;5;124m\"\u001b[39m\u001b[38;5;132;01m{0}\u001b[39;00m\u001b[38;5;124m format is not supported\u001b[39m\u001b[38;5;124m\"\u001b[39m\u001b[38;5;241m.\u001b[39mformat(y_type))\n\u001b[1;32m     75\u001b[0m \u001b[38;5;28;01mif\u001b[39;00m y_type \u001b[38;5;241m==\u001b[39m \u001b[38;5;124m\"\u001b[39m\u001b[38;5;124mbinary\u001b[39m\u001b[38;5;124m\"\u001b[39m:\n\u001b[0;32m---> 76\u001b[0m     \u001b[38;5;28;01mreturn\u001b[39;00m \u001b[43mbinary_metric\u001b[49m\u001b[43m(\u001b[49m\u001b[43my_true\u001b[49m\u001b[43m,\u001b[49m\u001b[43m \u001b[49m\u001b[43my_score\u001b[49m\u001b[43m,\u001b[49m\u001b[43m \u001b[49m\u001b[43msample_weight\u001b[49m\u001b[38;5;241;43m=\u001b[39;49m\u001b[43msample_weight\u001b[49m\u001b[43m)\u001b[49m\n\u001b[1;32m     78\u001b[0m check_consistent_length(y_true, y_score, sample_weight)\n\u001b[1;32m     79\u001b[0m y_true \u001b[38;5;241m=\u001b[39m check_array(y_true)\n",
      "File \u001b[0;32m~/miniconda3/envs/ATOM_CODE/lib/python3.9/site-packages/sklearn/metrics/_ranking.py:382\u001b[0m, in \u001b[0;36m_binary_roc_auc_score\u001b[0;34m(y_true, y_score, sample_weight, max_fpr)\u001b[0m\n\u001b[1;32m    380\u001b[0m \u001b[38;5;250m\u001b[39m\u001b[38;5;124;03m\"\"\"Binary roc auc score.\"\"\"\u001b[39;00m\n\u001b[1;32m    381\u001b[0m \u001b[38;5;28;01mif\u001b[39;00m \u001b[38;5;28mlen\u001b[39m(np\u001b[38;5;241m.\u001b[39munique(y_true)) \u001b[38;5;241m!=\u001b[39m \u001b[38;5;241m2\u001b[39m:\n\u001b[0;32m--> 382\u001b[0m     \u001b[38;5;28;01mraise\u001b[39;00m \u001b[38;5;167;01mValueError\u001b[39;00m(\n\u001b[1;32m    383\u001b[0m         \u001b[38;5;124m\"\u001b[39m\u001b[38;5;124mOnly one class present in y_true. ROC AUC score \u001b[39m\u001b[38;5;124m\"\u001b[39m\n\u001b[1;32m    384\u001b[0m         \u001b[38;5;124m\"\u001b[39m\u001b[38;5;124mis not defined in that case.\u001b[39m\u001b[38;5;124m\"\u001b[39m\n\u001b[1;32m    385\u001b[0m     )\n\u001b[1;32m    387\u001b[0m fpr, tpr, _ \u001b[38;5;241m=\u001b[39m roc_curve(y_true, y_score, sample_weight\u001b[38;5;241m=\u001b[39msample_weight)\n\u001b[1;32m    388\u001b[0m \u001b[38;5;28;01mif\u001b[39;00m max_fpr \u001b[38;5;129;01mis\u001b[39;00m \u001b[38;5;28;01mNone\u001b[39;00m \u001b[38;5;129;01mor\u001b[39;00m max_fpr \u001b[38;5;241m==\u001b[39m \u001b[38;5;241m1\u001b[39m:\n",
      "\u001b[0;31mValueError\u001b[0m: Only one class present in y_true. ROC AUC score is not defined in that case."
     ]
    }
   ],
   "source": [
    "test_results=[]\n",
    "final_cols=['model','NEK','strategy','feat_type','RF_type', 'cm','recall', 'specificity', 'accuracy', 'precision', \n",
    "                'f1', 'ROC_AUC', 'MCC', 'balanced_accuracy']\n",
    "for nek in new_neks: \n",
    "    for i in og_neks: \n",
    "        for samp in samplings: \n",
    "            trainX=pd.read_csv(f'{og_datapath}{i}_MFP_{samp}_trainX.csv')\n",
    "            train_y =pd.read_csv(f'{og_datapath}{i}_MFP_{samp}_train_y.csv').to_numpy().reshape(-1)\n",
    "            testX=pd.read_csv(f'{datapath}{nek}_MFP_none_unscaled.csv').drop(columns=feat_cols_dropped)\n",
    "            test_y=pd.read_csv(f'{datapath}{nek}_MFP_none_unscaled.csv')['active'].to_numpy().reshape(-1)\n",
    "            for rf in RF_types: \n",
    "                model_name = f'{i}_MFP_{samp}_{rf}'\n",
    "                \n",
    "                print(nek, model_name) \n",
    "                model = RF_functions.rf_models(trainX, train_y, testX, test_y, rf, {}, True)\n",
    "                # train_df = gather_rf_results(model, trainX, train_y)\n",
    "                test_df = gather_rf_results(model, testX, test_y)\n",
    "                print()\n",
    "\n",
    "                test_df['model'] = f'{nek}_{model_name}'\n",
    "                test_df['NEK'] =nek\n",
    "                test_df['feat_type'] = 'MFP'\n",
    "                test_df['strategy'] = samp\n",
    "                test_df['RF_type'] = rf\n",
    "                test_df['prod_model'] = f'{i}_{samp}_GP_matern'\n",
    "                test_df.to_csv(f'{results_dir}{nek}_{model_name}_holdout_test.csv',index=False) \n",
    "                test_results.append(test_df.iloc[[0]][final_cols].values.flatten())\n",
    "\n",
    "    all_test =  pd.DataFrame(test_results,columns=final_cols)\n",
    "    all_test['modeling_type'] = 'RF' \n",
    "    all_test['set'] = 'nanobret_cellular_holdout' \n",
    "\n",
    "    # all_test.to_csv(f'{results_dir}RF/RF_holdout_test_results_all_NEK.csv', index=False)                 \n",
    "         "
   ]
  },
  {
   "cell_type": "code",
   "execution_count": 17,
   "id": "30859a43-ffeb-4633-8091-5dc97d9c628e",
   "metadata": {},
   "outputs": [
    {
     "data": {
      "text/html": [
       "<div>\n",
       "<style scoped>\n",
       "    .dataframe tbody tr th:only-of-type {\n",
       "        vertical-align: middle;\n",
       "    }\n",
       "\n",
       "    .dataframe tbody tr th {\n",
       "        vertical-align: top;\n",
       "    }\n",
       "\n",
       "    .dataframe thead th {\n",
       "        text-align: right;\n",
       "    }\n",
       "</style>\n",
       "<table border=\"1\" class=\"dataframe\">\n",
       "  <thead>\n",
       "    <tr style=\"text-align: right;\">\n",
       "      <th></th>\n",
       "      <th>model</th>\n",
       "      <th>NEK</th>\n",
       "      <th>strategy</th>\n",
       "      <th>feat_type</th>\n",
       "      <th>RF_type</th>\n",
       "      <th>cm</th>\n",
       "      <th>recall</th>\n",
       "      <th>specificity</th>\n",
       "      <th>accuracy</th>\n",
       "      <th>precision</th>\n",
       "      <th>f1</th>\n",
       "      <th>ROC_AUC</th>\n",
       "      <th>MCC</th>\n",
       "      <th>balanced_accuracy</th>\n",
       "      <th>modeling_type</th>\n",
       "      <th>set</th>\n",
       "      <th>prod_model</th>\n",
       "    </tr>\n",
       "  </thead>\n",
       "  <tbody>\n",
       "    <tr>\n",
       "      <th>0</th>\n",
       "      <td>NEK1_NEK2_binding_MFP_none_scaled_RF</td>\n",
       "      <td>NEK1</td>\n",
       "      <td>none_scaled</td>\n",
       "      <td>MFP</td>\n",
       "      <td>RF</td>\n",
       "      <td>[309, 61, 27, 3]</td>\n",
       "      <td>0.100000</td>\n",
       "      <td>0.835135</td>\n",
       "      <td>0.7800</td>\n",
       "      <td>0.046875</td>\n",
       "      <td>0.063830</td>\n",
       "      <td>0.467568</td>\n",
       "      <td>-0.046603</td>\n",
       "      <td>0.467568</td>\n",
       "      <td>RF</td>\n",
       "      <td>nanobret_cellular_holdout</td>\n",
       "      <td>NEK2_binding_MFP_none_scaled_RF</td>\n",
       "    </tr>\n",
       "    <tr>\n",
       "      <th>1</th>\n",
       "      <td>NEK1_NEK2_binding_MFP_none_scaled_RF_BCW</td>\n",
       "      <td>NEK1</td>\n",
       "      <td>none_scaled</td>\n",
       "      <td>MFP</td>\n",
       "      <td>RF_BCW</td>\n",
       "      <td>[310, 60, 28, 2]</td>\n",
       "      <td>0.066667</td>\n",
       "      <td>0.837838</td>\n",
       "      <td>0.7800</td>\n",
       "      <td>0.032258</td>\n",
       "      <td>0.043478</td>\n",
       "      <td>0.452252</td>\n",
       "      <td>-0.069501</td>\n",
       "      <td>0.452252</td>\n",
       "      <td>RF</td>\n",
       "      <td>nanobret_cellular_holdout</td>\n",
       "      <td>NEK2_binding_MFP_none_scaled_RF_BCW</td>\n",
       "    </tr>\n",
       "    <tr>\n",
       "      <th>2</th>\n",
       "      <td>NEK1_NEK2_binding_MFP_none_scaled_BRFC</td>\n",
       "      <td>NEK1</td>\n",
       "      <td>none_scaled</td>\n",
       "      <td>MFP</td>\n",
       "      <td>BRFC</td>\n",
       "      <td>[121, 249, 1, 29]</td>\n",
       "      <td>0.966667</td>\n",
       "      <td>0.327027</td>\n",
       "      <td>0.3750</td>\n",
       "      <td>0.104317</td>\n",
       "      <td>0.188312</td>\n",
       "      <td>0.646847</td>\n",
       "      <td>0.168017</td>\n",
       "      <td>0.646847</td>\n",
       "      <td>RF</td>\n",
       "      <td>nanobret_cellular_holdout</td>\n",
       "      <td>NEK2_binding_MFP_none_scaled_BRFC</td>\n",
       "    </tr>\n",
       "    <tr>\n",
       "      <th>3</th>\n",
       "      <td>NEK1_NEK2_binding_MFP_none_scaled_BRFC_BCW</td>\n",
       "      <td>NEK1</td>\n",
       "      <td>none_scaled</td>\n",
       "      <td>MFP</td>\n",
       "      <td>BRFC_BCW</td>\n",
       "      <td>[312, 58, 25, 5]</td>\n",
       "      <td>0.166667</td>\n",
       "      <td>0.843243</td>\n",
       "      <td>0.7925</td>\n",
       "      <td>0.079365</td>\n",
       "      <td>0.107527</td>\n",
       "      <td>0.504955</td>\n",
       "      <td>0.007165</td>\n",
       "      <td>0.504955</td>\n",
       "      <td>RF</td>\n",
       "      <td>nanobret_cellular_holdout</td>\n",
       "      <td>NEK2_binding_MFP_none_scaled_BRFC_BCW</td>\n",
       "    </tr>\n",
       "    <tr>\n",
       "      <th>4</th>\n",
       "      <td>NEK1_NEK2_binding_MFP_UNDER_RF</td>\n",
       "      <td>NEK1</td>\n",
       "      <td>UNDER</td>\n",
       "      <td>MFP</td>\n",
       "      <td>RF</td>\n",
       "      <td>[152, 218, 14, 16]</td>\n",
       "      <td>0.533333</td>\n",
       "      <td>0.410811</td>\n",
       "      <td>0.4200</td>\n",
       "      <td>0.068376</td>\n",
       "      <td>0.121212</td>\n",
       "      <td>0.472072</td>\n",
       "      <td>-0.029859</td>\n",
       "      <td>0.472072</td>\n",
       "      <td>RF</td>\n",
       "      <td>nanobret_cellular_holdout</td>\n",
       "      <td>NEK2_binding_MFP_UNDER_RF</td>\n",
       "    </tr>\n",
       "    <tr>\n",
       "      <th>...</th>\n",
       "      <td>...</td>\n",
       "      <td>...</td>\n",
       "      <td>...</td>\n",
       "      <td>...</td>\n",
       "      <td>...</td>\n",
       "      <td>...</td>\n",
       "      <td>...</td>\n",
       "      <td>...</td>\n",
       "      <td>...</td>\n",
       "      <td>...</td>\n",
       "      <td>...</td>\n",
       "      <td>...</td>\n",
       "      <td>...</td>\n",
       "      <td>...</td>\n",
       "      <td>...</td>\n",
       "      <td>...</td>\n",
       "      <td>...</td>\n",
       "    </tr>\n",
       "    <tr>\n",
       "      <th>379</th>\n",
       "      <td>NEK3_NEK9_inhibition_MFP_SMOTE_BRFC_BCW</td>\n",
       "      <td>NEK3</td>\n",
       "      <td>SMOTE</td>\n",
       "      <td>MFP</td>\n",
       "      <td>BRFC_BCW</td>\n",
       "      <td>[301, 71, 13, 15]</td>\n",
       "      <td>0.535714</td>\n",
       "      <td>0.809140</td>\n",
       "      <td>0.7900</td>\n",
       "      <td>0.174419</td>\n",
       "      <td>0.263158</td>\n",
       "      <td>0.672427</td>\n",
       "      <td>0.214176</td>\n",
       "      <td>0.672427</td>\n",
       "      <td>RF</td>\n",
       "      <td>nanobret_cellular_holdout</td>\n",
       "      <td>NEK9_inhibition_MFP_SMOTE_BRFC_BCW</td>\n",
       "    </tr>\n",
       "    <tr>\n",
       "      <th>380</th>\n",
       "      <td>NEK3_NEK9_inhibition_MFP_ADASYN_RF</td>\n",
       "      <td>NEK3</td>\n",
       "      <td>ADASYN</td>\n",
       "      <td>MFP</td>\n",
       "      <td>RF</td>\n",
       "      <td>[333, 39, 28, 0]</td>\n",
       "      <td>0.000000</td>\n",
       "      <td>0.895161</td>\n",
       "      <td>0.8325</td>\n",
       "      <td>0.000000</td>\n",
       "      <td>0.000000</td>\n",
       "      <td>0.447581</td>\n",
       "      <td>-0.090175</td>\n",
       "      <td>0.447581</td>\n",
       "      <td>RF</td>\n",
       "      <td>nanobret_cellular_holdout</td>\n",
       "      <td>NEK9_inhibition_MFP_ADASYN_RF</td>\n",
       "    </tr>\n",
       "    <tr>\n",
       "      <th>381</th>\n",
       "      <td>NEK3_NEK9_inhibition_MFP_ADASYN_RF_BCW</td>\n",
       "      <td>NEK3</td>\n",
       "      <td>ADASYN</td>\n",
       "      <td>MFP</td>\n",
       "      <td>RF_BCW</td>\n",
       "      <td>[338, 34, 28, 0]</td>\n",
       "      <td>0.000000</td>\n",
       "      <td>0.908602</td>\n",
       "      <td>0.8450</td>\n",
       "      <td>0.000000</td>\n",
       "      <td>0.000000</td>\n",
       "      <td>0.454301</td>\n",
       "      <td>-0.083619</td>\n",
       "      <td>0.454301</td>\n",
       "      <td>RF</td>\n",
       "      <td>nanobret_cellular_holdout</td>\n",
       "      <td>NEK9_inhibition_MFP_ADASYN_RF_BCW</td>\n",
       "    </tr>\n",
       "    <tr>\n",
       "      <th>382</th>\n",
       "      <td>NEK3_NEK9_inhibition_MFP_ADASYN_BRFC</td>\n",
       "      <td>NEK3</td>\n",
       "      <td>ADASYN</td>\n",
       "      <td>MFP</td>\n",
       "      <td>BRFC</td>\n",
       "      <td>[333, 39, 28, 0]</td>\n",
       "      <td>0.000000</td>\n",
       "      <td>0.895161</td>\n",
       "      <td>0.8325</td>\n",
       "      <td>0.000000</td>\n",
       "      <td>0.000000</td>\n",
       "      <td>0.447581</td>\n",
       "      <td>-0.090175</td>\n",
       "      <td>0.447581</td>\n",
       "      <td>RF</td>\n",
       "      <td>nanobret_cellular_holdout</td>\n",
       "      <td>NEK9_inhibition_MFP_ADASYN_BRFC</td>\n",
       "    </tr>\n",
       "    <tr>\n",
       "      <th>383</th>\n",
       "      <td>NEK3_NEK9_inhibition_MFP_ADASYN_BRFC_BCW</td>\n",
       "      <td>NEK3</td>\n",
       "      <td>ADASYN</td>\n",
       "      <td>MFP</td>\n",
       "      <td>BRFC_BCW</td>\n",
       "      <td>[337, 35, 28, 0]</td>\n",
       "      <td>0.000000</td>\n",
       "      <td>0.905914</td>\n",
       "      <td>0.8425</td>\n",
       "      <td>0.000000</td>\n",
       "      <td>0.000000</td>\n",
       "      <td>0.452957</td>\n",
       "      <td>-0.084956</td>\n",
       "      <td>0.452957</td>\n",
       "      <td>RF</td>\n",
       "      <td>nanobret_cellular_holdout</td>\n",
       "      <td>NEK9_inhibition_MFP_ADASYN_BRFC_BCW</td>\n",
       "    </tr>\n",
       "  </tbody>\n",
       "</table>\n",
       "<p>384 rows × 17 columns</p>\n",
       "</div>"
      ],
      "text/plain": [
       "                                          model   NEK     strategy feat_type  \\\n",
       "0          NEK1_NEK2_binding_MFP_none_scaled_RF  NEK1  none_scaled       MFP   \n",
       "1      NEK1_NEK2_binding_MFP_none_scaled_RF_BCW  NEK1  none_scaled       MFP   \n",
       "2        NEK1_NEK2_binding_MFP_none_scaled_BRFC  NEK1  none_scaled       MFP   \n",
       "3    NEK1_NEK2_binding_MFP_none_scaled_BRFC_BCW  NEK1  none_scaled       MFP   \n",
       "4                NEK1_NEK2_binding_MFP_UNDER_RF  NEK1        UNDER       MFP   \n",
       "..                                          ...   ...          ...       ...   \n",
       "379     NEK3_NEK9_inhibition_MFP_SMOTE_BRFC_BCW  NEK3        SMOTE       MFP   \n",
       "380          NEK3_NEK9_inhibition_MFP_ADASYN_RF  NEK3       ADASYN       MFP   \n",
       "381      NEK3_NEK9_inhibition_MFP_ADASYN_RF_BCW  NEK3       ADASYN       MFP   \n",
       "382        NEK3_NEK9_inhibition_MFP_ADASYN_BRFC  NEK3       ADASYN       MFP   \n",
       "383    NEK3_NEK9_inhibition_MFP_ADASYN_BRFC_BCW  NEK3       ADASYN       MFP   \n",
       "\n",
       "      RF_type                  cm    recall  specificity  accuracy  precision  \\\n",
       "0          RF    [309, 61, 27, 3]  0.100000     0.835135    0.7800   0.046875   \n",
       "1      RF_BCW    [310, 60, 28, 2]  0.066667     0.837838    0.7800   0.032258   \n",
       "2        BRFC   [121, 249, 1, 29]  0.966667     0.327027    0.3750   0.104317   \n",
       "3    BRFC_BCW    [312, 58, 25, 5]  0.166667     0.843243    0.7925   0.079365   \n",
       "4          RF  [152, 218, 14, 16]  0.533333     0.410811    0.4200   0.068376   \n",
       "..        ...                 ...       ...          ...       ...        ...   \n",
       "379  BRFC_BCW   [301, 71, 13, 15]  0.535714     0.809140    0.7900   0.174419   \n",
       "380        RF    [333, 39, 28, 0]  0.000000     0.895161    0.8325   0.000000   \n",
       "381    RF_BCW    [338, 34, 28, 0]  0.000000     0.908602    0.8450   0.000000   \n",
       "382      BRFC    [333, 39, 28, 0]  0.000000     0.895161    0.8325   0.000000   \n",
       "383  BRFC_BCW    [337, 35, 28, 0]  0.000000     0.905914    0.8425   0.000000   \n",
       "\n",
       "           f1   ROC_AUC       MCC  balanced_accuracy modeling_type  \\\n",
       "0    0.063830  0.467568 -0.046603           0.467568            RF   \n",
       "1    0.043478  0.452252 -0.069501           0.452252            RF   \n",
       "2    0.188312  0.646847  0.168017           0.646847            RF   \n",
       "3    0.107527  0.504955  0.007165           0.504955            RF   \n",
       "4    0.121212  0.472072 -0.029859           0.472072            RF   \n",
       "..        ...       ...       ...                ...           ...   \n",
       "379  0.263158  0.672427  0.214176           0.672427            RF   \n",
       "380  0.000000  0.447581 -0.090175           0.447581            RF   \n",
       "381  0.000000  0.454301 -0.083619           0.454301            RF   \n",
       "382  0.000000  0.447581 -0.090175           0.447581            RF   \n",
       "383  0.000000  0.452957 -0.084956           0.452957            RF   \n",
       "\n",
       "                           set                             prod_model  \n",
       "0    nanobret_cellular_holdout        NEK2_binding_MFP_none_scaled_RF  \n",
       "1    nanobret_cellular_holdout    NEK2_binding_MFP_none_scaled_RF_BCW  \n",
       "2    nanobret_cellular_holdout      NEK2_binding_MFP_none_scaled_BRFC  \n",
       "3    nanobret_cellular_holdout  NEK2_binding_MFP_none_scaled_BRFC_BCW  \n",
       "4    nanobret_cellular_holdout              NEK2_binding_MFP_UNDER_RF  \n",
       "..                         ...                                    ...  \n",
       "379  nanobret_cellular_holdout     NEK9_inhibition_MFP_SMOTE_BRFC_BCW  \n",
       "380  nanobret_cellular_holdout          NEK9_inhibition_MFP_ADASYN_RF  \n",
       "381  nanobret_cellular_holdout      NEK9_inhibition_MFP_ADASYN_RF_BCW  \n",
       "382  nanobret_cellular_holdout        NEK9_inhibition_MFP_ADASYN_BRFC  \n",
       "383  nanobret_cellular_holdout    NEK9_inhibition_MFP_ADASYN_BRFC_BCW  \n",
       "\n",
       "[384 rows x 17 columns]"
      ]
     },
     "execution_count": 17,
     "metadata": {},
     "output_type": "execute_result"
    }
   ],
   "source": [
    "all_test=pd.read_csv(f'{results_dir}RF/RF_holdout_test_results_all_NEK.csv')\n",
    "# all_test['prod_model'] = all_test['model'].astype(str).apply(lambda x: '_'.join(x.split('_')[2:]))\n",
    "all_test['prod_model'] = all_test['model'].astype(str).apply(lambda x: '_'.join(x.split('_')[1:]))\n",
    "all_test"
   ]
  },
  {
   "cell_type": "code",
   "execution_count": 20,
   "id": "3f9b0b8f-c511-4209-8eee-6f5d6e1755e7",
   "metadata": {},
   "outputs": [],
   "source": [
    "# all_test['data NEK'] = all_test['NEK'] \n",
    "all_test['model NEK'] = all_test['prod_model'].astype(str).str.split('_').str[0:2].apply(lambda x: '_'.join(x))\n",
    "all_test=all_test.rename(columns={'NEK':'data NEK','strategy': 'model strategy', 'RF_type':'model version' })\n",
    "new_order = ['model', 'data NEK', 'prod_model', 'model NEK', 'model version','model strategy', 'feat_type', 'cm', 'recall',\n",
    "             'specificity', 'accuracy', 'precision', 'f1', 'ROC_AUC', 'MCC', 'balanced_accuracy',\n",
    "             'set', 'modeling_type']\n",
    "all_test = all_test[new_order]\n",
    "all_test.to_csv(f'{results_dir}RF/RF_nanobret_cellular_holdout_results.csv', index=False)"
   ]
  },
  {
   "cell_type": "code",
   "execution_count": 19,
   "id": "75279949-fb86-419c-9da2-8222fc42c0bb",
   "metadata": {},
   "outputs": [
    {
     "data": {
      "text/html": [
       "<div>\n",
       "<style scoped>\n",
       "    .dataframe tbody tr th:only-of-type {\n",
       "        vertical-align: middle;\n",
       "    }\n",
       "\n",
       "    .dataframe tbody tr th {\n",
       "        vertical-align: top;\n",
       "    }\n",
       "\n",
       "    .dataframe thead th {\n",
       "        text-align: right;\n",
       "    }\n",
       "</style>\n",
       "<table border=\"1\" class=\"dataframe\">\n",
       "  <thead>\n",
       "    <tr style=\"text-align: right;\">\n",
       "      <th></th>\n",
       "      <th>model</th>\n",
       "      <th>data NEK</th>\n",
       "      <th>prod_model</th>\n",
       "      <th>model NEK</th>\n",
       "      <th>model version</th>\n",
       "      <th>model strategy</th>\n",
       "      <th>feat_type</th>\n",
       "      <th>cm</th>\n",
       "      <th>recall</th>\n",
       "      <th>specificity</th>\n",
       "      <th>accuracy</th>\n",
       "      <th>precision</th>\n",
       "      <th>f1</th>\n",
       "      <th>ROC_AUC</th>\n",
       "      <th>MCC</th>\n",
       "      <th>balanced_accuracy</th>\n",
       "      <th>set</th>\n",
       "      <th>modeling_type</th>\n",
       "    </tr>\n",
       "  </thead>\n",
       "  <tbody>\n",
       "    <tr>\n",
       "      <th>0</th>\n",
       "      <td>NEK1_NEK2_binding_MFP_none_scaled_RF</td>\n",
       "      <td>NEK1</td>\n",
       "      <td>NEK2_binding_MFP_none_scaled_RF</td>\n",
       "      <td>NEK2_binding</td>\n",
       "      <td>RF</td>\n",
       "      <td>none_scaled</td>\n",
       "      <td>MFP</td>\n",
       "      <td>[309, 61, 27, 3]</td>\n",
       "      <td>0.100000</td>\n",
       "      <td>0.835135</td>\n",
       "      <td>0.7800</td>\n",
       "      <td>0.046875</td>\n",
       "      <td>0.063830</td>\n",
       "      <td>0.467568</td>\n",
       "      <td>-0.046603</td>\n",
       "      <td>0.467568</td>\n",
       "      <td>nanobret_cellular_holdout</td>\n",
       "      <td>RF</td>\n",
       "    </tr>\n",
       "    <tr>\n",
       "      <th>1</th>\n",
       "      <td>NEK1_NEK2_binding_MFP_none_scaled_RF_BCW</td>\n",
       "      <td>NEK1</td>\n",
       "      <td>NEK2_binding_MFP_none_scaled_RF_BCW</td>\n",
       "      <td>NEK2_binding</td>\n",
       "      <td>RF_BCW</td>\n",
       "      <td>none_scaled</td>\n",
       "      <td>MFP</td>\n",
       "      <td>[310, 60, 28, 2]</td>\n",
       "      <td>0.066667</td>\n",
       "      <td>0.837838</td>\n",
       "      <td>0.7800</td>\n",
       "      <td>0.032258</td>\n",
       "      <td>0.043478</td>\n",
       "      <td>0.452252</td>\n",
       "      <td>-0.069501</td>\n",
       "      <td>0.452252</td>\n",
       "      <td>nanobret_cellular_holdout</td>\n",
       "      <td>RF</td>\n",
       "    </tr>\n",
       "    <tr>\n",
       "      <th>2</th>\n",
       "      <td>NEK1_NEK2_binding_MFP_none_scaled_BRFC</td>\n",
       "      <td>NEK1</td>\n",
       "      <td>NEK2_binding_MFP_none_scaled_BRFC</td>\n",
       "      <td>NEK2_binding</td>\n",
       "      <td>BRFC</td>\n",
       "      <td>none_scaled</td>\n",
       "      <td>MFP</td>\n",
       "      <td>[121, 249, 1, 29]</td>\n",
       "      <td>0.966667</td>\n",
       "      <td>0.327027</td>\n",
       "      <td>0.3750</td>\n",
       "      <td>0.104317</td>\n",
       "      <td>0.188312</td>\n",
       "      <td>0.646847</td>\n",
       "      <td>0.168017</td>\n",
       "      <td>0.646847</td>\n",
       "      <td>nanobret_cellular_holdout</td>\n",
       "      <td>RF</td>\n",
       "    </tr>\n",
       "    <tr>\n",
       "      <th>3</th>\n",
       "      <td>NEK1_NEK2_binding_MFP_none_scaled_BRFC_BCW</td>\n",
       "      <td>NEK1</td>\n",
       "      <td>NEK2_binding_MFP_none_scaled_BRFC_BCW</td>\n",
       "      <td>NEK2_binding</td>\n",
       "      <td>BRFC_BCW</td>\n",
       "      <td>none_scaled</td>\n",
       "      <td>MFP</td>\n",
       "      <td>[312, 58, 25, 5]</td>\n",
       "      <td>0.166667</td>\n",
       "      <td>0.843243</td>\n",
       "      <td>0.7925</td>\n",
       "      <td>0.079365</td>\n",
       "      <td>0.107527</td>\n",
       "      <td>0.504955</td>\n",
       "      <td>0.007165</td>\n",
       "      <td>0.504955</td>\n",
       "      <td>nanobret_cellular_holdout</td>\n",
       "      <td>RF</td>\n",
       "    </tr>\n",
       "    <tr>\n",
       "      <th>4</th>\n",
       "      <td>NEK1_NEK2_binding_MFP_UNDER_RF</td>\n",
       "      <td>NEK1</td>\n",
       "      <td>NEK2_binding_MFP_UNDER_RF</td>\n",
       "      <td>NEK2_binding</td>\n",
       "      <td>RF</td>\n",
       "      <td>UNDER</td>\n",
       "      <td>MFP</td>\n",
       "      <td>[152, 218, 14, 16]</td>\n",
       "      <td>0.533333</td>\n",
       "      <td>0.410811</td>\n",
       "      <td>0.4200</td>\n",
       "      <td>0.068376</td>\n",
       "      <td>0.121212</td>\n",
       "      <td>0.472072</td>\n",
       "      <td>-0.029859</td>\n",
       "      <td>0.472072</td>\n",
       "      <td>nanobret_cellular_holdout</td>\n",
       "      <td>RF</td>\n",
       "    </tr>\n",
       "    <tr>\n",
       "      <th>...</th>\n",
       "      <td>...</td>\n",
       "      <td>...</td>\n",
       "      <td>...</td>\n",
       "      <td>...</td>\n",
       "      <td>...</td>\n",
       "      <td>...</td>\n",
       "      <td>...</td>\n",
       "      <td>...</td>\n",
       "      <td>...</td>\n",
       "      <td>...</td>\n",
       "      <td>...</td>\n",
       "      <td>...</td>\n",
       "      <td>...</td>\n",
       "      <td>...</td>\n",
       "      <td>...</td>\n",
       "      <td>...</td>\n",
       "      <td>...</td>\n",
       "      <td>...</td>\n",
       "    </tr>\n",
       "    <tr>\n",
       "      <th>379</th>\n",
       "      <td>NEK3_NEK9_inhibition_MFP_SMOTE_BRFC_BCW</td>\n",
       "      <td>NEK3</td>\n",
       "      <td>NEK9_inhibition_MFP_SMOTE_BRFC_BCW</td>\n",
       "      <td>NEK9_inhibition</td>\n",
       "      <td>BRFC_BCW</td>\n",
       "      <td>SMOTE</td>\n",
       "      <td>MFP</td>\n",
       "      <td>[301, 71, 13, 15]</td>\n",
       "      <td>0.535714</td>\n",
       "      <td>0.809140</td>\n",
       "      <td>0.7900</td>\n",
       "      <td>0.174419</td>\n",
       "      <td>0.263158</td>\n",
       "      <td>0.672427</td>\n",
       "      <td>0.214176</td>\n",
       "      <td>0.672427</td>\n",
       "      <td>nanobret_cellular_holdout</td>\n",
       "      <td>RF</td>\n",
       "    </tr>\n",
       "    <tr>\n",
       "      <th>380</th>\n",
       "      <td>NEK3_NEK9_inhibition_MFP_ADASYN_RF</td>\n",
       "      <td>NEK3</td>\n",
       "      <td>NEK9_inhibition_MFP_ADASYN_RF</td>\n",
       "      <td>NEK9_inhibition</td>\n",
       "      <td>RF</td>\n",
       "      <td>ADASYN</td>\n",
       "      <td>MFP</td>\n",
       "      <td>[333, 39, 28, 0]</td>\n",
       "      <td>0.000000</td>\n",
       "      <td>0.895161</td>\n",
       "      <td>0.8325</td>\n",
       "      <td>0.000000</td>\n",
       "      <td>0.000000</td>\n",
       "      <td>0.447581</td>\n",
       "      <td>-0.090175</td>\n",
       "      <td>0.447581</td>\n",
       "      <td>nanobret_cellular_holdout</td>\n",
       "      <td>RF</td>\n",
       "    </tr>\n",
       "    <tr>\n",
       "      <th>381</th>\n",
       "      <td>NEK3_NEK9_inhibition_MFP_ADASYN_RF_BCW</td>\n",
       "      <td>NEK3</td>\n",
       "      <td>NEK9_inhibition_MFP_ADASYN_RF_BCW</td>\n",
       "      <td>NEK9_inhibition</td>\n",
       "      <td>RF_BCW</td>\n",
       "      <td>ADASYN</td>\n",
       "      <td>MFP</td>\n",
       "      <td>[338, 34, 28, 0]</td>\n",
       "      <td>0.000000</td>\n",
       "      <td>0.908602</td>\n",
       "      <td>0.8450</td>\n",
       "      <td>0.000000</td>\n",
       "      <td>0.000000</td>\n",
       "      <td>0.454301</td>\n",
       "      <td>-0.083619</td>\n",
       "      <td>0.454301</td>\n",
       "      <td>nanobret_cellular_holdout</td>\n",
       "      <td>RF</td>\n",
       "    </tr>\n",
       "    <tr>\n",
       "      <th>382</th>\n",
       "      <td>NEK3_NEK9_inhibition_MFP_ADASYN_BRFC</td>\n",
       "      <td>NEK3</td>\n",
       "      <td>NEK9_inhibition_MFP_ADASYN_BRFC</td>\n",
       "      <td>NEK9_inhibition</td>\n",
       "      <td>BRFC</td>\n",
       "      <td>ADASYN</td>\n",
       "      <td>MFP</td>\n",
       "      <td>[333, 39, 28, 0]</td>\n",
       "      <td>0.000000</td>\n",
       "      <td>0.895161</td>\n",
       "      <td>0.8325</td>\n",
       "      <td>0.000000</td>\n",
       "      <td>0.000000</td>\n",
       "      <td>0.447581</td>\n",
       "      <td>-0.090175</td>\n",
       "      <td>0.447581</td>\n",
       "      <td>nanobret_cellular_holdout</td>\n",
       "      <td>RF</td>\n",
       "    </tr>\n",
       "    <tr>\n",
       "      <th>383</th>\n",
       "      <td>NEK3_NEK9_inhibition_MFP_ADASYN_BRFC_BCW</td>\n",
       "      <td>NEK3</td>\n",
       "      <td>NEK9_inhibition_MFP_ADASYN_BRFC_BCW</td>\n",
       "      <td>NEK9_inhibition</td>\n",
       "      <td>BRFC_BCW</td>\n",
       "      <td>ADASYN</td>\n",
       "      <td>MFP</td>\n",
       "      <td>[337, 35, 28, 0]</td>\n",
       "      <td>0.000000</td>\n",
       "      <td>0.905914</td>\n",
       "      <td>0.8425</td>\n",
       "      <td>0.000000</td>\n",
       "      <td>0.000000</td>\n",
       "      <td>0.452957</td>\n",
       "      <td>-0.084956</td>\n",
       "      <td>0.452957</td>\n",
       "      <td>nanobret_cellular_holdout</td>\n",
       "      <td>RF</td>\n",
       "    </tr>\n",
       "  </tbody>\n",
       "</table>\n",
       "<p>384 rows × 18 columns</p>\n",
       "</div>"
      ],
      "text/plain": [
       "                                          model data NEK  \\\n",
       "0          NEK1_NEK2_binding_MFP_none_scaled_RF     NEK1   \n",
       "1      NEK1_NEK2_binding_MFP_none_scaled_RF_BCW     NEK1   \n",
       "2        NEK1_NEK2_binding_MFP_none_scaled_BRFC     NEK1   \n",
       "3    NEK1_NEK2_binding_MFP_none_scaled_BRFC_BCW     NEK1   \n",
       "4                NEK1_NEK2_binding_MFP_UNDER_RF     NEK1   \n",
       "..                                          ...      ...   \n",
       "379     NEK3_NEK9_inhibition_MFP_SMOTE_BRFC_BCW     NEK3   \n",
       "380          NEK3_NEK9_inhibition_MFP_ADASYN_RF     NEK3   \n",
       "381      NEK3_NEK9_inhibition_MFP_ADASYN_RF_BCW     NEK3   \n",
       "382        NEK3_NEK9_inhibition_MFP_ADASYN_BRFC     NEK3   \n",
       "383    NEK3_NEK9_inhibition_MFP_ADASYN_BRFC_BCW     NEK3   \n",
       "\n",
       "                                prod_model        model NEK model version  \\\n",
       "0          NEK2_binding_MFP_none_scaled_RF     NEK2_binding            RF   \n",
       "1      NEK2_binding_MFP_none_scaled_RF_BCW     NEK2_binding        RF_BCW   \n",
       "2        NEK2_binding_MFP_none_scaled_BRFC     NEK2_binding          BRFC   \n",
       "3    NEK2_binding_MFP_none_scaled_BRFC_BCW     NEK2_binding      BRFC_BCW   \n",
       "4                NEK2_binding_MFP_UNDER_RF     NEK2_binding            RF   \n",
       "..                                     ...              ...           ...   \n",
       "379     NEK9_inhibition_MFP_SMOTE_BRFC_BCW  NEK9_inhibition      BRFC_BCW   \n",
       "380          NEK9_inhibition_MFP_ADASYN_RF  NEK9_inhibition            RF   \n",
       "381      NEK9_inhibition_MFP_ADASYN_RF_BCW  NEK9_inhibition        RF_BCW   \n",
       "382        NEK9_inhibition_MFP_ADASYN_BRFC  NEK9_inhibition          BRFC   \n",
       "383    NEK9_inhibition_MFP_ADASYN_BRFC_BCW  NEK9_inhibition      BRFC_BCW   \n",
       "\n",
       "    model strategy feat_type                  cm    recall  specificity  \\\n",
       "0      none_scaled       MFP    [309, 61, 27, 3]  0.100000     0.835135   \n",
       "1      none_scaled       MFP    [310, 60, 28, 2]  0.066667     0.837838   \n",
       "2      none_scaled       MFP   [121, 249, 1, 29]  0.966667     0.327027   \n",
       "3      none_scaled       MFP    [312, 58, 25, 5]  0.166667     0.843243   \n",
       "4            UNDER       MFP  [152, 218, 14, 16]  0.533333     0.410811   \n",
       "..             ...       ...                 ...       ...          ...   \n",
       "379          SMOTE       MFP   [301, 71, 13, 15]  0.535714     0.809140   \n",
       "380         ADASYN       MFP    [333, 39, 28, 0]  0.000000     0.895161   \n",
       "381         ADASYN       MFP    [338, 34, 28, 0]  0.000000     0.908602   \n",
       "382         ADASYN       MFP    [333, 39, 28, 0]  0.000000     0.895161   \n",
       "383         ADASYN       MFP    [337, 35, 28, 0]  0.000000     0.905914   \n",
       "\n",
       "     accuracy  precision        f1   ROC_AUC       MCC  balanced_accuracy  \\\n",
       "0      0.7800   0.046875  0.063830  0.467568 -0.046603           0.467568   \n",
       "1      0.7800   0.032258  0.043478  0.452252 -0.069501           0.452252   \n",
       "2      0.3750   0.104317  0.188312  0.646847  0.168017           0.646847   \n",
       "3      0.7925   0.079365  0.107527  0.504955  0.007165           0.504955   \n",
       "4      0.4200   0.068376  0.121212  0.472072 -0.029859           0.472072   \n",
       "..        ...        ...       ...       ...       ...                ...   \n",
       "379    0.7900   0.174419  0.263158  0.672427  0.214176           0.672427   \n",
       "380    0.8325   0.000000  0.000000  0.447581 -0.090175           0.447581   \n",
       "381    0.8450   0.000000  0.000000  0.454301 -0.083619           0.454301   \n",
       "382    0.8325   0.000000  0.000000  0.447581 -0.090175           0.447581   \n",
       "383    0.8425   0.000000  0.000000  0.452957 -0.084956           0.452957   \n",
       "\n",
       "                           set modeling_type  \n",
       "0    nanobret_cellular_holdout            RF  \n",
       "1    nanobret_cellular_holdout            RF  \n",
       "2    nanobret_cellular_holdout            RF  \n",
       "3    nanobret_cellular_holdout            RF  \n",
       "4    nanobret_cellular_holdout            RF  \n",
       "..                         ...           ...  \n",
       "379  nanobret_cellular_holdout            RF  \n",
       "380  nanobret_cellular_holdout            RF  \n",
       "381  nanobret_cellular_holdout            RF  \n",
       "382  nanobret_cellular_holdout            RF  \n",
       "383  nanobret_cellular_holdout            RF  \n",
       "\n",
       "[384 rows x 18 columns]"
      ]
     },
     "execution_count": 19,
     "metadata": {},
     "output_type": "execute_result"
    }
   ],
   "source": [
    "all_test"
   ]
  },
  {
   "cell_type": "code",
   "execution_count": null,
   "id": "4aaf428a-2613-4c7f-baf1-cecd1ae52e62",
   "metadata": {},
   "outputs": [],
   "source": []
  }
 ],
 "metadata": {
  "kernelspec": {
   "display_name": "Python (ATOM_CODE)",
   "language": "python",
   "name": "atom_code"
  },
  "language_info": {
   "codemirror_mode": {
    "name": "ipython",
    "version": 3
   },
   "file_extension": ".py",
   "mimetype": "text/x-python",
   "name": "python",
   "nbconvert_exporter": "python",
   "pygments_lexer": "ipython3",
   "version": "3.9.20"
  }
 },
 "nbformat": 4,
 "nbformat_minor": 5
}
