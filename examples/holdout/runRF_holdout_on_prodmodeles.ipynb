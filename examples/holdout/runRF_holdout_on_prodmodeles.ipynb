{
 "cells": [
  {
   "cell_type": "code",
   "execution_count": 4,
   "id": "adc19fdc-ccf8-4ba2-964f-96fa9155bf77",
   "metadata": {},
   "outputs": [],
   "source": [
    "import pyforest\n",
    "import sys\n",
    "sys.path.append('/Users/jayceepang/msse/ATOM_CODE/UTILS/')\n",
    "from RF_functions import *\n",
    "from GenUtils import *\n",
    "from dataset import *\n",
    "import os\n",
    "import pickle\n",
    "from imblearn.over_sampling import SMOTEN, ADASYN, SMOTE\n",
    "from sklearn.metrics import accuracy_score, balanced_accuracy_score,precision_score, f1_score, roc_auc_score, roc_curve, precision_recall_curve, auc, recall_score, confusion_matrix,matthews_corrcoef\n",
    "\n",
    "from rdkit import Chem\n",
    "from rdkit.Chem import AllChem"
   ]
  },
  {
   "cell_type": "code",
   "execution_count": 5,
   "id": "8690813a-9872-4c7d-bf0c-f17f9b8cb467",
   "metadata": {},
   "outputs": [],
   "source": [
    "og_neks = ['NEK2_binding','NEK2_inhibition','NEK3_binding','NEK5_binding','NEK9_binding','NEK9_inhibition']\n",
    "samplings =['none_scaled','UNDER','SMOTE','ADASYN'] \n",
    "new_neks=['NEK1', 'NEK11', 'NEK2', 'NEK3', 'NEK4', 'NEK5',\n",
    "       'NEK6', 'NEK9']\n",
    "RF_types = ['RF','RF_BCW','BRFC','BRFC_BCW']\n",
    "og_datapath = '/Users/jayceepang/msse/capstone/atom2024/atom2024/notebooks/paper/datasets/80train_20test/featurized/'\n",
    "results_dir='/Users/jayceepang/msse/ATOM_CODE/examples/holdout/holdout_results/'\n",
    "datapath = '/Users/jayceepang/msse/ATOM_CODE/datasets/holdout_data/featurized/'\n",
    "rf_path = '/Users/jayceepang/msse/capstone/atom2024/atom2024/notebooks/paper/results/RF_results/'\n",
    "gp_path ='/Users/jayceepang/msse/capstone/atom2024/atom2024/notebooks/paper/results/GP_results/'\n",
    "test_results=[]\n",
    "final_cols=['model','NEK','strategy','feat_type','RF_type', 'cm','recall', 'specificity', 'accuracy', 'precision', \n",
    "                'f1', 'ROC_AUC', 'MCC', 'balanced_accuracy']\n",
    "feat_cols_dropped =['NEK','compound_id','base_rdkit_smiles', 'subset', 'active'] "
   ]
  },
  {
   "cell_type": "code",
   "execution_count": null,
   "id": "39fb40b8-8dfd-46cf-b867-883dda9342d3",
   "metadata": {
    "scrolled": true
   },
   "outputs": [
    {
     "name": "stdout",
     "output_type": "stream",
     "text": [
      "NEK1 NEK2_binding_MFP_none_scaled_RF\n",
      "TRAIN: acc: 1.000, precision: 1.000, recall: 1.000, spec: 1.000\n",
      "TEST: acc: 0.780, precision: 0.047, recall: 0.100, spec: 0.835\n",
      "func:'rf_models'  took: 5.3459 sec\n",
      "\n",
      "NEK1 NEK2_binding_MFP_none_scaled_RF_BCW\n",
      "TRAIN: acc: 1.000, precision: 1.000, recall: 1.000, spec: 1.000\n",
      "TEST: acc: 0.780, precision: 0.032, recall: 0.067, spec: 0.838\n",
      "func:'rf_models'  took: 2.6180 sec\n",
      "\n",
      "NEK1 NEK2_binding_MFP_none_scaled_BRFC\n"
     ]
    },
    {
     "name": "stderr",
     "output_type": "stream",
     "text": [
      "/Users/jayceepang/miniconda3/envs/ATOM_CODE/lib/python3.9/site-packages/imblearn/ensemble/_forest.py:577: FutureWarning: The default of `sampling_strategy` will change from `'auto'` to `'all'` in version 0.13. This change will follow the implementation proposed in the original paper. Set to `'all'` to silence this warning and adopt the future behaviour.\n",
      "  warn(\n",
      "/Users/jayceepang/miniconda3/envs/ATOM_CODE/lib/python3.9/site-packages/imblearn/ensemble/_forest.py:589: FutureWarning: The default of `replacement` will change from `False` to `True` in version 0.13. This change will follow the implementation proposed in the original paper. Set to `True` to silence this warning and adopt the future behaviour.\n",
      "  warn(\n"
     ]
    },
    {
     "name": "stdout",
     "output_type": "stream",
     "text": [
      "TRAIN: acc: 0.837, precision: 0.197, recall: 1.000, spec: 0.831\n",
      "TEST: acc: 0.375, precision: 0.104, recall: 0.967, spec: 0.327\n",
      "func:'rf_models'  took: 0.2710 sec\n",
      "\n",
      "NEK1 NEK2_binding_MFP_none_scaled_BRFC_BCW\n"
     ]
    },
    {
     "name": "stderr",
     "output_type": "stream",
     "text": [
      "/Users/jayceepang/miniconda3/envs/ATOM_CODE/lib/python3.9/site-packages/imblearn/ensemble/_forest.py:577: FutureWarning: The default of `sampling_strategy` will change from `'auto'` to `'all'` in version 0.13. This change will follow the implementation proposed in the original paper. Set to `'all'` to silence this warning and adopt the future behaviour.\n",
      "  warn(\n",
      "/Users/jayceepang/miniconda3/envs/ATOM_CODE/lib/python3.9/site-packages/imblearn/ensemble/_forest.py:589: FutureWarning: The default of `replacement` will change from `False` to `True` in version 0.13. This change will follow the implementation proposed in the original paper. Set to `True` to silence this warning and adopt the future behaviour.\n",
      "  warn(\n"
     ]
    },
    {
     "name": "stdout",
     "output_type": "stream",
     "text": [
      "TRAIN: acc: 0.525, precision: 0.078, recall: 1.000, spec: 0.506\n",
      "TEST: acc: 0.792, precision: 0.079, recall: 0.167, spec: 0.843\n",
      "func:'rf_models'  took: 0.4693 sec\n",
      "\n",
      "NEK1 NEK2_binding_MFP_UNDER_RF\n",
      "TRAIN: acc: 1.000, precision: 1.000, recall: 1.000, spec: 1.000\n",
      "TEST: acc: 0.420, precision: 0.068, recall: 0.533, spec: 0.411\n",
      "func:'rf_models'  took: 0.1919 sec\n",
      "\n",
      "NEK1 NEK2_binding_MFP_UNDER_RF_BCW\n",
      "TRAIN: acc: 1.000, precision: 1.000, recall: 1.000, spec: 1.000\n",
      "TEST: acc: 0.407, precision: 0.067, recall: 0.533, spec: 0.397\n",
      "func:'rf_models'  took: 0.1974 sec\n",
      "\n",
      "NEK1 NEK2_binding_MFP_UNDER_BRFC\n"
     ]
    },
    {
     "name": "stderr",
     "output_type": "stream",
     "text": [
      "/Users/jayceepang/miniconda3/envs/ATOM_CODE/lib/python3.9/site-packages/imblearn/ensemble/_forest.py:577: FutureWarning: The default of `sampling_strategy` will change from `'auto'` to `'all'` in version 0.13. This change will follow the implementation proposed in the original paper. Set to `'all'` to silence this warning and adopt the future behaviour.\n",
      "  warn(\n",
      "/Users/jayceepang/miniconda3/envs/ATOM_CODE/lib/python3.9/site-packages/imblearn/ensemble/_forest.py:589: FutureWarning: The default of `replacement` will change from `False` to `True` in version 0.13. This change will follow the implementation proposed in the original paper. Set to `True` to silence this warning and adopt the future behaviour.\n",
      "  warn(\n"
     ]
    },
    {
     "name": "stdout",
     "output_type": "stream",
     "text": [
      "TRAIN: acc: 1.000, precision: 1.000, recall: 1.000, spec: 1.000\n",
      "TEST: acc: 0.415, precision: 0.068, recall: 0.533, spec: 0.405\n",
      "func:'rf_models'  took: 0.2600 sec\n",
      "\n",
      "NEK1 NEK2_binding_MFP_UNDER_BRFC_BCW\n"
     ]
    },
    {
     "name": "stderr",
     "output_type": "stream",
     "text": [
      "/Users/jayceepang/miniconda3/envs/ATOM_CODE/lib/python3.9/site-packages/imblearn/ensemble/_forest.py:577: FutureWarning: The default of `sampling_strategy` will change from `'auto'` to `'all'` in version 0.13. This change will follow the implementation proposed in the original paper. Set to `'all'` to silence this warning and adopt the future behaviour.\n",
      "  warn(\n",
      "/Users/jayceepang/miniconda3/envs/ATOM_CODE/lib/python3.9/site-packages/imblearn/ensemble/_forest.py:589: FutureWarning: The default of `replacement` will change from `False` to `True` in version 0.13. This change will follow the implementation proposed in the original paper. Set to `True` to silence this warning and adopt the future behaviour.\n",
      "  warn(\n"
     ]
    },
    {
     "name": "stdout",
     "output_type": "stream",
     "text": [
      "TRAIN: acc: 1.000, precision: 1.000, recall: 1.000, spec: 1.000\n",
      "TEST: acc: 0.412, precision: 0.068, recall: 0.533, spec: 0.403\n",
      "func:'rf_models'  took: 0.2651 sec\n",
      "\n",
      "NEK1 NEK2_binding_MFP_SMOTE_RF\n",
      "TRAIN: acc: 1.000, precision: 1.000, recall: 1.000, spec: 1.000\n",
      "TEST: acc: 0.825, precision: 0.000, recall: 0.000, spec: 0.892\n",
      "func:'rf_models'  took: 5.4759 sec\n",
      "\n",
      "NEK1 NEK2_binding_MFP_SMOTE_RF_BCW\n",
      "TRAIN: acc: 1.000, precision: 1.000, recall: 1.000, spec: 1.000\n",
      "TEST: acc: 0.830, precision: 0.000, recall: 0.000, spec: 0.897\n",
      "func:'rf_models'  took: 5.5564 sec\n",
      "\n",
      "NEK1 NEK2_binding_MFP_SMOTE_BRFC\n"
     ]
    },
    {
     "name": "stderr",
     "output_type": "stream",
     "text": [
      "/Users/jayceepang/miniconda3/envs/ATOM_CODE/lib/python3.9/site-packages/imblearn/ensemble/_forest.py:577: FutureWarning: The default of `sampling_strategy` will change from `'auto'` to `'all'` in version 0.13. This change will follow the implementation proposed in the original paper. Set to `'all'` to silence this warning and adopt the future behaviour.\n",
      "  warn(\n",
      "/Users/jayceepang/miniconda3/envs/ATOM_CODE/lib/python3.9/site-packages/imblearn/ensemble/_forest.py:589: FutureWarning: The default of `replacement` will change from `False` to `True` in version 0.13. This change will follow the implementation proposed in the original paper. Set to `True` to silence this warning and adopt the future behaviour.\n",
      "  warn(\n"
     ]
    }
   ],
   "source": [
    "test_results=[]\n",
    "final_cols=['model','NEK','strategy','feat_type','RF_type', 'cm','recall', 'specificity', 'accuracy', 'precision', \n",
    "                'f1', 'ROC_AUC', 'MCC', 'balanced_accuracy']\n",
    "for nek in new_neks: \n",
    "    for i in og_neks: \n",
    "        for samp in samplings: \n",
    "            trainX=pd.read_csv(f'{og_datapath}{i}_MFP_{samp}_trainX.csv')\n",
    "            train_y =pd.read_csv(f'{og_datapath}{i}_MFP_{samp}_train_y.csv').to_numpy().reshape(-1)\n",
    "            testX=pd.read_csv(f'{datapath}{nek}_MFP_none_unscaled.csv').drop(columns=feat_cols_dropped)\n",
    "            test_y=pd.read_csv(f'{datapath}{nek}_MFP_none_unscaled.csv')['active'].to_numpy().reshape(-1)\n",
    "            for rf in RF_types: \n",
    "                model_name = f'{i}_MFP_{samp}_{rf}'\n",
    "                \n",
    "                print(nek, model_name) \n",
    "                model = RF_functions.rf_models(trainX, train_y, testX, test_y, rf, {}, True)\n",
    "                # train_df = gather_rf_results(model, trainX, train_y)\n",
    "                test_df = gather_rf_results(model, testX, test_y)\n",
    "                print()\n",
    "\n",
    "                test_df['model'] = f'{nek}_{model_name}'\n",
    "                test_df['NEK'] =nek\n",
    "                test_df['feat_type'] = 'MFP'\n",
    "                test_df['strategy'] = samp\n",
    "                test_df['RF_type'] = rf\n",
    "                test_df.to_csv(f'{results_dir}{nek}_{model_name}_holdout_test.csv',index=False) \n",
    "                test_results.append(test_df.iloc[[0]][final_cols].values.flatten())\n",
    "\n",
    "    all_test =  pd.DataFrame(test_results,columns=final_cols)\n",
    "    all_test['modeling_type'] = 'RF' \n",
    "    all_test['set'] = 'nanobret_cellular_holdout' \n",
    "\n",
    "    all_test.to_csv(f'{results_dir}RF_holdout_test_results_all_NEK.csv', index=False)                 \n",
    "                        \n",
    "        \n"
   ]
  },
  {
   "cell_type": "code",
   "execution_count": null,
   "id": "30859a43-ffeb-4633-8091-5dc97d9c628e",
   "metadata": {},
   "outputs": [],
   "source": []
  }
 ],
 "metadata": {
  "kernelspec": {
   "display_name": "Python (ATOM_CODE)",
   "language": "python",
   "name": "atom_code"
  },
  "language_info": {
   "codemirror_mode": {
    "name": "ipython",
    "version": 3
   },
   "file_extension": ".py",
   "mimetype": "text/x-python",
   "name": "python",
   "nbconvert_exporter": "python",
   "pygments_lexer": "ipython3",
   "version": "3.9.20"
  }
 },
 "nbformat": 4,
 "nbformat_minor": 5
}
