{
 "cells": [
  {
   "cell_type": "code",
   "execution_count": 1,
   "id": "9dd46bc7-3712-46ec-9e15-85f7ca08a683",
   "metadata": {},
   "outputs": [],
   "source": [
    "import pyforest\n",
    "from rdkit import Chem\n",
    "from rdkit.Chem import AllChem\n",
    "from imblearn.over_sampling import SMOTEN, ADASYN, SMOTE "
   ]
  },
  {
   "cell_type": "code",
   "execution_count": 3,
   "id": "f2d53b14-adff-47a6-8d59-5ec398f90427",
   "metadata": {},
   "outputs": [],
   "source": [
    "datapath = '/Users/jayceepang/msse/ATOM_CODE/datasets/holdout_data/'\n",
    "rf_path = '/Users/jayceepang/msse/capstone/atom2024/atom2024/notebooks/paper/results/RF_results/'\n",
    "gp_path ='/Users/jayceepang/msse/capstone/atom2024/atom2024/notebooks/paper/results/GP_results/'"
   ]
  },
  {
   "cell_type": "code",
   "execution_count": 15,
   "id": "cc72e4f1-8b35-4e66-994a-c043b5729eaf",
   "metadata": {},
   "outputs": [
    {
     "data": {
      "application/javascript": [
       "\n",
       "        if (window._pyforest_update_imports_cell) { window._pyforest_update_imports_cell('import pandas as pd'); }\n",
       "    "
      ],
      "text/plain": [
       "<IPython.core.display.Javascript object>"
      ]
     },
     "metadata": {},
     "output_type": "display_data"
    },
    {
     "name": "stdout",
     "output_type": "stream",
     "text": [
      "(400, 10)\n",
      "(400, 10)\n"
     ]
    }
   ],
   "source": [
    "df = pd.read_csv(datapath+'final_pIC50s_for_ML_noOut_noDupes_pivot.csv')\n",
    "print(df.shape)\n",
    "df=df.dropna()\n",
    "print(df.shape)"
   ]
  },
  {
   "cell_type": "code",
   "execution_count": 18,
   "id": "6969bf20-d12c-4f40-be47-c6f60e6a1bca",
   "metadata": {
    "scrolled": true
   },
   "outputs": [
    {
     "data": {
      "text/plain": [
       "(400,)"
      ]
     },
     "execution_count": 18,
     "metadata": {},
     "output_type": "execute_result"
    }
   ],
   "source": [
    "df['smiles'].unique().shape"
   ]
  },
  {
   "cell_type": "code",
   "execution_count": 33,
   "id": "453517fc-1ba6-4c36-ae56-f97c84c00660",
   "metadata": {},
   "outputs": [
    {
     "data": {
      "application/javascript": [
       "\n",
       "        if (window._pyforest_update_imports_cell) { window._pyforest_update_imports_cell('import pandas as pd'); }\n",
       "    "
      ],
      "text/plain": [
       "<IPython.core.display.Javascript object>"
      ]
     },
     "metadata": {},
     "output_type": "display_data"
    },
    {
     "data": {
      "application/javascript": [
       "\n",
       "        if (window._pyforest_update_imports_cell) { window._pyforest_update_imports_cell('import pandas as pd'); }\n",
       "    "
      ],
      "text/plain": [
       "<IPython.core.display.Javascript object>"
      ]
     },
     "metadata": {},
     "output_type": "display_data"
    },
    {
     "data": {
      "application/javascript": [
       "\n",
       "        if (window._pyforest_update_imports_cell) { window._pyforest_update_imports_cell('import pandas as pd'); }\n",
       "    "
      ],
      "text/plain": [
       "<IPython.core.display.Javascript object>"
      ]
     },
     "metadata": {},
     "output_type": "display_data"
    },
    {
     "data": {
      "application/javascript": [
       "\n",
       "        if (window._pyforest_update_imports_cell) { window._pyforest_update_imports_cell('import pandas as pd'); }\n",
       "    "
      ],
      "text/plain": [
       "<IPython.core.display.Javascript object>"
      ]
     },
     "metadata": {},
     "output_type": "display_data"
    },
    {
     "data": {
      "application/javascript": [
       "\n",
       "        if (window._pyforest_update_imports_cell) { window._pyforest_update_imports_cell('import pandas as pd'); }\n",
       "    "
      ],
      "text/plain": [
       "<IPython.core.display.Javascript object>"
      ]
     },
     "metadata": {},
     "output_type": "display_data"
    },
    {
     "data": {
      "application/javascript": [
       "\n",
       "        if (window._pyforest_update_imports_cell) { window._pyforest_update_imports_cell('import pandas as pd'); }\n",
       "    "
      ],
      "text/plain": [
       "<IPython.core.display.Javascript object>"
      ]
     },
     "metadata": {},
     "output_type": "display_data"
    }
   ],
   "source": [
    "og_datapath = '/Users/jayceepang/msse/capstone/atom2024/atom2024/notebooks/paper/datasets/original_datasets/'\n",
    "neks = ['NEK2_binding', 'NEK2_inhibition', 'NEK3_binding', 'NEK5_binding', 'NEK9_binding', 'NEK9_inhibition']\n",
    "all_smiles_lists = []\n",
    "for nek in [2, 3, 5, 9]: \n",
    "    nek_type_list = ['binding']\n",
    "    if nek in [2, 9]: \n",
    "        nek_type_list =['binding', 'inhibition']\n",
    "    for bi in nek_type_list: \n",
    "        nek_df = pd.read_csv(f'{og_datapath}NEK{nek}_1_uM_min_50_pct_{bi}.csv')\n",
    "        all_smiles_lists.append(nek_df['base_rdkit_smiles'].values)"
   ]
  },
  {
   "cell_type": "code",
   "execution_count": 38,
   "id": "7ee02404-980c-48e0-8a15-dce567a54c60",
   "metadata": {},
   "outputs": [],
   "source": [
    "all_smiles = []\n",
    "for sublist in all_smiles_lists:\n",
    "    all_smiles.extend(sublist)\n",
    "len(all_smiles)"
   ]
  },
  {
   "cell_type": "code",
   "execution_count": null,
   "id": "8e250b1d-16d0-4e2c-bc60-79aa73304f75",
   "metadata": {
    "scrolled": true
   },
   "outputs": [],
   "source": []
  },
  {
   "cell_type": "code",
   "execution_count": 55,
   "id": "1af7f04f-86d7-41e6-b6b3-13b796ba6aff",
   "metadata": {
    "scrolled": true
   },
   "outputs": [
    {
     "name": "stdout",
     "output_type": "stream",
     "text": [
      "new nanobret data size after filtering: (400, 10)\n"
     ]
    }
   ],
   "source": [
    "mol_in_og_data = df[df['smiles'].isin(all_smiles)]\n",
    "new_df = df[~df['smiles'].isin(all_smiles)]\n",
    "mol_in_og_data\n",
    "new_df\n",
    "print(f'new nanobret data size after filtering: {new_df.shape}')\n",
    "for nek in [ x for x in new_df.columns if x.startswith('NEK')]: \n",
    "    new_df[f'{nek}_active']=new_df[nek].apply(lambda x: 1 if x>6 else 0)"
   ]
  },
  {
   "cell_type": "code",
   "execution_count": 61,
   "id": "80e3f5d0-7626-44ca-8f58-880244e2ce8c",
   "metadata": {},
   "outputs": [
    {
     "data": {
      "text/html": [
       "<div>\n",
       "<style scoped>\n",
       "    .dataframe tbody tr th:only-of-type {\n",
       "        vertical-align: middle;\n",
       "    }\n",
       "\n",
       "    .dataframe tbody tr th {\n",
       "        vertical-align: top;\n",
       "    }\n",
       "\n",
       "    .dataframe thead th {\n",
       "        text-align: right;\n",
       "    }\n",
       "</style>\n",
       "<table border=\"1\" class=\"dataframe\">\n",
       "  <thead>\n",
       "    <tr style=\"text-align: right;\">\n",
       "      <th></th>\n",
       "      <th>Compound</th>\n",
       "      <th>smiles</th>\n",
       "      <th>NEK1</th>\n",
       "      <th>NEK11</th>\n",
       "      <th>NEK2</th>\n",
       "      <th>NEK3</th>\n",
       "      <th>NEK4</th>\n",
       "      <th>NEK5</th>\n",
       "      <th>NEK6</th>\n",
       "      <th>NEK9</th>\n",
       "      <th>NEK1_active</th>\n",
       "      <th>NEK11_active</th>\n",
       "      <th>NEK2_active</th>\n",
       "      <th>NEK3_active</th>\n",
       "      <th>NEK4_active</th>\n",
       "      <th>NEK5_active</th>\n",
       "      <th>NEK6_active</th>\n",
       "      <th>NEK9_active</th>\n",
       "    </tr>\n",
       "  </thead>\n",
       "  <tbody>\n",
       "    <tr>\n",
       "      <th>0</th>\n",
       "      <td>3_IN_PP1</td>\n",
       "      <td>NC1=C2C(N(C(C)(C)C)N=C2C3=CNC4=C3C=CC=C4)=NC=N1</td>\n",
       "      <td>4.522879</td>\n",
       "      <td>4.741265</td>\n",
       "      <td>4.522879</td>\n",
       "      <td>4.522879</td>\n",
       "      <td>4.522879</td>\n",
       "      <td>4.522879</td>\n",
       "      <td>4.522879</td>\n",
       "      <td>4.522879</td>\n",
       "      <td>0</td>\n",
       "      <td>0</td>\n",
       "      <td>0</td>\n",
       "      <td>0</td>\n",
       "      <td>0</td>\n",
       "      <td>0</td>\n",
       "      <td>0</td>\n",
       "      <td>0</td>\n",
       "    </tr>\n",
       "    <tr>\n",
       "      <th>1</th>\n",
       "      <td>ALK_kinase_inhibitor_1</td>\n",
       "      <td>CN(CC1)CCN1C2=CC=C(NC3=NC=C4C(C(C5=C(OC)C=CC(F...</td>\n",
       "      <td>4.522879</td>\n",
       "      <td>4.522879</td>\n",
       "      <td>4.536830</td>\n",
       "      <td>4.522879</td>\n",
       "      <td>4.543123</td>\n",
       "      <td>4.522879</td>\n",
       "      <td>4.522879</td>\n",
       "      <td>4.522879</td>\n",
       "      <td>0</td>\n",
       "      <td>0</td>\n",
       "      <td>0</td>\n",
       "      <td>0</td>\n",
       "      <td>0</td>\n",
       "      <td>0</td>\n",
       "      <td>0</td>\n",
       "      <td>0</td>\n",
       "    </tr>\n",
       "    <tr>\n",
       "      <th>2</th>\n",
       "      <td>ALW_II_49_7</td>\n",
       "      <td>O=C(C1=CC(NC2=CC(C(NC3=CC=CC(C(F)(F)F)=C3)=O)=...</td>\n",
       "      <td>4.522879</td>\n",
       "      <td>4.522879</td>\n",
       "      <td>4.522879</td>\n",
       "      <td>4.522879</td>\n",
       "      <td>4.522879</td>\n",
       "      <td>4.522879</td>\n",
       "      <td>4.522879</td>\n",
       "      <td>4.522879</td>\n",
       "      <td>0</td>\n",
       "      <td>0</td>\n",
       "      <td>0</td>\n",
       "      <td>0</td>\n",
       "      <td>0</td>\n",
       "      <td>0</td>\n",
       "      <td>0</td>\n",
       "      <td>0</td>\n",
       "    </tr>\n",
       "    <tr>\n",
       "      <th>3</th>\n",
       "      <td>AMG_47a</td>\n",
       "      <td>O=C(NC1=CC=CC(C(F)(F)F)=C1)C2=CC=C(C)C(C3=CC4=...</td>\n",
       "      <td>4.522879</td>\n",
       "      <td>4.772799</td>\n",
       "      <td>4.522879</td>\n",
       "      <td>4.522879</td>\n",
       "      <td>4.522879</td>\n",
       "      <td>4.522879</td>\n",
       "      <td>4.522879</td>\n",
       "      <td>4.522879</td>\n",
       "      <td>0</td>\n",
       "      <td>0</td>\n",
       "      <td>0</td>\n",
       "      <td>0</td>\n",
       "      <td>0</td>\n",
       "      <td>0</td>\n",
       "      <td>0</td>\n",
       "      <td>0</td>\n",
       "    </tr>\n",
       "    <tr>\n",
       "      <th>4</th>\n",
       "      <td>AST487</td>\n",
       "      <td>O=C(NC1=CC=C(OC2=NC=NC(NC)=C2)C=C1)NC3=CC=C(CN...</td>\n",
       "      <td>4.522879</td>\n",
       "      <td>4.522879</td>\n",
       "      <td>4.522879</td>\n",
       "      <td>4.522879</td>\n",
       "      <td>4.522879</td>\n",
       "      <td>4.522879</td>\n",
       "      <td>4.522879</td>\n",
       "      <td>4.522879</td>\n",
       "      <td>0</td>\n",
       "      <td>0</td>\n",
       "      <td>0</td>\n",
       "      <td>0</td>\n",
       "      <td>0</td>\n",
       "      <td>0</td>\n",
       "      <td>0</td>\n",
       "      <td>0</td>\n",
       "    </tr>\n",
       "    <tr>\n",
       "      <th>...</th>\n",
       "      <td>...</td>\n",
       "      <td>...</td>\n",
       "      <td>...</td>\n",
       "      <td>...</td>\n",
       "      <td>...</td>\n",
       "      <td>...</td>\n",
       "      <td>...</td>\n",
       "      <td>...</td>\n",
       "      <td>...</td>\n",
       "      <td>...</td>\n",
       "      <td>...</td>\n",
       "      <td>...</td>\n",
       "      <td>...</td>\n",
       "      <td>...</td>\n",
       "      <td>...</td>\n",
       "      <td>...</td>\n",
       "      <td>...</td>\n",
       "      <td>...</td>\n",
       "    </tr>\n",
       "    <tr>\n",
       "      <th>395</th>\n",
       "      <td>ZDG_7_53_1</td>\n",
       "      <td>CN1CCN(C2=CC=CC(NC3=NC=CC(C4=CC=C(NC([C@@H]5CC...</td>\n",
       "      <td>5.338173</td>\n",
       "      <td>4.522879</td>\n",
       "      <td>4.522879</td>\n",
       "      <td>6.231165</td>\n",
       "      <td>4.522879</td>\n",
       "      <td>6.334277</td>\n",
       "      <td>4.522879</td>\n",
       "      <td>5.329514</td>\n",
       "      <td>0</td>\n",
       "      <td>0</td>\n",
       "      <td>0</td>\n",
       "      <td>1</td>\n",
       "      <td>0</td>\n",
       "      <td>1</td>\n",
       "      <td>0</td>\n",
       "      <td>0</td>\n",
       "    </tr>\n",
       "    <tr>\n",
       "      <th>396</th>\n",
       "      <td>ZDG_7_9</td>\n",
       "      <td>O=C1N(C2CCCC2)C3=C(C=NC(NC4=CC=C(C(NCC(F)F)=O)...</td>\n",
       "      <td>4.956505</td>\n",
       "      <td>4.701115</td>\n",
       "      <td>4.990639</td>\n",
       "      <td>4.522879</td>\n",
       "      <td>4.746844</td>\n",
       "      <td>6.067683</td>\n",
       "      <td>4.522879</td>\n",
       "      <td>5.269689</td>\n",
       "      <td>0</td>\n",
       "      <td>0</td>\n",
       "      <td>0</td>\n",
       "      <td>0</td>\n",
       "      <td>0</td>\n",
       "      <td>1</td>\n",
       "      <td>0</td>\n",
       "      <td>0</td>\n",
       "    </tr>\n",
       "    <tr>\n",
       "      <th>397</th>\n",
       "      <td>Zanzalintinib</td>\n",
       "      <td>O=C(C1=CC2=C(OC3=CC=C(NC(C4(CC4)C(NC5=CC=C(C=C...</td>\n",
       "      <td>5.021631</td>\n",
       "      <td>4.987176</td>\n",
       "      <td>4.920219</td>\n",
       "      <td>4.522879</td>\n",
       "      <td>5.030679</td>\n",
       "      <td>4.522879</td>\n",
       "      <td>4.522879</td>\n",
       "      <td>4.771226</td>\n",
       "      <td>0</td>\n",
       "      <td>0</td>\n",
       "      <td>0</td>\n",
       "      <td>0</td>\n",
       "      <td>0</td>\n",
       "      <td>0</td>\n",
       "      <td>0</td>\n",
       "      <td>0</td>\n",
       "    </tr>\n",
       "    <tr>\n",
       "      <th>398</th>\n",
       "      <td>ba_03_55_11</td>\n",
       "      <td>FC(F)(F)C1=CC(NC2=NC(C3=C4C=CC=NN4N=C3)=CC=N2)...</td>\n",
       "      <td>4.522879</td>\n",
       "      <td>4.522879</td>\n",
       "      <td>4.522879</td>\n",
       "      <td>4.522879</td>\n",
       "      <td>4.522879</td>\n",
       "      <td>4.880795</td>\n",
       "      <td>4.522879</td>\n",
       "      <td>5.908011</td>\n",
       "      <td>0</td>\n",
       "      <td>0</td>\n",
       "      <td>0</td>\n",
       "      <td>0</td>\n",
       "      <td>0</td>\n",
       "      <td>0</td>\n",
       "      <td>0</td>\n",
       "      <td>0</td>\n",
       "    </tr>\n",
       "    <tr>\n",
       "      <th>399</th>\n",
       "      <td>zdg_7_16</td>\n",
       "      <td>CN1C2=NC=NC(N)=C2C(C3=CC(OC(F)(F)F)=CC=C3)=C1</td>\n",
       "      <td>4.522879</td>\n",
       "      <td>4.522879</td>\n",
       "      <td>4.522879</td>\n",
       "      <td>4.522879</td>\n",
       "      <td>4.522879</td>\n",
       "      <td>4.604391</td>\n",
       "      <td>4.522879</td>\n",
       "      <td>4.522879</td>\n",
       "      <td>0</td>\n",
       "      <td>0</td>\n",
       "      <td>0</td>\n",
       "      <td>0</td>\n",
       "      <td>0</td>\n",
       "      <td>0</td>\n",
       "      <td>0</td>\n",
       "      <td>0</td>\n",
       "    </tr>\n",
       "  </tbody>\n",
       "</table>\n",
       "<p>400 rows × 18 columns</p>\n",
       "</div>"
      ],
      "text/plain": [
       "                   Compound  \\\n",
       "0                  3_IN_PP1   \n",
       "1    ALK_kinase_inhibitor_1   \n",
       "2               ALW_II_49_7   \n",
       "3                   AMG_47a   \n",
       "4                    AST487   \n",
       "..                      ...   \n",
       "395              ZDG_7_53_1   \n",
       "396                 ZDG_7_9   \n",
       "397           Zanzalintinib   \n",
       "398             ba_03_55_11   \n",
       "399                zdg_7_16   \n",
       "\n",
       "                                                smiles      NEK1     NEK11  \\\n",
       "0      NC1=C2C(N(C(C)(C)C)N=C2C3=CNC4=C3C=CC=C4)=NC=N1  4.522879  4.741265   \n",
       "1    CN(CC1)CCN1C2=CC=C(NC3=NC=C4C(C(C5=C(OC)C=CC(F...  4.522879  4.522879   \n",
       "2    O=C(C1=CC(NC2=CC(C(NC3=CC=CC(C(F)(F)F)=C3)=O)=...  4.522879  4.522879   \n",
       "3    O=C(NC1=CC=CC(C(F)(F)F)=C1)C2=CC=C(C)C(C3=CC4=...  4.522879  4.772799   \n",
       "4    O=C(NC1=CC=C(OC2=NC=NC(NC)=C2)C=C1)NC3=CC=C(CN...  4.522879  4.522879   \n",
       "..                                                 ...       ...       ...   \n",
       "395  CN1CCN(C2=CC=CC(NC3=NC=CC(C4=CC=C(NC([C@@H]5CC...  5.338173  4.522879   \n",
       "396  O=C1N(C2CCCC2)C3=C(C=NC(NC4=CC=C(C(NCC(F)F)=O)...  4.956505  4.701115   \n",
       "397  O=C(C1=CC2=C(OC3=CC=C(NC(C4(CC4)C(NC5=CC=C(C=C...  5.021631  4.987176   \n",
       "398  FC(F)(F)C1=CC(NC2=NC(C3=C4C=CC=NN4N=C3)=CC=N2)...  4.522879  4.522879   \n",
       "399      CN1C2=NC=NC(N)=C2C(C3=CC(OC(F)(F)F)=CC=C3)=C1  4.522879  4.522879   \n",
       "\n",
       "         NEK2      NEK3      NEK4      NEK5      NEK6      NEK9  NEK1_active  \\\n",
       "0    4.522879  4.522879  4.522879  4.522879  4.522879  4.522879            0   \n",
       "1    4.536830  4.522879  4.543123  4.522879  4.522879  4.522879            0   \n",
       "2    4.522879  4.522879  4.522879  4.522879  4.522879  4.522879            0   \n",
       "3    4.522879  4.522879  4.522879  4.522879  4.522879  4.522879            0   \n",
       "4    4.522879  4.522879  4.522879  4.522879  4.522879  4.522879            0   \n",
       "..        ...       ...       ...       ...       ...       ...          ...   \n",
       "395  4.522879  6.231165  4.522879  6.334277  4.522879  5.329514            0   \n",
       "396  4.990639  4.522879  4.746844  6.067683  4.522879  5.269689            0   \n",
       "397  4.920219  4.522879  5.030679  4.522879  4.522879  4.771226            0   \n",
       "398  4.522879  4.522879  4.522879  4.880795  4.522879  5.908011            0   \n",
       "399  4.522879  4.522879  4.522879  4.604391  4.522879  4.522879            0   \n",
       "\n",
       "     NEK11_active  NEK2_active  NEK3_active  NEK4_active  NEK5_active  \\\n",
       "0               0            0            0            0            0   \n",
       "1               0            0            0            0            0   \n",
       "2               0            0            0            0            0   \n",
       "3               0            0            0            0            0   \n",
       "4               0            0            0            0            0   \n",
       "..            ...          ...          ...          ...          ...   \n",
       "395             0            0            1            0            1   \n",
       "396             0            0            0            0            1   \n",
       "397             0            0            0            0            0   \n",
       "398             0            0            0            0            0   \n",
       "399             0            0            0            0            0   \n",
       "\n",
       "     NEK6_active  NEK9_active  \n",
       "0              0            0  \n",
       "1              0            0  \n",
       "2              0            0  \n",
       "3              0            0  \n",
       "4              0            0  \n",
       "..           ...          ...  \n",
       "395            0            0  \n",
       "396            0            0  \n",
       "397            0            0  \n",
       "398            0            0  \n",
       "399            0            0  \n",
       "\n",
       "[400 rows x 18 columns]"
      ]
     },
     "execution_count": 61,
     "metadata": {},
     "output_type": "execute_result"
    }
   ],
   "source": [
    "new_df"
   ]
  },
  {
   "cell_type": "code",
   "execution_count": 70,
   "id": "fbaedc26-d34f-458a-9f1c-ef29249a68c9",
   "metadata": {
    "scrolled": true
   },
   "outputs": [
    {
     "data": {
      "text/plain": [
       "NEK1_active\n",
       "0    370\n",
       "1     30\n",
       "Name: count, dtype: int64"
      ]
     },
     "metadata": {},
     "output_type": "display_data"
    },
    {
     "data": {
      "text/plain": [
       "NEK11_active\n",
       "0    398\n",
       "1      2\n",
       "Name: count, dtype: int64"
      ]
     },
     "metadata": {},
     "output_type": "display_data"
    },
    {
     "data": {
      "text/plain": [
       "NEK2_active\n",
       "0    369\n",
       "1     31\n",
       "Name: count, dtype: int64"
      ]
     },
     "metadata": {},
     "output_type": "display_data"
    },
    {
     "data": {
      "text/plain": [
       "NEK3_active\n",
       "0    372\n",
       "1     28\n",
       "Name: count, dtype: int64"
      ]
     },
     "metadata": {},
     "output_type": "display_data"
    },
    {
     "data": {
      "text/plain": [
       "NEK4_active\n",
       "0    400\n",
       "Name: count, dtype: int64"
      ]
     },
     "metadata": {},
     "output_type": "display_data"
    },
    {
     "data": {
      "text/plain": [
       "NEK5_active\n",
       "0    320\n",
       "1     80\n",
       "Name: count, dtype: int64"
      ]
     },
     "metadata": {},
     "output_type": "display_data"
    },
    {
     "data": {
      "text/plain": [
       "NEK6_active\n",
       "0    400\n",
       "Name: count, dtype: int64"
      ]
     },
     "metadata": {},
     "output_type": "display_data"
    },
    {
     "data": {
      "text/plain": [
       "NEK9_active\n",
       "0    366\n",
       "1     34\n",
       "Name: count, dtype: int64"
      ]
     },
     "metadata": {},
     "output_type": "display_data"
    }
   ],
   "source": [
    "for nek in [ x for x in new_df.columns if x.endswith('active')]: \n",
    "    nek_str = nek.split('_')[0]\n",
    "\n",
    "    cols = ['Compound', 'smiles', nek] \n",
    "    nek_df = new_df[cols]\n",
    "    # display(nek_df)\n",
    "    display(nek_df[nek].value_counts())\n",
    "    nek_df.to_csv(f'{datapath}{nek_str}_uM_min_50_pct.csv', index=False)"
   ]
  },
  {
   "cell_type": "markdown",
   "id": "0a67ed5f-7983-40fe-b07f-1c1425bae2b0",
   "metadata": {},
   "source": [
    "# Next steps\n",
    "1. figure out binding or inhibition data --> pIC50 of 6 is equivalent to 50% inhibition at 1uM\n",
    "2. how should we convert the labels to active/inactive? (our previous datasets were perecent binding/inhibition)\n",
    "4. run this new data on our production models "
   ]
  },
  {
   "cell_type": "code",
   "execution_count": null,
   "id": "9fc60ce0-ec70-4d93-8e08-c2f672a201c6",
   "metadata": {},
   "outputs": [],
   "source": []
  }
 ],
 "metadata": {
  "kernelspec": {
   "display_name": "Python (ATOM_CODE)",
   "language": "python",
   "name": "atom_code"
  },
  "language_info": {
   "codemirror_mode": {
    "name": "ipython",
    "version": 3
   },
   "file_extension": ".py",
   "mimetype": "text/x-python",
   "name": "python",
   "nbconvert_exporter": "python",
   "pygments_lexer": "ipython3",
   "version": "3.9.20"
  }
 },
 "nbformat": 4,
 "nbformat_minor": 5
}
