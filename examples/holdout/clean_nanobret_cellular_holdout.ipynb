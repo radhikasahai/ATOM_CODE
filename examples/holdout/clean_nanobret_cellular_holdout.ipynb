{
 "cells": [
  {
   "cell_type": "code",
   "execution_count": 1,
   "id": "9dd46bc7-3712-46ec-9e15-85f7ca08a683",
   "metadata": {},
   "outputs": [],
   "source": [
    "import pyforest\n",
    "from rdkit import Chem\n",
    "from rdkit.Chem import AllChem\n",
    "from imblearn.over_sampling import SMOTEN, ADASYN, SMOTE "
   ]
  },
  {
   "cell_type": "code",
   "execution_count": 3,
   "id": "f2d53b14-adff-47a6-8d59-5ec398f90427",
   "metadata": {},
   "outputs": [],
   "source": [
    "datapath = '/Users/jayceepang/msse/ATOM_CODE/datasets/holdout_data/'\n",
    "rf_path = '/Users/jayceepang/msse/capstone/atom2024/atom2024/notebooks/paper/results/RF_results/'\n",
    "gp_path ='/Users/jayceepang/msse/capstone/atom2024/atom2024/notebooks/paper/results/GP_results/'"
   ]
  },
  {
   "cell_type": "code",
   "execution_count": 71,
   "id": "624c3441-14f7-424c-a8ed-6e42b05ebf1a",
   "metadata": {},
   "outputs": [
    {
     "data": {
      "application/javascript": [
       "\n",
       "        if (window._pyforest_update_imports_cell) { window._pyforest_update_imports_cell('import pandas as pd'); }\n",
       "    "
      ],
      "text/plain": [
       "<IPython.core.display.Javascript object>"
      ]
     },
     "metadata": {},
     "output_type": "display_data"
    },
    {
     "name": "stdout",
     "output_type": "stream",
     "text": [
      "(400, 10)\n",
      "(400, 10)\n"
     ]
    }
   ],
   "source": [
    "df = pd.read_csv(datapath+'final_pIC50s_for_ML_noOut_noDupes_pivot.csv')\n",
    "print(df.shape)\n",
    "df=df.dropna()\n",
    "print(df.shape)\n"
   ]
  },
  {
   "cell_type": "code",
   "execution_count": 72,
   "id": "4b888b12-a208-4e2f-ab04-e258e736fd61",
   "metadata": {},
   "outputs": [
    {
     "data": {
      "text/plain": [
       "(400,)"
      ]
     },
     "execution_count": 72,
     "metadata": {},
     "output_type": "execute_result"
    }
   ],
   "source": [
    "df['smiles'].unique().shape"
   ]
  },
  {
   "cell_type": "code",
   "execution_count": 33,
   "id": "453517fc-1ba6-4c36-ae56-f97c84c00660",
   "metadata": {},
   "outputs": [
    {
     "data": {
      "application/javascript": [
       "\n",
       "        if (window._pyforest_update_imports_cell) { window._pyforest_update_imports_cell('import pandas as pd'); }\n",
       "    "
      ],
      "text/plain": [
       "<IPython.core.display.Javascript object>"
      ]
     },
     "metadata": {},
     "output_type": "display_data"
    },
    {
     "data": {
      "application/javascript": [
       "\n",
       "        if (window._pyforest_update_imports_cell) { window._pyforest_update_imports_cell('import pandas as pd'); }\n",
       "    "
      ],
      "text/plain": [
       "<IPython.core.display.Javascript object>"
      ]
     },
     "metadata": {},
     "output_type": "display_data"
    },
    {
     "data": {
      "application/javascript": [
       "\n",
       "        if (window._pyforest_update_imports_cell) { window._pyforest_update_imports_cell('import pandas as pd'); }\n",
       "    "
      ],
      "text/plain": [
       "<IPython.core.display.Javascript object>"
      ]
     },
     "metadata": {},
     "output_type": "display_data"
    },
    {
     "data": {
      "application/javascript": [
       "\n",
       "        if (window._pyforest_update_imports_cell) { window._pyforest_update_imports_cell('import pandas as pd'); }\n",
       "    "
      ],
      "text/plain": [
       "<IPython.core.display.Javascript object>"
      ]
     },
     "metadata": {},
     "output_type": "display_data"
    },
    {
     "data": {
      "application/javascript": [
       "\n",
       "        if (window._pyforest_update_imports_cell) { window._pyforest_update_imports_cell('import pandas as pd'); }\n",
       "    "
      ],
      "text/plain": [
       "<IPython.core.display.Javascript object>"
      ]
     },
     "metadata": {},
     "output_type": "display_data"
    },
    {
     "data": {
      "application/javascript": [
       "\n",
       "        if (window._pyforest_update_imports_cell) { window._pyforest_update_imports_cell('import pandas as pd'); }\n",
       "    "
      ],
      "text/plain": [
       "<IPython.core.display.Javascript object>"
      ]
     },
     "metadata": {},
     "output_type": "display_data"
    }
   ],
   "source": [
    "og_datapath = '/Users/jayceepang/msse/capstone/atom2024/atom2024/notebooks/paper/datasets/original_datasets/'\n",
    "neks = ['NEK2_binding', 'NEK2_inhibition', 'NEK3_binding', 'NEK5_binding', 'NEK9_binding', 'NEK9_inhibition']\n",
    "all_smiles_lists = []\n",
    "for nek in [2, 3, 5, 9]: \n",
    "    nek_type_list = ['binding']\n",
    "    if nek in [2, 9]: \n",
    "        nek_type_list =['binding', 'inhibition']\n",
    "    for bi in nek_type_list: \n",
    "        nek_df = pd.read_csv(f'{og_datapath}NEK{nek}_1_uM_min_50_pct_{bi}.csv')\n",
    "        all_smiles_lists.append(nek_df['base_rdkit_smiles'].values)"
   ]
  },
  {
   "cell_type": "code",
   "execution_count": 38,
   "id": "7ee02404-980c-48e0-8a15-dce567a54c60",
   "metadata": {},
   "outputs": [],
   "source": [
    "all_smiles = []\n",
    "for sublist in all_smiles_lists:\n",
    "    all_smiles.extend(sublist)\n",
    "len(all_smiles)"
   ]
  },
  {
   "cell_type": "code",
   "execution_count": 55,
   "id": "1af7f04f-86d7-41e6-b6b3-13b796ba6aff",
   "metadata": {
    "scrolled": true
   },
   "outputs": [
    {
     "name": "stdout",
     "output_type": "stream",
     "text": [
      "new nanobret data size after filtering: (400, 10)\n"
     ]
    }
   ],
   "source": [
    "mol_in_og_data = df[df['smiles'].isin(all_smiles)]\n",
    "new_df = df[~df['smiles'].isin(all_smiles)]\n",
    "mol_in_og_data\n",
    "new_df\n",
    "print(f'new nanobret data size after filtering: {new_df.shape}')\n",
    "for nek in [ x for x in new_df.columns if x.startswith('NEK')]: \n",
    "    new_df[f'{nek}_active']=new_df[nek].apply(lambda x: 1 if x>6 else 0)"
   ]
  },
  {
   "cell_type": "code",
   "execution_count": 70,
   "id": "fbaedc26-d34f-458a-9f1c-ef29249a68c9",
   "metadata": {
    "scrolled": true
   },
   "outputs": [
    {
     "data": {
      "text/plain": [
       "NEK1_active\n",
       "0    370\n",
       "1     30\n",
       "Name: count, dtype: int64"
      ]
     },
     "metadata": {},
     "output_type": "display_data"
    },
    {
     "data": {
      "text/plain": [
       "NEK11_active\n",
       "0    398\n",
       "1      2\n",
       "Name: count, dtype: int64"
      ]
     },
     "metadata": {},
     "output_type": "display_data"
    },
    {
     "data": {
      "text/plain": [
       "NEK2_active\n",
       "0    369\n",
       "1     31\n",
       "Name: count, dtype: int64"
      ]
     },
     "metadata": {},
     "output_type": "display_data"
    },
    {
     "data": {
      "text/plain": [
       "NEK3_active\n",
       "0    372\n",
       "1     28\n",
       "Name: count, dtype: int64"
      ]
     },
     "metadata": {},
     "output_type": "display_data"
    },
    {
     "data": {
      "text/plain": [
       "NEK4_active\n",
       "0    400\n",
       "Name: count, dtype: int64"
      ]
     },
     "metadata": {},
     "output_type": "display_data"
    },
    {
     "data": {
      "text/plain": [
       "NEK5_active\n",
       "0    320\n",
       "1     80\n",
       "Name: count, dtype: int64"
      ]
     },
     "metadata": {},
     "output_type": "display_data"
    },
    {
     "data": {
      "text/plain": [
       "NEK6_active\n",
       "0    400\n",
       "Name: count, dtype: int64"
      ]
     },
     "metadata": {},
     "output_type": "display_data"
    },
    {
     "data": {
      "text/plain": [
       "NEK9_active\n",
       "0    366\n",
       "1     34\n",
       "Name: count, dtype: int64"
      ]
     },
     "metadata": {},
     "output_type": "display_data"
    }
   ],
   "source": [
    "for nek in [ x for x in new_df.columns if x.endswith('active')]: \n",
    "    nek_str = nek.split('_')[0]\n",
    "\n",
    "    cols = ['Compound', 'smiles', nek] \n",
    "    nek_df = new_df[cols]\n",
    "    # display(nek_df)\n",
    "    display(nek_df[nek].value_counts())\n",
    "    nek_df.to_csv(f'{datapath}{nek_str}_uM_min_50_pct.csv', index=False)"
   ]
  },
  {
   "cell_type": "markdown",
   "id": "0a67ed5f-7983-40fe-b07f-1c1425bae2b0",
   "metadata": {},
   "source": [
    "# Next steps\n",
    "1. figure out binding or inhibition data --> pIC50 of 6 is equivalent to 50% inhibition at 1uM\n",
    "2. how should we convert the labels to active/inactive? (our previous datasets were perecent binding/inhibition)\n",
    "4. run this new data on our production models "
   ]
  }
 ],
 "metadata": {
  "kernelspec": {
   "display_name": "Python (ATOM_CODE)",
   "language": "python",
   "name": "atom_code"
  },
  "language_info": {
   "codemirror_mode": {
    "name": "ipython",
    "version": 3
   },
   "file_extension": ".py",
   "mimetype": "text/x-python",
   "name": "python",
   "nbconvert_exporter": "python",
   "pygments_lexer": "ipython3",
   "version": "3.9.20"
  }
 },
 "nbformat": 4,
 "nbformat_minor": 5
}
