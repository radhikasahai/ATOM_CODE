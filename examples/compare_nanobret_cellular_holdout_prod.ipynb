{
 "cells": [
  {
   "cell_type": "code",
   "execution_count": 178,
   "id": "acba93de-48a9-40f9-84bc-89e67a944d1e",
   "metadata": {},
   "outputs": [],
   "source": [
    "import pyforest\n",
    "import sys\n",
    "sys.path.append('/Users/jayceepang/msse/ATOM_CODE/UTILS/')\n",
    "from matplotlib.lines import Line2D"
   ]
  },
  {
   "cell_type": "code",
   "execution_count": 189,
   "id": "0ed778be-824f-4eeb-ac4d-67b903cf1bdb",
   "metadata": {},
   "outputs": [],
   "source": [
    "og_neks = ['NEK2_binding','NEK2_inhibition','NEK3_binding','NEK5_binding','NEK9_binding','NEK9_inhibition']\n",
    "samplings =['none_scaled','UNDER','SMOTE','ADASYN'] \n",
    "new_neks=['NEK1', 'NEK11', 'NEK2', 'NEK3', 'NEK4', 'NEK5',\n",
    "       'NEK6', 'NEK9']\n",
    "\n",
    "og_datapath = '/Users/jayceepang/msse/capstone/atom2024/atom2024/notebooks/paper/datasets/80train_20test/featurized/'\n",
    "results_dir='/Users/jayceepang/msse/ATOM_CODE/examples/holdout/holdout_results/'\n",
    "gp_results_dir='/Users/jayceepang/msse/ATOM_CODE/examples/holdout/holdout_results/GP/'\n",
    "datapath = '/Users/jayceepang/msse/ATOM_CODE/datasets/holdout_data/featurized/'\n",
    "gp_path ='/Users/jayceepang/msse/capstone/atom2024/atom2024/notebooks/paper/results/GP_results/'\n",
    "\n",
    "feat_cols_dropped =['NEK','compound_id','base_rdkit_smiles', 'subset', 'active'] "
   ]
  },
  {
   "cell_type": "code",
   "execution_count": 193,
   "id": "475e413b-61db-49b6-a467-ec233f0afbb7",
   "metadata": {},
   "outputs": [
    {
     "data": {
      "application/javascript": [
       "\n",
       "        if (window._pyforest_update_imports_cell) { window._pyforest_update_imports_cell('import pandas as pd\\nimport matplotlib.pyplot as plt\\nimport seaborn as sns'); }\n",
       "    "
      ],
      "text/plain": [
       "<IPython.core.display.Javascript object>"
      ]
     },
     "metadata": {},
     "output_type": "display_data"
    },
    {
     "data": {
      "application/javascript": [
       "\n",
       "        if (window._pyforest_update_imports_cell) { window._pyforest_update_imports_cell('import pandas as pd\\nimport matplotlib.pyplot as plt\\nimport seaborn as sns'); }\n",
       "    "
      ],
      "text/plain": [
       "<IPython.core.display.Javascript object>"
      ]
     },
     "metadata": {},
     "output_type": "display_data"
    },
    {
     "name": "stdout",
     "output_type": "stream",
     "text": [
      "21 21\n",
      "True\n",
      "set()\n"
     ]
    }
   ],
   "source": [
    "rf_results=pd.read_csv(f'{results_dir}RF/RF_nanobret_cellular_holdout_results.csv')\n",
    "gp_results = pd.read_csv(f'{results_dir}GP/GP_nanobret_cellular_holdout_results.csv')\n",
    "gp_results['RF_type'] = 'GP_matern'\n",
    "rf_results_cols = set(rf_results.columns)\n",
    "gp_results_cols = set(gp_results.columns)\n",
    "\n",
    "print(len(rf_results_cols), len(gp_results_cols))\n",
    "print(rf_results_cols==gp_results_cols)\n",
    "print(rf_results_cols-gp_results_cols)\n"
   ]
  },
  {
   "cell_type": "code",
   "execution_count": 194,
   "id": "3ab318ec-5da4-4418-aea1-7831847cf0cd",
   "metadata": {},
   "outputs": [
    {
     "data": {
      "application/javascript": [
       "\n",
       "        if (window._pyforest_update_imports_cell) { window._pyforest_update_imports_cell('import pandas as pd\\nimport matplotlib.pyplot as plt\\nimport seaborn as sns'); }\n",
       "    "
      ],
      "text/plain": [
       "<IPython.core.display.Javascript object>"
      ]
     },
     "metadata": {},
     "output_type": "display_data"
    },
    {
     "data": {
      "text/plain": [
       "['NEK2_binding_MFP_none_scaled_BRFC',\n",
       " 'NEK2_inhibition_MFP_none_scaled_BRFC',\n",
       " 'NEK3_binding_MFP_none_scaled_BRFC',\n",
       " 'NEK5_binding_MFP_none_scaled_BRFC',\n",
       " 'NEK9_binding_MFP_none_scaled_BRFC',\n",
       " 'NEK9_inhibition_MFP_none_scaled_BRFC_BCW',\n",
       " 'NEK2_binding_UNDER_GP_matern',\n",
       " 'NEK2_inhibition_UNDER_GP_matern',\n",
       " 'NEK3_binding_UNDER_GP_matern',\n",
       " 'NEK5_binding_UNDER_GP_matern',\n",
       " 'NEK9_binding_UNDER_GP_matern',\n",
       " 'NEK9_inhibition_UNDER_GP_matern']"
      ]
     },
     "execution_count": 194,
     "metadata": {},
     "output_type": "execute_result"
    }
   ],
   "source": [
    "all_results= pd.concat([rf_results, gp_results])\n",
    "# all_results.to_csv('holdout/holdout_results/all_nanobret_cellular_holdout_results.csv',index=False)\n",
    "og_neks = ['NEK2_binding', 'NEK2_inhibition', 'NEK3_binding', 'NEK5_binding','NEK9_binding', 'NEK9_inhibition'] \n",
    "best_rfs = [f'{og_nek}_MFP_none_scaled_BRFC' for og_nek in og_neks]\n",
    "best_rfs.append('NEK9_inhibition_MFP_none_scaled_BRFC_BCW')\n",
    "best_gps = [f'{og_nek}_UNDER_GP_matern' for og_nek in og_neks]\n",
    "selected_prods = best_rfs+best_gps\n",
    "selected_prods.remove('NEK9_inhibition_MFP_none_scaled_BRFC')\n",
    "selected_prods"
   ]
  },
  {
   "cell_type": "code",
   "execution_count": 248,
   "id": "887fc91f-fbd0-4aba-9ce1-58b81b59ae5e",
   "metadata": {},
   "outputs": [
    {
     "name": "stdout",
     "output_type": "stream",
     "text": [
      "['RF' 'GP']\n"
     ]
    }
   ],
   "source": [
    "selected_results = all_results[all_results['prod_model'].isin(selected_prods)]\n",
    "# selected_results['prod_model'].value_counts()\n",
    "\n",
    "# testnek2brfc = selected_results[selected_results['prod_model']=='NEK2_binding_MFP_none_scaled_BRFC']\n",
    "# testnek2brfc\n",
    "# selected_results.to_csv('holdout/holdout_results/nanobret_cellular_holdout_only_prod_models.csv',index=False)\n",
    "print(selected_results['modeling_type'].unique())"
   ]
  },
  {
   "cell_type": "code",
   "execution_count": 337,
   "id": "5389d92c-1157-422d-a569-3a0846de4e14",
   "metadata": {},
   "outputs": [
    {
     "name": "stderr",
     "output_type": "stream",
     "text": [
      "/var/folders/wb/cvnnx9qn3tj18cq5_9wx39xm0000gn/T/ipykernel_16477/3533388305.py:1: SettingWithCopyWarning: \n",
      "A value is trying to be set on a copy of a slice from a DataFrame.\n",
      "Try using .loc[row_indexer,col_indexer] = value instead\n",
      "\n",
      "See the caveats in the documentation: https://pandas.pydata.org/pandas-docs/stable/user_guide/indexing.html#returning-a-view-versus-a-copy\n",
      "  selected_results['model'] = selected_results['model'].str.replace('none_scaled', 'Orig', regex=False)\n",
      "/var/folders/wb/cvnnx9qn3tj18cq5_9wx39xm0000gn/T/ipykernel_16477/3533388305.py:2: SettingWithCopyWarning: \n",
      "A value is trying to be set on a copy of a slice from a DataFrame.\n",
      "Try using .loc[row_indexer,col_indexer] = value instead\n",
      "\n",
      "See the caveats in the documentation: https://pandas.pydata.org/pandas-docs/stable/user_guide/indexing.html#returning-a-view-versus-a-copy\n",
      "  selected_results['prod_model']=selected_results['prod_model'].str.replace('none_scaled', 'Orig')\n",
      "/var/folders/wb/cvnnx9qn3tj18cq5_9wx39xm0000gn/T/ipykernel_16477/3533388305.py:3: SettingWithCopyWarning: \n",
      "A value is trying to be set on a copy of a slice from a DataFrame.\n",
      "Try using .loc[row_indexer,col_indexer] = value instead\n",
      "\n",
      "See the caveats in the documentation: https://pandas.pydata.org/pandas-docs/stable/user_guide/indexing.html#returning-a-view-versus-a-copy\n",
      "  selected_results['model strategy']=selected_results['model strategy'].str.replace('none_scaled', 'Orig')\n",
      "/var/folders/wb/cvnnx9qn3tj18cq5_9wx39xm0000gn/T/ipykernel_16477/3533388305.py:13: SettingWithCopyWarning: \n",
      "A value is trying to be set on a copy of a slice from a DataFrame.\n",
      "Try using .loc[row_indexer,col_indexer] = value instead\n",
      "\n",
      "See the caveats in the documentation: https://pandas.pydata.org/pandas-docs/stable/user_guide/indexing.html#returning-a-view-versus-a-copy\n",
      "  selected_results['prod_model'] = selected_results['prod_model'].replace({\n",
      "/var/folders/wb/cvnnx9qn3tj18cq5_9wx39xm0000gn/T/ipykernel_16477/3533388305.py:23: SettingWithCopyWarning: \n",
      "A value is trying to be set on a copy of a slice from a DataFrame.\n",
      "Try using .loc[row_indexer,col_indexer] = value instead\n",
      "\n",
      "See the caveats in the documentation: https://pandas.pydata.org/pandas-docs/stable/user_guide/indexing.html#returning-a-view-versus-a-copy\n",
      "  selected_results['model strategy_old'] = selected_results['model strategy']\n"
     ]
    },
    {
     "data": {
      "text/html": [
       "<div>\n",
       "<style scoped>\n",
       "    .dataframe tbody tr th:only-of-type {\n",
       "        vertical-align: middle;\n",
       "    }\n",
       "\n",
       "    .dataframe tbody tr th {\n",
       "        vertical-align: top;\n",
       "    }\n",
       "\n",
       "    .dataframe thead th {\n",
       "        text-align: right;\n",
       "    }\n",
       "</style>\n",
       "<table border=\"1\" class=\"dataframe\">\n",
       "  <thead>\n",
       "    <tr style=\"text-align: right;\">\n",
       "      <th></th>\n",
       "      <th>model</th>\n",
       "      <th>prod_model</th>\n",
       "      <th>data NEK</th>\n",
       "      <th>NEK</th>\n",
       "      <th>model NEK</th>\n",
       "      <th>strategy</th>\n",
       "      <th>feat_type</th>\n",
       "      <th>RF_type</th>\n",
       "      <th>cm</th>\n",
       "      <th>recall</th>\n",
       "      <th>...</th>\n",
       "      <th>precision</th>\n",
       "      <th>f1</th>\n",
       "      <th>ROC_AUC</th>\n",
       "      <th>MCC</th>\n",
       "      <th>balanced_accuracy</th>\n",
       "      <th>1-specificity</th>\n",
       "      <th>model strategy</th>\n",
       "      <th>modeling_type</th>\n",
       "      <th>set</th>\n",
       "      <th>model strategy_old</th>\n",
       "    </tr>\n",
       "  </thead>\n",
       "  <tbody>\n",
       "    <tr>\n",
       "      <th>2</th>\n",
       "      <td>NEK1_NEK2_binding_MFP_Orig_BRFC</td>\n",
       "      <td>NEK2_binding_Orig Bstrp Under RF</td>\n",
       "      <td>NEK1</td>\n",
       "      <td>NEK1</td>\n",
       "      <td>NEK2_binding</td>\n",
       "      <td>none_scaled</td>\n",
       "      <td>MFP</td>\n",
       "      <td>BRFC</td>\n",
       "      <td>[134, 236, 5, 25]</td>\n",
       "      <td>0.833333</td>\n",
       "      <td>...</td>\n",
       "      <td>0.095785</td>\n",
       "      <td>0.171821</td>\n",
       "      <td>0.597748</td>\n",
       "      <td>0.108136</td>\n",
       "      <td>0.597748</td>\n",
       "      <td>0.637838</td>\n",
       "      <td>Orig_BRFC</td>\n",
       "      <td>RF</td>\n",
       "      <td>nanobret_cellular_holdout</td>\n",
       "      <td>Orig_BRFC</td>\n",
       "    </tr>\n",
       "    <tr>\n",
       "      <th>18</th>\n",
       "      <td>NEK1_NEK2_inhibition_MFP_Orig_BRFC</td>\n",
       "      <td>NEK2_inhibition_Orig Bstrp Under RF</td>\n",
       "      <td>NEK1</td>\n",
       "      <td>NEK1</td>\n",
       "      <td>NEK2_inhibition</td>\n",
       "      <td>none_scaled</td>\n",
       "      <td>MFP</td>\n",
       "      <td>BRFC</td>\n",
       "      <td>[136, 234, 2, 28]</td>\n",
       "      <td>0.933333</td>\n",
       "      <td>...</td>\n",
       "      <td>0.106870</td>\n",
       "      <td>0.191781</td>\n",
       "      <td>0.650450</td>\n",
       "      <td>0.166723</td>\n",
       "      <td>0.650450</td>\n",
       "      <td>0.632432</td>\n",
       "      <td>Orig_BRFC</td>\n",
       "      <td>RF</td>\n",
       "      <td>nanobret_cellular_holdout</td>\n",
       "      <td>Orig_BRFC</td>\n",
       "    </tr>\n",
       "    <tr>\n",
       "      <th>34</th>\n",
       "      <td>NEK1_NEK3_binding_MFP_Orig_BRFC</td>\n",
       "      <td>NEK3_binding_Orig Bstrp Under RF</td>\n",
       "      <td>NEK1</td>\n",
       "      <td>NEK1</td>\n",
       "      <td>NEK3_binding</td>\n",
       "      <td>none_scaled</td>\n",
       "      <td>MFP</td>\n",
       "      <td>BRFC</td>\n",
       "      <td>[178, 192, 2, 28]</td>\n",
       "      <td>0.933333</td>\n",
       "      <td>...</td>\n",
       "      <td>0.127273</td>\n",
       "      <td>0.224000</td>\n",
       "      <td>0.707207</td>\n",
       "      <td>0.219406</td>\n",
       "      <td>0.707207</td>\n",
       "      <td>0.518919</td>\n",
       "      <td>Orig_BRFC</td>\n",
       "      <td>RF</td>\n",
       "      <td>nanobret_cellular_holdout</td>\n",
       "      <td>Orig_BRFC</td>\n",
       "    </tr>\n",
       "    <tr>\n",
       "      <th>50</th>\n",
       "      <td>NEK1_NEK5_binding_MFP_Orig_BRFC</td>\n",
       "      <td>NEK5_binding_Orig Bstrp Under RF</td>\n",
       "      <td>NEK1</td>\n",
       "      <td>NEK1</td>\n",
       "      <td>NEK5_binding</td>\n",
       "      <td>none_scaled</td>\n",
       "      <td>MFP</td>\n",
       "      <td>BRFC</td>\n",
       "      <td>[185, 185, 6, 24]</td>\n",
       "      <td>0.800000</td>\n",
       "      <td>...</td>\n",
       "      <td>0.114833</td>\n",
       "      <td>0.200837</td>\n",
       "      <td>0.650000</td>\n",
       "      <td>0.158195</td>\n",
       "      <td>0.650000</td>\n",
       "      <td>0.500000</td>\n",
       "      <td>Orig_BRFC</td>\n",
       "      <td>RF</td>\n",
       "      <td>nanobret_cellular_holdout</td>\n",
       "      <td>Orig_BRFC</td>\n",
       "    </tr>\n",
       "    <tr>\n",
       "      <th>66</th>\n",
       "      <td>NEK1_NEK9_binding_MFP_Orig_BRFC</td>\n",
       "      <td>NEK9_binding_Orig Bstrp Under RF</td>\n",
       "      <td>NEK1</td>\n",
       "      <td>NEK1</td>\n",
       "      <td>NEK9_binding</td>\n",
       "      <td>none_scaled</td>\n",
       "      <td>MFP</td>\n",
       "      <td>BRFC</td>\n",
       "      <td>[154, 216, 0, 30]</td>\n",
       "      <td>1.000000</td>\n",
       "      <td>...</td>\n",
       "      <td>0.121951</td>\n",
       "      <td>0.217391</td>\n",
       "      <td>0.708108</td>\n",
       "      <td>0.225296</td>\n",
       "      <td>0.708108</td>\n",
       "      <td>0.583784</td>\n",
       "      <td>Orig_BRFC</td>\n",
       "      <td>RF</td>\n",
       "      <td>nanobret_cellular_holdout</td>\n",
       "      <td>Orig_BRFC</td>\n",
       "    </tr>\n",
       "    <tr>\n",
       "      <th>...</th>\n",
       "      <td>...</td>\n",
       "      <td>...</td>\n",
       "      <td>...</td>\n",
       "      <td>...</td>\n",
       "      <td>...</td>\n",
       "      <td>...</td>\n",
       "      <td>...</td>\n",
       "      <td>...</td>\n",
       "      <td>...</td>\n",
       "      <td>...</td>\n",
       "      <td>...</td>\n",
       "      <td>...</td>\n",
       "      <td>...</td>\n",
       "      <td>...</td>\n",
       "      <td>...</td>\n",
       "      <td>...</td>\n",
       "      <td>...</td>\n",
       "      <td>...</td>\n",
       "      <td>...</td>\n",
       "      <td>...</td>\n",
       "      <td>...</td>\n",
       "    </tr>\n",
       "    <tr>\n",
       "      <th>173</th>\n",
       "      <td>NEK9_NEK2_inhibition_MFP_UNDER_GP_matern</td>\n",
       "      <td>NEK2_inhibition_UNDER_GP_matern</td>\n",
       "      <td>NEK9</td>\n",
       "      <td>NEK9</td>\n",
       "      <td>NEK2_inhibition</td>\n",
       "      <td>UNDER</td>\n",
       "      <td>MFP</td>\n",
       "      <td>GP_matern</td>\n",
       "      <td>[137, 229, 4, 30]</td>\n",
       "      <td>0.882353</td>\n",
       "      <td>...</td>\n",
       "      <td>0.115830</td>\n",
       "      <td>0.204778</td>\n",
       "      <td>0.628335</td>\n",
       "      <td>0.149829</td>\n",
       "      <td>0.628335</td>\n",
       "      <td>0.625683</td>\n",
       "      <td>UNDER_GP_matern</td>\n",
       "      <td>GP</td>\n",
       "      <td>nanobret_cellular_holdout</td>\n",
       "      <td>UNDER_GP_matern</td>\n",
       "    </tr>\n",
       "    <tr>\n",
       "      <th>177</th>\n",
       "      <td>NEK9_NEK3_binding_MFP_UNDER_GP_matern</td>\n",
       "      <td>NEK3_binding_UNDER_GP_matern</td>\n",
       "      <td>NEK9</td>\n",
       "      <td>NEK9</td>\n",
       "      <td>NEK3_binding</td>\n",
       "      <td>UNDER</td>\n",
       "      <td>MFP</td>\n",
       "      <td>GP_matern</td>\n",
       "      <td>[187, 179, 4, 30]</td>\n",
       "      <td>0.882353</td>\n",
       "      <td>...</td>\n",
       "      <td>0.143541</td>\n",
       "      <td>0.246914</td>\n",
       "      <td>0.696641</td>\n",
       "      <td>0.219581</td>\n",
       "      <td>0.696641</td>\n",
       "      <td>0.489071</td>\n",
       "      <td>UNDER_GP_matern</td>\n",
       "      <td>GP</td>\n",
       "      <td>nanobret_cellular_holdout</td>\n",
       "      <td>UNDER_GP_matern</td>\n",
       "    </tr>\n",
       "    <tr>\n",
       "      <th>181</th>\n",
       "      <td>NEK9_NEK5_binding_MFP_UNDER_GP_matern</td>\n",
       "      <td>NEK5_binding_UNDER_GP_matern</td>\n",
       "      <td>NEK9</td>\n",
       "      <td>NEK9</td>\n",
       "      <td>NEK5_binding</td>\n",
       "      <td>UNDER</td>\n",
       "      <td>MFP</td>\n",
       "      <td>GP_matern</td>\n",
       "      <td>[174, 192, 0, 34]</td>\n",
       "      <td>1.000000</td>\n",
       "      <td>...</td>\n",
       "      <td>0.150442</td>\n",
       "      <td>0.261538</td>\n",
       "      <td>0.737705</td>\n",
       "      <td>0.267436</td>\n",
       "      <td>0.737705</td>\n",
       "      <td>0.524590</td>\n",
       "      <td>UNDER_GP_matern</td>\n",
       "      <td>GP</td>\n",
       "      <td>nanobret_cellular_holdout</td>\n",
       "      <td>UNDER_GP_matern</td>\n",
       "    </tr>\n",
       "    <tr>\n",
       "      <th>185</th>\n",
       "      <td>NEK9_NEK9_binding_MFP_UNDER_GP_matern</td>\n",
       "      <td>NEK9_binding_UNDER_GP_matern</td>\n",
       "      <td>NEK9</td>\n",
       "      <td>NEK9</td>\n",
       "      <td>NEK9_binding</td>\n",
       "      <td>UNDER</td>\n",
       "      <td>MFP</td>\n",
       "      <td>GP_matern</td>\n",
       "      <td>[150, 216, 0, 34]</td>\n",
       "      <td>1.000000</td>\n",
       "      <td>...</td>\n",
       "      <td>0.136000</td>\n",
       "      <td>0.239437</td>\n",
       "      <td>0.704918</td>\n",
       "      <td>0.236088</td>\n",
       "      <td>0.704918</td>\n",
       "      <td>0.590164</td>\n",
       "      <td>UNDER_GP_matern</td>\n",
       "      <td>GP</td>\n",
       "      <td>nanobret_cellular_holdout</td>\n",
       "      <td>UNDER_GP_matern</td>\n",
       "    </tr>\n",
       "    <tr>\n",
       "      <th>189</th>\n",
       "      <td>NEK9_NEK9_inhibition_MFP_UNDER_GP_matern</td>\n",
       "      <td>NEK9_inhibition_UNDER_GP_matern</td>\n",
       "      <td>NEK9</td>\n",
       "      <td>NEK9</td>\n",
       "      <td>NEK9_inhibition</td>\n",
       "      <td>UNDER</td>\n",
       "      <td>MFP</td>\n",
       "      <td>GP_matern</td>\n",
       "      <td>[364, 2, 33, 1]</td>\n",
       "      <td>0.029412</td>\n",
       "      <td>...</td>\n",
       "      <td>0.333333</td>\n",
       "      <td>0.054054</td>\n",
       "      <td>0.511974</td>\n",
       "      <td>0.077407</td>\n",
       "      <td>0.511974</td>\n",
       "      <td>0.005464</td>\n",
       "      <td>UNDER_GP_matern</td>\n",
       "      <td>GP</td>\n",
       "      <td>nanobret_cellular_holdout</td>\n",
       "      <td>UNDER_GP_matern</td>\n",
       "    </tr>\n",
       "  </tbody>\n",
       "</table>\n",
       "<p>96 rows × 22 columns</p>\n",
       "</div>"
      ],
      "text/plain": [
       "                                        model  \\\n",
       "2             NEK1_NEK2_binding_MFP_Orig_BRFC   \n",
       "18         NEK1_NEK2_inhibition_MFP_Orig_BRFC   \n",
       "34            NEK1_NEK3_binding_MFP_Orig_BRFC   \n",
       "50            NEK1_NEK5_binding_MFP_Orig_BRFC   \n",
       "66            NEK1_NEK9_binding_MFP_Orig_BRFC   \n",
       "..                                        ...   \n",
       "173  NEK9_NEK2_inhibition_MFP_UNDER_GP_matern   \n",
       "177     NEK9_NEK3_binding_MFP_UNDER_GP_matern   \n",
       "181     NEK9_NEK5_binding_MFP_UNDER_GP_matern   \n",
       "185     NEK9_NEK9_binding_MFP_UNDER_GP_matern   \n",
       "189  NEK9_NEK9_inhibition_MFP_UNDER_GP_matern   \n",
       "\n",
       "                              prod_model data NEK   NEK        model NEK  \\\n",
       "2       NEK2_binding_Orig Bstrp Under RF     NEK1  NEK1     NEK2_binding   \n",
       "18   NEK2_inhibition_Orig Bstrp Under RF     NEK1  NEK1  NEK2_inhibition   \n",
       "34      NEK3_binding_Orig Bstrp Under RF     NEK1  NEK1     NEK3_binding   \n",
       "50      NEK5_binding_Orig Bstrp Under RF     NEK1  NEK1     NEK5_binding   \n",
       "66      NEK9_binding_Orig Bstrp Under RF     NEK1  NEK1     NEK9_binding   \n",
       "..                                   ...      ...   ...              ...   \n",
       "173      NEK2_inhibition_UNDER_GP_matern     NEK9  NEK9  NEK2_inhibition   \n",
       "177         NEK3_binding_UNDER_GP_matern     NEK9  NEK9     NEK3_binding   \n",
       "181         NEK5_binding_UNDER_GP_matern     NEK9  NEK9     NEK5_binding   \n",
       "185         NEK9_binding_UNDER_GP_matern     NEK9  NEK9     NEK9_binding   \n",
       "189      NEK9_inhibition_UNDER_GP_matern     NEK9  NEK9  NEK9_inhibition   \n",
       "\n",
       "        strategy feat_type    RF_type                 cm    recall  ...  \\\n",
       "2    none_scaled       MFP       BRFC  [134, 236, 5, 25]  0.833333  ...   \n",
       "18   none_scaled       MFP       BRFC  [136, 234, 2, 28]  0.933333  ...   \n",
       "34   none_scaled       MFP       BRFC  [178, 192, 2, 28]  0.933333  ...   \n",
       "50   none_scaled       MFP       BRFC  [185, 185, 6, 24]  0.800000  ...   \n",
       "66   none_scaled       MFP       BRFC  [154, 216, 0, 30]  1.000000  ...   \n",
       "..           ...       ...        ...                ...       ...  ...   \n",
       "173        UNDER       MFP  GP_matern  [137, 229, 4, 30]  0.882353  ...   \n",
       "177        UNDER       MFP  GP_matern  [187, 179, 4, 30]  0.882353  ...   \n",
       "181        UNDER       MFP  GP_matern  [174, 192, 0, 34]  1.000000  ...   \n",
       "185        UNDER       MFP  GP_matern  [150, 216, 0, 34]  1.000000  ...   \n",
       "189        UNDER       MFP  GP_matern    [364, 2, 33, 1]  0.029412  ...   \n",
       "\n",
       "     precision        f1   ROC_AUC       MCC  balanced_accuracy  \\\n",
       "2     0.095785  0.171821  0.597748  0.108136           0.597748   \n",
       "18    0.106870  0.191781  0.650450  0.166723           0.650450   \n",
       "34    0.127273  0.224000  0.707207  0.219406           0.707207   \n",
       "50    0.114833  0.200837  0.650000  0.158195           0.650000   \n",
       "66    0.121951  0.217391  0.708108  0.225296           0.708108   \n",
       "..         ...       ...       ...       ...                ...   \n",
       "173   0.115830  0.204778  0.628335  0.149829           0.628335   \n",
       "177   0.143541  0.246914  0.696641  0.219581           0.696641   \n",
       "181   0.150442  0.261538  0.737705  0.267436           0.737705   \n",
       "185   0.136000  0.239437  0.704918  0.236088           0.704918   \n",
       "189   0.333333  0.054054  0.511974  0.077407           0.511974   \n",
       "\n",
       "     1-specificity   model strategy  modeling_type                        set  \\\n",
       "2         0.637838        Orig_BRFC             RF  nanobret_cellular_holdout   \n",
       "18        0.632432        Orig_BRFC             RF  nanobret_cellular_holdout   \n",
       "34        0.518919        Orig_BRFC             RF  nanobret_cellular_holdout   \n",
       "50        0.500000        Orig_BRFC             RF  nanobret_cellular_holdout   \n",
       "66        0.583784        Orig_BRFC             RF  nanobret_cellular_holdout   \n",
       "..             ...              ...            ...                        ...   \n",
       "173       0.625683  UNDER_GP_matern             GP  nanobret_cellular_holdout   \n",
       "177       0.489071  UNDER_GP_matern             GP  nanobret_cellular_holdout   \n",
       "181       0.524590  UNDER_GP_matern             GP  nanobret_cellular_holdout   \n",
       "185       0.590164  UNDER_GP_matern             GP  nanobret_cellular_holdout   \n",
       "189       0.005464  UNDER_GP_matern             GP  nanobret_cellular_holdout   \n",
       "\n",
       "    model strategy_old  \n",
       "2            Orig_BRFC  \n",
       "18           Orig_BRFC  \n",
       "34           Orig_BRFC  \n",
       "50           Orig_BRFC  \n",
       "66           Orig_BRFC  \n",
       "..                 ...  \n",
       "173    UNDER_GP_matern  \n",
       "177    UNDER_GP_matern  \n",
       "181    UNDER_GP_matern  \n",
       "185    UNDER_GP_matern  \n",
       "189    UNDER_GP_matern  \n",
       "\n",
       "[96 rows x 22 columns]"
      ]
     },
     "execution_count": 337,
     "metadata": {},
     "output_type": "execute_result"
    }
   ],
   "source": [
    "\n",
    "selected_results['model'] = selected_results['model'].str.replace('none_scaled', 'Orig', regex=False)\n",
    "selected_results['prod_model']=selected_results['prod_model'].str.replace('none_scaled', 'Orig')\n",
    "selected_results['model strategy']=selected_results['model strategy'].str.replace('none_scaled', 'Orig')\n",
    "# selected_results['model strategy'] =selected_results['model strategy'].replace({'NEK9_inhibition_MFP_Orig_BRFC_BCW',\n",
    "#                                         'NEK9_inhibition_Orig Bstrp Under RF BalWeight',\n",
    "#                                         'NEK2_binding_MFP_Orig_BRFC', 'NEK2_binding_Orig Bstrp Under RF'\n",
    "#                                             'NEK3_binding_MFP_Orig_BRFC', 'NEK3_binding_Orig Bstrp Under RF',\n",
    "#                                         'NEK5_binding_MFP_Orig_BRFC', 'NEK5_binding_Orig Bstrp Under RF',\n",
    "#                                         'NEK9_binding_MFP_Orig_BRFC', 'NEK_binding_Orig Bstrp Under RF',\n",
    "#                                         'NEK2_inhibition_MFP_Orig_BRFC', 'NEK3_inhibition_Orig Bstrp Under RF'\n",
    "#                                             })\n",
    "\n",
    "selected_results['prod_model'] = selected_results['prod_model'].replace({\n",
    "    'NEK9_inhibition_MFP_Orig_BRFC_BCW': 'NEK9_inhibition_Orig Bstrp Under RF BalWeight',\n",
    "    # 'NEK9_inhibition_Orig Bstrp Under RF BalWeight': 'NEK9 inhibition Orig Bootstrap Under RF BalWeight',\n",
    "    'NEK2_binding_MFP_Orig_BRFC': 'NEK2_binding_Orig Bstrp Under RF',\n",
    "    'NEK3_binding_MFP_Orig_BRFC': 'NEK3_binding_Orig Bstrp Under RF',\n",
    "    # 'NEK3_binding_Orig Bstrp Under RF': 'NEK3_binding Orig Bootstrap Under RF',\n",
    "    'NEK3_binding_Orig Bootstrap Under RF':'NEK3_binding_Orig Bstrp Under RF' ,\n",
    "    'NEK5_binding_MFP_Orig_BRFC': 'NEK5_binding_Orig Bstrp Under RF',\n",
    "    'NEK_binding_Orig Bstrp Under RF': 'NEK9_binding_Orig Bstrp Under RF',\n",
    "    'NEK2_inhibition_MFP_Orig_BRFC': 'NEK2_inhibition_Orig Bstrp Under RF'})\n",
    "selected_results['model strategy_old'] = selected_results['model strategy']\n",
    "\n",
    "# selected_results['model strategy'] =selected_results['prod_model'].str.split('_').str[2:].str.join('_')\n",
    "selected_results"
   ]
  },
  {
   "cell_type": "code",
   "execution_count": 338,
   "id": "b17fda34-0659-40d0-b02a-212d01a646bd",
   "metadata": {},
   "outputs": [
    {
     "data": {
      "application/javascript": [
       "\n",
       "        if (window._pyforest_update_imports_cell) { window._pyforest_update_imports_cell('import pandas as pd\\nimport matplotlib.pyplot as plt\\nimport seaborn as sns'); }\n",
       "    "
      ],
      "text/plain": [
       "<IPython.core.display.Javascript object>"
      ]
     },
     "metadata": {},
     "output_type": "display_data"
    },
    {
     "data": {
      "text/html": [
       "<div>\n",
       "<style scoped>\n",
       "    .dataframe tbody tr th:only-of-type {\n",
       "        vertical-align: middle;\n",
       "    }\n",
       "\n",
       "    .dataframe tbody tr th {\n",
       "        vertical-align: top;\n",
       "    }\n",
       "\n",
       "    .dataframe thead th {\n",
       "        text-align: right;\n",
       "    }\n",
       "</style>\n",
       "<table border=\"1\" class=\"dataframe\">\n",
       "  <thead>\n",
       "    <tr style=\"text-align: right;\">\n",
       "      <th></th>\n",
       "      <th>prod_model</th>\n",
       "      <th>data NEK</th>\n",
       "      <th>strategy</th>\n",
       "      <th>feat_type</th>\n",
       "      <th>cm</th>\n",
       "      <th>recall</th>\n",
       "      <th>specificity</th>\n",
       "      <th>accuracy</th>\n",
       "      <th>precision</th>\n",
       "      <th>f1</th>\n",
       "      <th>ROC_AUC</th>\n",
       "      <th>MCC</th>\n",
       "      <th>balanced_accuracy</th>\n",
       "      <th>modeling_type</th>\n",
       "      <th>set</th>\n",
       "      <th>1-specificity</th>\n",
       "      <th>model strategy_old</th>\n",
       "      <th>model NEK</th>\n",
       "    </tr>\n",
       "  </thead>\n",
       "  <tbody>\n",
       "    <tr>\n",
       "      <th>1</th>\n",
       "      <td>NEK2_binding_Orig Bstrp Under RF</td>\n",
       "      <td>NEK2_binding</td>\n",
       "      <td>Orig Bstrp Under RF</td>\n",
       "      <td>MFP</td>\n",
       "      <td>[225, 46, 4, 8]</td>\n",
       "      <td>0.666667</td>\n",
       "      <td>0.830258</td>\n",
       "      <td>0.823322</td>\n",
       "      <td>0.148148</td>\n",
       "      <td>0.242424</td>\n",
       "      <td>0.748462</td>\n",
       "      <td>0.254831</td>\n",
       "      <td>0.748462</td>\n",
       "      <td>RF</td>\n",
       "      <td>prod</td>\n",
       "      <td>0.169742</td>\n",
       "      <td>BRFC</td>\n",
       "      <td>NEK2_binding</td>\n",
       "    </tr>\n",
       "    <tr>\n",
       "      <th>3</th>\n",
       "      <td>NEK2_inhibition_Orig Bstrp Under RF</td>\n",
       "      <td>NEK2_inhibition</td>\n",
       "      <td>Orig Bstrp Under RF</td>\n",
       "      <td>MFP</td>\n",
       "      <td>[344, 35, 6, 22]</td>\n",
       "      <td>0.785714</td>\n",
       "      <td>0.907652</td>\n",
       "      <td>0.899263</td>\n",
       "      <td>0.385965</td>\n",
       "      <td>0.517647</td>\n",
       "      <td>0.846683</td>\n",
       "      <td>0.505696</td>\n",
       "      <td>0.846683</td>\n",
       "      <td>RF</td>\n",
       "      <td>prod</td>\n",
       "      <td>0.092348</td>\n",
       "      <td>BRFC</td>\n",
       "      <td>NEK2_inhibition</td>\n",
       "    </tr>\n",
       "    <tr>\n",
       "      <th>5</th>\n",
       "      <td>NEK3_binding_Orig Bstrp Under RF</td>\n",
       "      <td>NEK3_binding</td>\n",
       "      <td>Orig Bstrp Under RF</td>\n",
       "      <td>MFP</td>\n",
       "      <td>[193, 72, 5, 12]</td>\n",
       "      <td>0.705882</td>\n",
       "      <td>0.728302</td>\n",
       "      <td>0.726950</td>\n",
       "      <td>0.142857</td>\n",
       "      <td>0.237624</td>\n",
       "      <td>0.717092</td>\n",
       "      <td>0.225969</td>\n",
       "      <td>0.717092</td>\n",
       "      <td>RF</td>\n",
       "      <td>prod</td>\n",
       "      <td>0.271698</td>\n",
       "      <td>BRFC</td>\n",
       "      <td>NEK3_binding</td>\n",
       "    </tr>\n",
       "    <tr>\n",
       "      <th>7</th>\n",
       "      <td>NEK5_binding_Orig Bstrp Under RF</td>\n",
       "      <td>NEK5_binding</td>\n",
       "      <td>Orig Bstrp Under RF</td>\n",
       "      <td>MFP</td>\n",
       "      <td>[194, 34, 10, 10]</td>\n",
       "      <td>0.500000</td>\n",
       "      <td>0.850877</td>\n",
       "      <td>0.822581</td>\n",
       "      <td>0.227273</td>\n",
       "      <td>0.312500</td>\n",
       "      <td>0.675439</td>\n",
       "      <td>0.250090</td>\n",
       "      <td>0.675439</td>\n",
       "      <td>RF</td>\n",
       "      <td>prod</td>\n",
       "      <td>0.149123</td>\n",
       "      <td>BRFC</td>\n",
       "      <td>NEK5_binding</td>\n",
       "    </tr>\n",
       "    <tr>\n",
       "      <th>9</th>\n",
       "      <td>NEK9_binding_Orig Bstrp Under RF</td>\n",
       "      <td>NEK9_binding</td>\n",
       "      <td>Orig Bstrp Under RF</td>\n",
       "      <td>MFP</td>\n",
       "      <td>[229, 41, 4, 9]</td>\n",
       "      <td>0.692308</td>\n",
       "      <td>0.848148</td>\n",
       "      <td>0.840989</td>\n",
       "      <td>0.180000</td>\n",
       "      <td>0.285714</td>\n",
       "      <td>0.770228</td>\n",
       "      <td>0.296654</td>\n",
       "      <td>0.770228</td>\n",
       "      <td>RF</td>\n",
       "      <td>prod</td>\n",
       "      <td>0.151852</td>\n",
       "      <td>BRFC</td>\n",
       "      <td>NEK9_binding</td>\n",
       "    </tr>\n",
       "    <tr>\n",
       "      <th>11</th>\n",
       "      <td>NEK9_inhibition_Orig Bstrp Under RF BalWeight</td>\n",
       "      <td>NEK9_inhibition</td>\n",
       "      <td>Orig Bstrp Under RF BalWeight</td>\n",
       "      <td>MFP</td>\n",
       "      <td>[63, 8, 1, 8]</td>\n",
       "      <td>0.888889</td>\n",
       "      <td>0.887324</td>\n",
       "      <td>0.887500</td>\n",
       "      <td>0.500000</td>\n",
       "      <td>0.640000</td>\n",
       "      <td>0.888106</td>\n",
       "      <td>0.613171</td>\n",
       "      <td>0.888106</td>\n",
       "      <td>RF</td>\n",
       "      <td>prod</td>\n",
       "      <td>0.112676</td>\n",
       "      <td>BRFC_BCW</td>\n",
       "      <td>NEK9_inhibition</td>\n",
       "    </tr>\n",
       "  </tbody>\n",
       "</table>\n",
       "</div>"
      ],
      "text/plain": [
       "                                       prod_model         data NEK  \\\n",
       "1                NEK2_binding_Orig Bstrp Under RF     NEK2_binding   \n",
       "3             NEK2_inhibition_Orig Bstrp Under RF  NEK2_inhibition   \n",
       "5                NEK3_binding_Orig Bstrp Under RF     NEK3_binding   \n",
       "7                NEK5_binding_Orig Bstrp Under RF     NEK5_binding   \n",
       "9                NEK9_binding_Orig Bstrp Under RF     NEK9_binding   \n",
       "11  NEK9_inhibition_Orig Bstrp Under RF BalWeight  NEK9_inhibition   \n",
       "\n",
       "                         strategy feat_type                 cm    recall  \\\n",
       "1             Orig Bstrp Under RF       MFP    [225, 46, 4, 8]  0.666667   \n",
       "3             Orig Bstrp Under RF       MFP   [344, 35, 6, 22]  0.785714   \n",
       "5             Orig Bstrp Under RF       MFP   [193, 72, 5, 12]  0.705882   \n",
       "7             Orig Bstrp Under RF       MFP  [194, 34, 10, 10]  0.500000   \n",
       "9             Orig Bstrp Under RF       MFP    [229, 41, 4, 9]  0.692308   \n",
       "11  Orig Bstrp Under RF BalWeight       MFP      [63, 8, 1, 8]  0.888889   \n",
       "\n",
       "    specificity  accuracy  precision        f1   ROC_AUC       MCC  \\\n",
       "1      0.830258  0.823322   0.148148  0.242424  0.748462  0.254831   \n",
       "3      0.907652  0.899263   0.385965  0.517647  0.846683  0.505696   \n",
       "5      0.728302  0.726950   0.142857  0.237624  0.717092  0.225969   \n",
       "7      0.850877  0.822581   0.227273  0.312500  0.675439  0.250090   \n",
       "9      0.848148  0.840989   0.180000  0.285714  0.770228  0.296654   \n",
       "11     0.887324  0.887500   0.500000  0.640000  0.888106  0.613171   \n",
       "\n",
       "    balanced_accuracy modeling_type   set  1-specificity model strategy_old  \\\n",
       "1            0.748462            RF  prod       0.169742               BRFC   \n",
       "3            0.846683            RF  prod       0.092348               BRFC   \n",
       "5            0.717092            RF  prod       0.271698               BRFC   \n",
       "7            0.675439            RF  prod       0.149123               BRFC   \n",
       "9            0.770228            RF  prod       0.151852               BRFC   \n",
       "11           0.888106            RF  prod       0.112676           BRFC_BCW   \n",
       "\n",
       "          model NEK  \n",
       "1      NEK2_binding  \n",
       "3   NEK2_inhibition  \n",
       "5      NEK3_binding  \n",
       "7      NEK5_binding  \n",
       "9      NEK9_binding  \n",
       "11  NEK9_inhibition  "
      ]
     },
     "execution_count": 338,
     "metadata": {},
     "output_type": "execute_result"
    }
   ],
   "source": [
    "# produ results\n",
    "orig_results = pd.read_csv('/Users/jayceepang/msse/capstone/atom2024/atom2024/notebooks/paper/prod_best_GP_best_RF.csv')\n",
    "orig_results['model'] = orig_results['model'].replace('MFP_UNDER_matern', 'UNDER_GP_matern')\n",
    "\n",
    "orig_results['model'] = orig_results['NEK'].astype(str)+'_'+orig_results['strategy'] \n",
    "orig_results=orig_results.rename(columns={'model': 'prod_model', 'NEK': 'data NEK'\n",
    "                                         ,'model version':'model strategy_old'})\n",
    "\n",
    "holdout_df_cols = ['model', 'data NEK', 'prod_model', 'model NEK', 'model version',\n",
    "       'model strategy', 'feat_type', 'cm', 'recall', 'specificity',\n",
    "       'accuracy', 'precision', 'f1', 'ROC_AUC', 'MCC', 'balanced_accuracy',\n",
    "       'set', 'modeling_type', 'model strategy_old', '1-specificity']\n",
    "\n",
    "orig_cols =['prod_model', 'data NEK', 'strategy', 'feat_type', 'cm', 'recall',\n",
    "       'specificity', 'accuracy', 'precision', 'f1', 'ROC_AUC', 'MCC',\n",
    "       'balanced_accuracy', 'modeling_type', 'set', '1-specificity',\n",
    "       'nek type', 'model version', 'RF_type', 'model name', 'active ratio',\n",
    "       'model', 'model NEK'] \n",
    "orig_results['model NEK'] = orig_results['data NEK'] \n",
    "extra_cols_to_drop = ['active ratio', 'RF_type', 'model name', 'nek type']\n",
    "orig_results = orig_results.drop(columns=extra_cols_to_drop)\n",
    "rf_prod_results = orig_results[(orig_results['strategy']=='Orig Bstrp Under RF')|\n",
    "                            (orig_results['strategy']=='Orig Bstrp Under RF BalWeight')]\n",
    "\n",
    "\n",
    "gp_prod_results = orig_results[orig_results['strategy']=='UNDER_GP_matern']\n",
    "rf_prod_results\n"
   ]
  },
  {
   "cell_type": "code",
   "execution_count": 339,
   "id": "0062bbae-337b-43a6-b5a1-b2d73cf0997b",
   "metadata": {},
   "outputs": [
    {
     "data": {
      "text/html": [
       "<div>\n",
       "<style scoped>\n",
       "    .dataframe tbody tr th:only-of-type {\n",
       "        vertical-align: middle;\n",
       "    }\n",
       "\n",
       "    .dataframe tbody tr th {\n",
       "        vertical-align: top;\n",
       "    }\n",
       "\n",
       "    .dataframe thead th {\n",
       "        text-align: right;\n",
       "    }\n",
       "</style>\n",
       "<table border=\"1\" class=\"dataframe\">\n",
       "  <thead>\n",
       "    <tr style=\"text-align: right;\">\n",
       "      <th></th>\n",
       "      <th>prod_model</th>\n",
       "      <th>data NEK</th>\n",
       "      <th>strategy</th>\n",
       "      <th>feat_type</th>\n",
       "      <th>cm</th>\n",
       "      <th>recall</th>\n",
       "      <th>specificity</th>\n",
       "      <th>accuracy</th>\n",
       "      <th>precision</th>\n",
       "      <th>f1</th>\n",
       "      <th>ROC_AUC</th>\n",
       "      <th>MCC</th>\n",
       "      <th>balanced_accuracy</th>\n",
       "      <th>modeling_type</th>\n",
       "      <th>set</th>\n",
       "      <th>1-specificity</th>\n",
       "      <th>model strategy_old</th>\n",
       "      <th>model NEK</th>\n",
       "    </tr>\n",
       "  </thead>\n",
       "  <tbody>\n",
       "    <tr>\n",
       "      <th>9</th>\n",
       "      <td>NEK9_binding_Orig Bstrp Under RF</td>\n",
       "      <td>NEK9_binding</td>\n",
       "      <td>Orig Bstrp Under RF</td>\n",
       "      <td>MFP</td>\n",
       "      <td>[229, 41, 4, 9]</td>\n",
       "      <td>0.692308</td>\n",
       "      <td>0.848148</td>\n",
       "      <td>0.840989</td>\n",
       "      <td>0.18</td>\n",
       "      <td>0.285714</td>\n",
       "      <td>0.770228</td>\n",
       "      <td>0.296654</td>\n",
       "      <td>0.770228</td>\n",
       "      <td>RF</td>\n",
       "      <td>prod</td>\n",
       "      <td>0.151852</td>\n",
       "      <td>BRFC</td>\n",
       "      <td>NEK9_binding</td>\n",
       "    </tr>\n",
       "  </tbody>\n",
       "</table>\n",
       "</div>"
      ],
      "text/plain": [
       "                         prod_model      data NEK             strategy  \\\n",
       "9  NEK9_binding_Orig Bstrp Under RF  NEK9_binding  Orig Bstrp Under RF   \n",
       "\n",
       "  feat_type               cm    recall  specificity  accuracy  precision  \\\n",
       "9       MFP  [229, 41, 4, 9]  0.692308     0.848148  0.840989       0.18   \n",
       "\n",
       "         f1   ROC_AUC       MCC  balanced_accuracy modeling_type   set  \\\n",
       "9  0.285714  0.770228  0.296654           0.770228            RF  prod   \n",
       "\n",
       "   1-specificity model strategy_old     model NEK  \n",
       "9       0.151852               BRFC  NEK9_binding  "
      ]
     },
     "execution_count": 339,
     "metadata": {},
     "output_type": "execute_result"
    }
   ],
   "source": [
    "nek9borig =rf_prod_results[rf_prod_results['model NEK'] == 'NEK9_binding']\n",
    "nek9borig"
   ]
  },
  {
   "cell_type": "code",
   "execution_count": 340,
   "id": "02351c67-3d37-4ef6-9993-caacc55791e6",
   "metadata": {},
   "outputs": [
    {
     "data": {
      "text/html": [
       "<div>\n",
       "<style scoped>\n",
       "    .dataframe tbody tr th:only-of-type {\n",
       "        vertical-align: middle;\n",
       "    }\n",
       "\n",
       "    .dataframe tbody tr th {\n",
       "        vertical-align: top;\n",
       "    }\n",
       "\n",
       "    .dataframe thead th {\n",
       "        text-align: right;\n",
       "    }\n",
       "</style>\n",
       "<table border=\"1\" class=\"dataframe\">\n",
       "  <thead>\n",
       "    <tr style=\"text-align: right;\">\n",
       "      <th></th>\n",
       "      <th>model</th>\n",
       "      <th>prod_model</th>\n",
       "      <th>data NEK</th>\n",
       "      <th>NEK</th>\n",
       "      <th>model NEK</th>\n",
       "      <th>strategy</th>\n",
       "      <th>feat_type</th>\n",
       "      <th>RF_type</th>\n",
       "      <th>cm</th>\n",
       "      <th>recall</th>\n",
       "      <th>...</th>\n",
       "      <th>precision</th>\n",
       "      <th>f1</th>\n",
       "      <th>ROC_AUC</th>\n",
       "      <th>MCC</th>\n",
       "      <th>balanced_accuracy</th>\n",
       "      <th>1-specificity</th>\n",
       "      <th>model strategy</th>\n",
       "      <th>modeling_type</th>\n",
       "      <th>set</th>\n",
       "      <th>model strategy_old</th>\n",
       "    </tr>\n",
       "  </thead>\n",
       "  <tbody>\n",
       "    <tr>\n",
       "      <th>66</th>\n",
       "      <td>NEK1_NEK9_binding_MFP_Orig_BRFC</td>\n",
       "      <td>NEK9_binding_Orig Bstrp Under RF</td>\n",
       "      <td>NEK1</td>\n",
       "      <td>NEK1</td>\n",
       "      <td>NEK9_binding</td>\n",
       "      <td>none_scaled</td>\n",
       "      <td>MFP</td>\n",
       "      <td>BRFC</td>\n",
       "      <td>[154, 216, 0, 30]</td>\n",
       "      <td>1.000000</td>\n",
       "      <td>...</td>\n",
       "      <td>0.121951</td>\n",
       "      <td>0.217391</td>\n",
       "      <td>0.708108</td>\n",
       "      <td>0.225296</td>\n",
       "      <td>0.708108</td>\n",
       "      <td>0.583784</td>\n",
       "      <td>Orig_BRFC</td>\n",
       "      <td>RF</td>\n",
       "      <td>nanobret_cellular_holdout</td>\n",
       "      <td>Orig_BRFC</td>\n",
       "    </tr>\n",
       "    <tr>\n",
       "      <th>162</th>\n",
       "      <td>NEK11_NEK9_binding_MFP_Orig_BRFC</td>\n",
       "      <td>NEK9_binding_Orig Bstrp Under RF</td>\n",
       "      <td>NEK11</td>\n",
       "      <td>NEK11</td>\n",
       "      <td>NEK9_binding</td>\n",
       "      <td>none_scaled</td>\n",
       "      <td>MFP</td>\n",
       "      <td>BRFC</td>\n",
       "      <td>[156, 242, 1, 1]</td>\n",
       "      <td>0.500000</td>\n",
       "      <td>...</td>\n",
       "      <td>0.004115</td>\n",
       "      <td>0.008163</td>\n",
       "      <td>0.445980</td>\n",
       "      <td>-0.015606</td>\n",
       "      <td>0.445980</td>\n",
       "      <td>0.608040</td>\n",
       "      <td>Orig_BRFC</td>\n",
       "      <td>RF</td>\n",
       "      <td>nanobret_cellular_holdout</td>\n",
       "      <td>Orig_BRFC</td>\n",
       "    </tr>\n",
       "    <tr>\n",
       "      <th>258</th>\n",
       "      <td>NEK2_NEK9_binding_MFP_Orig_BRFC</td>\n",
       "      <td>NEK9_binding_Orig Bstrp Under RF</td>\n",
       "      <td>NEK2</td>\n",
       "      <td>NEK2</td>\n",
       "      <td>NEK9_binding</td>\n",
       "      <td>none_scaled</td>\n",
       "      <td>MFP</td>\n",
       "      <td>BRFC</td>\n",
       "      <td>[146, 223, 2, 29]</td>\n",
       "      <td>0.935484</td>\n",
       "      <td>...</td>\n",
       "      <td>0.115079</td>\n",
       "      <td>0.204947</td>\n",
       "      <td>0.665574</td>\n",
       "      <td>0.183394</td>\n",
       "      <td>0.665574</td>\n",
       "      <td>0.604336</td>\n",
       "      <td>Orig_BRFC</td>\n",
       "      <td>RF</td>\n",
       "      <td>nanobret_cellular_holdout</td>\n",
       "      <td>Orig_BRFC</td>\n",
       "    </tr>\n",
       "    <tr>\n",
       "      <th>354</th>\n",
       "      <td>NEK3_NEK9_binding_MFP_Orig_BRFC</td>\n",
       "      <td>NEK9_binding_Orig Bstrp Under RF</td>\n",
       "      <td>NEK3</td>\n",
       "      <td>NEK3</td>\n",
       "      <td>NEK9_binding</td>\n",
       "      <td>none_scaled</td>\n",
       "      <td>MFP</td>\n",
       "      <td>BRFC</td>\n",
       "      <td>[154, 218, 0, 28]</td>\n",
       "      <td>1.000000</td>\n",
       "      <td>...</td>\n",
       "      <td>0.113821</td>\n",
       "      <td>0.204380</td>\n",
       "      <td>0.706989</td>\n",
       "      <td>0.217070</td>\n",
       "      <td>0.706989</td>\n",
       "      <td>0.586022</td>\n",
       "      <td>Orig_BRFC</td>\n",
       "      <td>RF</td>\n",
       "      <td>nanobret_cellular_holdout</td>\n",
       "      <td>Orig_BRFC</td>\n",
       "    </tr>\n",
       "    <tr>\n",
       "      <th>450</th>\n",
       "      <td>NEK4_NEK9_binding_MFP_Orig_BRFC</td>\n",
       "      <td>NEK9_binding_Orig Bstrp Under RF</td>\n",
       "      <td>NEK4</td>\n",
       "      <td>NEK4</td>\n",
       "      <td>NEK9_binding</td>\n",
       "      <td>none_scaled</td>\n",
       "      <td>MFP</td>\n",
       "      <td>BRFC</td>\n",
       "      <td>[152, 248, 0, 0]</td>\n",
       "      <td>0.000000</td>\n",
       "      <td>...</td>\n",
       "      <td>0.000000</td>\n",
       "      <td>0.000000</td>\n",
       "      <td>NaN</td>\n",
       "      <td>0.000000</td>\n",
       "      <td>0.380000</td>\n",
       "      <td>0.620000</td>\n",
       "      <td>Orig_BRFC</td>\n",
       "      <td>RF</td>\n",
       "      <td>nanobret_cellular_holdout</td>\n",
       "      <td>Orig_BRFC</td>\n",
       "    </tr>\n",
       "    <tr>\n",
       "      <th>546</th>\n",
       "      <td>NEK5_NEK9_binding_MFP_Orig_BRFC</td>\n",
       "      <td>NEK9_binding_Orig Bstrp Under RF</td>\n",
       "      <td>NEK5</td>\n",
       "      <td>NEK5</td>\n",
       "      <td>NEK9_binding</td>\n",
       "      <td>none_scaled</td>\n",
       "      <td>MFP</td>\n",
       "      <td>BRFC</td>\n",
       "      <td>[156, 164, 3, 77]</td>\n",
       "      <td>0.962500</td>\n",
       "      <td>...</td>\n",
       "      <td>0.319502</td>\n",
       "      <td>0.479751</td>\n",
       "      <td>0.725000</td>\n",
       "      <td>0.367812</td>\n",
       "      <td>0.725000</td>\n",
       "      <td>0.512500</td>\n",
       "      <td>Orig_BRFC</td>\n",
       "      <td>RF</td>\n",
       "      <td>nanobret_cellular_holdout</td>\n",
       "      <td>Orig_BRFC</td>\n",
       "    </tr>\n",
       "    <tr>\n",
       "      <th>642</th>\n",
       "      <td>NEK6_NEK9_binding_MFP_Orig_BRFC</td>\n",
       "      <td>NEK9_binding_Orig Bstrp Under RF</td>\n",
       "      <td>NEK6</td>\n",
       "      <td>NEK6</td>\n",
       "      <td>NEK9_binding</td>\n",
       "      <td>none_scaled</td>\n",
       "      <td>MFP</td>\n",
       "      <td>BRFC</td>\n",
       "      <td>[160, 240, 0, 0]</td>\n",
       "      <td>0.000000</td>\n",
       "      <td>...</td>\n",
       "      <td>0.000000</td>\n",
       "      <td>0.000000</td>\n",
       "      <td>NaN</td>\n",
       "      <td>0.000000</td>\n",
       "      <td>0.400000</td>\n",
       "      <td>0.600000</td>\n",
       "      <td>Orig_BRFC</td>\n",
       "      <td>RF</td>\n",
       "      <td>nanobret_cellular_holdout</td>\n",
       "      <td>Orig_BRFC</td>\n",
       "    </tr>\n",
       "    <tr>\n",
       "      <th>738</th>\n",
       "      <td>NEK9_NEK9_binding_MFP_Orig_BRFC</td>\n",
       "      <td>NEK9_binding_Orig Bstrp Under RF</td>\n",
       "      <td>NEK9</td>\n",
       "      <td>NEK9</td>\n",
       "      <td>NEK9_binding</td>\n",
       "      <td>none_scaled</td>\n",
       "      <td>MFP</td>\n",
       "      <td>BRFC</td>\n",
       "      <td>[153, 213, 0, 34]</td>\n",
       "      <td>1.000000</td>\n",
       "      <td>...</td>\n",
       "      <td>0.137652</td>\n",
       "      <td>0.241993</td>\n",
       "      <td>0.709016</td>\n",
       "      <td>0.239881</td>\n",
       "      <td>0.709016</td>\n",
       "      <td>0.581967</td>\n",
       "      <td>Orig_BRFC</td>\n",
       "      <td>RF</td>\n",
       "      <td>nanobret_cellular_holdout</td>\n",
       "      <td>Orig_BRFC</td>\n",
       "    </tr>\n",
       "    <tr>\n",
       "      <th>17</th>\n",
       "      <td>NEK1_NEK9_binding_MFP_UNDER_GP_matern</td>\n",
       "      <td>NEK9_binding_UNDER_GP_matern</td>\n",
       "      <td>NEK1</td>\n",
       "      <td>NEK1</td>\n",
       "      <td>NEK9_binding</td>\n",
       "      <td>UNDER</td>\n",
       "      <td>MFP</td>\n",
       "      <td>GP_matern</td>\n",
       "      <td>[150, 220, 0, 30]</td>\n",
       "      <td>1.000000</td>\n",
       "      <td>...</td>\n",
       "      <td>0.120000</td>\n",
       "      <td>0.214286</td>\n",
       "      <td>0.702703</td>\n",
       "      <td>0.220564</td>\n",
       "      <td>0.702703</td>\n",
       "      <td>0.594595</td>\n",
       "      <td>UNDER_GP_matern</td>\n",
       "      <td>GP</td>\n",
       "      <td>nanobret_cellular_holdout</td>\n",
       "      <td>UNDER_GP_matern</td>\n",
       "    </tr>\n",
       "    <tr>\n",
       "      <th>41</th>\n",
       "      <td>NEK11_NEK9_binding_MFP_UNDER_GP_matern</td>\n",
       "      <td>NEK9_binding_UNDER_GP_matern</td>\n",
       "      <td>NEK11</td>\n",
       "      <td>NEK11</td>\n",
       "      <td>NEK9_binding</td>\n",
       "      <td>UNDER</td>\n",
       "      <td>MFP</td>\n",
       "      <td>GP_matern</td>\n",
       "      <td>[149, 249, 1, 1]</td>\n",
       "      <td>0.500000</td>\n",
       "      <td>...</td>\n",
       "      <td>0.004000</td>\n",
       "      <td>0.007937</td>\n",
       "      <td>0.437186</td>\n",
       "      <td>-0.018303</td>\n",
       "      <td>0.437186</td>\n",
       "      <td>0.625628</td>\n",
       "      <td>UNDER_GP_matern</td>\n",
       "      <td>GP</td>\n",
       "      <td>nanobret_cellular_holdout</td>\n",
       "      <td>UNDER_GP_matern</td>\n",
       "    </tr>\n",
       "    <tr>\n",
       "      <th>65</th>\n",
       "      <td>NEK2_NEK9_binding_MFP_UNDER_GP_matern</td>\n",
       "      <td>NEK9_binding_UNDER_GP_matern</td>\n",
       "      <td>NEK2</td>\n",
       "      <td>NEK2</td>\n",
       "      <td>NEK9_binding</td>\n",
       "      <td>UNDER</td>\n",
       "      <td>MFP</td>\n",
       "      <td>GP_matern</td>\n",
       "      <td>[148, 221, 2, 29]</td>\n",
       "      <td>0.935484</td>\n",
       "      <td>...</td>\n",
       "      <td>0.116000</td>\n",
       "      <td>0.206406</td>\n",
       "      <td>0.668284</td>\n",
       "      <td>0.185888</td>\n",
       "      <td>0.668284</td>\n",
       "      <td>0.598916</td>\n",
       "      <td>UNDER_GP_matern</td>\n",
       "      <td>GP</td>\n",
       "      <td>nanobret_cellular_holdout</td>\n",
       "      <td>UNDER_GP_matern</td>\n",
       "    </tr>\n",
       "    <tr>\n",
       "      <th>89</th>\n",
       "      <td>NEK3_NEK9_binding_MFP_UNDER_GP_matern</td>\n",
       "      <td>NEK9_binding_UNDER_GP_matern</td>\n",
       "      <td>NEK3</td>\n",
       "      <td>NEK3</td>\n",
       "      <td>NEK9_binding</td>\n",
       "      <td>UNDER</td>\n",
       "      <td>MFP</td>\n",
       "      <td>GP_matern</td>\n",
       "      <td>[150, 222, 0, 28]</td>\n",
       "      <td>1.000000</td>\n",
       "      <td>...</td>\n",
       "      <td>0.112000</td>\n",
       "      <td>0.201439</td>\n",
       "      <td>0.701613</td>\n",
       "      <td>0.212512</td>\n",
       "      <td>0.701613</td>\n",
       "      <td>0.596774</td>\n",
       "      <td>UNDER_GP_matern</td>\n",
       "      <td>GP</td>\n",
       "      <td>nanobret_cellular_holdout</td>\n",
       "      <td>UNDER_GP_matern</td>\n",
       "    </tr>\n",
       "    <tr>\n",
       "      <th>113</th>\n",
       "      <td>NEK4_NEK9_binding_MFP_UNDER_GP_matern</td>\n",
       "      <td>NEK9_binding_UNDER_GP_matern</td>\n",
       "      <td>NEK4</td>\n",
       "      <td>NEK4</td>\n",
       "      <td>NEK9_binding</td>\n",
       "      <td>UNDER</td>\n",
       "      <td>MFP</td>\n",
       "      <td>GP_matern</td>\n",
       "      <td>[150, 250, 0, 0]</td>\n",
       "      <td>0.000000</td>\n",
       "      <td>...</td>\n",
       "      <td>0.000000</td>\n",
       "      <td>0.000000</td>\n",
       "      <td>NaN</td>\n",
       "      <td>0.000000</td>\n",
       "      <td>0.375000</td>\n",
       "      <td>0.625000</td>\n",
       "      <td>UNDER_GP_matern</td>\n",
       "      <td>GP</td>\n",
       "      <td>nanobret_cellular_holdout</td>\n",
       "      <td>UNDER_GP_matern</td>\n",
       "    </tr>\n",
       "    <tr>\n",
       "      <th>137</th>\n",
       "      <td>NEK5_NEK9_binding_MFP_UNDER_GP_matern</td>\n",
       "      <td>NEK9_binding_UNDER_GP_matern</td>\n",
       "      <td>NEK5</td>\n",
       "      <td>NEK5</td>\n",
       "      <td>NEK9_binding</td>\n",
       "      <td>UNDER</td>\n",
       "      <td>MFP</td>\n",
       "      <td>GP_matern</td>\n",
       "      <td>[147, 173, 3, 77]</td>\n",
       "      <td>0.962500</td>\n",
       "      <td>...</td>\n",
       "      <td>0.308000</td>\n",
       "      <td>0.466667</td>\n",
       "      <td>0.710938</td>\n",
       "      <td>0.348569</td>\n",
       "      <td>0.710938</td>\n",
       "      <td>0.540625</td>\n",
       "      <td>UNDER_GP_matern</td>\n",
       "      <td>GP</td>\n",
       "      <td>nanobret_cellular_holdout</td>\n",
       "      <td>UNDER_GP_matern</td>\n",
       "    </tr>\n",
       "    <tr>\n",
       "      <th>161</th>\n",
       "      <td>NEK6_NEK9_binding_MFP_UNDER_GP_matern</td>\n",
       "      <td>NEK9_binding_UNDER_GP_matern</td>\n",
       "      <td>NEK6</td>\n",
       "      <td>NEK6</td>\n",
       "      <td>NEK9_binding</td>\n",
       "      <td>UNDER</td>\n",
       "      <td>MFP</td>\n",
       "      <td>GP_matern</td>\n",
       "      <td>[150, 250, 0, 0]</td>\n",
       "      <td>0.000000</td>\n",
       "      <td>...</td>\n",
       "      <td>0.000000</td>\n",
       "      <td>0.000000</td>\n",
       "      <td>NaN</td>\n",
       "      <td>0.000000</td>\n",
       "      <td>0.375000</td>\n",
       "      <td>0.625000</td>\n",
       "      <td>UNDER_GP_matern</td>\n",
       "      <td>GP</td>\n",
       "      <td>nanobret_cellular_holdout</td>\n",
       "      <td>UNDER_GP_matern</td>\n",
       "    </tr>\n",
       "    <tr>\n",
       "      <th>185</th>\n",
       "      <td>NEK9_NEK9_binding_MFP_UNDER_GP_matern</td>\n",
       "      <td>NEK9_binding_UNDER_GP_matern</td>\n",
       "      <td>NEK9</td>\n",
       "      <td>NEK9</td>\n",
       "      <td>NEK9_binding</td>\n",
       "      <td>UNDER</td>\n",
       "      <td>MFP</td>\n",
       "      <td>GP_matern</td>\n",
       "      <td>[150, 216, 0, 34]</td>\n",
       "      <td>1.000000</td>\n",
       "      <td>...</td>\n",
       "      <td>0.136000</td>\n",
       "      <td>0.239437</td>\n",
       "      <td>0.704918</td>\n",
       "      <td>0.236088</td>\n",
       "      <td>0.704918</td>\n",
       "      <td>0.590164</td>\n",
       "      <td>UNDER_GP_matern</td>\n",
       "      <td>GP</td>\n",
       "      <td>nanobret_cellular_holdout</td>\n",
       "      <td>UNDER_GP_matern</td>\n",
       "    </tr>\n",
       "  </tbody>\n",
       "</table>\n",
       "<p>16 rows × 22 columns</p>\n",
       "</div>"
      ],
      "text/plain": [
       "                                      model                        prod_model  \\\n",
       "66          NEK1_NEK9_binding_MFP_Orig_BRFC  NEK9_binding_Orig Bstrp Under RF   \n",
       "162        NEK11_NEK9_binding_MFP_Orig_BRFC  NEK9_binding_Orig Bstrp Under RF   \n",
       "258         NEK2_NEK9_binding_MFP_Orig_BRFC  NEK9_binding_Orig Bstrp Under RF   \n",
       "354         NEK3_NEK9_binding_MFP_Orig_BRFC  NEK9_binding_Orig Bstrp Under RF   \n",
       "450         NEK4_NEK9_binding_MFP_Orig_BRFC  NEK9_binding_Orig Bstrp Under RF   \n",
       "546         NEK5_NEK9_binding_MFP_Orig_BRFC  NEK9_binding_Orig Bstrp Under RF   \n",
       "642         NEK6_NEK9_binding_MFP_Orig_BRFC  NEK9_binding_Orig Bstrp Under RF   \n",
       "738         NEK9_NEK9_binding_MFP_Orig_BRFC  NEK9_binding_Orig Bstrp Under RF   \n",
       "17    NEK1_NEK9_binding_MFP_UNDER_GP_matern      NEK9_binding_UNDER_GP_matern   \n",
       "41   NEK11_NEK9_binding_MFP_UNDER_GP_matern      NEK9_binding_UNDER_GP_matern   \n",
       "65    NEK2_NEK9_binding_MFP_UNDER_GP_matern      NEK9_binding_UNDER_GP_matern   \n",
       "89    NEK3_NEK9_binding_MFP_UNDER_GP_matern      NEK9_binding_UNDER_GP_matern   \n",
       "113   NEK4_NEK9_binding_MFP_UNDER_GP_matern      NEK9_binding_UNDER_GP_matern   \n",
       "137   NEK5_NEK9_binding_MFP_UNDER_GP_matern      NEK9_binding_UNDER_GP_matern   \n",
       "161   NEK6_NEK9_binding_MFP_UNDER_GP_matern      NEK9_binding_UNDER_GP_matern   \n",
       "185   NEK9_NEK9_binding_MFP_UNDER_GP_matern      NEK9_binding_UNDER_GP_matern   \n",
       "\n",
       "    data NEK    NEK     model NEK     strategy feat_type    RF_type  \\\n",
       "66      NEK1   NEK1  NEK9_binding  none_scaled       MFP       BRFC   \n",
       "162    NEK11  NEK11  NEK9_binding  none_scaled       MFP       BRFC   \n",
       "258     NEK2   NEK2  NEK9_binding  none_scaled       MFP       BRFC   \n",
       "354     NEK3   NEK3  NEK9_binding  none_scaled       MFP       BRFC   \n",
       "450     NEK4   NEK4  NEK9_binding  none_scaled       MFP       BRFC   \n",
       "546     NEK5   NEK5  NEK9_binding  none_scaled       MFP       BRFC   \n",
       "642     NEK6   NEK6  NEK9_binding  none_scaled       MFP       BRFC   \n",
       "738     NEK9   NEK9  NEK9_binding  none_scaled       MFP       BRFC   \n",
       "17      NEK1   NEK1  NEK9_binding        UNDER       MFP  GP_matern   \n",
       "41     NEK11  NEK11  NEK9_binding        UNDER       MFP  GP_matern   \n",
       "65      NEK2   NEK2  NEK9_binding        UNDER       MFP  GP_matern   \n",
       "89      NEK3   NEK3  NEK9_binding        UNDER       MFP  GP_matern   \n",
       "113     NEK4   NEK4  NEK9_binding        UNDER       MFP  GP_matern   \n",
       "137     NEK5   NEK5  NEK9_binding        UNDER       MFP  GP_matern   \n",
       "161     NEK6   NEK6  NEK9_binding        UNDER       MFP  GP_matern   \n",
       "185     NEK9   NEK9  NEK9_binding        UNDER       MFP  GP_matern   \n",
       "\n",
       "                    cm    recall  ...  precision        f1   ROC_AUC  \\\n",
       "66   [154, 216, 0, 30]  1.000000  ...   0.121951  0.217391  0.708108   \n",
       "162   [156, 242, 1, 1]  0.500000  ...   0.004115  0.008163  0.445980   \n",
       "258  [146, 223, 2, 29]  0.935484  ...   0.115079  0.204947  0.665574   \n",
       "354  [154, 218, 0, 28]  1.000000  ...   0.113821  0.204380  0.706989   \n",
       "450   [152, 248, 0, 0]  0.000000  ...   0.000000  0.000000       NaN   \n",
       "546  [156, 164, 3, 77]  0.962500  ...   0.319502  0.479751  0.725000   \n",
       "642   [160, 240, 0, 0]  0.000000  ...   0.000000  0.000000       NaN   \n",
       "738  [153, 213, 0, 34]  1.000000  ...   0.137652  0.241993  0.709016   \n",
       "17   [150, 220, 0, 30]  1.000000  ...   0.120000  0.214286  0.702703   \n",
       "41    [149, 249, 1, 1]  0.500000  ...   0.004000  0.007937  0.437186   \n",
       "65   [148, 221, 2, 29]  0.935484  ...   0.116000  0.206406  0.668284   \n",
       "89   [150, 222, 0, 28]  1.000000  ...   0.112000  0.201439  0.701613   \n",
       "113   [150, 250, 0, 0]  0.000000  ...   0.000000  0.000000       NaN   \n",
       "137  [147, 173, 3, 77]  0.962500  ...   0.308000  0.466667  0.710938   \n",
       "161   [150, 250, 0, 0]  0.000000  ...   0.000000  0.000000       NaN   \n",
       "185  [150, 216, 0, 34]  1.000000  ...   0.136000  0.239437  0.704918   \n",
       "\n",
       "          MCC  balanced_accuracy  1-specificity   model strategy  \\\n",
       "66   0.225296           0.708108       0.583784        Orig_BRFC   \n",
       "162 -0.015606           0.445980       0.608040        Orig_BRFC   \n",
       "258  0.183394           0.665574       0.604336        Orig_BRFC   \n",
       "354  0.217070           0.706989       0.586022        Orig_BRFC   \n",
       "450  0.000000           0.380000       0.620000        Orig_BRFC   \n",
       "546  0.367812           0.725000       0.512500        Orig_BRFC   \n",
       "642  0.000000           0.400000       0.600000        Orig_BRFC   \n",
       "738  0.239881           0.709016       0.581967        Orig_BRFC   \n",
       "17   0.220564           0.702703       0.594595  UNDER_GP_matern   \n",
       "41  -0.018303           0.437186       0.625628  UNDER_GP_matern   \n",
       "65   0.185888           0.668284       0.598916  UNDER_GP_matern   \n",
       "89   0.212512           0.701613       0.596774  UNDER_GP_matern   \n",
       "113  0.000000           0.375000       0.625000  UNDER_GP_matern   \n",
       "137  0.348569           0.710938       0.540625  UNDER_GP_matern   \n",
       "161  0.000000           0.375000       0.625000  UNDER_GP_matern   \n",
       "185  0.236088           0.704918       0.590164  UNDER_GP_matern   \n",
       "\n",
       "     modeling_type                        set model strategy_old  \n",
       "66              RF  nanobret_cellular_holdout          Orig_BRFC  \n",
       "162             RF  nanobret_cellular_holdout          Orig_BRFC  \n",
       "258             RF  nanobret_cellular_holdout          Orig_BRFC  \n",
       "354             RF  nanobret_cellular_holdout          Orig_BRFC  \n",
       "450             RF  nanobret_cellular_holdout          Orig_BRFC  \n",
       "546             RF  nanobret_cellular_holdout          Orig_BRFC  \n",
       "642             RF  nanobret_cellular_holdout          Orig_BRFC  \n",
       "738             RF  nanobret_cellular_holdout          Orig_BRFC  \n",
       "17              GP  nanobret_cellular_holdout    UNDER_GP_matern  \n",
       "41              GP  nanobret_cellular_holdout    UNDER_GP_matern  \n",
       "65              GP  nanobret_cellular_holdout    UNDER_GP_matern  \n",
       "89              GP  nanobret_cellular_holdout    UNDER_GP_matern  \n",
       "113             GP  nanobret_cellular_holdout    UNDER_GP_matern  \n",
       "137             GP  nanobret_cellular_holdout    UNDER_GP_matern  \n",
       "161             GP  nanobret_cellular_holdout    UNDER_GP_matern  \n",
       "185             GP  nanobret_cellular_holdout    UNDER_GP_matern  \n",
       "\n",
       "[16 rows x 22 columns]"
      ]
     },
     "execution_count": 340,
     "metadata": {},
     "output_type": "execute_result"
    }
   ],
   "source": [
    "nek9b = selected_results[selected_results['model NEK'] == 'NEK9_binding']\n",
    "# nek9b2 = nek9b[nek9b['prod_model']=='NEK9_binding_Orig Bstrp Under RF']\n",
    "# nek9b2\n",
    "nek9b"
   ]
  },
  {
   "cell_type": "code",
   "execution_count": null,
   "id": "919632f4-2f28-4d03-ac4a-0886bf505a25",
   "metadata": {},
   "outputs": [
    {
     "name": "stdout",
     "output_type": "stream",
     "text": [
      "NEK2_binding\n"
     ]
    },
    {
     "data": {
      "application/javascript": [
       "\n",
       "        if (window._pyforest_update_imports_cell) { window._pyforest_update_imports_cell('import pandas as pd\\nimport matplotlib.pyplot as plt\\nimport seaborn as sns'); }\n",
       "    "
      ],
      "text/plain": [
       "<IPython.core.display.Javascript object>"
      ]
     },
     "metadata": {},
     "output_type": "display_data"
    },
    {
     "data": {
      "application/javascript": [
       "\n",
       "        if (window._pyforest_update_imports_cell) { window._pyforest_update_imports_cell('import pandas as pd\\nimport matplotlib.pyplot as plt\\nimport seaborn as sns'); }\n",
       "    "
      ],
      "text/plain": [
       "<IPython.core.display.Javascript object>"
      ]
     },
     "metadata": {},
     "output_type": "display_data"
    },
    {
     "data": {
      "application/javascript": [
       "\n",
       "        if (window._pyforest_update_imports_cell) { window._pyforest_update_imports_cell('import pandas as pd\\nimport matplotlib.pyplot as plt\\nimport seaborn as sns'); }\n",
       "    "
      ],
      "text/plain": [
       "<IPython.core.display.Javascript object>"
      ]
     },
     "metadata": {},
     "output_type": "display_data"
    },
    {
     "data": {
      "application/javascript": [
       "\n",
       "        if (window._pyforest_update_imports_cell) { window._pyforest_update_imports_cell('import pandas as pd\\nimport matplotlib.pyplot as plt\\nimport seaborn as sns'); }\n",
       "    "
      ],
      "text/plain": [
       "<IPython.core.display.Javascript object>"
      ]
     },
     "metadata": {},
     "output_type": "display_data"
    },
    {
     "data": {
      "application/javascript": [
       "\n",
       "        if (window._pyforest_update_imports_cell) { window._pyforest_update_imports_cell('import pandas as pd\\nimport matplotlib.pyplot as plt\\nimport seaborn as sns'); }\n",
       "    "
      ],
      "text/plain": [
       "<IPython.core.display.Javascript object>"
      ]
     },
     "metadata": {},
     "output_type": "display_data"
    },
    {
     "data": {
      "application/javascript": [
       "\n",
       "        if (window._pyforest_update_imports_cell) { window._pyforest_update_imports_cell('import pandas as pd\\nimport matplotlib.pyplot as plt\\nimport seaborn as sns'); }\n",
       "    "
      ],
      "text/plain": [
       "<IPython.core.display.Javascript object>"
      ]
     },
     "metadata": {},
     "output_type": "display_data"
    },
    {
     "name": "stdout",
     "output_type": "stream",
     "text": [
      "NEK2_inhibition\n"
     ]
    },
    {
     "data": {
      "application/javascript": [
       "\n",
       "        if (window._pyforest_update_imports_cell) { window._pyforest_update_imports_cell('import pandas as pd\\nimport matplotlib.pyplot as plt\\nimport seaborn as sns'); }\n",
       "    "
      ],
      "text/plain": [
       "<IPython.core.display.Javascript object>"
      ]
     },
     "metadata": {},
     "output_type": "display_data"
    },
    {
     "data": {
      "application/javascript": [
       "\n",
       "        if (window._pyforest_update_imports_cell) { window._pyforest_update_imports_cell('import pandas as pd\\nimport matplotlib.pyplot as plt\\nimport seaborn as sns'); }\n",
       "    "
      ],
      "text/plain": [
       "<IPython.core.display.Javascript object>"
      ]
     },
     "metadata": {},
     "output_type": "display_data"
    },
    {
     "name": "stderr",
     "output_type": "stream",
     "text": [
      "/var/folders/wb/cvnnx9qn3tj18cq5_9wx39xm0000gn/T/ipykernel_16477/1894820957.py:8: SettingWithCopyWarning: \n",
      "A value is trying to be set on a copy of a slice from a DataFrame\n",
      "\n",
      "See the caveats in the documentation: https://pandas.pydata.org/pandas-docs/stable/user_guide/indexing.html#returning-a-view-versus-a-copy\n",
      "  prod_result.at[0,'data NEK'] = f'{nek} {strategy} (production model)'\n"
     ]
    },
    {
     "data": {
      "application/javascript": [
       "\n",
       "        if (window._pyforest_update_imports_cell) { window._pyforest_update_imports_cell('import pandas as pd\\nimport matplotlib.pyplot as plt\\nimport seaborn as sns'); }\n",
       "    "
      ],
      "text/plain": [
       "<IPython.core.display.Javascript object>"
      ]
     },
     "metadata": {},
     "output_type": "display_data"
    },
    {
     "data": {
      "application/javascript": [
       "\n",
       "        if (window._pyforest_update_imports_cell) { window._pyforest_update_imports_cell('import pandas as pd\\nimport matplotlib.pyplot as plt\\nimport seaborn as sns'); }\n",
       "    "
      ],
      "text/plain": [
       "<IPython.core.display.Javascript object>"
      ]
     },
     "metadata": {},
     "output_type": "display_data"
    },
    {
     "data": {
      "application/javascript": [
       "\n",
       "        if (window._pyforest_update_imports_cell) { window._pyforest_update_imports_cell('import pandas as pd\\nimport matplotlib.pyplot as plt\\nimport seaborn as sns'); }\n",
       "    "
      ],
      "text/plain": [
       "<IPython.core.display.Javascript object>"
      ]
     },
     "metadata": {},
     "output_type": "display_data"
    },
    {
     "data": {
      "application/javascript": [
       "\n",
       "        if (window._pyforest_update_imports_cell) { window._pyforest_update_imports_cell('import pandas as pd\\nimport matplotlib.pyplot as plt\\nimport seaborn as sns'); }\n",
       "    "
      ],
      "text/plain": [
       "<IPython.core.display.Javascript object>"
      ]
     },
     "metadata": {},
     "output_type": "display_data"
    },
    {
     "name": "stdout",
     "output_type": "stream",
     "text": [
      "NEK3_binding\n"
     ]
    },
    {
     "data": {
      "application/javascript": [
       "\n",
       "        if (window._pyforest_update_imports_cell) { window._pyforest_update_imports_cell('import pandas as pd\\nimport matplotlib.pyplot as plt\\nimport seaborn as sns'); }\n",
       "    "
      ],
      "text/plain": [
       "<IPython.core.display.Javascript object>"
      ]
     },
     "metadata": {},
     "output_type": "display_data"
    },
    {
     "data": {
      "application/javascript": [
       "\n",
       "        if (window._pyforest_update_imports_cell) { window._pyforest_update_imports_cell('import pandas as pd\\nimport matplotlib.pyplot as plt\\nimport seaborn as sns'); }\n",
       "    "
      ],
      "text/plain": [
       "<IPython.core.display.Javascript object>"
      ]
     },
     "metadata": {},
     "output_type": "display_data"
    },
    {
     "name": "stderr",
     "output_type": "stream",
     "text": [
      "/var/folders/wb/cvnnx9qn3tj18cq5_9wx39xm0000gn/T/ipykernel_16477/1894820957.py:8: SettingWithCopyWarning: \n",
      "A value is trying to be set on a copy of a slice from a DataFrame\n",
      "\n",
      "See the caveats in the documentation: https://pandas.pydata.org/pandas-docs/stable/user_guide/indexing.html#returning-a-view-versus-a-copy\n",
      "  prod_result.at[0,'data NEK'] = f'{nek} {strategy} (production model)'\n"
     ]
    },
    {
     "data": {
      "application/javascript": [
       "\n",
       "        if (window._pyforest_update_imports_cell) { window._pyforest_update_imports_cell('import pandas as pd\\nimport matplotlib.pyplot as plt\\nimport seaborn as sns'); }\n",
       "    "
      ],
      "text/plain": [
       "<IPython.core.display.Javascript object>"
      ]
     },
     "metadata": {},
     "output_type": "display_data"
    },
    {
     "data": {
      "application/javascript": [
       "\n",
       "        if (window._pyforest_update_imports_cell) { window._pyforest_update_imports_cell('import pandas as pd\\nimport matplotlib.pyplot as plt\\nimport seaborn as sns'); }\n",
       "    "
      ],
      "text/plain": [
       "<IPython.core.display.Javascript object>"
      ]
     },
     "metadata": {},
     "output_type": "display_data"
    },
    {
     "data": {
      "application/javascript": [
       "\n",
       "        if (window._pyforest_update_imports_cell) { window._pyforest_update_imports_cell('import pandas as pd\\nimport matplotlib.pyplot as plt\\nimport seaborn as sns'); }\n",
       "    "
      ],
      "text/plain": [
       "<IPython.core.display.Javascript object>"
      ]
     },
     "metadata": {},
     "output_type": "display_data"
    },
    {
     "data": {
      "application/javascript": [
       "\n",
       "        if (window._pyforest_update_imports_cell) { window._pyforest_update_imports_cell('import pandas as pd\\nimport matplotlib.pyplot as plt\\nimport seaborn as sns'); }\n",
       "    "
      ],
      "text/plain": [
       "<IPython.core.display.Javascript object>"
      ]
     },
     "metadata": {},
     "output_type": "display_data"
    },
    {
     "name": "stdout",
     "output_type": "stream",
     "text": [
      "NEK5_binding\n"
     ]
    },
    {
     "data": {
      "application/javascript": [
       "\n",
       "        if (window._pyforest_update_imports_cell) { window._pyforest_update_imports_cell('import pandas as pd\\nimport matplotlib.pyplot as plt\\nimport seaborn as sns'); }\n",
       "    "
      ],
      "text/plain": [
       "<IPython.core.display.Javascript object>"
      ]
     },
     "metadata": {},
     "output_type": "display_data"
    },
    {
     "data": {
      "application/javascript": [
       "\n",
       "        if (window._pyforest_update_imports_cell) { window._pyforest_update_imports_cell('import pandas as pd\\nimport matplotlib.pyplot as plt\\nimport seaborn as sns'); }\n",
       "    "
      ],
      "text/plain": [
       "<IPython.core.display.Javascript object>"
      ]
     },
     "metadata": {},
     "output_type": "display_data"
    },
    {
     "name": "stderr",
     "output_type": "stream",
     "text": [
      "/var/folders/wb/cvnnx9qn3tj18cq5_9wx39xm0000gn/T/ipykernel_16477/1894820957.py:8: SettingWithCopyWarning: \n",
      "A value is trying to be set on a copy of a slice from a DataFrame\n",
      "\n",
      "See the caveats in the documentation: https://pandas.pydata.org/pandas-docs/stable/user_guide/indexing.html#returning-a-view-versus-a-copy\n",
      "  prod_result.at[0,'data NEK'] = f'{nek} {strategy} (production model)'\n"
     ]
    },
    {
     "data": {
      "application/javascript": [
       "\n",
       "        if (window._pyforest_update_imports_cell) { window._pyforest_update_imports_cell('import pandas as pd\\nimport matplotlib.pyplot as plt\\nimport seaborn as sns'); }\n",
       "    "
      ],
      "text/plain": [
       "<IPython.core.display.Javascript object>"
      ]
     },
     "metadata": {},
     "output_type": "display_data"
    },
    {
     "data": {
      "application/javascript": [
       "\n",
       "        if (window._pyforest_update_imports_cell) { window._pyforest_update_imports_cell('import pandas as pd\\nimport matplotlib.pyplot as plt\\nimport seaborn as sns'); }\n",
       "    "
      ],
      "text/plain": [
       "<IPython.core.display.Javascript object>"
      ]
     },
     "metadata": {},
     "output_type": "display_data"
    },
    {
     "data": {
      "application/javascript": [
       "\n",
       "        if (window._pyforest_update_imports_cell) { window._pyforest_update_imports_cell('import pandas as pd\\nimport matplotlib.pyplot as plt\\nimport seaborn as sns'); }\n",
       "    "
      ],
      "text/plain": [
       "<IPython.core.display.Javascript object>"
      ]
     },
     "metadata": {},
     "output_type": "display_data"
    },
    {
     "data": {
      "application/javascript": [
       "\n",
       "        if (window._pyforest_update_imports_cell) { window._pyforest_update_imports_cell('import pandas as pd\\nimport matplotlib.pyplot as plt\\nimport seaborn as sns'); }\n",
       "    "
      ],
      "text/plain": [
       "<IPython.core.display.Javascript object>"
      ]
     },
     "metadata": {},
     "output_type": "display_data"
    }
   ],
   "source": [
    "\n",
    "for nek in gp_prod_results['model NEK'].unique():\n",
    "    print(nek)\n",
    "    fig, axs = plt.subplots(figsize=(10,6))\n",
    "    plt.suptitle(f'{nek} GP Results Comparison',fontsize=22, x=0.52, y=0.99)\n",
    "    \n",
    "    strategy = gp_prod_results['strategy'].values[0]\n",
    "    prod_result= gp_prod_results[gp_prod_results['model NEK']==nek] \n",
    "    prod_result.at[0,'data NEK'] = f'{nek} {strategy} (production model)'\n",
    "    \n",
    "    new_results = selected_results[(selected_results['model strategy']==strategy) \n",
    "                & (selected_results['model NEK']==nek)]\n",
    "    plotting_df = pd.concat([new_results, prod_result], ignore_index=True)\n",
    "\n",
    "    \n",
    "\n",
    "    sns.scatterplot(data=plotting_df, x='1-specificity', y='recall', hue='data NEK'\n",
    "                   ,edgecolor='gray',alpha=0.75,s=300 )\n",
    "    plt.plot([-0,1], [0, 1], linestyle='--', color='gray')\n",
    "    plt.savefig(f'comparison_figs/{nek}_{strategy}.png',bbox_inches='tight')"
   ]
  },
  {
   "cell_type": "code",
   "execution_count": 334,
   "id": "fc019051-fb41-4d43-83bc-75367d583cab",
   "metadata": {},
   "outputs": [
    {
     "data": {
      "text/plain": [
       "prod_model\n",
       "NEK2_binding_Orig Bstrp Under RF                 8\n",
       "NEK2_inhibition_Orig Bstrp Under RF              8\n",
       "NEK3_binding_Orig Bootstrap Under RF             8\n",
       "NEK5_binding_Orig Bstrp Under RF                 8\n",
       "NEK9_binding_Orig Bstrp Under RF                 8\n",
       "NEK9_inhibition_Orig Bstrp Under RF BalWeight    8\n",
       "NEK2_binding_UNDER_GP_matern                     8\n",
       "NEK2_inhibition_UNDER_GP_matern                  8\n",
       "NEK3_binding_UNDER_GP_matern                     8\n",
       "NEK5_binding_UNDER_GP_matern                     8\n",
       "NEK9_binding_UNDER_GP_matern                     8\n",
       "NEK9_inhibition_UNDER_GP_matern                  8\n",
       "Name: count, dtype: int64"
      ]
     },
     "execution_count": 334,
     "metadata": {},
     "output_type": "execute_result"
    }
   ],
   "source": [
    "selected_results['prod_model'].value_counts() # 6 rf, 6 gp, 8 for each = 96 results"
   ]
  },
  {
   "cell_type": "code",
   "execution_count": 335,
   "id": "8dfdbeb9-6de1-4baa-b4fe-8c97b0556626",
   "metadata": {},
   "outputs": [
    {
     "data": {
      "text/html": [
       "<div>\n",
       "<style scoped>\n",
       "    .dataframe tbody tr th:only-of-type {\n",
       "        vertical-align: middle;\n",
       "    }\n",
       "\n",
       "    .dataframe tbody tr th {\n",
       "        vertical-align: top;\n",
       "    }\n",
       "\n",
       "    .dataframe thead th {\n",
       "        text-align: right;\n",
       "    }\n",
       "</style>\n",
       "<table border=\"1\" class=\"dataframe\">\n",
       "  <thead>\n",
       "    <tr style=\"text-align: right;\">\n",
       "      <th></th>\n",
       "      <th>model</th>\n",
       "      <th>prod_model</th>\n",
       "      <th>data NEK</th>\n",
       "      <th>NEK</th>\n",
       "      <th>model NEK</th>\n",
       "      <th>strategy</th>\n",
       "      <th>feat_type</th>\n",
       "      <th>RF_type</th>\n",
       "      <th>cm</th>\n",
       "      <th>recall</th>\n",
       "      <th>...</th>\n",
       "      <th>precision</th>\n",
       "      <th>f1</th>\n",
       "      <th>ROC_AUC</th>\n",
       "      <th>MCC</th>\n",
       "      <th>balanced_accuracy</th>\n",
       "      <th>1-specificity</th>\n",
       "      <th>model strategy</th>\n",
       "      <th>modeling_type</th>\n",
       "      <th>set</th>\n",
       "      <th>model strategy_old</th>\n",
       "    </tr>\n",
       "  </thead>\n",
       "  <tbody>\n",
       "    <tr>\n",
       "      <th>34</th>\n",
       "      <td>NEK1_NEK3_binding_MFP_Orig_BRFC</td>\n",
       "      <td>NEK3_binding_Orig Bootstrap Under RF</td>\n",
       "      <td>NEK1</td>\n",
       "      <td>NEK1</td>\n",
       "      <td>NEK3_binding</td>\n",
       "      <td>none_scaled</td>\n",
       "      <td>MFP</td>\n",
       "      <td>BRFC</td>\n",
       "      <td>[178, 192, 2, 28]</td>\n",
       "      <td>0.933333</td>\n",
       "      <td>...</td>\n",
       "      <td>0.127273</td>\n",
       "      <td>0.224000</td>\n",
       "      <td>0.707207</td>\n",
       "      <td>0.219406</td>\n",
       "      <td>0.707207</td>\n",
       "      <td>0.518919</td>\n",
       "      <td>Orig_BRFC</td>\n",
       "      <td>RF</td>\n",
       "      <td>nanobret_cellular_holdout</td>\n",
       "      <td>Orig_BRFC</td>\n",
       "    </tr>\n",
       "    <tr>\n",
       "      <th>130</th>\n",
       "      <td>NEK11_NEK3_binding_MFP_Orig_BRFC</td>\n",
       "      <td>NEK3_binding_Orig Bootstrap Under RF</td>\n",
       "      <td>NEK11</td>\n",
       "      <td>NEK11</td>\n",
       "      <td>NEK3_binding</td>\n",
       "      <td>none_scaled</td>\n",
       "      <td>MFP</td>\n",
       "      <td>BRFC</td>\n",
       "      <td>[168, 230, 1, 1]</td>\n",
       "      <td>0.500000</td>\n",
       "      <td>...</td>\n",
       "      <td>0.004329</td>\n",
       "      <td>0.008584</td>\n",
       "      <td>0.461055</td>\n",
       "      <td>-0.011122</td>\n",
       "      <td>0.461055</td>\n",
       "      <td>0.577889</td>\n",
       "      <td>Orig_BRFC</td>\n",
       "      <td>RF</td>\n",
       "      <td>nanobret_cellular_holdout</td>\n",
       "      <td>Orig_BRFC</td>\n",
       "    </tr>\n",
       "    <tr>\n",
       "      <th>226</th>\n",
       "      <td>NEK2_NEK3_binding_MFP_Orig_BRFC</td>\n",
       "      <td>NEK3_binding_Orig Bootstrap Under RF</td>\n",
       "      <td>NEK2</td>\n",
       "      <td>NEK2</td>\n",
       "      <td>NEK3_binding</td>\n",
       "      <td>none_scaled</td>\n",
       "      <td>MFP</td>\n",
       "      <td>BRFC</td>\n",
       "      <td>[174, 195, 3, 28]</td>\n",
       "      <td>0.903226</td>\n",
       "      <td>...</td>\n",
       "      <td>0.125561</td>\n",
       "      <td>0.220472</td>\n",
       "      <td>0.687385</td>\n",
       "      <td>0.201753</td>\n",
       "      <td>0.687385</td>\n",
       "      <td>0.528455</td>\n",
       "      <td>Orig_BRFC</td>\n",
       "      <td>RF</td>\n",
       "      <td>nanobret_cellular_holdout</td>\n",
       "      <td>Orig_BRFC</td>\n",
       "    </tr>\n",
       "    <tr>\n",
       "      <th>322</th>\n",
       "      <td>NEK3_NEK3_binding_MFP_Orig_BRFC</td>\n",
       "      <td>NEK3_binding_Orig Bootstrap Under RF</td>\n",
       "      <td>NEK3</td>\n",
       "      <td>NEK3</td>\n",
       "      <td>NEK3_binding</td>\n",
       "      <td>none_scaled</td>\n",
       "      <td>MFP</td>\n",
       "      <td>BRFC</td>\n",
       "      <td>[178, 194, 0, 28]</td>\n",
       "      <td>1.000000</td>\n",
       "      <td>...</td>\n",
       "      <td>0.126126</td>\n",
       "      <td>0.224000</td>\n",
       "      <td>0.739247</td>\n",
       "      <td>0.245664</td>\n",
       "      <td>0.739247</td>\n",
       "      <td>0.521505</td>\n",
       "      <td>Orig_BRFC</td>\n",
       "      <td>RF</td>\n",
       "      <td>nanobret_cellular_holdout</td>\n",
       "      <td>Orig_BRFC</td>\n",
       "    </tr>\n",
       "    <tr>\n",
       "      <th>418</th>\n",
       "      <td>NEK4_NEK3_binding_MFP_Orig_BRFC</td>\n",
       "      <td>NEK3_binding_Orig Bootstrap Under RF</td>\n",
       "      <td>NEK4</td>\n",
       "      <td>NEK4</td>\n",
       "      <td>NEK3_binding</td>\n",
       "      <td>none_scaled</td>\n",
       "      <td>MFP</td>\n",
       "      <td>BRFC</td>\n",
       "      <td>[173, 227, 0, 0]</td>\n",
       "      <td>0.000000</td>\n",
       "      <td>...</td>\n",
       "      <td>0.000000</td>\n",
       "      <td>0.000000</td>\n",
       "      <td>NaN</td>\n",
       "      <td>0.000000</td>\n",
       "      <td>0.432500</td>\n",
       "      <td>0.567500</td>\n",
       "      <td>Orig_BRFC</td>\n",
       "      <td>RF</td>\n",
       "      <td>nanobret_cellular_holdout</td>\n",
       "      <td>Orig_BRFC</td>\n",
       "    </tr>\n",
       "    <tr>\n",
       "      <th>514</th>\n",
       "      <td>NEK5_NEK3_binding_MFP_Orig_BRFC</td>\n",
       "      <td>NEK3_binding_Orig Bootstrap Under RF</td>\n",
       "      <td>NEK5</td>\n",
       "      <td>NEK5</td>\n",
       "      <td>NEK3_binding</td>\n",
       "      <td>none_scaled</td>\n",
       "      <td>MFP</td>\n",
       "      <td>BRFC</td>\n",
       "      <td>[184, 136, 7, 73]</td>\n",
       "      <td>0.912500</td>\n",
       "      <td>...</td>\n",
       "      <td>0.349282</td>\n",
       "      <td>0.505190</td>\n",
       "      <td>0.743750</td>\n",
       "      <td>0.390395</td>\n",
       "      <td>0.743750</td>\n",
       "      <td>0.425000</td>\n",
       "      <td>Orig_BRFC</td>\n",
       "      <td>RF</td>\n",
       "      <td>nanobret_cellular_holdout</td>\n",
       "      <td>Orig_BRFC</td>\n",
       "    </tr>\n",
       "    <tr>\n",
       "      <th>610</th>\n",
       "      <td>NEK6_NEK3_binding_MFP_Orig_BRFC</td>\n",
       "      <td>NEK3_binding_Orig Bootstrap Under RF</td>\n",
       "      <td>NEK6</td>\n",
       "      <td>NEK6</td>\n",
       "      <td>NEK3_binding</td>\n",
       "      <td>none_scaled</td>\n",
       "      <td>MFP</td>\n",
       "      <td>BRFC</td>\n",
       "      <td>[178, 222, 0, 0]</td>\n",
       "      <td>0.000000</td>\n",
       "      <td>...</td>\n",
       "      <td>0.000000</td>\n",
       "      <td>0.000000</td>\n",
       "      <td>NaN</td>\n",
       "      <td>0.000000</td>\n",
       "      <td>0.445000</td>\n",
       "      <td>0.555000</td>\n",
       "      <td>Orig_BRFC</td>\n",
       "      <td>RF</td>\n",
       "      <td>nanobret_cellular_holdout</td>\n",
       "      <td>Orig_BRFC</td>\n",
       "    </tr>\n",
       "    <tr>\n",
       "      <th>706</th>\n",
       "      <td>NEK9_NEK3_binding_MFP_Orig_BRFC</td>\n",
       "      <td>NEK3_binding_Orig Bootstrap Under RF</td>\n",
       "      <td>NEK9</td>\n",
       "      <td>NEK9</td>\n",
       "      <td>NEK3_binding</td>\n",
       "      <td>none_scaled</td>\n",
       "      <td>MFP</td>\n",
       "      <td>BRFC</td>\n",
       "      <td>[167, 199, 1, 33]</td>\n",
       "      <td>0.970588</td>\n",
       "      <td>...</td>\n",
       "      <td>0.142241</td>\n",
       "      <td>0.248120</td>\n",
       "      <td>0.713436</td>\n",
       "      <td>0.241201</td>\n",
       "      <td>0.713436</td>\n",
       "      <td>0.543716</td>\n",
       "      <td>Orig_BRFC</td>\n",
       "      <td>RF</td>\n",
       "      <td>nanobret_cellular_holdout</td>\n",
       "      <td>Orig_BRFC</td>\n",
       "    </tr>\n",
       "    <tr>\n",
       "      <th>9</th>\n",
       "      <td>NEK1_NEK3_binding_MFP_UNDER_GP_matern</td>\n",
       "      <td>NEK3_binding_UNDER_GP_matern</td>\n",
       "      <td>NEK1</td>\n",
       "      <td>NEK1</td>\n",
       "      <td>NEK3_binding</td>\n",
       "      <td>UNDER</td>\n",
       "      <td>MFP</td>\n",
       "      <td>GP_matern</td>\n",
       "      <td>[188, 182, 3, 27]</td>\n",
       "      <td>0.900000</td>\n",
       "      <td>...</td>\n",
       "      <td>0.129187</td>\n",
       "      <td>0.225941</td>\n",
       "      <td>0.704054</td>\n",
       "      <td>0.215202</td>\n",
       "      <td>0.704054</td>\n",
       "      <td>0.491892</td>\n",
       "      <td>UNDER_GP_matern</td>\n",
       "      <td>GP</td>\n",
       "      <td>nanobret_cellular_holdout</td>\n",
       "      <td>UNDER_GP_matern</td>\n",
       "    </tr>\n",
       "    <tr>\n",
       "      <th>33</th>\n",
       "      <td>NEK11_NEK3_binding_MFP_UNDER_GP_matern</td>\n",
       "      <td>NEK3_binding_UNDER_GP_matern</td>\n",
       "      <td>NEK11</td>\n",
       "      <td>NEK11</td>\n",
       "      <td>NEK3_binding</td>\n",
       "      <td>UNDER</td>\n",
       "      <td>MFP</td>\n",
       "      <td>GP_matern</td>\n",
       "      <td>[189, 209, 2, 0]</td>\n",
       "      <td>0.000000</td>\n",
       "      <td>...</td>\n",
       "      <td>0.000000</td>\n",
       "      <td>0.000000</td>\n",
       "      <td>0.237437</td>\n",
       "      <td>-0.074153</td>\n",
       "      <td>0.237437</td>\n",
       "      <td>0.525126</td>\n",
       "      <td>UNDER_GP_matern</td>\n",
       "      <td>GP</td>\n",
       "      <td>nanobret_cellular_holdout</td>\n",
       "      <td>UNDER_GP_matern</td>\n",
       "    </tr>\n",
       "    <tr>\n",
       "      <th>57</th>\n",
       "      <td>NEK2_NEK3_binding_MFP_UNDER_GP_matern</td>\n",
       "      <td>NEK3_binding_UNDER_GP_matern</td>\n",
       "      <td>NEK2</td>\n",
       "      <td>NEK2</td>\n",
       "      <td>NEK3_binding</td>\n",
       "      <td>UNDER</td>\n",
       "      <td>MFP</td>\n",
       "      <td>GP_matern</td>\n",
       "      <td>[185, 184, 6, 25]</td>\n",
       "      <td>0.806452</td>\n",
       "      <td>...</td>\n",
       "      <td>0.119617</td>\n",
       "      <td>0.208333</td>\n",
       "      <td>0.653903</td>\n",
       "      <td>0.164772</td>\n",
       "      <td>0.653903</td>\n",
       "      <td>0.498645</td>\n",
       "      <td>UNDER_GP_matern</td>\n",
       "      <td>GP</td>\n",
       "      <td>nanobret_cellular_holdout</td>\n",
       "      <td>UNDER_GP_matern</td>\n",
       "    </tr>\n",
       "    <tr>\n",
       "      <th>81</th>\n",
       "      <td>NEK3_NEK3_binding_MFP_UNDER_GP_matern</td>\n",
       "      <td>NEK3_binding_UNDER_GP_matern</td>\n",
       "      <td>NEK3</td>\n",
       "      <td>NEK3</td>\n",
       "      <td>NEK3_binding</td>\n",
       "      <td>UNDER</td>\n",
       "      <td>MFP</td>\n",
       "      <td>GP_matern</td>\n",
       "      <td>[188, 184, 3, 25]</td>\n",
       "      <td>0.892857</td>\n",
       "      <td>...</td>\n",
       "      <td>0.119617</td>\n",
       "      <td>0.210970</td>\n",
       "      <td>0.699117</td>\n",
       "      <td>0.203422</td>\n",
       "      <td>0.699117</td>\n",
       "      <td>0.494624</td>\n",
       "      <td>UNDER_GP_matern</td>\n",
       "      <td>GP</td>\n",
       "      <td>nanobret_cellular_holdout</td>\n",
       "      <td>UNDER_GP_matern</td>\n",
       "    </tr>\n",
       "    <tr>\n",
       "      <th>105</th>\n",
       "      <td>NEK4_NEK3_binding_MFP_UNDER_GP_matern</td>\n",
       "      <td>NEK3_binding_UNDER_GP_matern</td>\n",
       "      <td>NEK4</td>\n",
       "      <td>NEK4</td>\n",
       "      <td>NEK3_binding</td>\n",
       "      <td>UNDER</td>\n",
       "      <td>MFP</td>\n",
       "      <td>GP_matern</td>\n",
       "      <td>[191, 209, 0, 0]</td>\n",
       "      <td>0.000000</td>\n",
       "      <td>...</td>\n",
       "      <td>0.000000</td>\n",
       "      <td>0.000000</td>\n",
       "      <td>NaN</td>\n",
       "      <td>0.000000</td>\n",
       "      <td>0.477500</td>\n",
       "      <td>0.522500</td>\n",
       "      <td>UNDER_GP_matern</td>\n",
       "      <td>GP</td>\n",
       "      <td>nanobret_cellular_holdout</td>\n",
       "      <td>UNDER_GP_matern</td>\n",
       "    </tr>\n",
       "    <tr>\n",
       "      <th>129</th>\n",
       "      <td>NEK5_NEK3_binding_MFP_UNDER_GP_matern</td>\n",
       "      <td>NEK3_binding_UNDER_GP_matern</td>\n",
       "      <td>NEK5</td>\n",
       "      <td>NEK5</td>\n",
       "      <td>NEK3_binding</td>\n",
       "      <td>UNDER</td>\n",
       "      <td>MFP</td>\n",
       "      <td>GP_matern</td>\n",
       "      <td>[182, 138, 9, 71]</td>\n",
       "      <td>0.887500</td>\n",
       "      <td>...</td>\n",
       "      <td>0.339713</td>\n",
       "      <td>0.491349</td>\n",
       "      <td>0.728125</td>\n",
       "      <td>0.365370</td>\n",
       "      <td>0.728125</td>\n",
       "      <td>0.431250</td>\n",
       "      <td>UNDER_GP_matern</td>\n",
       "      <td>GP</td>\n",
       "      <td>nanobret_cellular_holdout</td>\n",
       "      <td>UNDER_GP_matern</td>\n",
       "    </tr>\n",
       "    <tr>\n",
       "      <th>153</th>\n",
       "      <td>NEK6_NEK3_binding_MFP_UNDER_GP_matern</td>\n",
       "      <td>NEK3_binding_UNDER_GP_matern</td>\n",
       "      <td>NEK6</td>\n",
       "      <td>NEK6</td>\n",
       "      <td>NEK3_binding</td>\n",
       "      <td>UNDER</td>\n",
       "      <td>MFP</td>\n",
       "      <td>GP_matern</td>\n",
       "      <td>[191, 209, 0, 0]</td>\n",
       "      <td>0.000000</td>\n",
       "      <td>...</td>\n",
       "      <td>0.000000</td>\n",
       "      <td>0.000000</td>\n",
       "      <td>NaN</td>\n",
       "      <td>0.000000</td>\n",
       "      <td>0.477500</td>\n",
       "      <td>0.522500</td>\n",
       "      <td>UNDER_GP_matern</td>\n",
       "      <td>GP</td>\n",
       "      <td>nanobret_cellular_holdout</td>\n",
       "      <td>UNDER_GP_matern</td>\n",
       "    </tr>\n",
       "    <tr>\n",
       "      <th>177</th>\n",
       "      <td>NEK9_NEK3_binding_MFP_UNDER_GP_matern</td>\n",
       "      <td>NEK3_binding_UNDER_GP_matern</td>\n",
       "      <td>NEK9</td>\n",
       "      <td>NEK9</td>\n",
       "      <td>NEK3_binding</td>\n",
       "      <td>UNDER</td>\n",
       "      <td>MFP</td>\n",
       "      <td>GP_matern</td>\n",
       "      <td>[187, 179, 4, 30]</td>\n",
       "      <td>0.882353</td>\n",
       "      <td>...</td>\n",
       "      <td>0.143541</td>\n",
       "      <td>0.246914</td>\n",
       "      <td>0.696641</td>\n",
       "      <td>0.219581</td>\n",
       "      <td>0.696641</td>\n",
       "      <td>0.489071</td>\n",
       "      <td>UNDER_GP_matern</td>\n",
       "      <td>GP</td>\n",
       "      <td>nanobret_cellular_holdout</td>\n",
       "      <td>UNDER_GP_matern</td>\n",
       "    </tr>\n",
       "  </tbody>\n",
       "</table>\n",
       "<p>16 rows × 22 columns</p>\n",
       "</div>"
      ],
      "text/plain": [
       "                                      model  \\\n",
       "34          NEK1_NEK3_binding_MFP_Orig_BRFC   \n",
       "130        NEK11_NEK3_binding_MFP_Orig_BRFC   \n",
       "226         NEK2_NEK3_binding_MFP_Orig_BRFC   \n",
       "322         NEK3_NEK3_binding_MFP_Orig_BRFC   \n",
       "418         NEK4_NEK3_binding_MFP_Orig_BRFC   \n",
       "514         NEK5_NEK3_binding_MFP_Orig_BRFC   \n",
       "610         NEK6_NEK3_binding_MFP_Orig_BRFC   \n",
       "706         NEK9_NEK3_binding_MFP_Orig_BRFC   \n",
       "9     NEK1_NEK3_binding_MFP_UNDER_GP_matern   \n",
       "33   NEK11_NEK3_binding_MFP_UNDER_GP_matern   \n",
       "57    NEK2_NEK3_binding_MFP_UNDER_GP_matern   \n",
       "81    NEK3_NEK3_binding_MFP_UNDER_GP_matern   \n",
       "105   NEK4_NEK3_binding_MFP_UNDER_GP_matern   \n",
       "129   NEK5_NEK3_binding_MFP_UNDER_GP_matern   \n",
       "153   NEK6_NEK3_binding_MFP_UNDER_GP_matern   \n",
       "177   NEK9_NEK3_binding_MFP_UNDER_GP_matern   \n",
       "\n",
       "                               prod_model data NEK    NEK     model NEK  \\\n",
       "34   NEK3_binding_Orig Bootstrap Under RF     NEK1   NEK1  NEK3_binding   \n",
       "130  NEK3_binding_Orig Bootstrap Under RF    NEK11  NEK11  NEK3_binding   \n",
       "226  NEK3_binding_Orig Bootstrap Under RF     NEK2   NEK2  NEK3_binding   \n",
       "322  NEK3_binding_Orig Bootstrap Under RF     NEK3   NEK3  NEK3_binding   \n",
       "418  NEK3_binding_Orig Bootstrap Under RF     NEK4   NEK4  NEK3_binding   \n",
       "514  NEK3_binding_Orig Bootstrap Under RF     NEK5   NEK5  NEK3_binding   \n",
       "610  NEK3_binding_Orig Bootstrap Under RF     NEK6   NEK6  NEK3_binding   \n",
       "706  NEK3_binding_Orig Bootstrap Under RF     NEK9   NEK9  NEK3_binding   \n",
       "9            NEK3_binding_UNDER_GP_matern     NEK1   NEK1  NEK3_binding   \n",
       "33           NEK3_binding_UNDER_GP_matern    NEK11  NEK11  NEK3_binding   \n",
       "57           NEK3_binding_UNDER_GP_matern     NEK2   NEK2  NEK3_binding   \n",
       "81           NEK3_binding_UNDER_GP_matern     NEK3   NEK3  NEK3_binding   \n",
       "105          NEK3_binding_UNDER_GP_matern     NEK4   NEK4  NEK3_binding   \n",
       "129          NEK3_binding_UNDER_GP_matern     NEK5   NEK5  NEK3_binding   \n",
       "153          NEK3_binding_UNDER_GP_matern     NEK6   NEK6  NEK3_binding   \n",
       "177          NEK3_binding_UNDER_GP_matern     NEK9   NEK9  NEK3_binding   \n",
       "\n",
       "        strategy feat_type    RF_type                 cm    recall  ...  \\\n",
       "34   none_scaled       MFP       BRFC  [178, 192, 2, 28]  0.933333  ...   \n",
       "130  none_scaled       MFP       BRFC   [168, 230, 1, 1]  0.500000  ...   \n",
       "226  none_scaled       MFP       BRFC  [174, 195, 3, 28]  0.903226  ...   \n",
       "322  none_scaled       MFP       BRFC  [178, 194, 0, 28]  1.000000  ...   \n",
       "418  none_scaled       MFP       BRFC   [173, 227, 0, 0]  0.000000  ...   \n",
       "514  none_scaled       MFP       BRFC  [184, 136, 7, 73]  0.912500  ...   \n",
       "610  none_scaled       MFP       BRFC   [178, 222, 0, 0]  0.000000  ...   \n",
       "706  none_scaled       MFP       BRFC  [167, 199, 1, 33]  0.970588  ...   \n",
       "9          UNDER       MFP  GP_matern  [188, 182, 3, 27]  0.900000  ...   \n",
       "33         UNDER       MFP  GP_matern   [189, 209, 2, 0]  0.000000  ...   \n",
       "57         UNDER       MFP  GP_matern  [185, 184, 6, 25]  0.806452  ...   \n",
       "81         UNDER       MFP  GP_matern  [188, 184, 3, 25]  0.892857  ...   \n",
       "105        UNDER       MFP  GP_matern   [191, 209, 0, 0]  0.000000  ...   \n",
       "129        UNDER       MFP  GP_matern  [182, 138, 9, 71]  0.887500  ...   \n",
       "153        UNDER       MFP  GP_matern   [191, 209, 0, 0]  0.000000  ...   \n",
       "177        UNDER       MFP  GP_matern  [187, 179, 4, 30]  0.882353  ...   \n",
       "\n",
       "     precision        f1   ROC_AUC       MCC  balanced_accuracy  \\\n",
       "34    0.127273  0.224000  0.707207  0.219406           0.707207   \n",
       "130   0.004329  0.008584  0.461055 -0.011122           0.461055   \n",
       "226   0.125561  0.220472  0.687385  0.201753           0.687385   \n",
       "322   0.126126  0.224000  0.739247  0.245664           0.739247   \n",
       "418   0.000000  0.000000       NaN  0.000000           0.432500   \n",
       "514   0.349282  0.505190  0.743750  0.390395           0.743750   \n",
       "610   0.000000  0.000000       NaN  0.000000           0.445000   \n",
       "706   0.142241  0.248120  0.713436  0.241201           0.713436   \n",
       "9     0.129187  0.225941  0.704054  0.215202           0.704054   \n",
       "33    0.000000  0.000000  0.237437 -0.074153           0.237437   \n",
       "57    0.119617  0.208333  0.653903  0.164772           0.653903   \n",
       "81    0.119617  0.210970  0.699117  0.203422           0.699117   \n",
       "105   0.000000  0.000000       NaN  0.000000           0.477500   \n",
       "129   0.339713  0.491349  0.728125  0.365370           0.728125   \n",
       "153   0.000000  0.000000       NaN  0.000000           0.477500   \n",
       "177   0.143541  0.246914  0.696641  0.219581           0.696641   \n",
       "\n",
       "     1-specificity   model strategy  modeling_type                        set  \\\n",
       "34        0.518919        Orig_BRFC             RF  nanobret_cellular_holdout   \n",
       "130       0.577889        Orig_BRFC             RF  nanobret_cellular_holdout   \n",
       "226       0.528455        Orig_BRFC             RF  nanobret_cellular_holdout   \n",
       "322       0.521505        Orig_BRFC             RF  nanobret_cellular_holdout   \n",
       "418       0.567500        Orig_BRFC             RF  nanobret_cellular_holdout   \n",
       "514       0.425000        Orig_BRFC             RF  nanobret_cellular_holdout   \n",
       "610       0.555000        Orig_BRFC             RF  nanobret_cellular_holdout   \n",
       "706       0.543716        Orig_BRFC             RF  nanobret_cellular_holdout   \n",
       "9         0.491892  UNDER_GP_matern             GP  nanobret_cellular_holdout   \n",
       "33        0.525126  UNDER_GP_matern             GP  nanobret_cellular_holdout   \n",
       "57        0.498645  UNDER_GP_matern             GP  nanobret_cellular_holdout   \n",
       "81        0.494624  UNDER_GP_matern             GP  nanobret_cellular_holdout   \n",
       "105       0.522500  UNDER_GP_matern             GP  nanobret_cellular_holdout   \n",
       "129       0.431250  UNDER_GP_matern             GP  nanobret_cellular_holdout   \n",
       "153       0.522500  UNDER_GP_matern             GP  nanobret_cellular_holdout   \n",
       "177       0.489071  UNDER_GP_matern             GP  nanobret_cellular_holdout   \n",
       "\n",
       "    model strategy_old  \n",
       "34           Orig_BRFC  \n",
       "130          Orig_BRFC  \n",
       "226          Orig_BRFC  \n",
       "322          Orig_BRFC  \n",
       "418          Orig_BRFC  \n",
       "514          Orig_BRFC  \n",
       "610          Orig_BRFC  \n",
       "706          Orig_BRFC  \n",
       "9      UNDER_GP_matern  \n",
       "33     UNDER_GP_matern  \n",
       "57     UNDER_GP_matern  \n",
       "81     UNDER_GP_matern  \n",
       "105    UNDER_GP_matern  \n",
       "129    UNDER_GP_matern  \n",
       "153    UNDER_GP_matern  \n",
       "177    UNDER_GP_matern  \n",
       "\n",
       "[16 rows x 22 columns]"
      ]
     },
     "execution_count": 335,
     "metadata": {},
     "output_type": "execute_result"
    }
   ],
   "source": [
    "nek3 = selected_results[selected_results['model NEK']=='NEK3_binding']\n",
    "nek3\n",
    "nek3_prod =rf_prod_results[rf_prod_results['model NEK']=='NEK3_binding'] # NEK3_binding_Orig Bstrp Under RF\n",
    "nek3_prod # NEK3_binding_Orig Bstrp Under RF \n",
    "nek3 # NEK3_binding_Orig Bootstrap Under RF"
   ]
  },
  {
   "cell_type": "code",
   "execution_count": 336,
   "id": "803e8316-c99e-4022-8dec-88cc64457542",
   "metadata": {},
   "outputs": [
    {
     "data": {
      "application/javascript": [
       "\n",
       "        if (window._pyforest_update_imports_cell) { window._pyforest_update_imports_cell('import pandas as pd\\nimport matplotlib.pyplot as plt\\nimport seaborn as sns'); }\n",
       "    "
      ],
      "text/plain": [
       "<IPython.core.display.Javascript object>"
      ]
     },
     "metadata": {},
     "output_type": "display_data"
    },
    {
     "data": {
      "application/javascript": [
       "\n",
       "        if (window._pyforest_update_imports_cell) { window._pyforest_update_imports_cell('import pandas as pd\\nimport matplotlib.pyplot as plt\\nimport seaborn as sns'); }\n",
       "    "
      ],
      "text/plain": [
       "<IPython.core.display.Javascript object>"
      ]
     },
     "metadata": {},
     "output_type": "display_data"
    },
    {
     "name": "stdout",
     "output_type": "stream",
     "text": [
      "NEK2_binding_Orig Bstrp Under RF\n"
     ]
    },
    {
     "data": {
      "application/javascript": [
       "\n",
       "        if (window._pyforest_update_imports_cell) { window._pyforest_update_imports_cell('import pandas as pd\\nimport matplotlib.pyplot as plt\\nimport seaborn as sns'); }\n",
       "    "
      ],
      "text/plain": [
       "<IPython.core.display.Javascript object>"
      ]
     },
     "metadata": {},
     "output_type": "display_data"
    },
    {
     "data": {
      "application/javascript": [
       "\n",
       "        if (window._pyforest_update_imports_cell) { window._pyforest_update_imports_cell('import pandas as pd\\nimport matplotlib.pyplot as plt\\nimport seaborn as sns'); }\n",
       "    "
      ],
      "text/plain": [
       "<IPython.core.display.Javascript object>"
      ]
     },
     "metadata": {},
     "output_type": "display_data"
    },
    {
     "data": {
      "application/javascript": [
       "\n",
       "        if (window._pyforest_update_imports_cell) { window._pyforest_update_imports_cell('import pandas as pd\\nimport matplotlib.pyplot as plt\\nimport seaborn as sns'); }\n",
       "    "
      ],
      "text/plain": [
       "<IPython.core.display.Javascript object>"
      ]
     },
     "metadata": {},
     "output_type": "display_data"
    },
    {
     "data": {
      "application/javascript": [
       "\n",
       "        if (window._pyforest_update_imports_cell) { window._pyforest_update_imports_cell('import pandas as pd\\nimport matplotlib.pyplot as plt\\nimport seaborn as sns'); }\n",
       "    "
      ],
      "text/plain": [
       "<IPython.core.display.Javascript object>"
      ]
     },
     "metadata": {},
     "output_type": "display_data"
    },
    {
     "data": {
      "application/javascript": [
       "\n",
       "        if (window._pyforest_update_imports_cell) { window._pyforest_update_imports_cell('import pandas as pd\\nimport matplotlib.pyplot as plt\\nimport seaborn as sns'); }\n",
       "    "
      ],
      "text/plain": [
       "<IPython.core.display.Javascript object>"
      ]
     },
     "metadata": {},
     "output_type": "display_data"
    },
    {
     "data": {
      "application/javascript": [
       "\n",
       "        if (window._pyforest_update_imports_cell) { window._pyforest_update_imports_cell('import pandas as pd\\nimport matplotlib.pyplot as plt\\nimport seaborn as sns'); }\n",
       "    "
      ],
      "text/plain": [
       "<IPython.core.display.Javascript object>"
      ]
     },
     "metadata": {},
     "output_type": "display_data"
    },
    {
     "name": "stdout",
     "output_type": "stream",
     "text": [
      "NEK2_inhibition_Orig Bstrp Under RF\n"
     ]
    },
    {
     "data": {
      "application/javascript": [
       "\n",
       "        if (window._pyforest_update_imports_cell) { window._pyforest_update_imports_cell('import pandas as pd\\nimport matplotlib.pyplot as plt\\nimport seaborn as sns'); }\n",
       "    "
      ],
      "text/plain": [
       "<IPython.core.display.Javascript object>"
      ]
     },
     "metadata": {},
     "output_type": "display_data"
    },
    {
     "data": {
      "application/javascript": [
       "\n",
       "        if (window._pyforest_update_imports_cell) { window._pyforest_update_imports_cell('import pandas as pd\\nimport matplotlib.pyplot as plt\\nimport seaborn as sns'); }\n",
       "    "
      ],
      "text/plain": [
       "<IPython.core.display.Javascript object>"
      ]
     },
     "metadata": {},
     "output_type": "display_data"
    },
    {
     "data": {
      "application/javascript": [
       "\n",
       "        if (window._pyforest_update_imports_cell) { window._pyforest_update_imports_cell('import pandas as pd\\nimport matplotlib.pyplot as plt\\nimport seaborn as sns'); }\n",
       "    "
      ],
      "text/plain": [
       "<IPython.core.display.Javascript object>"
      ]
     },
     "metadata": {},
     "output_type": "display_data"
    },
    {
     "data": {
      "application/javascript": [
       "\n",
       "        if (window._pyforest_update_imports_cell) { window._pyforest_update_imports_cell('import pandas as pd\\nimport matplotlib.pyplot as plt\\nimport seaborn as sns'); }\n",
       "    "
      ],
      "text/plain": [
       "<IPython.core.display.Javascript object>"
      ]
     },
     "metadata": {},
     "output_type": "display_data"
    },
    {
     "data": {
      "application/javascript": [
       "\n",
       "        if (window._pyforest_update_imports_cell) { window._pyforest_update_imports_cell('import pandas as pd\\nimport matplotlib.pyplot as plt\\nimport seaborn as sns'); }\n",
       "    "
      ],
      "text/plain": [
       "<IPython.core.display.Javascript object>"
      ]
     },
     "metadata": {},
     "output_type": "display_data"
    },
    {
     "data": {
      "application/javascript": [
       "\n",
       "        if (window._pyforest_update_imports_cell) { window._pyforest_update_imports_cell('import pandas as pd\\nimport matplotlib.pyplot as plt\\nimport seaborn as sns'); }\n",
       "    "
      ],
      "text/plain": [
       "<IPython.core.display.Javascript object>"
      ]
     },
     "metadata": {},
     "output_type": "display_data"
    },
    {
     "name": "stdout",
     "output_type": "stream",
     "text": [
      "NEK3_binding_Orig Bstrp Under RF\n"
     ]
    },
    {
     "data": {
      "application/javascript": [
       "\n",
       "        if (window._pyforest_update_imports_cell) { window._pyforest_update_imports_cell('import pandas as pd\\nimport matplotlib.pyplot as plt\\nimport seaborn as sns'); }\n",
       "    "
      ],
      "text/plain": [
       "<IPython.core.display.Javascript object>"
      ]
     },
     "metadata": {},
     "output_type": "display_data"
    },
    {
     "data": {
      "application/javascript": [
       "\n",
       "        if (window._pyforest_update_imports_cell) { window._pyforest_update_imports_cell('import pandas as pd\\nimport matplotlib.pyplot as plt\\nimport seaborn as sns'); }\n",
       "    "
      ],
      "text/plain": [
       "<IPython.core.display.Javascript object>"
      ]
     },
     "metadata": {},
     "output_type": "display_data"
    },
    {
     "data": {
      "application/javascript": [
       "\n",
       "        if (window._pyforest_update_imports_cell) { window._pyforest_update_imports_cell('import pandas as pd\\nimport matplotlib.pyplot as plt\\nimport seaborn as sns'); }\n",
       "    "
      ],
      "text/plain": [
       "<IPython.core.display.Javascript object>"
      ]
     },
     "metadata": {},
     "output_type": "display_data"
    },
    {
     "data": {
      "application/javascript": [
       "\n",
       "        if (window._pyforest_update_imports_cell) { window._pyforest_update_imports_cell('import pandas as pd\\nimport matplotlib.pyplot as plt\\nimport seaborn as sns'); }\n",
       "    "
      ],
      "text/plain": [
       "<IPython.core.display.Javascript object>"
      ]
     },
     "metadata": {},
     "output_type": "display_data"
    },
    {
     "data": {
      "application/javascript": [
       "\n",
       "        if (window._pyforest_update_imports_cell) { window._pyforest_update_imports_cell('import pandas as pd\\nimport matplotlib.pyplot as plt\\nimport seaborn as sns'); }\n",
       "    "
      ],
      "text/plain": [
       "<IPython.core.display.Javascript object>"
      ]
     },
     "metadata": {},
     "output_type": "display_data"
    },
    {
     "data": {
      "application/javascript": [
       "\n",
       "        if (window._pyforest_update_imports_cell) { window._pyforest_update_imports_cell('import pandas as pd\\nimport matplotlib.pyplot as plt\\nimport seaborn as sns'); }\n",
       "    "
      ],
      "text/plain": [
       "<IPython.core.display.Javascript object>"
      ]
     },
     "metadata": {},
     "output_type": "display_data"
    },
    {
     "name": "stdout",
     "output_type": "stream",
     "text": [
      "NEK5_binding_Orig Bstrp Under RF\n"
     ]
    },
    {
     "data": {
      "application/javascript": [
       "\n",
       "        if (window._pyforest_update_imports_cell) { window._pyforest_update_imports_cell('import pandas as pd\\nimport matplotlib.pyplot as plt\\nimport seaborn as sns'); }\n",
       "    "
      ],
      "text/plain": [
       "<IPython.core.display.Javascript object>"
      ]
     },
     "metadata": {},
     "output_type": "display_data"
    },
    {
     "data": {
      "application/javascript": [
       "\n",
       "        if (window._pyforest_update_imports_cell) { window._pyforest_update_imports_cell('import pandas as pd\\nimport matplotlib.pyplot as plt\\nimport seaborn as sns'); }\n",
       "    "
      ],
      "text/plain": [
       "<IPython.core.display.Javascript object>"
      ]
     },
     "metadata": {},
     "output_type": "display_data"
    },
    {
     "data": {
      "application/javascript": [
       "\n",
       "        if (window._pyforest_update_imports_cell) { window._pyforest_update_imports_cell('import pandas as pd\\nimport matplotlib.pyplot as plt\\nimport seaborn as sns'); }\n",
       "    "
      ],
      "text/plain": [
       "<IPython.core.display.Javascript object>"
      ]
     },
     "metadata": {},
     "output_type": "display_data"
    },
    {
     "data": {
      "application/javascript": [
       "\n",
       "        if (window._pyforest_update_imports_cell) { window._pyforest_update_imports_cell('import pandas as pd\\nimport matplotlib.pyplot as plt\\nimport seaborn as sns'); }\n",
       "    "
      ],
      "text/plain": [
       "<IPython.core.display.Javascript object>"
      ]
     },
     "metadata": {},
     "output_type": "display_data"
    },
    {
     "data": {
      "application/javascript": [
       "\n",
       "        if (window._pyforest_update_imports_cell) { window._pyforest_update_imports_cell('import pandas as pd\\nimport matplotlib.pyplot as plt\\nimport seaborn as sns'); }\n",
       "    "
      ],
      "text/plain": [
       "<IPython.core.display.Javascript object>"
      ]
     },
     "metadata": {},
     "output_type": "display_data"
    },
    {
     "data": {
      "application/javascript": [
       "\n",
       "        if (window._pyforest_update_imports_cell) { window._pyforest_update_imports_cell('import pandas as pd\\nimport matplotlib.pyplot as plt\\nimport seaborn as sns'); }\n",
       "    "
      ],
      "text/plain": [
       "<IPython.core.display.Javascript object>"
      ]
     },
     "metadata": {},
     "output_type": "display_data"
    },
    {
     "name": "stdout",
     "output_type": "stream",
     "text": [
      "NEK9_binding_Orig Bstrp Under RF\n"
     ]
    },
    {
     "data": {
      "application/javascript": [
       "\n",
       "        if (window._pyforest_update_imports_cell) { window._pyforest_update_imports_cell('import pandas as pd\\nimport matplotlib.pyplot as plt\\nimport seaborn as sns'); }\n",
       "    "
      ],
      "text/plain": [
       "<IPython.core.display.Javascript object>"
      ]
     },
     "metadata": {},
     "output_type": "display_data"
    },
    {
     "data": {
      "application/javascript": [
       "\n",
       "        if (window._pyforest_update_imports_cell) { window._pyforest_update_imports_cell('import pandas as pd\\nimport matplotlib.pyplot as plt\\nimport seaborn as sns'); }\n",
       "    "
      ],
      "text/plain": [
       "<IPython.core.display.Javascript object>"
      ]
     },
     "metadata": {},
     "output_type": "display_data"
    },
    {
     "data": {
      "application/javascript": [
       "\n",
       "        if (window._pyforest_update_imports_cell) { window._pyforest_update_imports_cell('import pandas as pd\\nimport matplotlib.pyplot as plt\\nimport seaborn as sns'); }\n",
       "    "
      ],
      "text/plain": [
       "<IPython.core.display.Javascript object>"
      ]
     },
     "metadata": {},
     "output_type": "display_data"
    },
    {
     "data": {
      "application/javascript": [
       "\n",
       "        if (window._pyforest_update_imports_cell) { window._pyforest_update_imports_cell('import pandas as pd\\nimport matplotlib.pyplot as plt\\nimport seaborn as sns'); }\n",
       "    "
      ],
      "text/plain": [
       "<IPython.core.display.Javascript object>"
      ]
     },
     "metadata": {},
     "output_type": "display_data"
    },
    {
     "data": {
      "application/javascript": [
       "\n",
       "        if (window._pyforest_update_imports_cell) { window._pyforest_update_imports_cell('import pandas as pd\\nimport matplotlib.pyplot as plt\\nimport seaborn as sns'); }\n",
       "    "
      ],
      "text/plain": [
       "<IPython.core.display.Javascript object>"
      ]
     },
     "metadata": {},
     "output_type": "display_data"
    },
    {
     "data": {
      "application/javascript": [
       "\n",
       "        if (window._pyforest_update_imports_cell) { window._pyforest_update_imports_cell('import pandas as pd\\nimport matplotlib.pyplot as plt\\nimport seaborn as sns'); }\n",
       "    "
      ],
      "text/plain": [
       "<IPython.core.display.Javascript object>"
      ]
     },
     "metadata": {},
     "output_type": "display_data"
    },
    {
     "name": "stdout",
     "output_type": "stream",
     "text": [
      "NEK9_inhibition_Orig Bstrp Under RF BalWeight\n"
     ]
    },
    {
     "data": {
      "application/javascript": [
       "\n",
       "        if (window._pyforest_update_imports_cell) { window._pyforest_update_imports_cell('import pandas as pd\\nimport matplotlib.pyplot as plt\\nimport seaborn as sns'); }\n",
       "    "
      ],
      "text/plain": [
       "<IPython.core.display.Javascript object>"
      ]
     },
     "metadata": {},
     "output_type": "display_data"
    },
    {
     "data": {
      "application/javascript": [
       "\n",
       "        if (window._pyforest_update_imports_cell) { window._pyforest_update_imports_cell('import pandas as pd\\nimport matplotlib.pyplot as plt\\nimport seaborn as sns'); }\n",
       "    "
      ],
      "text/plain": [
       "<IPython.core.display.Javascript object>"
      ]
     },
     "metadata": {},
     "output_type": "display_data"
    },
    {
     "data": {
      "application/javascript": [
       "\n",
       "        if (window._pyforest_update_imports_cell) { window._pyforest_update_imports_cell('import pandas as pd\\nimport matplotlib.pyplot as plt\\nimport seaborn as sns'); }\n",
       "    "
      ],
      "text/plain": [
       "<IPython.core.display.Javascript object>"
      ]
     },
     "metadata": {},
     "output_type": "display_data"
    },
    {
     "data": {
      "application/javascript": [
       "\n",
       "        if (window._pyforest_update_imports_cell) { window._pyforest_update_imports_cell('import pandas as pd\\nimport matplotlib.pyplot as plt\\nimport seaborn as sns'); }\n",
       "    "
      ],
      "text/plain": [
       "<IPython.core.display.Javascript object>"
      ]
     },
     "metadata": {},
     "output_type": "display_data"
    },
    {
     "data": {
      "image/png": "[encoded data removed]",
      "text/plain": [
       "<Figure size 1000x600 with 1 Axes>"
      ]
     },
     "metadata": {},
     "output_type": "display_data"
    },
    {
     "data": {
      "image/png": "[encoded data removed]",
      "text/plain": [
       "<Figure size 1000x600 with 1 Axes>"
      ]
     },
     "metadata": {},
     "output_type": "display_data"
    },
    {
     "data": {
      "image/png": "[encoded data removed]",
      "text/plain": [
       "<Figure size 1000x600 with 1 Axes>"
      ]
     },
     "metadata": {},
     "output_type": "display_data"
    },
    {
     "data": {
      "image/png": "[encoded data removed]",
      "text/plain": [
       "<Figure size 1000x600 with 1 Axes>"
      ]
     },
     "metadata": {},
     "output_type": "display_data"
    },
    {
     "data": {
      "image/png": "[encoded data removed]",
      "text/plain": [
       "<Figure size 1000x600 with 1 Axes>"
      ]
     },
     "metadata": {},
     "output_type": "display_data"
    },
    {
     "data": {
      "image/png": "[encoded data removed]",
      "text/plain": [
       "<Figure size 1000x600 with 1 Axes>"
      ]
     },
     "metadata": {},
     "output_type": "display_data"
    }
   ],
   "source": [
    "simple_cols =['prod_model', 'data NEK', 'strategy', 'recall', '1-specificity'] \n",
    "for nek in rf_prod_results['model NEK'].unique():\n",
    "    # print(nek)\n",
    "    fig, axs = plt.subplots(figsize=(10,6))\n",
    "    plt.suptitle(f'{nek} Results Comparison',fontsize=22, x=0.52, y=0.99)\n",
    "    prod_result= rf_prod_results[rf_prod_results['model NEK']==nek][simple_cols]\n",
    "\n",
    "    prod_model_name = prod_result['prod_model'].values[0]\n",
    "    print(prod_model_name)\n",
    "    # new_results = selected_results[(selected_results['model strategy']==strategy) \n",
    "    #             & (selected_results['model NEK']==nek)]\n",
    "    new_results = selected_results[selected_results['prod_model']== prod_model_name][simple_cols]\n",
    "    plotting_df = pd.concat([new_results, prod_result], ignore_index=True)\n",
    "\n",
    "    sns.scatterplot(data=plotting_df, x='1-specificity', y='recall', hue='data NEK'\n",
    "                   ,edgecolor='gray',alpha=0.75,s=300 )\n",
    "    plt.plot([-0,1], [0, 1], linestyle='--', color='gray')\n",
    "    plt.savefig(f'comparison_figs/{nek}_{strategy}.png',bbox_inches='tight')"
   ]
  },
  {
   "cell_type": "code",
   "execution_count": null,
   "id": "78ae7a63-4bf8-4673-a2de-9f70696e1219",
   "metadata": {},
   "outputs": [],
   "source": []
  },
  {
   "cell_type": "code",
   "execution_count": null,
   "id": "7f57f092-0175-445c-938a-7a53a0ac46a2",
   "metadata": {},
   "outputs": [],
   "source": []
  },
  {
   "cell_type": "code",
   "execution_count": null,
   "id": "bdc0650e-7741-477b-9589-8fa640623091",
   "metadata": {},
   "outputs": [],
   "source": []
  }
 ],
 "metadata": {
  "kernelspec": {
   "display_name": "Python (ATOM_CODE)",
   "language": "python",
   "name": "atom_code"
  },
  "language_info": {
   "codemirror_mode": {
    "name": "ipython",
    "version": 3
   },
   "file_extension": ".py",
   "mimetype": "text/x-python",
   "name": "python",
   "nbconvert_exporter": "python",
   "pygments_lexer": "ipython3",
   "version": "3.9.20"
  }
 },
 "nbformat": 4,
 "nbformat_minor": 5
}
