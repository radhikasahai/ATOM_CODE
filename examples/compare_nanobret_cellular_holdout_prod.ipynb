{
 "cells": [
  {
   "cell_type": "code",
   "execution_count": 1,
   "id": "acba93de-48a9-40f9-84bc-89e67a944d1e",
   "metadata": {},
   "outputs": [],
   "source": [
    "import pyforest\n",
    "import sys\n",
    "sys.path.append('/Users/jayceepang/msse/ATOM_CODE/UTILS/')"
   ]
  },
  {
   "cell_type": "code",
   "execution_count": 21,
   "id": "0ed778be-824f-4eeb-ac4d-67b903cf1bdb",
   "metadata": {},
   "outputs": [],
   "source": [
    "og_neks = ['NEK2_binding','NEK2_inhibition','NEK3_binding','NEK5_binding','NEK9_binding','NEK9_inhibition']\n",
    "samplings =['none_scaled','UNDER','SMOTE','ADASYN'] \n",
    "new_neks=['NEK1', 'NEK11', 'NEK2', 'NEK3', 'NEK4', 'NEK5',\n",
    "       'NEK6', 'NEK9']\n",
    "og_datapath = '/Users/jayceepang/msse/capstone/atom2024/atom2024/notebooks/paper/datasets/80train_20test/featurized/'\n",
    "results_dir='/Users/jayceepang/msse/ATOM_CODE/examples/holdout/holdout_results/'\n",
    "gp_results_dir='/Users/jayceepang/msse/ATOM_CODE/examples/holdout/holdout_results/GP/'\n",
    "datapath = '/Users/jayceepang/msse/ATOM_CODE/datasets/holdout_data/featurized/'\n",
    "gp_path ='/Users/jayceepang/msse/capstone/atom2024/atom2024/notebooks/paper/results/GP_results/'\n",
    "final_cols=['model','NEK','strategy','feat_type','RF_type', 'cm','recall', 'specificity', 'accuracy', 'precision', \n",
    "                'f1', 'ROC_AUC', 'MCC', 'balanced_accuracy']\n",
    "feat_cols_dropped =['NEK','compound_id','base_rdkit_smiles', 'subset', 'active'] "
   ]
  },
  {
   "cell_type": "code",
   "execution_count": 22,
   "id": "475e413b-61db-49b6-a467-ec233f0afbb7",
   "metadata": {},
   "outputs": [
    {
     "data": {
      "application/javascript": [
       "\n",
       "        if (window._pyforest_update_imports_cell) { window._pyforest_update_imports_cell('import pandas as pd'); }\n",
       "    "
      ],
      "text/plain": [
       "<IPython.core.display.Javascript object>"
      ]
     },
     "metadata": {},
     "output_type": "display_data"
    },
    {
     "data": {
      "application/javascript": [
       "\n",
       "        if (window._pyforest_update_imports_cell) { window._pyforest_update_imports_cell('import pandas as pd'); }\n",
       "    "
      ],
      "text/plain": [
       "<IPython.core.display.Javascript object>"
      ]
     },
     "metadata": {},
     "output_type": "display_data"
    },
    {
     "name": "stdout",
     "output_type": "stream",
     "text": [
      "18 18\n",
      "True\n"
     ]
    }
   ],
   "source": [
    "rf_results=pd.read_csv(f'{results_dir}RF/RF_nanobret_cellular_holdout_results.csv')\n",
    "gp_results = pd.read_csv(f'{results_dir}GP/GP_nanobret_cellular_holdout_results.csv')\n",
    "rf_results_cols = set(rf_results.columns)\n",
    "gp_results_cols = set(gp_results.columns)\n",
    "print(len(rf_results_cols), len(gp_results_cols))\n",
    "print(rf_results_cols==gp_results_cols)"
   ]
  },
  {
   "cell_type": "code",
   "execution_count": 33,
   "id": "3ab318ec-5da4-4418-aea1-7831847cf0cd",
   "metadata": {},
   "outputs": [
    {
     "data": {
      "application/javascript": [
       "\n",
       "        if (window._pyforest_update_imports_cell) { window._pyforest_update_imports_cell('import pandas as pd'); }\n",
       "    "
      ],
      "text/plain": [
       "<IPython.core.display.Javascript object>"
      ]
     },
     "metadata": {},
     "output_type": "display_data"
    }
   ],
   "source": [
    "all_results= pd.concat([rf_results, gp_results])\n",
    "# all_results.to_csv('holdout/holdout_results/all_nanobret_cellular_holdout_results.csv',index=False)\n",
    "og_neks = ['NEK2_binding', 'NEK2_inhibition', 'NEK3_binding', 'NEK5_binding','NEK9_binding', 'NEK9_inhibition'] \n",
    "best_rfs = [f'{og_nek}_MFP_none_scaled_BRFC' for og_nek in og_neks]\n",
    "best_rfs.append('NEK9_inhibition_MFP_none_scaled_BRFC_BCW')\n",
    "best_gps = [f'{og_nek}_MFP_UNDER_GP_matern' for og_nek in og_neks]\n",
    "selected_prods = best_rfs+best_gps\n",
    "selected_prods.remove('NEK9_inhibition_MFP_none_scaled_BRFC')"
   ]
  },
  {
   "cell_type": "code",
   "execution_count": 31,
   "id": "887fc91f-fbd0-4aba-9ce1-58b81b59ae5e",
   "metadata": {},
   "outputs": [],
   "source": [
    "selected_results = all_results[all_results['prod_model'].isin(selected_prods)]"
   ]
  },
  {
   "cell_type": "code",
   "execution_count": 34,
   "id": "30984c6d-8f39-433d-9c7f-f8dfacd58e66",
   "metadata": {},
   "outputs": [],
   "source": [
    "# selected_results.to_csv('holdout/holdout_results/nanobret_cellular_holdout_only_prod_models.csv',index=False)\n"
   ]
  },
  {
   "cell_type": "code",
   "execution_count": 36,
   "id": "5389d92c-1157-422d-a569-3a0846de4e14",
   "metadata": {},
   "outputs": [
    {
     "data": {
      "text/plain": [
       "2       NEK1\n",
       "18      NEK1\n",
       "34      NEK1\n",
       "50      NEK1\n",
       "66      NEK1\n",
       "83      NEK1\n",
       "98     NEK11\n",
       "114    NEK11\n",
       "130    NEK11\n",
       "146    NEK11\n",
       "162    NEK11\n",
       "179    NEK11\n",
       "194     NEK2\n",
       "210     NEK2\n",
       "226     NEK2\n",
       "242     NEK2\n",
       "258     NEK2\n",
       "275     NEK2\n",
       "290     NEK3\n",
       "306     NEK3\n",
       "322     NEK3\n",
       "338     NEK3\n",
       "354     NEK3\n",
       "371     NEK3\n",
       "Name: data NEK, dtype: object"
      ]
     },
     "execution_count": 36,
     "metadata": {},
     "output_type": "execute_result"
    }
   ],
   "source": [
    "selected_results['data NEK']"
   ]
  },
  {
   "cell_type": "code",
   "execution_count": null,
   "id": "b17fda34-0659-40d0-b02a-212d01a646bd",
   "metadata": {},
   "outputs": [],
   "source": []
  }
 ],
 "metadata": {
  "kernelspec": {
   "display_name": "Python (ATOM_CODE)",
   "language": "python",
   "name": "atom_code"
  },
  "language_info": {
   "codemirror_mode": {
    "name": "ipython",
    "version": 3
   },
   "file_extension": ".py",
   "mimetype": "text/x-python",
   "name": "python",
   "nbconvert_exporter": "python",
   "pygments_lexer": "ipython3",
   "version": "3.9.20"
  }
 },
 "nbformat": 4,
 "nbformat_minor": 5
}
