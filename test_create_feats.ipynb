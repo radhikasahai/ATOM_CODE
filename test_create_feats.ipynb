{
 "cells": [
  {
   "cell_type": "code",
   "execution_count": 1,
   "metadata": {},
   "outputs": [],
   "source": [
    "import pyforest\n",
    "data_path = '/Users/jayceepang/msse/ATOM_CODE/original_datasets/' "
   ]
  },
  {
   "cell_type": "code",
   "execution_count": 123,
   "metadata": {},
   "outputs": [
    {
     "ename": "IndentationError",
     "evalue": "unexpected indent (959015697.py, line 4)",
     "output_type": "error",
     "traceback": [
      "\u001b[0;36m  Cell \u001b[0;32mIn[123], line 4\u001b[0;36m\u001b[0m\n\u001b[0;31m    assay_pct_dfs = [file for file in os.listdir(datapath) if file.startswith('NEK')]\u001b[0m\n\u001b[0m    ^\u001b[0m\n\u001b[0;31mIndentationError\u001b[0m\u001b[0;31m:\u001b[0m unexpected indent\n"
     ]
    }
   ],
   "source": [
    "def check_labels(datapath): \n",
    "  \"\"\"a function to check that the labels are indeed what we want (a % binding or % inhibition activiy is \n",
    "  >= 50% for that molecule to be active against that NEK)\"\"\"\n",
    "   assay_pct_dfs = [file for file in os.listdir(datapath) if file.startswith('NEK')]\n",
    "   for file in assay_pct_dfs:\n",
    "    full_file = os.path.join(datapath, file)\n",
    "    df = pd.read_csv(full_file)\n",
    "    \n",
    "    pct_col = [col for col in df.columns if col.startswith('pct_')] \n",
    "    len(pct_col) == 1 \n",
    "    pct_col = pct_col[0]\n",
    "    invalid_labels = df[df['active']!= (df[pct_col]>=50).astype(int)]\n",
    "    if invalid_labels.empty: \n",
    "      # print(f'correct label assignment based on {pct_col} column')\n",
    "      pass\n",
    "    else: \n",
    "      print(f'Error on label assignement.')\n",
    "      print(invalid_labels)\n",
    "    # check for duplicates here \n",
    "    # duplicates = df[df.duplicated()]\n",
    "    print(f'{df.shape}')\n",
    "    # duplicates = df[df.duplicated(subset=['base_rdkit_smiles'])]\n",
    "    duplicates = df.duplicated()\n",
    "    # duplicates = df[df.duplicated(subset=['base_rdkit_smiles'])]\n",
    "    if duplicates.any():\n",
    "        print('Duplicate rows found:')\n",
    "        print(duplicates)\n",
    "        df_cleaned = df.drop_duplicates()\n",
    "        print(f'df size original: {df.shape}')\n",
    "        print(f'remove duplicates. {df_cleaned.shape}')\n",
    "check_labels(data_path)"
   ]
  },
  {
   "cell_type": "code",
   "execution_count": 126,
   "metadata": {},
   "outputs": [],
   "source": [
    "# must specify filename because the 50pct binding and inhibition files differ\n",
    "# to-do: discuss how to do this --> this will create a file that is just this but with column specifying split\n",
    "#       do we want to already integrate a split_uuid like AMPL? \n",
    "#       additionally, we still have to use the splits to create the \"scaled df\" \n",
    "def remove_duplicates(datapath, filename):\n",
    "    df = pd.read_csv(f'{datapath}{filename}')\n",
    "    duplicates = df.duplicated(subset=['base_rdkit_smiles'])\n",
    "    if duplicates.any():\n",
    "        print('Duplicate rows found:')\n",
    "        print(df[duplicates])\n",
    "        df_cleaned = df.drop_duplicates(subset=['base_rdkit_smiles'])\n",
    "        print(f'df size original: {df.shape}')\n",
    "        print(f'Removed duplicates. New df size: {df_cleaned.shape}')\n",
    "    else: \n",
    "        df_cleaned = df\n",
    "    return df_cleaned\n",
    "    \n",
    "def split_data(datapath, filename, train_ratio=.8, test_ratio=0.2): \n",
    "    \"\"\"filename: NEK#_1_uM_min_50_pct_(binding or inhibition).csv\"\"\"\n",
    "    df = remove_duplicates(datapath, filename)\n",
    "\n",
    "    # is this extra/too much and should we just assume what labels coincide with majority and minority? \n",
    "    # determine majority/minority class \n",
    "    #       AMPL takes in 'response column' \n",
    "    class_labels = df['active'].value_counts() \n",
    "    print(class_labels)\n",
    "    if len(class_labels)>1: \n",
    "        majority_class_label =class_labels.idxmax() \n",
    "        majority_num = class_labels.max() \n",
    "        minority_class_label = class_labels.idxmin()\n",
    "        minority_count = class_labels.min()\n",
    "    df_majority = df[df['active']==majority_class_label]\n",
    "    df_minority=df[df['active']==minority_class_label]\n",
    "    n = round(1/test_ratio) # how else can we do this? i think we should keep kfold splits \n",
    "            # 1/.2 = 5 splits \n",
    "    kf = KFold(n_splits=n,shuffle=True, random_state=42)\n",
    "    # majority \n",
    "    for i, (_, v_ind) in enumerate(kf.split(df_majority)):\n",
    "        df_majority.loc[df_majority.index[v_ind], 'fold'] = f\"fold{i+1}\"\n",
    "    # minority \n",
    "    for i, (_, v_ind) in enumerate(kf.split(df_minority)):\n",
    "        df_minority.loc[df_minority.index[v_ind], 'fold'] = f\"fold{i+1}\"\n",
    "    all_fold_df = pd.concat([df_majority,df_minority])\n",
    "\n",
    "    print(all_fold_df.shape)\n",
    "    print(all_fold_df.active.value_counts())\n",
    "    ## actually, this might be perfect jsut to save as \"split df\" because then \n",
    "    # in the next step of creating a dataset, you can choose what fold you want to be the test set \n",
    "    return all_fold_df\n",
    "        \n",
    "    "
   ]
  },
  {
   "cell_type": "markdown",
   "metadata": {},
   "source": [
    "# check for duplicates and split"
   ]
  },
  {
   "cell_type": "code",
   "execution_count": 127,
   "metadata": {},
   "outputs": [
    {
     "data": {
      "application/javascript": "\n        if (window._pyforest_update_imports_cell) { window._pyforest_update_imports_cell('from sklearn.model_selection import cross_val_score\\nimport matplotlib.pyplot as plt\\nimport pandas as pd\\nimport pickle\\nfrom sklearn.model_selection import KFold\\nimport os'); }\n    ",
      "text/plain": [
       "<IPython.core.display.Javascript object>"
      ]
     },
     "metadata": {},
     "output_type": "display_data"
    },
    {
     "name": "stdout",
     "output_type": "stream",
     "text": [
      "['NEK9_1_uM_min_50_pct_inhibition.csv', 'NEK2_1_uM_min_50_pct_inhibition.csv', 'NEK5_1_uM_min_50_pct_binding.csv', 'NEK9_1_uM_min_50_pct_binding.csv', 'NEK3_1_uM_min_50_pct_binding.csv', 'NEK2_1_uM_min_50_pct_binding.csv']\n"
     ]
    },
    {
     "data": {
      "application/javascript": "\n        if (window._pyforest_update_imports_cell) { window._pyforest_update_imports_cell('from sklearn.model_selection import cross_val_score\\nimport matplotlib.pyplot as plt\\nimport pandas as pd\\nimport pickle\\nfrom sklearn.model_selection import KFold\\nimport os'); }\n    ",
      "text/plain": [
       "<IPython.core.display.Javascript object>"
      ]
     },
     "metadata": {},
     "output_type": "display_data"
    },
    {
     "name": "stdout",
     "output_type": "stream",
     "text": [
      "active\n",
      "0    351\n",
      "1     42\n",
      "Name: count, dtype: int64\n"
     ]
    },
    {
     "data": {
      "application/javascript": "\n        if (window._pyforest_update_imports_cell) { window._pyforest_update_imports_cell('from sklearn.model_selection import cross_val_score\\nimport matplotlib.pyplot as plt\\nimport pandas as pd\\nimport pickle\\nfrom sklearn.model_selection import KFold\\nimport os'); }\n    ",
      "text/plain": [
       "<IPython.core.display.Javascript object>"
      ]
     },
     "metadata": {},
     "output_type": "display_data"
    },
    {
     "name": "stderr",
     "output_type": "stream",
     "text": [
      "/var/folders/wb/cvnnx9qn3tj18cq5_9wx39xm0000gn/T/ipykernel_34654/1574895176.py:39: SettingWithCopyWarning: \n",
      "A value is trying to be set on a copy of a slice from a DataFrame.\n",
      "Try using .loc[row_indexer,col_indexer] = value instead\n",
      "\n",
      "See the caveats in the documentation: https://pandas.pydata.org/pandas-docs/stable/user_guide/indexing.html#returning-a-view-versus-a-copy\n",
      "  df_majority.loc[df_majority.index[v_ind], 'fold'] = f\"fold{i+1}\"\n",
      "/var/folders/wb/cvnnx9qn3tj18cq5_9wx39xm0000gn/T/ipykernel_34654/1574895176.py:42: SettingWithCopyWarning: \n",
      "A value is trying to be set on a copy of a slice from a DataFrame.\n",
      "Try using .loc[row_indexer,col_indexer] = value instead\n",
      "\n",
      "See the caveats in the documentation: https://pandas.pydata.org/pandas-docs/stable/user_guide/indexing.html#returning-a-view-versus-a-copy\n",
      "  df_minority.loc[df_minority.index[v_ind], 'fold'] = f\"fold{i+1}\"\n"
     ]
    },
    {
     "data": {
      "application/javascript": "\n        if (window._pyforest_update_imports_cell) { window._pyforest_update_imports_cell('from sklearn.model_selection import cross_val_score\\nimport matplotlib.pyplot as plt\\nimport pandas as pd\\nimport pickle\\nfrom sklearn.model_selection import KFold\\nimport os'); }\n    ",
      "text/plain": [
       "<IPython.core.display.Javascript object>"
      ]
     },
     "metadata": {},
     "output_type": "display_data"
    },
    {
     "name": "stdout",
     "output_type": "stream",
     "text": [
      "(393, 6)\n",
      "active\n",
      "0    351\n",
      "1     42\n",
      "Name: count, dtype: int64\n"
     ]
    },
    {
     "data": {
      "application/javascript": "\n        if (window._pyforest_update_imports_cell) { window._pyforest_update_imports_cell('from sklearn.model_selection import cross_val_score\\nimport matplotlib.pyplot as plt\\nimport pandas as pd\\nimport pickle\\nfrom sklearn.model_selection import KFold\\nimport os'); }\n    ",
      "text/plain": [
       "<IPython.core.display.Javascript object>"
      ]
     },
     "metadata": {},
     "output_type": "display_data"
    },
    {
     "name": "stdout",
     "output_type": "stream",
     "text": [
      "active\n",
      "0    1892\n",
      "1     140\n",
      "Name: count, dtype: int64\n"
     ]
    },
    {
     "data": {
      "application/javascript": "\n        if (window._pyforest_update_imports_cell) { window._pyforest_update_imports_cell('from sklearn.model_selection import cross_val_score\\nimport matplotlib.pyplot as plt\\nimport pandas as pd\\nimport pickle\\nfrom sklearn.model_selection import KFold\\nimport os'); }\n    ",
      "text/plain": [
       "<IPython.core.display.Javascript object>"
      ]
     },
     "metadata": {},
     "output_type": "display_data"
    },
    {
     "name": "stderr",
     "output_type": "stream",
     "text": [
      "/var/folders/wb/cvnnx9qn3tj18cq5_9wx39xm0000gn/T/ipykernel_34654/1574895176.py:39: SettingWithCopyWarning: \n",
      "A value is trying to be set on a copy of a slice from a DataFrame.\n",
      "Try using .loc[row_indexer,col_indexer] = value instead\n",
      "\n",
      "See the caveats in the documentation: https://pandas.pydata.org/pandas-docs/stable/user_guide/indexing.html#returning-a-view-versus-a-copy\n",
      "  df_majority.loc[df_majority.index[v_ind], 'fold'] = f\"fold{i+1}\"\n",
      "/var/folders/wb/cvnnx9qn3tj18cq5_9wx39xm0000gn/T/ipykernel_34654/1574895176.py:42: SettingWithCopyWarning: \n",
      "A value is trying to be set on a copy of a slice from a DataFrame.\n",
      "Try using .loc[row_indexer,col_indexer] = value instead\n",
      "\n",
      "See the caveats in the documentation: https://pandas.pydata.org/pandas-docs/stable/user_guide/indexing.html#returning-a-view-versus-a-copy\n",
      "  df_minority.loc[df_minority.index[v_ind], 'fold'] = f\"fold{i+1}\"\n"
     ]
    },
    {
     "data": {
      "application/javascript": "\n        if (window._pyforest_update_imports_cell) { window._pyforest_update_imports_cell('from sklearn.model_selection import cross_val_score\\nimport matplotlib.pyplot as plt\\nimport pandas as pd\\nimport pickle\\nfrom sklearn.model_selection import KFold\\nimport os'); }\n    ",
      "text/plain": [
       "<IPython.core.display.Javascript object>"
      ]
     },
     "metadata": {},
     "output_type": "display_data"
    },
    {
     "name": "stdout",
     "output_type": "stream",
     "text": [
      "(2032, 6)\n",
      "active\n",
      "0    1892\n",
      "1     140\n",
      "Name: count, dtype: int64\n"
     ]
    },
    {
     "data": {
      "application/javascript": "\n        if (window._pyforest_update_imports_cell) { window._pyforest_update_imports_cell('from sklearn.model_selection import cross_val_score\\nimport matplotlib.pyplot as plt\\nimport pandas as pd\\nimport pickle\\nfrom sklearn.model_selection import KFold\\nimport os'); }\n    ",
      "text/plain": [
       "<IPython.core.display.Javascript object>"
      ]
     },
     "metadata": {},
     "output_type": "display_data"
    },
    {
     "name": "stdout",
     "output_type": "stream",
     "text": [
      "active\n",
      "0    1140\n",
      "1      97\n",
      "Name: count, dtype: int64\n"
     ]
    },
    {
     "data": {
      "application/javascript": "\n        if (window._pyforest_update_imports_cell) { window._pyforest_update_imports_cell('from sklearn.model_selection import cross_val_score\\nimport matplotlib.pyplot as plt\\nimport pandas as pd\\nimport pickle\\nfrom sklearn.model_selection import KFold\\nimport os'); }\n    ",
      "text/plain": [
       "<IPython.core.display.Javascript object>"
      ]
     },
     "metadata": {},
     "output_type": "display_data"
    },
    {
     "name": "stderr",
     "output_type": "stream",
     "text": [
      "/var/folders/wb/cvnnx9qn3tj18cq5_9wx39xm0000gn/T/ipykernel_34654/1574895176.py:39: SettingWithCopyWarning: \n",
      "A value is trying to be set on a copy of a slice from a DataFrame.\n",
      "Try using .loc[row_indexer,col_indexer] = value instead\n",
      "\n",
      "See the caveats in the documentation: https://pandas.pydata.org/pandas-docs/stable/user_guide/indexing.html#returning-a-view-versus-a-copy\n",
      "  df_majority.loc[df_majority.index[v_ind], 'fold'] = f\"fold{i+1}\"\n",
      "/var/folders/wb/cvnnx9qn3tj18cq5_9wx39xm0000gn/T/ipykernel_34654/1574895176.py:42: SettingWithCopyWarning: \n",
      "A value is trying to be set on a copy of a slice from a DataFrame.\n",
      "Try using .loc[row_indexer,col_indexer] = value instead\n",
      "\n",
      "See the caveats in the documentation: https://pandas.pydata.org/pandas-docs/stable/user_guide/indexing.html#returning-a-view-versus-a-copy\n",
      "  df_minority.loc[df_minority.index[v_ind], 'fold'] = f\"fold{i+1}\"\n"
     ]
    },
    {
     "data": {
      "application/javascript": "\n        if (window._pyforest_update_imports_cell) { window._pyforest_update_imports_cell('from sklearn.model_selection import cross_val_score\\nimport matplotlib.pyplot as plt\\nimport pandas as pd\\nimport pickle\\nfrom sklearn.model_selection import KFold\\nimport os'); }\n    ",
      "text/plain": [
       "<IPython.core.display.Javascript object>"
      ]
     },
     "metadata": {},
     "output_type": "display_data"
    },
    {
     "name": "stdout",
     "output_type": "stream",
     "text": [
      "(1237, 6)\n",
      "active\n",
      "0    1140\n",
      "1      97\n",
      "Name: count, dtype: int64\n"
     ]
    },
    {
     "data": {
      "application/javascript": "\n        if (window._pyforest_update_imports_cell) { window._pyforest_update_imports_cell('from sklearn.model_selection import cross_val_score\\nimport matplotlib.pyplot as plt\\nimport pandas as pd\\nimport pickle\\nfrom sklearn.model_selection import KFold\\nimport os'); }\n    ",
      "text/plain": [
       "<IPython.core.display.Javascript object>"
      ]
     },
     "metadata": {},
     "output_type": "display_data"
    },
    {
     "name": "stdout",
     "output_type": "stream",
     "text": [
      "active\n",
      "0    1348\n",
      "1      61\n",
      "Name: count, dtype: int64\n"
     ]
    },
    {
     "data": {
      "application/javascript": "\n        if (window._pyforest_update_imports_cell) { window._pyforest_update_imports_cell('from sklearn.model_selection import cross_val_score\\nimport matplotlib.pyplot as plt\\nimport pandas as pd\\nimport pickle\\nfrom sklearn.model_selection import KFold\\nimport os'); }\n    ",
      "text/plain": [
       "<IPython.core.display.Javascript object>"
      ]
     },
     "metadata": {},
     "output_type": "display_data"
    },
    {
     "name": "stderr",
     "output_type": "stream",
     "text": [
      "/var/folders/wb/cvnnx9qn3tj18cq5_9wx39xm0000gn/T/ipykernel_34654/1574895176.py:39: SettingWithCopyWarning: \n",
      "A value is trying to be set on a copy of a slice from a DataFrame.\n",
      "Try using .loc[row_indexer,col_indexer] = value instead\n",
      "\n",
      "See the caveats in the documentation: https://pandas.pydata.org/pandas-docs/stable/user_guide/indexing.html#returning-a-view-versus-a-copy\n",
      "  df_majority.loc[df_majority.index[v_ind], 'fold'] = f\"fold{i+1}\"\n",
      "/var/folders/wb/cvnnx9qn3tj18cq5_9wx39xm0000gn/T/ipykernel_34654/1574895176.py:42: SettingWithCopyWarning: \n",
      "A value is trying to be set on a copy of a slice from a DataFrame.\n",
      "Try using .loc[row_indexer,col_indexer] = value instead\n",
      "\n",
      "See the caveats in the documentation: https://pandas.pydata.org/pandas-docs/stable/user_guide/indexing.html#returning-a-view-versus-a-copy\n",
      "  df_minority.loc[df_minority.index[v_ind], 'fold'] = f\"fold{i+1}\"\n"
     ]
    },
    {
     "data": {
      "application/javascript": "\n        if (window._pyforest_update_imports_cell) { window._pyforest_update_imports_cell('from sklearn.model_selection import cross_val_score\\nimport matplotlib.pyplot as plt\\nimport pandas as pd\\nimport pickle\\nfrom sklearn.model_selection import KFold\\nimport os'); }\n    ",
      "text/plain": [
       "<IPython.core.display.Javascript object>"
      ]
     },
     "metadata": {},
     "output_type": "display_data"
    },
    {
     "name": "stdout",
     "output_type": "stream",
     "text": [
      "(1409, 6)\n",
      "active\n",
      "0    1348\n",
      "1      61\n",
      "Name: count, dtype: int64\n"
     ]
    },
    {
     "data": {
      "application/javascript": "\n        if (window._pyforest_update_imports_cell) { window._pyforest_update_imports_cell('from sklearn.model_selection import cross_val_score\\nimport matplotlib.pyplot as plt\\nimport pandas as pd\\nimport pickle\\nfrom sklearn.model_selection import KFold\\nimport os'); }\n    ",
      "text/plain": [
       "<IPython.core.display.Javascript object>"
      ]
     },
     "metadata": {},
     "output_type": "display_data"
    },
    {
     "name": "stdout",
     "output_type": "stream",
     "text": [
      "active\n",
      "0    1323\n",
      "1      81\n",
      "Name: count, dtype: int64\n"
     ]
    },
    {
     "data": {
      "application/javascript": "\n        if (window._pyforest_update_imports_cell) { window._pyforest_update_imports_cell('from sklearn.model_selection import cross_val_score\\nimport matplotlib.pyplot as plt\\nimport pandas as pd\\nimport pickle\\nfrom sklearn.model_selection import KFold\\nimport os'); }\n    ",
      "text/plain": [
       "<IPython.core.display.Javascript object>"
      ]
     },
     "metadata": {},
     "output_type": "display_data"
    },
    {
     "name": "stderr",
     "output_type": "stream",
     "text": [
      "/var/folders/wb/cvnnx9qn3tj18cq5_9wx39xm0000gn/T/ipykernel_34654/1574895176.py:39: SettingWithCopyWarning: \n",
      "A value is trying to be set on a copy of a slice from a DataFrame.\n",
      "Try using .loc[row_indexer,col_indexer] = value instead\n",
      "\n",
      "See the caveats in the documentation: https://pandas.pydata.org/pandas-docs/stable/user_guide/indexing.html#returning-a-view-versus-a-copy\n",
      "  df_majority.loc[df_majority.index[v_ind], 'fold'] = f\"fold{i+1}\"\n",
      "/var/folders/wb/cvnnx9qn3tj18cq5_9wx39xm0000gn/T/ipykernel_34654/1574895176.py:42: SettingWithCopyWarning: \n",
      "A value is trying to be set on a copy of a slice from a DataFrame.\n",
      "Try using .loc[row_indexer,col_indexer] = value instead\n",
      "\n",
      "See the caveats in the documentation: https://pandas.pydata.org/pandas-docs/stable/user_guide/indexing.html#returning-a-view-versus-a-copy\n",
      "  df_minority.loc[df_minority.index[v_ind], 'fold'] = f\"fold{i+1}\"\n"
     ]
    },
    {
     "data": {
      "application/javascript": "\n        if (window._pyforest_update_imports_cell) { window._pyforest_update_imports_cell('from sklearn.model_selection import cross_val_score\\nimport matplotlib.pyplot as plt\\nimport pandas as pd\\nimport pickle\\nfrom sklearn.model_selection import KFold\\nimport os'); }\n    ",
      "text/plain": [
       "<IPython.core.display.Javascript object>"
      ]
     },
     "metadata": {},
     "output_type": "display_data"
    },
    {
     "name": "stdout",
     "output_type": "stream",
     "text": [
      "(1404, 6)\n",
      "active\n",
      "0    1323\n",
      "1      81\n",
      "Name: count, dtype: int64\n"
     ]
    },
    {
     "data": {
      "application/javascript": "\n        if (window._pyforest_update_imports_cell) { window._pyforest_update_imports_cell('from sklearn.model_selection import cross_val_score\\nimport matplotlib.pyplot as plt\\nimport pandas as pd\\nimport pickle\\nfrom sklearn.model_selection import KFold\\nimport os'); }\n    ",
      "text/plain": [
       "<IPython.core.display.Javascript object>"
      ]
     },
     "metadata": {},
     "output_type": "display_data"
    },
    {
     "name": "stdout",
     "output_type": "stream",
     "text": [
      "active\n",
      "0    1351\n",
      "1      57\n",
      "Name: count, dtype: int64\n"
     ]
    },
    {
     "data": {
      "application/javascript": "\n        if (window._pyforest_update_imports_cell) { window._pyforest_update_imports_cell('from sklearn.model_selection import cross_val_score\\nimport matplotlib.pyplot as plt\\nimport pandas as pd\\nimport pickle\\nfrom sklearn.model_selection import KFold\\nimport os'); }\n    ",
      "text/plain": [
       "<IPython.core.display.Javascript object>"
      ]
     },
     "metadata": {},
     "output_type": "display_data"
    },
    {
     "name": "stderr",
     "output_type": "stream",
     "text": [
      "/var/folders/wb/cvnnx9qn3tj18cq5_9wx39xm0000gn/T/ipykernel_34654/1574895176.py:39: SettingWithCopyWarning: \n",
      "A value is trying to be set on a copy of a slice from a DataFrame.\n",
      "Try using .loc[row_indexer,col_indexer] = value instead\n",
      "\n",
      "See the caveats in the documentation: https://pandas.pydata.org/pandas-docs/stable/user_guide/indexing.html#returning-a-view-versus-a-copy\n",
      "  df_majority.loc[df_majority.index[v_ind], 'fold'] = f\"fold{i+1}\"\n",
      "/var/folders/wb/cvnnx9qn3tj18cq5_9wx39xm0000gn/T/ipykernel_34654/1574895176.py:42: SettingWithCopyWarning: \n",
      "A value is trying to be set on a copy of a slice from a DataFrame.\n",
      "Try using .loc[row_indexer,col_indexer] = value instead\n",
      "\n",
      "See the caveats in the documentation: https://pandas.pydata.org/pandas-docs/stable/user_guide/indexing.html#returning-a-view-versus-a-copy\n",
      "  df_minority.loc[df_minority.index[v_ind], 'fold'] = f\"fold{i+1}\"\n"
     ]
    },
    {
     "data": {
      "application/javascript": "\n        if (window._pyforest_update_imports_cell) { window._pyforest_update_imports_cell('from sklearn.model_selection import cross_val_score\\nimport matplotlib.pyplot as plt\\nimport pandas as pd\\nimport pickle\\nfrom sklearn.model_selection import KFold\\nimport os'); }\n    ",
      "text/plain": [
       "<IPython.core.display.Javascript object>"
      ]
     },
     "metadata": {},
     "output_type": "display_data"
    },
    {
     "name": "stdout",
     "output_type": "stream",
     "text": [
      "(1408, 6)\n",
      "active\n",
      "0    1351\n",
      "1      57\n",
      "Name: count, dtype: int64\n"
     ]
    }
   ],
   "source": [
    "assay_pct_dfs = [file for file in os.listdir(data_path) if file.startswith('NEK')]\n",
    "print(assay_pct_dfs)\n",
    "for i in range(len(assay_pct_dfs)): \n",
    "    cleaned_split_df = split_data(data_path, assay_pct_dfs[i]) # probably save to csv \n",
    "    "
   ]
  },
  {
   "cell_type": "code",
   "execution_count": 104,
   "metadata": {},
   "outputs": [
    {
     "data": {
      "application/javascript": "\n        if (window._pyforest_update_imports_cell) { window._pyforest_update_imports_cell('from sklearn.model_selection import cross_val_score\\nimport matplotlib.pyplot as plt\\nimport pickle\\nimport pandas as pd\\nimport os'); }\n    ",
      "text/plain": [
       "<IPython.core.display.Javascript object>"
      ]
     },
     "metadata": {},
     "output_type": "display_data"
    },
    {
     "name": "stdout",
     "output_type": "stream",
     "text": [
      "['NEK5_1_uM_min_50_pct_binding_with_moe_descriptors.csv', 'NEK3_1_uM_min_50_pct_binding_with_moe_descriptors.csv', 'NEK9_1_uM_min_50_pct_binding_with_moe_descriptors.csv', 'NEK2_1_uM_min_50_pct_binding_with_moe_descriptors.csv', 'NEK2_1_uM_min_50_pct_inhibition_with_moe_descriptors.csv', 'NEK9_1_uM_min_50_pct_inhibition_with_moe_descriptors.csv']\n"
     ]
    },
    {
     "data": {
      "application/javascript": "\n        if (window._pyforest_update_imports_cell) { window._pyforest_update_imports_cell('from sklearn.model_selection import cross_val_score\\nimport matplotlib.pyplot as plt\\nimport pickle\\nimport pandas as pd\\nimport os'); }\n    ",
      "text/plain": [
       "<IPython.core.display.Javascript object>"
      ]
     },
     "metadata": {},
     "output_type": "display_data"
    },
    {
     "name": "stdout",
     "output_type": "stream",
     "text": [
      "(1237, 309)\n",
      "active\n",
      "0    1140\n",
      "1      97\n",
      "Name: count, dtype: int64\n"
     ]
    },
    {
     "data": {
      "application/javascript": "\n        if (window._pyforest_update_imports_cell) { window._pyforest_update_imports_cell('from sklearn.model_selection import cross_val_score\\nimport matplotlib.pyplot as plt\\nimport pickle\\nimport pandas as pd\\nimport os'); }\n    ",
      "text/plain": [
       "<IPython.core.display.Javascript object>"
      ]
     },
     "metadata": {},
     "output_type": "display_data"
    },
    {
     "name": "stdout",
     "output_type": "stream",
     "text": [
      "(1404, 309)\n",
      "active\n",
      "0    1323\n",
      "1      81\n",
      "Name: count, dtype: int64\n"
     ]
    },
    {
     "data": {
      "application/javascript": "\n        if (window._pyforest_update_imports_cell) { window._pyforest_update_imports_cell('from sklearn.model_selection import cross_val_score\\nimport matplotlib.pyplot as plt\\nimport pickle\\nimport pandas as pd\\nimport os'); }\n    ",
      "text/plain": [
       "<IPython.core.display.Javascript object>"
      ]
     },
     "metadata": {},
     "output_type": "display_data"
    },
    {
     "name": "stdout",
     "output_type": "stream",
     "text": [
      "(1409, 309)\n",
      "active\n",
      "0    1348\n",
      "1      61\n",
      "Name: count, dtype: int64\n"
     ]
    },
    {
     "data": {
      "application/javascript": "\n        if (window._pyforest_update_imports_cell) { window._pyforest_update_imports_cell('from sklearn.model_selection import cross_val_score\\nimport matplotlib.pyplot as plt\\nimport pickle\\nimport pandas as pd\\nimport os'); }\n    ",
      "text/plain": [
       "<IPython.core.display.Javascript object>"
      ]
     },
     "metadata": {},
     "output_type": "display_data"
    },
    {
     "name": "stdout",
     "output_type": "stream",
     "text": [
      "(1408, 309)\n",
      "active\n",
      "0    1351\n",
      "1      57\n",
      "Name: count, dtype: int64\n"
     ]
    },
    {
     "data": {
      "application/javascript": "\n        if (window._pyforest_update_imports_cell) { window._pyforest_update_imports_cell('from sklearn.model_selection import cross_val_score\\nimport matplotlib.pyplot as plt\\nimport pickle\\nimport pandas as pd\\nimport os'); }\n    ",
      "text/plain": [
       "<IPython.core.display.Javascript object>"
      ]
     },
     "metadata": {},
     "output_type": "display_data"
    },
    {
     "name": "stdout",
     "output_type": "stream",
     "text": [
      "(2044, 309)\n",
      "active\n",
      "0    1904\n",
      "1     140\n",
      "Name: count, dtype: int64\n",
      "Duplicate rows found:\n",
      "     compound_id                                  base_rdkit_smiles  active  \\\n",
      "895     kdb_1014          Nc1nccc(-c2c(-c3ccc(F)cc3)ncn2C2CCNCC2)n1       0   \n",
      "1056    kdb_3409  [O-][S+]1CCN(Cc2ccc(-c3ccc4ncnc(Nc5ccc(OCc6ccc...       0   \n",
      "1060    kdb_3151  CCn1c(-c2nonc2N)nc2cnc(Oc3cccc(NC(=O)c4ccc(OCC...       0   \n",
      "1142    kdb_3359  CN1CCC(C(=O)Nc2n[nH]c3nc(-c4ccc(O)cc4)c(Br)cc2...       0   \n",
      "1357    kdb_3412  COc1ccc2cc(-c3c(-c4ccncc4)nc(-c4ccc([S+](C)[O-...       0   \n",
      "1449    kdb_3208  COc1ccc2cc(-c3c(-c4ccncc4)nc(-c4ccc([S+](C)[O-...       0   \n",
      "1561    kdb_3362  CCN1CCC(CC(=O)Nc2n[nH]c3nc(-c4cccs4)c(Br)cc23)CC1       0   \n",
      "1694    kdb_2601                Fc1ccc(-c2nc3n(c2-c2ccncc2)CCS3)cc1       0   \n",
      "1760    kdb_2432  Nc1ncnc2occ(-c3ccc(NC(=O)Nc4cc(C(F)(F)F)ccc4F)...       0   \n",
      "1763    kdb_2231  [O-][S+]1CCN(Cc2ccc(-c3ccc4ncnc(Nc5ccc(OCc6ccc...       0   \n",
      "1911    kdb_3411  [O-][S+]1CCN(Cc2ccc(-c3ccc4ncnc(Nc5ccc(OCc6ccc...       0   \n",
      "2034    kdb_3410  CCN1CCC(CC(=O)Nc2n[nH]c3nnc(-c4cccc(F)c4F)cc23...       0   \n",
      "\n",
      "      ASA+_per_atom       ASA-  ASA_H_per_atom       ASA_P  ASA_per_atom  \\\n",
      "895        8.667628  152.66177        9.349513  121.976960     12.060112   \n",
      "1056       7.564401  251.14514        9.155329  146.798000     11.346344   \n",
      "1060       8.620243  243.33083        7.636068  315.175630     11.953542   \n",
      "1142       8.687527  219.25064        9.609407  181.710740     13.395048   \n",
      "1357       8.767545  235.02278       11.362429   90.458153     12.895617   \n",
      "1449       9.069825  231.09120       11.768991   89.764946     13.371935   \n",
      "1561       7.897985  270.87509       10.108367  165.820240     13.424772   \n",
      "1694       9.109437  193.44102       11.978370   98.766228     14.971287   \n",
      "1760       6.735157  329.57663        7.205890  313.036440     14.320354   \n",
      "1763       7.885393  220.61250        8.972815  150.629790     11.221020   \n",
      "1911       7.259644  242.49249        8.650668  151.520250     10.912164   \n",
      "2034       7.263422  198.07410        7.412724  198.898150     11.237688   \n",
      "\n",
      "      BCUT_PEOE_0  BCUT_PEOE_1  ...  vsurf_Wp2_per_atom  vsurf_Wp3  vsurf_Wp4  \\\n",
      "895     -2.754884    -0.641704  ...           11.647222    174.000     59.000   \n",
      "1056    -2.722069    -0.649000  ...            9.919776    156.125     21.500   \n",
      "1060    -2.751370    -0.641307  ...           11.296233    283.250     57.375   \n",
      "1142    -2.787596    -0.580567  ...           12.729167    191.500     42.250   \n",
      "1357    -2.343378    -0.603577  ...            9.101695     78.375      0.125   \n",
      "1449    -2.315601    -0.631605  ...            9.555804     82.375      0.000   \n",
      "1561    -2.826047    -0.548117  ...           12.040000    204.750     47.875   \n",
      "1694    -2.360540    -0.628551  ...           10.469697     51.500      0.000   \n",
      "1760    -2.314484    -0.633524  ...           12.204545    174.125     50.875   \n",
      "1763    -2.722069    -0.649000  ...            9.899254    156.000     22.375   \n",
      "1911    -2.722069    -0.657263  ...            9.343284    149.000     25.250   \n",
      "2034    -2.826046    -0.563880  ...           10.879808    182.000     48.750   \n",
      "\n",
      "      vsurf_Wp5  vsurf_Wp6  vsurf_Wp7  vsurf_Wp8  weinerPath  \\\n",
      "895      25.750      8.125      1.000        0.0        1408   \n",
      "1056      6.875      2.375      0.000        0.0        6013   \n",
      "1060     21.375      4.500      0.125        0.0        7768   \n",
      "1142     15.875      5.375      0.500        0.0        2004   \n",
      "1357      0.000      0.000      0.000        0.0        3382   \n",
      "1449      0.000      0.000      0.000        0.0        3172   \n",
      "1561     19.500      4.250      0.250        0.0        2081   \n",
      "1694      0.000      0.000      0.000        0.0         867   \n",
      "1760     19.875      6.000      0.750        0.0        3086   \n",
      "1763      7.625      1.875      0.000        0.0        6013   \n",
      "1911      8.375      2.125      0.000        0.0        6476   \n",
      "2034     18.625      4.500      0.000        0.0        2485   \n",
      "\n",
      "      weinerPol_per_atom  zagreb_per_atom  \n",
      "895             0.866667         2.977778  \n",
      "1056            0.895522         3.134328  \n",
      "1060            0.890411         3.068493  \n",
      "1142            0.895833         3.041667  \n",
      "1357            1.016949         3.152542  \n",
      "1449            1.017857         3.214286  \n",
      "1561            0.800000         2.880000  \n",
      "1694            0.969697         3.515152  \n",
      "1760            1.136364         3.818182  \n",
      "1763            0.895522         3.134328  \n",
      "1911            0.925373         3.223881  \n",
      "2034            0.884615         2.961538  \n",
      "\n",
      "[12 rows x 309 columns]\n",
      "df size original: (2044, 309)\n",
      "Removed duplicates. New df size: (2032, 309)\n"
     ]
    },
    {
     "data": {
      "application/javascript": "\n        if (window._pyforest_update_imports_cell) { window._pyforest_update_imports_cell('from sklearn.model_selection import cross_val_score\\nimport matplotlib.pyplot as plt\\nimport pickle\\nimport pandas as pd\\nimport os'); }\n    ",
      "text/plain": [
       "<IPython.core.display.Javascript object>"
      ]
     },
     "metadata": {},
     "output_type": "display_data"
    },
    {
     "name": "stdout",
     "output_type": "stream",
     "text": [
      "(393, 309)\n",
      "active\n",
      "0    351\n",
      "1     42\n",
      "Name: count, dtype: int64\n"
     ]
    }
   ],
   "source": [
    "# I'm checking the scaled_descriptors files because I knew there were duplicates in these files \n",
    "desc_dir = '/Users/jayceepang/msse/ATOM_CODE/original_datasets/scaled_descriptors/'\n",
    "desc_dfs = [file for file in os.listdir(desc_dir) if file.startswith('NEK')]\n",
    "\n",
    "print(desc_dfs)\n",
    "for i in range(len(desc_dfs)): \n",
    "    split_data(desc_dir, desc_dfs[i])"
   ]
  },
  {
   "cell_type": "code",
   "execution_count": 60,
   "metadata": {},
   "outputs": [
    {
     "data": {
      "text/plain": [
       "2044"
      ]
     },
     "execution_count": 60,
     "metadata": {},
     "output_type": "execute_result"
    }
   ],
   "source": [
    "1904+140=2044"
   ]
  },
  {
   "cell_type": "code",
   "execution_count": null,
   "metadata": {},
   "outputs": [],
   "source": []
  }
 ],
 "metadata": {
  "kernelspec": {
   "display_name": "ATOM_CODE",
   "language": "python",
   "name": "python3"
  },
  "language_info": {
   "codemirror_mode": {
    "name": "ipython",
    "version": 3
   },
   "file_extension": ".py",
   "mimetype": "text/x-python",
   "name": "python",
   "nbconvert_exporter": "python",
   "pygments_lexer": "ipython3",
   "version": "3.9.20"
  }
 },
 "nbformat": 4,
 "nbformat_minor": 2
}
