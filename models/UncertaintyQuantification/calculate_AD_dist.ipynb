{
 "cells": [
  {
   "cell_type": "code",
   "execution_count": null,
   "id": "75ee04e5-f4e2-4b36-9b5d-4435fd0b9065",
   "metadata": {},
   "outputs": [],
   "source": [
    "from matplotlib import pyplot as plt\n",
    "from sklearn.metrics import accuracy_score, precision_score, f1_score, roc_auc_score, roc_curve, precision_recall_curve, auc, recall_score, confusion_matrix\n",
    "import sys \n",
    "import matplotlib.lines as mlines\n",
    "import pyforest\n",
    "import sys\n",
    "from imblearn.over_sampling import SMOTEN, ADASYN, SMOTE\n",
    "\n",
    "from matplotlib.lines import Line2D\n",
    "from rdkit import Chem\n",
    "from rdkit.Chem import AllChem\n",
    "\n",
    "import os\n",
    "import pickle\n",
    "import shutil\n",
    "import scipy as sp\n",
    "from sklearn.metrics import pairwise_distances\n"
   ]
  },
  {
   "cell_type": "code",
   "execution_count": 3,
   "id": "6b8e8e07-6df0-4327-aa06-7c364b968870",
   "metadata": {},
   "outputs": [],
   "source": [
    "\n",
    "# ---------------------------------------------\n",
    "def calc_AD_kmean_dist(train_dset, pred_dset, k, train_dset_pair_distance=None, dist_metric=\"euclidean\"):\n",
    "    \"\"\"\n",
    "    calculate the probability of the prediction dataset fall in the the domain of traning set. Use Euclidean distance of the K nearest neighbours.\n",
    "    train_dset and pred_dset should be in 2D numpy array format where each row is a compound.\n",
    "    \"\"\"\n",
    "    if train_dset_pair_distance is None:\n",
    "        # calcualate the pairwise distance of training set\n",
    "        train_dset_pair_distance = pairwise_distances(X=train_dset, metric=dist_metric)\n",
    "    train_kmean_dis = []\n",
    "    for i in range(len(train_dset_pair_distance)):\n",
    "        kn_idx = np.argpartition(train_dset_pair_distance[i], k+1)\n",
    "        dis = np.mean(train_dset_pair_distance[i][kn_idx[:k+1]])\n",
    "        train_kmean_dis.append(dis)\n",
    "    train_dset_distribution = sp.stats.norm.fit(train_kmean_dis)\n",
    "    # pairwise distance between train and pred set\n",
    "    pred_size = len(pred_dset)\n",
    "    train_pred_dis = pairwise_distances(X=pred_dset, Y=train_dset, metric=dist_metric)\n",
    "    pred_kmean_dis_score = np.zeros(pred_size)\n",
    "    for i in range(pred_size):\n",
    "        pred_km_dis = np.mean(np.sort(train_pred_dis[i])[:k])\n",
    "        train_dset_std = train_dset_distribution[1] if train_dset_distribution[1] != 0 else 1e-6\n",
    "        pred_kmean_dis_score[i] = max(1e-6, (pred_km_dis - train_dset_distribution[0]) / train_dset_std)\n",
    "    return pred_kmean_dis_score"
   ]
  },
  {
   "cell_type": "code",
   "execution_count": 72,
   "id": "96bf73ce-c1a1-4c65-a848-8b54f8a18862",
   "metadata": {},
   "outputs": [],
   "source": [
    "# neks = ['NEK2_binding', 'NEK2_inhibition','NEK3_binding', 'NEK5_binding', 'NEK9_binding','NEK9_inhibition']\n",
    "GPpath= '/Users/jayceepang/msse/capstone/atom2024/atom2024/notebooks/paper/results/GP_results/'\n",
    "RFpath = '/Users/jayceepang/msse/capstone/atom2024/atom2024/notebooks/paper/results/RF_results/'\n",
    "neks = ['NEK2_binding','NEK2_inhibition', 'NEK3_binding', 'NEK5_binding', 'NEK9_binding', 'NEK9_inhibition']\n",
    "feat_types = ['MOE','MFP']\n",
    "samplings = ['none_scaled', 'UNDER', 'SMOTE', 'ADASYN']\n",
    "numerics = ['int16', 'int32', 'int64', 'float16', 'float32', 'float64']\n",
    "\n",
    "k=7\n",
    "col_names = ['prediction_type', 'ADdist', 'model_type']\n",
    "# model_palette = sns.color_palette(\"Set2\", n_colors=3)\n",
    "model_palette = sns.cubehelix_palette(start=.5, rot=-.5, n_colors=3)\n",
    "category_order = ['TP', 'TN', 'FP', 'FN']\n",
    "samp_palette={'no_samp': 'lightblue','UNDER':'orange', 'SMOTE':'hotpink'}\n",
    "# samp_palette2={'orange':'UNDER', 'SMOTE':'hotpink', 'no_samp': 'lightblue'}"
   ]
  },
  {
   "cell_type": "code",
   "execution_count": 50,
   "id": "94f6600b-0732-488a-8306-c49f905f3869",
   "metadata": {},
   "outputs": [],
   "source": [
    "test1 = pd.read_csv('/Users/jayceepang/msse/capstone/atom2024/atom2024/notebooks/paper/datasets/80train_20test/featurized/NEK2_binding_MOE_none_scaled.csv')\n",
    "test1.columns\n",
    "remove_cols = ['NEK', 'compound_id', 'base_rdkit_smiles', 'subset', 'active'] "
   ]
  },
  {
   "cell_type": "code",
   "execution_count": 21,
   "id": "52365d52-7d4b-461e-b81d-173deb8be5bc",
   "metadata": {},
   "outputs": [],
   "source": [
    "nek_names = [] \n",
    "all_feats = [] \n",
    "sampling_types = [] \n",
    "test_dists = []\n",
    "\n",
    "for nek in neks: \n",
    "    for feat in feat_types: \n",
    "        for samp in samplings: \n",
    "            df_path = f'/Users/jayceepang/msse/capstone/atom2024/atom2024/notebooks/paper/datasets/80train_20test/featurized/'\n",
    "            full_df = pd.read_csv(f'{df_path}{nek}_{feat}_{samp}.csv') \n",
    "            train_df = full_df[full_df['subset'] == 'train'].drop(columns=remove_cols)\n",
    "            test_df = full_df[full_df['subset'] == 'test'].drop(columns=remove_cols)\n",
    "            test_dist = calc_AD_kmean_dist(train_df, test_df, k)\n",
    "            train_dist = calc_AD_kmean_dist(train_df, train_df, k)\n",
    "            if samp == 'none_scaled': \n",
    "                adjusted_samp = 'no_samp'\n",
    "            else:\n",
    "                adjusted_samp = samp\n",
    "            \n",
    "            test_dists.append(test_dist) \n",
    "            nek_names.append(f'{nek}')\n",
    "            all_feats.append(feat) \n",
    "            sampling_types.append(adjusted_samp)\n",
    "            "
   ]
  },
  {
   "cell_type": "code",
   "execution_count": 22,
   "id": "e5e1dba8-cd78-4416-9453-f2e7ee57137d",
   "metadata": {},
   "outputs": [],
   "source": [
    "AD_df = pd.DataFrame({'NEK': nek_names,'strategy': sampling_types, 'feat_type':all_feats,'ADdist':test_dists})\n",
    "AD_df['dataset_category'] = AD_df['feat_type'].astype(str) + '_'+AD_df['strategy']\n"
   ]
  },
  {
   "cell_type": "code",
   "execution_count": null,
   "id": "2d1e6719-ffc4-41d5-a42e-aae5427a6df0",
   "metadata": {},
   "outputs": [
    {
     "ename": "NameError",
     "evalue": "name 'neks' is not defined",
     "output_type": "error",
     "traceback": [
      "\u001b[0;31m---------------------------------------------------------------------------\u001b[0m",
      "\u001b[0;31mNameError\u001b[0m                                 Traceback (most recent call last)",
      "Cell \u001b[0;32mIn[1], line 2\u001b[0m\n\u001b[1;32m      1\u001b[0m figure_path \u001b[38;5;241m=\u001b[39m \u001b[38;5;124m'\u001b[39m\u001b[38;5;124m.\u001b[39m\u001b[38;5;124m'\u001b[39m\n\u001b[0;32m----> 2\u001b[0m \u001b[38;5;28;01mfor\u001b[39;00m nek \u001b[38;5;129;01min\u001b[39;00m \u001b[43mneks\u001b[49m: \n\u001b[1;32m      3\u001b[0m     df \u001b[38;5;241m=\u001b[39m AD_df[AD_df[\u001b[38;5;124m'\u001b[39m\u001b[38;5;124mNEK\u001b[39m\u001b[38;5;124m'\u001b[39m]\u001b[38;5;241m==\u001b[39mnek]\n\u001b[1;32m      4\u001b[0m     df\u001b[38;5;241m=\u001b[39mdf[df[\u001b[38;5;124m'\u001b[39m\u001b[38;5;124mstrategy\u001b[39m\u001b[38;5;124m'\u001b[39m]\u001b[38;5;241m!=\u001b[39m\u001b[38;5;124m'\u001b[39m\u001b[38;5;124mADASYN\u001b[39m\u001b[38;5;124m'\u001b[39m]\n",
      "\u001b[0;31mNameError\u001b[0m: name 'neks' is not defined"
     ]
    }
   ],
   "source": [
    "figure_path = '.'\n",
    "for nek in neks: \n",
    "    df = AD_df[AD_df['NEK']==nek]\n",
    "    df=df[df['strategy']!='ADASYN']\n",
    "    df_flat = df.explode('ADdist')\n",
    "\n",
    "    df_flat['ADdist'] = pd.to_numeric(df_flat['ADdist'])\n",
    "    moe_df = df_flat[df_flat['feat_type'] == 'MOE'] \n",
    "    mfp_df = df_flat[df_flat['feat_type'] == 'MFP'] \n",
    "    fig, ax = plt.subplots(1,2, figsize=(12,5))\n",
    "    sns.kdeplot(data=moe_df, x='ADdist', hue='strategy', palette=samp_palette, ax=ax[0],legend=False)\n",
    "    \n",
    "    ax[0].set_title(f'MOE',fontsize=16)\n",
    "    ax[0].set_xlabel('AD Distance', fontsize=14)\n",
    "    ax[0].set_ylabel('Density', fontsize=14)\n",
    "    ax[0].set_xlim(-1,8)\n",
    "    ax[0].set_ylim(0,.3)\n",
    "    ax[1].set_xlim(-1,8)\n",
    "    ax[1].set_ylim(0,.3)\n",
    "  \n",
    "    sns.kdeplot(data=mfp_df, x='ADdist', hue='strategy', palette=samp_palette,ax=ax[1],legend=False)\n",
    "    ax[1].set_title(f'MFP',fontsize=16)\n",
    "    ax[1].set_xlabel('AD Distance', fontsize=14)\n",
    "    ax[1].set_ylabel('Density', fontsize=14)\n",
    "\n",
    "    samp_list=list(samp_palette.values())\n",
    "\n",
    "    # handles = [mlines.Line2D([],[], color=samp_list[i], label=samp_list[i]) for i in range(len(samp_list))]\n",
    "    # fig.legend(handles, labels, loc='upper right', bbox_to_anchor=(0.77, -0.008), ncol=4,fontsize=16)\n",
    "\n",
    "    no_samp_line = Line2D([0],[0], color='lightblue',linestyle='solid', label='no samp')\n",
    "    UNDER_line = Line2D([0],[0], color='orange',linestyle='solid', label='UNDER')\n",
    "    SMOTE_line = Line2D([0],[0], color='hotpink',linestyle='solid', label='SMOTE')\n",
    "    # ax[1].legend(handles=[no_samp_line,UNDER_line,SMOTE_line], ncols=3, bbox_to_anchor=(.2, -.2))\n",
    "    plt.subplots_adjust(wspace=0.1)\n",
    "\n",
    "    plt.suptitle(f'{nek} ADI Distribution', y=0.94, fontsize=18)\n",
    "    plt.tight_layout()\n",
    "    # plt.savefig(f'{figure_path}{nek}_ADdist_kde.png', bbox_inches='tight')\n",
    "    plt.show();"
   ]
  }
 ],
 "metadata": {
  "kernelspec": {
   "display_name": "atomsci",
   "language": "python",
   "name": "python3"
  },
  "language_info": {
   "codemirror_mode": {
    "name": "ipython",
    "version": 3
   },
   "file_extension": ".py",
   "mimetype": "text/x-python",
   "name": "python",
   "nbconvert_exporter": "python",
   "pygments_lexer": "ipython3",
   "version": "3.9.12"
  }
 },
 "nbformat": 4,
 "nbformat_minor": 5
}
